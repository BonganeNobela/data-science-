{
  "nbformat": 4,
  "nbformat_minor": 0,
  "metadata": {
    "colab": {
      "provenance": [],
      "collapsed_sections": [
        "xENhcPMRGhXp",
        "9UayUMb-Regm",
        "-hiB7MfdhnVl",
        "92V0B-br7q9A"
      ]
    },
    "kernelspec": {
      "name": "python3",
      "display_name": "Python 3"
    },
    "language_info": {
      "name": "python"
    }
  },
  "cells": [
    {
      "cell_type": "markdown",
      "metadata": {
        "id": "i-VLQFBvr7Q6"
      },
      "source": [
        "# Instructions\n",
        "\n",
        "[Before you start running your code, make sure that you are not connected to the GPU / TPU.]\n",
        "\n",
        "**This notebook consists of the following sections:**\n",
        "\n",
        "1. Basic Cell Commands\n",
        "2. Importing Datasets\n",
        "3. Mounting Drive\n",
        "4. Exporting Dataset\n",
        "5. Text Editor\n",
        "\n"
      ]
    },
    {
      "cell_type": "markdown",
      "source": [
        "## 1. Basic Cell Commands\n",
        "A notebook is made up of cells that can either be code or rich text. Text is like the guiding text that you see in this notebook while code is the code that you would run and see an output.\n",
        "\n",
        "To run a cell, you need to click on the \"play\" button or use the menu items with shortcuts.\n",
        "\n",
        "Each code / text cell has functions that you can perform such as moving a cell up or down, copying a link to cell, adding a comment, settings and deleting a cell.\n",
        "\n",
        "Activity 1 - Add a text and code cell.\n",
        "\n",
        "**Note**: It's important to understand how the text cells work as you will need to add text when doing submission for your qualifiers and final datathon\n"
      ],
      "metadata": {
        "id": "xENhcPMRGhXp"
      }
    },
    {
      "cell_type": "markdown",
      "source": [
        "TextCell\n"
      ],
      "metadata": {
        "id": "zWxfiSR2Ubzk"
      }
    },
    {
      "cell_type": "code",
      "source": [
        "#CodeCell"
      ],
      "metadata": {
        "id": "IFSjWpKSUasw"
      },
      "execution_count": null,
      "outputs": []
    },
    {
      "cell_type": "markdown",
      "metadata": {
        "id": "GwCp1D54snTf"
      },
      "source": [
        "### 1.1 Change the name of the notebook from   *Google_Colab_Practical.ipynb*   to   *Google_Colab_Practical_{your name}.ipynb*. Then add a text box under \"Instructions\" and add today's date to that box."
      ]
    },
    {
      "cell_type": "markdown",
      "source": [
        "## 2. Importing datasets"
      ],
      "metadata": {
        "id": "9UayUMb-Regm"
      }
    },
    {
      "cell_type": "markdown",
      "metadata": {
        "id": "P0CsHqqFs_uW"
      },
      "source": [
        "### 2.1 Import the dataset from [this public link](https://raw.githubusercontent.com/boennemann/animals/master/words.json)."
      ]
    },
    {
      "cell_type": "code",
      "metadata": {
        "id": "_xkM1WHRvIbg",
        "colab": {
          "base_uri": "https://localhost:8080/"
        },
        "outputId": "70e3c394-602a-4bcf-95c9-1625bebc98e3"
      },
      "source": [
        "#run !wget and the public link url\n",
        "\n",
        "!wget https://raw.githubusercontent.com/boennemann/animals/master/words.json\n"
      ],
      "execution_count": 1,
      "outputs": [
        {
          "output_type": "stream",
          "name": "stdout",
          "text": [
            "--2025-06-21 16:29:39--  https://raw.githubusercontent.com/boennemann/animals/master/words.json\n",
            "Resolving raw.githubusercontent.com (raw.githubusercontent.com)... 185.199.111.133, 185.199.109.133, 185.199.108.133, ...\n",
            "Connecting to raw.githubusercontent.com (raw.githubusercontent.com)|185.199.111.133|:443... connected.\n",
            "HTTP request sent, awaiting response... 200 OK\n",
            "Length: 2907 (2.8K) [text/plain]\n",
            "Saving to: ‘words.json’\n",
            "\n",
            "\rwords.json            0%[                    ]       0  --.-KB/s               \rwords.json          100%[===================>]   2.84K  --.-KB/s    in 0s      \n",
            "\n",
            "2025-06-21 16:29:39 (38.8 MB/s) - ‘words.json’ saved [2907/2907]\n",
            "\n"
          ]
        }
      ]
    },
    {
      "cell_type": "code",
      "source": [
        "!ls"
      ],
      "metadata": {
        "colab": {
          "base_uri": "https://localhost:8080/"
        },
        "id": "Yj8bcRKjWVT_",
        "outputId": "64aeac31-e5d3-427e-cfaa-36812baf06bd"
      },
      "execution_count": 4,
      "outputs": [
        {
          "output_type": "stream",
          "name": "stdout",
          "text": [
            "animals  sample_data  words.json\n"
          ]
        }
      ]
    },
    {
      "cell_type": "markdown",
      "metadata": {
        "id": "7XmKUk6EtN55"
      },
      "source": [
        "### 2.2 Import [this GitHub repository](https://github.com/boennemann/animals).\n",
        "(Make sure that repository has been imported by running `!ls` or checking in Files)"
      ]
    },
    {
      "cell_type": "code",
      "metadata": {
        "id": "8LBJw4qBxtyU",
        "colab": {
          "base_uri": "https://localhost:8080/"
        },
        "outputId": "49c60281-1cfc-4030-e77f-b8cf702f21c8"
      },
      "source": [
        "# Enter code here:\n",
        "\n",
        "!git clone https://github.com/boennemann/animals\n"
      ],
      "execution_count": 2,
      "outputs": [
        {
          "output_type": "stream",
          "name": "stdout",
          "text": [
            "Cloning into 'animals'...\n",
            "remote: Enumerating objects: 67, done.\u001b[K\n",
            "remote: Total 67 (delta 0), reused 0 (delta 0), pack-reused 67 (from 1)\u001b[K\n",
            "Receiving objects: 100% (67/67), 10.75 KiB | 786.00 KiB/s, done.\n",
            "Resolving deltas: 100% (30/30), done.\n"
          ]
        }
      ]
    },
    {
      "cell_type": "code",
      "source": [
        "!ls"
      ],
      "metadata": {
        "colab": {
          "base_uri": "https://localhost:8080/"
        },
        "id": "CV2EKxREWR2A",
        "outputId": "b667809b-0382-4326-afaf-f067d4cd7aa6"
      },
      "execution_count": 3,
      "outputs": [
        {
          "output_type": "stream",
          "name": "stdout",
          "text": [
            "animals  sample_data  words.json\n"
          ]
        }
      ]
    },
    {
      "cell_type": "markdown",
      "source": [
        "### 2.3 From local computer\n",
        "\n",
        "There are two options to upload a file from the local computer:\n",
        "\n",
        "\n",
        "*   Upload to session storage\n",
        "*   Upload function. Below is the code for this function:\n",
        "\n",
        "```\n",
        "from google.colab import files\n",
        "uploaded_file = files.upload()\n",
        "```\n",
        "Check that the file is uploaded by refreshing your files list or using:\n",
        "\n",
        "\n",
        "```\n",
        "!ls\n",
        "```\n",
        "\n",
        "this lists all your files in your directory\n",
        "\n",
        "\n"
      ],
      "metadata": {
        "id": "N-VwJTChe8Hf"
      }
    },
    {
      "cell_type": "code",
      "source": [
        "#upload cars.csv using upload to session storage\n",
        "#delete the file\n",
        "#reupload file using the upload function\n",
        "\n",
        "\n",
        "\n",
        "#check that file is uploaded\n",
        "\n"
      ],
      "metadata": {
        "id": "Ts5lcd6lfPes"
      },
      "execution_count": null,
      "outputs": []
    },
    {
      "cell_type": "markdown",
      "source": [
        "### 2.4. Import from Kaggle\n",
        "\n",
        "Use the following instructions to import a dataset from the Kaggle platform to your Google Colab notebook (To import a library that's not in Colaboratory by default, you can use `!pip install` or `!apt-get install`.):\n",
        "https://sushmitasingh1996.medium.com/importing-kaggle-dataset-into-google-colab-using-api-command-5b735862b6e6\n",
        "\n",
        "Import this dataset: https://www.kaggle.com/datasets/parulpandey/palmer-archipelago-antarctica-penguin-data"
      ],
      "metadata": {
        "id": "RHfvTtEjya4G"
      }
    },
    {
      "cell_type": "code",
      "source": [
        "#!pip install kaggle\n",
        "# Enter code here:\n",
        "!pip install kaggle\n",
        "#download kaggle.json file from your kaggle account"
      ],
      "metadata": {
        "id": "P1U2oQr6z4F4",
        "colab": {
          "base_uri": "https://localhost:8080/"
        },
        "outputId": "18ae1a18-d402-482d-82bb-cf7ca01d04e5"
      },
      "execution_count": 6,
      "outputs": [
        {
          "output_type": "stream",
          "name": "stdout",
          "text": [
            "Requirement already satisfied: kaggle in /usr/local/lib/python3.11/dist-packages (1.7.4.5)\n",
            "Requirement already satisfied: bleach in /usr/local/lib/python3.11/dist-packages (from kaggle) (6.2.0)\n",
            "Requirement already satisfied: certifi>=14.05.14 in /usr/local/lib/python3.11/dist-packages (from kaggle) (2025.6.15)\n",
            "Requirement already satisfied: charset-normalizer in /usr/local/lib/python3.11/dist-packages (from kaggle) (3.4.2)\n",
            "Requirement already satisfied: idna in /usr/local/lib/python3.11/dist-packages (from kaggle) (3.10)\n",
            "Requirement already satisfied: protobuf in /usr/local/lib/python3.11/dist-packages (from kaggle) (5.29.5)\n",
            "Requirement already satisfied: python-dateutil>=2.5.3 in /usr/local/lib/python3.11/dist-packages (from kaggle) (2.9.0.post0)\n",
            "Requirement already satisfied: python-slugify in /usr/local/lib/python3.11/dist-packages (from kaggle) (8.0.4)\n",
            "Requirement already satisfied: requests in /usr/local/lib/python3.11/dist-packages (from kaggle) (2.32.3)\n",
            "Requirement already satisfied: setuptools>=21.0.0 in /usr/local/lib/python3.11/dist-packages (from kaggle) (75.2.0)\n",
            "Requirement already satisfied: six>=1.10 in /usr/local/lib/python3.11/dist-packages (from kaggle) (1.17.0)\n",
            "Requirement already satisfied: text-unidecode in /usr/local/lib/python3.11/dist-packages (from kaggle) (1.3)\n",
            "Requirement already satisfied: tqdm in /usr/local/lib/python3.11/dist-packages (from kaggle) (4.67.1)\n",
            "Requirement already satisfied: urllib3>=1.15.1 in /usr/local/lib/python3.11/dist-packages (from kaggle) (2.4.0)\n",
            "Requirement already satisfied: webencodings in /usr/local/lib/python3.11/dist-packages (from kaggle) (0.5.1)\n"
          ]
        }
      ]
    },
    {
      "cell_type": "code",
      "source": [
        "from google.colab import drive\n",
        "drive.mount('/content/drive')"
      ],
      "metadata": {
        "colab": {
          "base_uri": "https://localhost:8080/"
        },
        "id": "XFV4WssMa60_",
        "outputId": "4a270d56-bd45-4e10-88da-790850ec924c"
      },
      "execution_count": 9,
      "outputs": [
        {
          "output_type": "stream",
          "name": "stdout",
          "text": [
            "Mounted at /content/drive\n"
          ]
        }
      ]
    },
    {
      "cell_type": "code",
      "source": [
        "#Use upload function to upload the kaggle.json file\n",
        "from google.colab import files\n",
        "uploaded_file = files.upload()"
      ],
      "metadata": {
        "id": "rAHIwrYizkIh",
        "colab": {
          "base_uri": "https://localhost:8080/",
          "height": 77
        },
        "outputId": "5d327f2a-40e4-46f8-c96b-7ed7de382dd3"
      },
      "execution_count": 10,
      "outputs": [
        {
          "output_type": "display_data",
          "data": {
            "text/plain": [
              "<IPython.core.display.HTML object>"
            ],
            "text/html": [
              "\n",
              "     <input type=\"file\" id=\"files-8ccb4a5e-e8f7-4b12-b00b-597d15b0a770\" name=\"files[]\" multiple disabled\n",
              "        style=\"border:none\" />\n",
              "     <output id=\"result-8ccb4a5e-e8f7-4b12-b00b-597d15b0a770\">\n",
              "      Upload widget is only available when the cell has been executed in the\n",
              "      current browser session. Please rerun this cell to enable.\n",
              "      </output>\n",
              "      <script>// Copyright 2017 Google LLC\n",
              "//\n",
              "// Licensed under the Apache License, Version 2.0 (the \"License\");\n",
              "// you may not use this file except in compliance with the License.\n",
              "// You may obtain a copy of the License at\n",
              "//\n",
              "//      http://www.apache.org/licenses/LICENSE-2.0\n",
              "//\n",
              "// Unless required by applicable law or agreed to in writing, software\n",
              "// distributed under the License is distributed on an \"AS IS\" BASIS,\n",
              "// WITHOUT WARRANTIES OR CONDITIONS OF ANY KIND, either express or implied.\n",
              "// See the License for the specific language governing permissions and\n",
              "// limitations under the License.\n",
              "\n",
              "/**\n",
              " * @fileoverview Helpers for google.colab Python module.\n",
              " */\n",
              "(function(scope) {\n",
              "function span(text, styleAttributes = {}) {\n",
              "  const element = document.createElement('span');\n",
              "  element.textContent = text;\n",
              "  for (const key of Object.keys(styleAttributes)) {\n",
              "    element.style[key] = styleAttributes[key];\n",
              "  }\n",
              "  return element;\n",
              "}\n",
              "\n",
              "// Max number of bytes which will be uploaded at a time.\n",
              "const MAX_PAYLOAD_SIZE = 100 * 1024;\n",
              "\n",
              "function _uploadFiles(inputId, outputId) {\n",
              "  const steps = uploadFilesStep(inputId, outputId);\n",
              "  const outputElement = document.getElementById(outputId);\n",
              "  // Cache steps on the outputElement to make it available for the next call\n",
              "  // to uploadFilesContinue from Python.\n",
              "  outputElement.steps = steps;\n",
              "\n",
              "  return _uploadFilesContinue(outputId);\n",
              "}\n",
              "\n",
              "// This is roughly an async generator (not supported in the browser yet),\n",
              "// where there are multiple asynchronous steps and the Python side is going\n",
              "// to poll for completion of each step.\n",
              "// This uses a Promise to block the python side on completion of each step,\n",
              "// then passes the result of the previous step as the input to the next step.\n",
              "function _uploadFilesContinue(outputId) {\n",
              "  const outputElement = document.getElementById(outputId);\n",
              "  const steps = outputElement.steps;\n",
              "\n",
              "  const next = steps.next(outputElement.lastPromiseValue);\n",
              "  return Promise.resolve(next.value.promise).then((value) => {\n",
              "    // Cache the last promise value to make it available to the next\n",
              "    // step of the generator.\n",
              "    outputElement.lastPromiseValue = value;\n",
              "    return next.value.response;\n",
              "  });\n",
              "}\n",
              "\n",
              "/**\n",
              " * Generator function which is called between each async step of the upload\n",
              " * process.\n",
              " * @param {string} inputId Element ID of the input file picker element.\n",
              " * @param {string} outputId Element ID of the output display.\n",
              " * @return {!Iterable<!Object>} Iterable of next steps.\n",
              " */\n",
              "function* uploadFilesStep(inputId, outputId) {\n",
              "  const inputElement = document.getElementById(inputId);\n",
              "  inputElement.disabled = false;\n",
              "\n",
              "  const outputElement = document.getElementById(outputId);\n",
              "  outputElement.innerHTML = '';\n",
              "\n",
              "  const pickedPromise = new Promise((resolve) => {\n",
              "    inputElement.addEventListener('change', (e) => {\n",
              "      resolve(e.target.files);\n",
              "    });\n",
              "  });\n",
              "\n",
              "  const cancel = document.createElement('button');\n",
              "  inputElement.parentElement.appendChild(cancel);\n",
              "  cancel.textContent = 'Cancel upload';\n",
              "  const cancelPromise = new Promise((resolve) => {\n",
              "    cancel.onclick = () => {\n",
              "      resolve(null);\n",
              "    };\n",
              "  });\n",
              "\n",
              "  // Wait for the user to pick the files.\n",
              "  const files = yield {\n",
              "    promise: Promise.race([pickedPromise, cancelPromise]),\n",
              "    response: {\n",
              "      action: 'starting',\n",
              "    }\n",
              "  };\n",
              "\n",
              "  cancel.remove();\n",
              "\n",
              "  // Disable the input element since further picks are not allowed.\n",
              "  inputElement.disabled = true;\n",
              "\n",
              "  if (!files) {\n",
              "    return {\n",
              "      response: {\n",
              "        action: 'complete',\n",
              "      }\n",
              "    };\n",
              "  }\n",
              "\n",
              "  for (const file of files) {\n",
              "    const li = document.createElement('li');\n",
              "    li.append(span(file.name, {fontWeight: 'bold'}));\n",
              "    li.append(span(\n",
              "        `(${file.type || 'n/a'}) - ${file.size} bytes, ` +\n",
              "        `last modified: ${\n",
              "            file.lastModifiedDate ? file.lastModifiedDate.toLocaleDateString() :\n",
              "                                    'n/a'} - `));\n",
              "    const percent = span('0% done');\n",
              "    li.appendChild(percent);\n",
              "\n",
              "    outputElement.appendChild(li);\n",
              "\n",
              "    const fileDataPromise = new Promise((resolve) => {\n",
              "      const reader = new FileReader();\n",
              "      reader.onload = (e) => {\n",
              "        resolve(e.target.result);\n",
              "      };\n",
              "      reader.readAsArrayBuffer(file);\n",
              "    });\n",
              "    // Wait for the data to be ready.\n",
              "    let fileData = yield {\n",
              "      promise: fileDataPromise,\n",
              "      response: {\n",
              "        action: 'continue',\n",
              "      }\n",
              "    };\n",
              "\n",
              "    // Use a chunked sending to avoid message size limits. See b/62115660.\n",
              "    let position = 0;\n",
              "    do {\n",
              "      const length = Math.min(fileData.byteLength - position, MAX_PAYLOAD_SIZE);\n",
              "      const chunk = new Uint8Array(fileData, position, length);\n",
              "      position += length;\n",
              "\n",
              "      const base64 = btoa(String.fromCharCode.apply(null, chunk));\n",
              "      yield {\n",
              "        response: {\n",
              "          action: 'append',\n",
              "          file: file.name,\n",
              "          data: base64,\n",
              "        },\n",
              "      };\n",
              "\n",
              "      let percentDone = fileData.byteLength === 0 ?\n",
              "          100 :\n",
              "          Math.round((position / fileData.byteLength) * 100);\n",
              "      percent.textContent = `${percentDone}% done`;\n",
              "\n",
              "    } while (position < fileData.byteLength);\n",
              "  }\n",
              "\n",
              "  // All done.\n",
              "  yield {\n",
              "    response: {\n",
              "      action: 'complete',\n",
              "    }\n",
              "  };\n",
              "}\n",
              "\n",
              "scope.google = scope.google || {};\n",
              "scope.google.colab = scope.google.colab || {};\n",
              "scope.google.colab._files = {\n",
              "  _uploadFiles,\n",
              "  _uploadFilesContinue,\n",
              "};\n",
              "})(self);\n",
              "</script> "
            ]
          },
          "metadata": {}
        },
        {
          "output_type": "stream",
          "name": "stdout",
          "text": [
            "Saving kaggle.json to kaggle.json\n"
          ]
        }
      ]
    },
    {
      "cell_type": "code",
      "source": [
        "#Ensure that you are logged into your Kaggle account and download the file\n"
      ],
      "metadata": {
        "id": "uCXlorOEoSm7"
      },
      "execution_count": null,
      "outputs": []
    },
    {
      "cell_type": "code",
      "source": [
        "#Create a directory ‘~/ .kaggle’ and copy kaggle.json in this directory. Change the permission of the file so that only you can read and write.\n",
        "!mkdir -p ~/.kaggle\n",
        "!cp kaggle.json ~/.kaggle/\n",
        "!chmod 600 ~/.kaggle/kaggle.json"
      ],
      "metadata": {
        "id": "_0vpj_W2zuUN"
      },
      "execution_count": 13,
      "outputs": []
    },
    {
      "cell_type": "code",
      "source": [
        "#show all files in directory\n",
        "!ls -l ~/.kaggle"
      ],
      "metadata": {
        "id": "kMDW8hmL0L7b",
        "colab": {
          "base_uri": "https://localhost:8080/"
        },
        "outputId": "47ac3425-f30c-415a-d4cb-89deb56ace0e"
      },
      "execution_count": 14,
      "outputs": [
        {
          "output_type": "stream",
          "name": "stdout",
          "text": [
            "total 4\n",
            "-rw------- 1 root root 66 Jun 21 17:04 kaggle.json\n"
          ]
        }
      ]
    },
    {
      "cell_type": "code",
      "source": [
        "#unzip downloaded kaggle files\n",
        "\n",
        "#!/bin/bash\n",
        "!kaggle datasets download parulpandey/palmer-archipelago-antarctica-penguin-data\n",
        "\n"
      ],
      "metadata": {
        "id": "QmU3SBch0VSx",
        "colab": {
          "base_uri": "https://localhost:8080/"
        },
        "outputId": "463b0dbb-05a1-4467-e3f1-69ae311c09d0"
      },
      "execution_count": 16,
      "outputs": [
        {
          "output_type": "stream",
          "name": "stdout",
          "text": [
            "Dataset URL: https://www.kaggle.com/datasets/parulpandey/palmer-archipelago-antarctica-penguin-data\n",
            "License(s): CC0-1.0\n",
            "Downloading palmer-archipelago-antarctica-penguin-data.zip to /content\n",
            "  0% 0.00/11.3k [00:00<?, ?B/s]\n",
            "100% 11.3k/11.3k [00:00<00:00, 33.6MB/s]\n",
            "animals  kaggle.json\t\t\t\t\t sample_data\n",
            "drive\t palmer-archipelago-antarctica-penguin-data.zip  words.json\n"
          ]
        }
      ]
    },
    {
      "cell_type": "code",
      "source": [
        "#show all files in directory\n",
        "!ls"
      ],
      "metadata": {
        "colab": {
          "base_uri": "https://localhost:8080/"
        },
        "id": "3LiYiEafdTkY",
        "outputId": "c3f9e4fd-43af-44dc-fde1-69386dd7dd13"
      },
      "execution_count": 17,
      "outputs": [
        {
          "output_type": "stream",
          "name": "stdout",
          "text": [
            "animals  kaggle.json\t\t\t\t\t sample_data\n",
            "drive\t palmer-archipelago-antarctica-penguin-data.zip  words.json\n"
          ]
        }
      ]
    },
    {
      "cell_type": "markdown",
      "source": [
        "## 3. Mount Google Drive\n",
        "\n",
        "You can either use:\n",
        "\n",
        "\n",
        "*   The files directory. This allows you to mount the drive using the GUI. Ensure that you select all the permissions as you might errors if you dont.\n",
        "*   Write the following code (Can also use the icon on left menu):\n",
        "```\n",
        "from google.colab import drive\n",
        "drive.mount('/content/gdrive')\n",
        "```\n",
        "\n",
        "To unmount:\n",
        "\n",
        "```\n",
        "from google.colab import drive\n",
        "drive.flush_and_unmount()\n",
        "```\n",
        "\n",
        "\n",
        "\n",
        "\n",
        "\n"
      ],
      "metadata": {
        "id": "-hiB7MfdhnVl"
      }
    },
    {
      "cell_type": "code",
      "source": [
        "#Mount and unmount the drive using google drive icon\n",
        "\n",
        "#write code to mount the drive\n",
        "\n",
        "\n",
        "#write code to unmount\n",
        "\n"
      ],
      "metadata": {
        "id": "SLUuM1Ypig0i"
      },
      "execution_count": null,
      "outputs": []
    },
    {
      "cell_type": "markdown",
      "metadata": {
        "id": "GvXvITRT1dD5"
      },
      "source": [
        "### 3.1 Add file\n",
        "Add the 'cars.csv' file on local machine to your Google Drive. Rename it to 'cars_drive.csv'. Do this by importing 'cars_drive.csv' to your notebook by mounting the Drive."
      ]
    },
    {
      "cell_type": "code",
      "source": [
        "#add code to mount drive and import cars.csv file as cars_drive.csv\n",
        "\n",
        "from google.colab import drive\n",
        "drive.mount('/content/gdrive')\n",
        "\n",
        "from google.colab import files\n",
        "uploaded_file = files.upload()\n",
        "\n",
        "# we will not use storage session as we want it to exist even when we restart out notebook"
      ],
      "metadata": {
        "id": "6zFD9tgirsgH"
      },
      "execution_count": null,
      "outputs": []
    },
    {
      "cell_type": "markdown",
      "metadata": {
        "id": "92V0B-br7q9A"
      },
      "source": [
        "## 4. Export dataset\n"
      ]
    },
    {
      "cell_type": "markdown",
      "source": [
        "### 4.1 Export to Google Drive\n",
        "\n",
        "Create a folder \"datasets\" in your Google drive. Now export the \"cars.csv\" file from your notebook to the \"datasets\" folder in your Google Drive. Start by importing the file into runtime using upload function\n",
        "\n",
        "The code to export is:\n",
        "\n",
        "\n",
        "```\n",
        "!cp 'path_to_data/dataset.csv' 'path_to_Google_drive'\n",
        "```\n"
      ],
      "metadata": {
        "id": "PAkWGja4T8o1"
      }
    },
    {
      "cell_type": "code",
      "metadata": {
        "id": "g2-5v8Uy7yHr"
      },
      "source": [
        "#import file using upload function\n",
        "\n",
        "#mount drive if not already mounted\n",
        "\n",
        "#create datasets folder in MyDrive\n",
        "\n",
        "# Enter code to export here\n",
        "\n",
        "!cp '/content/cars.csv' '/content/drive/MyDrive/datasets'\n"
      ],
      "execution_count": 19,
      "outputs": []
    },
    {
      "cell_type": "markdown",
      "source": [
        "### 4.2 Export to local machine\n",
        "\n",
        "You can also export to local machine. The code is the same as upload fuction except we now use the download keywod.\n",
        "\n",
        "\n",
        "```\n",
        "from google.colab import files\n",
        "files.download('dataset.csv')\n",
        "```\n",
        "\n"
      ],
      "metadata": {
        "id": "R0sHqABEvOav"
      }
    },
    {
      "cell_type": "code",
      "source": [
        "#lets export any csv to our local machine\n",
        "#put the full path of the file\n",
        "\n",
        "from google.colab import files\n",
        "files.download('cars.csv')\n",
        "\n"
      ],
      "metadata": {
        "colab": {
          "base_uri": "https://localhost:8080/",
          "height": 17
        },
        "id": "Le3qjhElvk_J",
        "outputId": "218f9327-0c92-4c39-d597-62a41c27ef1d"
      },
      "execution_count": 20,
      "outputs": [
        {
          "output_type": "display_data",
          "data": {
            "text/plain": [
              "<IPython.core.display.Javascript object>"
            ],
            "application/javascript": [
              "\n",
              "    async function download(id, filename, size) {\n",
              "      if (!google.colab.kernel.accessAllowed) {\n",
              "        return;\n",
              "      }\n",
              "      const div = document.createElement('div');\n",
              "      const label = document.createElement('label');\n",
              "      label.textContent = `Downloading \"${filename}\": `;\n",
              "      div.appendChild(label);\n",
              "      const progress = document.createElement('progress');\n",
              "      progress.max = size;\n",
              "      div.appendChild(progress);\n",
              "      document.body.appendChild(div);\n",
              "\n",
              "      const buffers = [];\n",
              "      let downloaded = 0;\n",
              "\n",
              "      const channel = await google.colab.kernel.comms.open(id);\n",
              "      // Send a message to notify the kernel that we're ready.\n",
              "      channel.send({})\n",
              "\n",
              "      for await (const message of channel.messages) {\n",
              "        // Send a message to notify the kernel that we're ready.\n",
              "        channel.send({})\n",
              "        if (message.buffers) {\n",
              "          for (const buffer of message.buffers) {\n",
              "            buffers.push(buffer);\n",
              "            downloaded += buffer.byteLength;\n",
              "            progress.value = downloaded;\n",
              "          }\n",
              "        }\n",
              "      }\n",
              "      const blob = new Blob(buffers, {type: 'application/binary'});\n",
              "      const a = document.createElement('a');\n",
              "      a.href = window.URL.createObjectURL(blob);\n",
              "      a.download = filename;\n",
              "      div.appendChild(a);\n",
              "      a.click();\n",
              "      div.remove();\n",
              "    }\n",
              "  "
            ]
          },
          "metadata": {}
        },
        {
          "output_type": "display_data",
          "data": {
            "text/plain": [
              "<IPython.core.display.Javascript object>"
            ],
            "application/javascript": [
              "download(\"download_c3e62e91-d12e-4955-af71-313d195d86e2\", \"cars.csv\", 1253108)"
            ]
          },
          "metadata": {}
        }
      ]
    },
    {
      "cell_type": "markdown",
      "source": [
        "## 5. Text Editing\n",
        "\n",
        "As mentioned that as part of the datathon, you will be submitting a notebook. It is therefore important to ensure that you understand the various text editing functions in colab:\n",
        "\n",
        "*   Headings. This is the hash symbol. The use of 1 hash is equivalent to heading 1 size.\n",
        "*   Bold / Italics\n",
        "* Add Code\n",
        "* Add a Hyper Link\n",
        "* Bullets and numbers\n",
        "* Mathematical equations. Try the below code\n",
        "\n",
        "\n",
        "```\n",
        "$\\sqrt{3x-1} + 1$\n",
        "```\n",
        "\n",
        "\n",
        "*   Add image. Upload bus_image.jpg in the next code block.\n",
        "*   List and numbered items\n",
        "\n"
      ],
      "metadata": {
        "id": "spTi-wxpxbpB"
      }
    },
    {
      "cell_type": "markdown",
      "metadata": {
        "id": "RRVg0z4E9Y5K"
      },
      "source": [
        "### 5.1 Upload bus_image.jpg to your notebook.\n",
        "> Add image here:"
      ]
    },
    {
      "cell_type": "code",
      "source": [
        "#add image here"
      ],
      "metadata": {
        "id": "hsMTTNeTwz4D"
      },
      "execution_count": null,
      "outputs": []
    },
    {
      "cell_type": "markdown",
      "source": [
        "\n",
        "\n",
        "> Add blockquote![car_image.jpg](data:image/jpeg;base64,/9j/4AAQSkZJRgABAQEASABIAAD//gADKv/bAEMABgQFBgUEBgYFBgcHBggKEAoKCQkKFA4PDBAXFBgYFxQWFhodJR8aGyMcFhYgLCAjJicpKikZHy0wLSgwJSgpKP/bAEMBBwcHCggKEwoKEygaFhooKCgoKCgoKCgoKCgoKCgoKCgoKCgoKCgoKCgoKCgoKCgoKCgoKCgoKCgoKCgoKCgoKP/CABEIA8AC0AMBIgACEQEDEQH/xAAbAAACAwEBAQAAAAAAAAAAAAAAAQIDBAUGB//EABoBAQEBAQEBAQAAAAAAAAAAAAABAgMEBQb/2gAMAwEAAhADEAAAAfKgbyAAAAAAABABQDlQNEMEwAAEwAAAAGCGqGQJlACACgCAEAykMVAANQAABQBAAgBQACYAAhghggAAAAAETBRMRMATFQAAxDBDQMQMAAUAAABpAaAGqGCYABIAWgAAQA6QyEMEMEMQAVMAAAAABNqgCRDBDFQwQwQFA1AAAFAAmAJiIaAYIAABDFAEAJQGICwAABWmSJhaAQAIAKAUDBAQMBMATAAAAAAGCYCGCAGmCGCGCBiGCGgAAAAAAAAEwABDBDBA6QCAAmCgAgAaYAQAABQAAEAAAAMBMEwEwAaAABkIaoGCGAAAAAQAUAQAUA4QFA0AyEAAAAAAAFAAhghghoAAAAAAAAoTIQykBAAAMQwEwEwAAAAGIaAGIZCYUASg0gDVDBDBDBDATBDBMAAAAAAAAGIAAATAABMEMEMEMRAAAAAJlAAhoBghggYgAAAZCGCYAAoAgAANUDEMEMBMAABoBoBkIZSYAmQJgAAAAAAAAAAAAAAAAUmAmAhghggAAEwBMEMRDQDQAAAAFCZKAxAA0xDABiAgGCAAYIYqGCGAAAADQDBDBDBMBMAABMAAAEAFTAAAAEMEMRDFQxEMEACbEAomWIZCGqBqACgAQwTBAHKgKAIGCpgAAAxDBDBMAGCGCGCGKhghkJggAAFAwQyVAIAUAAAoAgAAMQAJgAADIkkIYIYqGIhghhFtCGCGIhggBMKQ0MCUBiGCYADEMhMBDFAAB0hkJgJsEMEMEMEMEMhDKTAQwTAEwQwQyEMpMBDERJKhgDBKQIYIYIYIYIGiUhYjKiSUiGqQwQwQAhgAxDFQxAAAIBkomUAADEMEwlAAAoBwhgAANAMEMEMEMEMBMAYiUhUMEMEMRDFQxESSokERiIYqGIgYhhEkERghsipqokkRJIiMEMEAAAAxDAAgBiGCYKAxDBDBMBMAGQhoYAAUAxA4QwTAAAGUhkCYAAAxDkQJRAAABuLJKV8uVaqSsa1BAAEAMTAYTIK1FZYylWxqtWRSJJVACAChhAADTUAAHCaYAADEwEwAABgmCgMQwRJxFSKiMEMExiGgGCGCYxDcEhE67Zy5S+uyskqAEJwa6p47s109RZ1yo7qdZzq2GswbQAhtFTlU4ulQS6FUySbKo6AwgaywSsAAYmAAANQNAwAE1YgYAADAAAYgYmMREnBrMgEyISEDTQDBKYQJgm3EVIEwLJUktlY7IxtCpWqoOQPo82zF6Uct2NQz7pVyodavU5i316zjWmNlBciosVQJpItoZEKhlA1AMAAAYhgA1QwAIAABihZhNMs2Q6dmDoAmKA0QyVDBDKQ3CB0hkIYAAAUwQ2kTIkScGTIuGmKIEBO0AQkiG4izcGWSpJb3mZeqmSUQE1YhpEMEpKsgGspgDAAaoZCbBMAGSoYRlm0glEIOk48Kd2saOvydk1qhPiLbr4Gm59C8WrOpsFAEAagCACgwQwQxAGqGCGCGyI2IahiBuMhDQiSEwpkSSQhWAA0NxCTgxg4QwTAwgdMjCAESKbhRllNhTbLIUhMYqb+Eb3jtSc+b0DVx+rwaq7uDqGHp1aJWpEqYABQNQOkLjJzLO8cbpF7CUAAAAAAAAABiCRFjE4YmoBSBogQyLGkDEDcQkRCZAJODJODJODJJMyDNZVcaC+zLA1c6/USrw7ox6KMdnV18fVL0zDbNV+a1LeNeHNtTVr5N0vR4fa4Vd+6bxpzrqWWauadCyjmLupr4Nz38HPusnDbuPPWepvl83Z6Mmudvk5USawJhWWIgTSQcgiNkRgiTIEwiME0DEDaATBKYVlhVZYogrFZAmiJIIqaIjSDSozb5Z1ybumkzRhgXVXw6dY9Dr8rrPQc6u6a4cjP052RiI+hzdKwldFYTuzp0eeSl7kYmNmCeizJR1IpypY79Snpd/rc+nG2bVz3jNaMpqKympGY0ozu8KS0KnYFZYypXBSXhneiRntvuzctmiObmo2Q1Ma2QsymgsojpRnLo1WWBWWBWTCCm6rVhJUrVVasVkCQQViJSJZranNSmrM3Hz+4HmOJ9Dz6x8+fp+R151PHDWUtGfUd1DXdlTiy+GQnKuFnZnyNmN37+LnO3yM7s1+98JVjX0uz5ldz39Gq+eM94ee2Z109fN341JOebW5TKy4KFpa5FsExPWjK9IZ46QyrUqzLSihXxspjoRnWiNUlyKldErVkagrI2RJBBTKrVqKiyNlasSQVjqlXxiomWaXnM60GWJvs5rl6Zz3LuWKRo4/T5dmPF0q+vPk4d+TpzzDWssTq2WdRIQaboZpduKBTHGzToy7s3E7rJYT7GfGtnK6+XOu5dly8t9a/y/YjsW0aeXQaulrJuK1YitTVQjYkrjYqrU41FosCKJJKpIQ0AlJECSqCnEgpxsipKkEaZFJNVlScElrqCZFGSqqO83V03VfAxS9K/zXXOjbltxbKpteFj9N57eONX0ub25JM1lAF1c64cSQJFOZXGihFNxkWasXexdWnL0OHbm37OOm/Nn7NcPB6uFcDd1eIku3ztuNej0/MehjXvV5D0nPepSWNRHGhCUQkE1URoiSViGhAgEqaSoQgSVNCBMsipBEYRUyytWKqycU4VVlXXnLfguXdz+hlzrk6K8HTPqLOOYvft4+3F1YtTmuHwfZZuvPykLa+3FAWDnGIAUTgyUHMitmIYaIr7FubG+1k4Xb562W2dPl04DXW1OV0lyot72DZnTs6t/Dp5fZ3Gea6XRiVKazqskqimhJqxJoSkqipCRUlUFYitWKoRmVWrEQVkqqLlFSviUq1WVK1VUrUVK5JSrY1wZcmfo4Wz42uzt2cvm5121xtpZm13VwuzzM+8d/q+e6nLp1cldeNV8Ho4+3LnrXk68wAEygAAI0UKUdGEac1+g836DO+3y9tXDpn6WbLXfr5nd5bleaue58b0V2Lm1ynztSvDLHXAyR1xrHHXFckdcbMsdUazF8apjeqoV0SqNsarclSUpFbmFStZU5oipqyKkgSQKRZWrVVasiRUo2eP51+r1+XLToqrNZflsipbDDcq6spsrEBUhNSVZIKRUBq5AAQwJIT0Vyl2bs5vO9Tz+7x64OpOzj0xLpbsa5XVp2Y2MjjU5VBqtyWZa5Z3JeqImiOdGgzi3KpJYVK2yMESK1ZOMY1KKjZJQVWSgiSiEnAJRTpKQQJKoEkRGkSFTSRKKVeFojX7vHEOhZU5UylmLqFFOhmKq+vUgTjSBiHMgW1xEasSkEQLJSh0pcGnL2c2hbKca72bhbM66NPDvs9L0uRDh19hbi1eX0SUyWtWJFZGcTacKMoBEVBFVMqC4pkWqMoSkytWsoWuSYScNIqZVZaiosVVk0RTVCEjSKItIEUSSVNCXw1G2Pt8lmXp8Ulm1T1nF1JdHO8J18mLycvocG848/f5tc6WqjeaotIEogAiCVLTncsVKFm+fNcunMFhbUBKKTUs7l6HT82Z19T7nxLveXt9WPBeu8vXXV1Ycd81barcsNULaVbGqYaIlVhXU1SWWKqNWxrCcqFVtVlyZF08pRN1VeUstKwsjFEowrstWeNajKVpjQF0ahLFWVNQVeZ2bKu/Hgmfq9MUT6U8aVg86iSlLVKwKuZ2aE49fcv1OKduuXzVtl/Xn50F15yN23Gr+A5ma/0U868s/c4I81DsV6zlp79Obwj2vJXzZ3zWeE9npTy1ff34142OvJ25dX1fgDlv7Bq+NdXy9/qh43q+fv24c2/N1GVGqOdl8JaIo0TukqdsZmOnJnXsV8nDXYx8uHS9PLlWltLW5BSVkQjTIxscCFjIqySjGy0qCwqKuVJDybKq5feqkOi4lpLo1EXPTovgZt49SeWos9bV5CGp6DHyzeOxz1RqCasJwK6npeV3fJ6Z8nq18t6qnRNQy9Q1nn7bJ5sXJ51BzlLypdSGs1zLc6w+M+ic7ry8Bohd7PLXuefOrNXtOdw6dmny/wBE83bjb7ObjXap4cTfRnjrV6oVmgzo0rMq0rOJfGpFyqjV6pZOKdii4hEjrIkqaSsaBBMqJIIEyyYPHUGQgiNQLIU3YtZ5/P05vT56B6dYyqcUUoqgToACUe7nXe14o+H2a8l27OuLyfZZ9Y8hp7XF7cqnny9OfWeWmOnfwdUvbh5dHrNXj9mb7bZ8r0Z17Hi8Krty+mc3x+nl09l6P533/P07Eel1vL283D0kc683D0VVvn496OnDO1GuRLqQrnPaGI2Iww6MbObHpLTmx6cKwT1JKY3ktEdMbM0NasxQ6Cs5sektTmnSVc1dKFmA2Qszzw1bdSHOSdE50TXjrdzQTxdOduHZHWZZVn1l68nXlw0djGvOY+nMHEd9XpOfTr7MS8Pu3y5ZG+rMV1sWfIdqfPlm6Ofpy7xXk6GnWPP8z1nmu3HD6KqdzxNHR5upv248OXostODN7L5EbPeeh+T9ry9/oFfkul5fR1a+a298edVp1I85WdGPOK6T5xHQXOhZ068BWuOSWpoWdF8aCy0oVaDOGgzpNJmF0KgS4pKuKAuhWqyKD7cpyrsleTVlKtdMbnTmx12dLm3c7eMRLR25Xdnl7OPbo8P03js6xtHq8zT6ebo9pzZeD29afHfHp1o8xm2GZ27FllJ0nzb83di7EsY4nT24Es4Ha5er570OW3vk8z67g6zln08u8Yp9Qjx/Xl5/vy9DfTRjpqs53Ujbol6Xx+jzmb1pz34+PtCzxK9lRp5SPqlXll6erTzi71Wpxl1KtMa6kZeYa6NZpdsLErJrRK2Zjem1Ma6luNcizfExytqojNpzZVvvxkk1Scoy32OLop53wcEqvX4+ub5cfQr7s/PeLzV9Hr8pdX6eNG2D8ftm4SzZTg5dZSc9NWW1mlqszcT2VxQ5zISnozcp0K8rMW26Z5cPS8q54N3d4nWN24CjynuPO+nj5r0HD9D6ONOrXRw7W6ePWvpZ02efvOVLW951GwxBufOR0I4EdKXLVnTjzVXYnxFHZlw5r1qufM2QpQ2p0rc0C4rik4wWo898dTERO3Kbg4m4E1YUYLnQlO5870s2ztx7hCPm9evyxze/nUl0OvHp9+qXg+hfPNZz6WR02c9ZJbnGOeqEYq+nacp9IMNt98YbN8MKbbZ5Vy0VZzffkM5vjVcl3D7j1nlcL2Fe54zrcz0XfPhO31p6cq+O/n281Pq+S9HHqdPT2uHXzse1jz0xw0rbHHuQl4q62XUxGpakq2s2uajos2iO80Fq1momqgSSKyGqL8c8mdNRXXnN1CXOhywdZuWSqctuWdFzVXfusioPOuZuzcjtx6/JoOnJMu1mXo69Hm9dlldvHvZOtY3onS861W4DF16OfbLtMhl01zLMtcs1kumzJbi67KNXPM5Qtxmd9ejHGy9XcfM7Y3e/jFaD6WOJwPYcX5Pbz+x4Ovo2iePRV570/O6zz3rfFei7Y113HD0Ys+o6TPLTUaDlurqqYdIRidMSUGMULGorUmoRsmVq5slSjVXRKWyKrubFWrLVUWVuo6ZsdZFhWLaZ+fc9Tk5YdOIBvmM1zVfdLOHpvecx2vdEoudDludTmrZUkumeWUuqeOeNbXlszq+zMs3dbzp5vTu5dnPXWt5E+buaODr58+/q4fR8vj3WUb/X5BWH3+WLLvwfnPTh8N7TndvZ5266r09N9NFeOz43U5fo4diOG3O9RliXrKtTonNlHSoyxXUs61m9Za9TXXnLmxVrWZkCyThEtVRZKLdRGIgBJxucpA685uATKuYlmRnTihlhK7p46Zugjn3m4OalKDlm4Slk4ymmDzVIkpKLlnKDzqU4TzpXRtzpsuxuM75c7TZfZi0aNGnEz7devzeW7p4tn2PlsD6nOHG63L/P+jmZelg830+dTbHv6M9Oh7mQlHcy2FfTCrsq1IwtepnWtmNbYmR6K9ZojZTvA61rE1AuZRSqRASSSskQEkQLJEUTIBS0+mCFWFl1NawpKSLVbsx0covPVsszuAnY3FyycWspVuWcq3NTcHLNwllOVcpqydM87unRLOtdmKzHTZbgsxroW86znrrbOJo5T0W7zO7y+TvaOPq5ePprAevlfTnw+Pvq52fH6vfoyU5/T3spqj0koSNSMsWHfHv2eRw75+8PK2Y6eoXzmPXh9Ml8zszr6SfPL8795Dx2rHTv5M22a52L1VPTHmlbl9fisKY6xeKBMSpiVjEDQkjmrzawRZrCZetW+yeN7o1dfyfR4j6GHrzOrw/Qce+LH6Hn4c8L+/lpe0x0xy1KKJXmdUmqzPTCXGs1Sq0XKdOTeelKuWd2Src1bKqWbbZTPO77stmN7NPPt576uni2c89o45MdLNjza3uy4ub1x16fNYfR5fU5efzunLfz+bb6fFZCF2+eirXjxdfpPIe68/0PGvJZ6PDtzaNnLryIdI1jkrs3W+en3rl83ZLN049m7zks771+W3HpUR6zXC6FkxAxAAjkofTkmaVjvTxt2UmdadGCXL0To3SxvmXdbfi8mW+nHTh2dnfrHIq7mXHTjR1Y/T478PQuXh6r4XGe3s82dKb49GKK9fMm+g6LpqUoObscJS2SqnnVk6pZ1bKhS654cR26PP8AO6ebuc+/z/by7N+HrWeeoNHo8npPK+18Vw9c4Wx7eSu1xN2LVhyPffO/oPL2+IpvxenwyUXvCHNYWQlEuvyNOOnV5/X5vL0YK+3Dry5/Z8/1c25A6oABFgIGhJy2794lpqM24q2Z3Hr76fF79WvhUce/pzyNVnsIeQ7B2KNb8/ryWPwXfye8y+LO/l79XT86m/rec6y1LRw7nv3+e9Nz78yXOfbj6Lm6MfD0XS58OvHW892k5Vk1c6nNXFRLeUuXlc7Vn9Xze1mzX8e3X8x0udc7lowJyNUtPfzbuF2uRnrXW59fPCjZbbmlveNcf23jPTY7YeR7LzMnO01X+jzZtNkM6wSkunN3V0r37/Pet8/swqErefXu5m/L6HNfn5eoBby0ACLAQmJSO3lQ0Hq/Leo8vt8zVqz9fKhnXNtV9ONLvcPu8+/q2n8P9KvA++8p6/ncKu+P1viep8z2+b5Pbj3Yp+nzer8p7Xx/i9tHqvM9bpx5uftcbrz7dnP7nl9nlQu9vhcjVx7WcrXi3maR05yIhOym7O6IZuhMczu8buY3kpurjrcfXmzunoVbFw0dBXNO2ivO90uSG/p8OeenZv4PoOPohurxcu1c92lONT6FteY092Nnn6fRUax5XodG/px8lL2Vq+Fp+g57nwfX7q1nyCK/b86wpN5tKhLlUDSWsyBGrt8vseH6PCx9mHThyjrz1ObR3VjfD9Jnvx29M/MW+D6nouTzq98sTuj7PBvv5EeXo23c2Kemw8Mz17dvnJWeiq4UmuvHj1anbXGLOvXyXcSrS9ny5uDsbiyU6KcW7VzFnO1ZJSaDOGl4xNazhphUFsJwiCssuYWaLOfTJ1uRZd+iuxR8f0O7o8fsz39KZdXn9oA0AAHOvPonnrevDuCfH1KMoJ5Lj9/z/wBr86Eo9/MNsiAQZKxMSyszT4+u2JDPdxCkNAwl0Trs5e62p1jlVLfmtK3j1WRgA4llsIkND1zQ1NSimhKIzFxl6PkpydzVNxpZNWXOWx55lkZ5o7J56Z7XZlljrhqUPQSxlKOaSjKZuI241j7ebVjrbfmp4+ro59FTvyOlt5u+Xo5+N9Fy9vQA4+qHG6HD9Hh2Fz1ivs+U9Tjs+T1vM51ycnY4/wBf4InHryAkQJgFVlSjKMVkXj0sU89VOUs9aY303EXILbabefuItSxbW+EhGO8kkSSEYiwcQYkjDJrjqWDTvhfYR1wkyGucyoSeTTRjI28ZGiJERZ35ZS7KJZs621UaFnCdMWTrsknfTfz3ddVdw7Pl9Se9IN/P02ulcO1fH9DX145e55ezp09Dxu3yufeiuy3t5KOvz+ty9ODJHa48Tj9PjfR+fc6125WkUk4KJEb6c2gIzS5epXZ7M9qdVWuebDqWS9dluHs8+3KuptvpcZLO4yk7IFlKSVdlyCitqipZRia5yCTJ0eb3+fGnzftuNm3YvSczHbmHRe+HMnvimDD1+Z080Cdl50qyNzEkhNNLqNWebV0LFnm0582V2ey51257uG9V2a/j3loyvO9fGll7563L6NN6V+g8Z6LOejzOjDzejH6DzHQ69FR6I59+bus5edV2S5t8eTk9bl/S8EIWr1eYCIxRPQx0L5n16C8I1dHZjv4unVT7fJUrJazUpSl6+rRyvL6Hky9Tq5sNnN6YXUydN4q8XUny6eS3YrPZ5d0sGjHa9a9vHvx7+6ct8TD6Pn9eNUvQVcO23n9/yvH10Q6Eu/l5kulE5semXPmkU+zwdOoq576+fUebtihtjrGOO+rWaK9lGsU51f1yTt581pmzGLr89/LWi/Pdw7Om+K82u3d6c2YOnby9XA6xqnO1xfk7R5PYy9s927znoeX0q+JZZry2c3oYXDRxp8r3cd6wnfh0I8+CdQ5Lr1YjwfRIyLLe3wJ8u/b5WbHrMlxKPb876VPwM/J9D2mfkc2Xv3eTfbh6fBxsO+fY0c312N87tZV5fZ4OkPsfBu73m3jfdjxb8705tGk4y9JOXm+ipPP682TqNMO0edICVBkuauLfi9vh7nJ04Y7VvA1YdaWSfLpphFZsqbatY4/T5foPRLeB0ceNXW4985O+jRx1ddVZx7W2Kzn140Onm9Hnrhv6ee3M2yx8Omxef625qVEMXL6vy2rt1p6XGsnHrVc6jC/Flfs4awWd2QEsqZ1XPaA4eoFCpnEo7cO9n40d4WSyz0eXOaUZ1YWQLmUG7ZnfG9Tlt4+js+X69nD0cO7rrXLn6LzOxp52NEMBUAjQANDQCAsMess4nN9bX34eUO1h7+fHbWtc9evkmNdt8e/G8nV5mzebobuRjrX1OPv1x1aOfdw11ZYY8ummzn9O9L50T8/W7RleOjw68XXjyPQef7vo56KlX5ujsjDpu5U1XO6iOI5W/ndP1+WyzY/N6+cdEOfV1FZag59gAQxE0xMapBUZNSDBWmoAKExEDWMZFicZDAlExEBSbUDTEMEpBEaQTKQMzcjvrrz8nH1ODv5uKaM/Xiuhgul7XJ0c7HRdPmdmzDu0aOHflU9PBvlpqrVk51yTd1uN0vN7MGSuffy9Cd+Dh6dWPXVcaaaBvRGtCpte8c/rF2dyTXPoDQNMmxZ0ESyQhRjgi40wBiYNEAnQIHGURtAhKxjAacACghARTlEgAAGRGgUo2DECnEFJBm1Kzhc/1tffh5Q7Oft5+dLRn3jdp4xjp35+dM69Dd5gl9LPy5L6l+VF9NDzhc+y5nIz513aOSdOfQqyW6zKrXql5F/a0Y6FzXl9akEIAGpEkiVtMTGqTQMSNxajiAAAwQhGAriIGmjQKwQ0AA0g2UDJROIxpBMEpRoBIMABkWwIyBMApuDjZ/Qnbl5iPqlrHko+vdnkD17jyMvVo8lf6YODb2THTn26zO6rGZ0hkIGIYRadCHDBytxathCTVAAAiSGCEEosYnCTVACNAo2gEIAA01AQOLAYRkhAABMBADBDVAOEBSYA04Q0NMEBTTQwQ00NDhNADKE4gMRMFAATYhkCAkElSaBxkIGJoFJMiNDklDAIgUKcQTRJxBiaAJRpgREYmOLYCAaSsRY04ExEAAmigBATGCViYIaCYoIJJAxAwIQygIkgBAIADQKwRISG0FiFmiZYpIVwYkoqSySYAQEXTSBiYEZCCKSAGEVYMIyiNSQNxGhI0SIsiNORFSVA1CGqaaSSSGIJCAExoQDiSTVMFAyNNpwACYlbiISiEiLAGqTkJMENg4ylBAxIkCAkgYBFg4SYoyQJgmlY2mOLUCkUODlkJgMIgCBoAAERSI1IHCUkOLQmFiUlQDIyixpkJMpgoJRCQkrEWMRKpJomAJFNSiEghDBjjKMAHGmwlaTE2qbShpsTEKTUEWUIAjKFjExolA4q2aCHFNEpqmEpYSTEAhGcVYpIkwQA0MIyjQAjSYIKcZEJNUxxGMiMk6QAJgm1CGUCYpCgaKYnAAMHKm4g0DTaqSiSABSiMYEWDQClWxjQOt0wckQjUxqGhqlONkZKQSjGWSJEW4jTESlGpClKRYAFjipQIkRi3SYEWJGIBoppkIaACnFsTFACqaRDExpixnFgNyxaAYIA1Q4gyQAgFIABIiTEyIKiVMkk4giUkhIFE3AKSqMmJSSOMhQEBFjQqTGhJEMSUYAmIgVA0NDIsEBxHGSIyHSGShFo1JLEZYDIBSVIkiaAYKmKGxK00SItABZRkQIlSBEXKCSFJYoY4uJOEhIqFtNJqNOAIk65Fg5QlGmNCJACi1TiSQTaxGkCSgIumhhFsSkhSTIqQilFqgaIFTacBF00EDixSQSi0KQAOCuSZGQAIGIAHA21QmNwBiCNkGTigGgESIpuqpzgkoSkQY1BqAUgIscXIQRJJocZRQQVKIQSJLWDQQxMYKSBMWIOxDIQKxoY00rjKJGQWMCVpoAiklJKMIEFSHGUY0gwBME1Kv/EADAQAAEEAgEDAwQCAgIDAQEAAAEAAgMRBBITECAhFDAxBSIjQTJAM1AVJDRCYEOg/9oACAEBAAEFAv8A+0ilXu1/8YEPKLUR71dKVdK/3mqI9gFA2tbRaqVe1avtpUqVf6SlX9QGkfK1Vew11JjmuTo0WItVe5atWr/11KlSruru2XhUqVdwTH+PC1tOjRYtVSpV7dq/9Zfu13X210BpB6D1sFa8ItCLFqtVSpUqVKlSr+2Hfc0pxoMOzf8AXWtlstlavsrvr+xOdHyGnMmJOMad/s7V/wB09gNqVu7JJPx479JJfxzdC4BHMAMc7H//ABodc6abAdZIp079A87P4zx1zY2KbhWXvYieUzEkK9O2mNDB/wDA3XsSu0ZGzUSfe6R5L4za+Rky2Imlz5R4jHFK0ABV/wDB7jb56F2rmGu+V/JLyHRx4WRi0SEDQyxU+E2lH8PZu0exdJ0jWtD/ALZMiNiflucdyBC4Pb/qr9m/uLwCCCns2HI+JzXCRsjd2scXNjk2EhOjXWOmW/SJRkQsc7Z90IwGsJNz/wCTFbUJ8SK057k6Qpgpqa/lknydHQzhZGQZC2SlJI6QpqEb3IY8wUbJEPj/AFt9Xu1XO0LmaS5lprZWqtw6J0BY/ka8HeT7H8uroDSbKNnzMjWVLyv1uMqMAxxODCZS8x2E7zIBqSvJBcGqQOkUOPq6WVjBLlW2R/poL6Mje9Nw5CmYTAhBGEGge1Xt0q9+lXSvbqk55XHK9NgY1UnFrByWjkxtQyo3EcTi9ocJI0SaErgXOJcejW7se3R7X6F28zo36oEMENun/k0nZSRgDmiauaci9090esT2tTiXHHw3yKPFjjVKlSpUqVdK9mlSpUqVINtca4kI05jVotVqqWpWqpUq61/QpBq1RpoMocpjI0P3KpfCZkvYhny0/LsSOLndL8JjfE7g5oj0LXKT+QfosX/JtqiQ0VGTpKEIGOU+uOwmzFC+U42AyNaLRarVaqlqtVqtVqtVqqVKlSpUqVKlSpUgECrRPWlSr+lXsWvlBEAp2NC4O+mtTvpr6kjcxytNyHtTi2Z3VhLU6Q2NpC1njdoLwQo3liY02blTeWMRux1JmOU0nI/HhMzsfHZA3x08KwnvoGgYSqVKlqtVotFotVotVqtVqtVqtVqtVSr2a76Vdle1XSlSAVKuskTZFN9PBTsR4LmlpWzNel+HO2THaPkfzG/BcSEwm2yPJMmpO1dIsh8bDLI5cj9RlzV6qZeqmvHnklWVMAyA/a51D+IRNAX30q7qVKlSpUqVKlSrsr3aVLVV1tWtla2QetwrCsdHCw/H1L2vKdivXFEnto9QacAZC4x6dI9EfKeWNZZrpEAXxxbF7S1NZccUDpGshAycZvCsmcOdANGRO+/ey1wvXz2UqVKu61atX/YtWrVq+y1sthdrZWrVq0FLkkL1ETk7ip2QQpJDJ2fvsYwyo209HVaB+/8AxyzlY7Q6GEN5Md358x34WY7fWZMnFG5xA53vnxuKFxkDVs0KOWOT3a/0L3EF7zqXq6fKfJemShxvyqVpxIU74g8txnJ4o9sbQ5yPnoPC/acAExhe3oDSkeZH47vGO0skewOTKfNC9scpc/mdJywSbwwsa9wp2zsLmZFmTYixfqjHqOaOUf6SlXcyRrm/Dm+JG/P/AOcn+Nn2RPf/ANtqHXVTtLZZYKZ2hpLeg6tF98GEVE2Vqga5qLNTmtfrFkCSE40M0cGNNiJsW0jsgxrJHppGZomY/wCmxTsnxJsc75uOyH6q9phyI5f9TPGQ6CTkUg3jj+8O8x5Y/DtWJHJyZMT/AA13gvAP681LGXKdr+HV1ONnsIIPVjS5zgWlUa6sH3QQyc+z41yztPDst3wtOK2QtjLBiulxXTYrJlF9RLDHFBPFkYTqxWERyZORiubjskY7DcxMgbrX9mlSpV7kZcEWlxaXGaDZrt/MgDoJ2lsIB453FjMWYvcHsW9rajG7dvI8u+xEdhdbXOLj1ukSXEAFZMfE7oyJzhLE6GKaSd8P5I1hZZLopGOfTg3mxnyNMwaI4Z1/2sOY5OPOoMNsJa60PuBYC3WlSr+3SpUqVKlSpUqVKlSpSTIjUSva1Q7TOaeR2RI1hEsZDodocphe9p44XOLnYUn2vk5JWubqPILlLYZJEGn2mcfGPKbHFwB7saYvLnxt4HVqPT42QXifEWPIyVSBk4iw4mp8L3iNkjWgRuEv06SKaIOIpUqVKlSpUqVKlX9KvZrvh8J8rmdOd/HHmmNbuW/huTTY8gGOeOw5uq/isaVobFLA9/LBK5jcSZ+XDDGpeC5uL2x4XqH6v0QHnGnEa9PZmTGZMLXNxsgmTKxg0CRGKUPje56azXoAqKoqitVqtVqtVqqWqpaqlSpUqVKlSpV/Trsc6kGulc7kAJohHTsildG5zy/vvx7jRsWxEyujdG9kTZE2OfGMEzZmelLHPka9QYzoi1vgeFatbIOW62Wy2Wy2Wy2K2K2K2K3K3Wy2Wy2Wy2Wy2Wy2Vq1f9Ok/7pTFA1Hi4xx24RE1apSwiIBtvqk5tDsJv29SQoQ1ziKKZOyaOSAQsxQ23TMaHRxzqJ72tGsjW47WHtHfatX71f13QtaBx69Itgj+JzXHYOEsoIst2car3wU4UWgk2WyPxrjxWxPUfg5uR6eeR8U8cE7oMxk+sGR9k7T1r3LVq1ftV/YKPSJrY0Zig6olEDFGSWQs8OcKQAoDx2NbsZG6O9h2QH4yyGPa2CT0TsiaGVS5T5ADLnQRTPjY2PkRx2lZMmjMXIZkFjtm+7atX0FqiqKpUtVqhGi3VOPbX9C1fRyLKUMWrXO2dKNRXho2dTHudGx0zmOhjljIhNOQi2Ej3OOpUbC9xFez+PjIrpE2F0UWXKxZEjZH9I5HRvQNJs0jQZnluPlSQL/lH6w/UcV4DbXAuBGIhalV2arVEKkB02W6L1ut0XLdci5XIvWytX1tX0oqlXZatX7Gxeo2fkkk1cBbcq+WQaY2DFajZbwKHHu90Ic/h3MMCEbQ2e3FjutGuy6FGqNFxPvxZxbFjfXZGLE+p42QrBVItRCpUqVKlXQ2vKpUqVKlqtU2Jzl6WRelaGlkbV9xFHpa2Wy2WyLlsi5bLZbLZWrVq1fWL73u/wAkjvywN8zQF0xbzZTWhrU40GihJfG0ateQGT6gnHNkEGDEAT8flWM8LOh0PQfKww30z/Dk+MtFWaNvheySNmz9/wAckekjWFxLaHQDY1SggdMZY3RPBoLGz8iBY/1tpUeWyQCYLcKwvHbS1VIMtcLU1sKOyEL3JsNLWkfCLmBOkCMgTkUelqyrKsq+y1atWrVq1atQY7NHRO9S7+ULfyBNGo7aVLis19wAC8AgBqzI9HTtfNB0lMXp444pMLY6QROlfLh2+WPkgfjWc7GbxyyGSFkDHiNseS2GNsMogFHC2QYCsyBwa2N94z2ztlwtJJYOeOeF8D+sZeHQ/UZmKDOZKmyISKytlstyt0wOchE5NDAt4kciNepajlI5JRynp7nOVKivKsrYrZWr9y+y1qmj80Uf2NlO7qr2b8ufTHZDXIZRa4SiZ4c+M9QVhMa+aJukqymnaOQxsyPzR5MQmjp0kGLo0zt3YPhEWFPi8j2fYW+QsiETRzMDGpjNozbX40LZo34z424+bLG+OZ2lFNje4jCyEMWNoc7HanZDlzFbrdbrdbLZbK1atWrVq/6dJrfuDQFSpUtUfABtS5BYfWvTsuQn1cqdPK5bHsDLj7fpcfj9pzbenyNY5BvnX7qVKlS1K1KdHsGRarVBlrOwuaMNO5iMc2RHccJfGIcfnjzPpLZVhRSY8jcuBik+oSFPlc89KWqpV/pLW4RenOciZAp2ZEhdFIPcHzj44hZSc5rU7KiC9TIVlumkQknhHr5SvXzr/kMhD6jOv+TmX/JyofVnKP6sE76sb/5gofWI0z6njkMmgcvqmJDINojjNgizGYcGkv00vauEqTFsmFzXcS4lxLjWi1KoryqVKlQWoWi41xrVaqj1AWq0Wi0Wi40YytCtVSpV20qWq1VIttEBvQupPyAA7LmKdNI7pEByO8O9j6ZA2V0mWwHjypUzCjCbG1qPgcYkdnYvIzLj4p/SycoYSWRPiWXrzHQxiFswc0scDSbIQHNZGj8xwyStcxzekM0sRJnJDsnXD+s5LnxZZe+gtQtAi0ItC0C0C1C1CoKgqCoKu6lSpUq62r6X1oKgtQtVotFqucIZIC9UFzhc7UZm1tHryYsakyhIm8ATpok0Au1iuZ/I9SsAjLbicNT2sBJxePHj9SF6kL1LVLK18WJK1mPzx1O+NzzK1ya+HV7MdxwooZsCPGjjlOI3l+qwtikii3j1OsTfW/T4XhhhjLsePOeIODEyGPnyYzJ9YlfFD9Xmkyc4QzjEyuSXd65EZUZUZVyrmXMuZcq3C2C3C3W63Ret1uuRci5FyLdbLZWrVq+y1atWrVohHpSpUSOFqcGxraVSPlULmAOeFK/Y9GN5MTHZQy2ansaC44MX42xPKMbwq7XsvJrrEKmc772NDA+ISwwjhyGRNZmQxnGORitL8d3DktitYZDZMTeMH7Mwuk0jx92jAma7FeyKPkm2521zMvmiKdIxbhNIcT82rK+6zY6bKyUbXkrRy0etXKiqVdtq1avrS8rz12Vq1a2T5gDczi2wjoFpHsZy0ZMhmx+mO3ePEkY5m2ud9QP3dn06J3IzI0Hq3KPKo88bkZYltCVUCHp1UHLeKqxU2KAnjgE2OzG5BHhlxx8RTQY/rM6PjTIYntmxbxM3WXDjYXYT4uPOkY6LInx94oJnRqCJuQmNG0kRc0ySF1aKIOeuNy9PKUWlUVRVdLPfaD3BblblblX0pUtXKn1ZW5W63K3K2Kt6ty8rbs2C+1OlaE3kcnStajkEnV8hmIY1puCvEjKbi3HkwMLEyIyOy/8AyeuLjGRwFD2mvAUWcGCXIgmaIcOSObGbynFkAyWODZwbhbovIU2JRhZwZRhL8SSIZOPxlidhljmPdG6TIZmQzY4xpcvImIxM+eV0GT6ctzQ5oyyF6gLnCbIAnNgcuDGr0+OjBjlemx16KJOwCvQvT8OVoGLJXol6Ip2LI1cMiML1pSDCVxOQYSuIoxFMjJQY1agItVJ1hbFBy2FdjqV0nNkeWYsa9O1EarO8GJMj3xdQcTRpQH35z9YekbC90OOyNvYEGhaqvYBIWxWxQKbjh7T4Ku1lWYnmnMbogQ9uXJwrOj48kJuWJE4SYwjfG1OyI42iJtNcrWxW7lyvXM9c716hy9QV6hc650Mikcm0ZgVyBNmpcxRe5GS0Xou8l/jk8clLlW6B2Tx5A8aG9VxpzXeyCppBG2d27msJWA38OMz7eJwEjhGJXmR/TDi44++0HL5WiEa40WqitStCmwFyOMQhAbOOQGbIwRPWRh6TT4ZMWDC5SNMUWQPS5s8LZW50JOJSkiBijZTXxvxZJ2RuGHLJFJYf/RtWtyuRci5AtgrCpqdXZfSytndvheFTVTa3Mj8r7WFYv3RgUQxoktoWZkGd3T6di7LjQhXEuJwRieEIpCuKVNhlRieix4VkLlQmQnXO1czUJ2L1DEMsL1TUMpoTclhDMpqdnUfXWPXipp6zcmZszM88/wBM9Tvh5JE0eFHvCx94WLLePO+3Asxy+KFwx5g6QhqptarjctT3iL7eErjKEYUjWj2W2SAKkIB2Vq1stlsrVq1atWpJGsDvuUD9zkt2i0uLFaQrKkl4xkZTpeuLDyuDiBuUH0myOTXvW7kHFcj0ZHVyvQneEMhcrVtGVURTGwhfjRERWsKDIVxQVwwFDFiXpo0MZiGG1eiavQhehXoG8mDjWsCNkn09uG2P6p6eOFuDqyBxgLXNjeH39PzMd0U8hbDGnx47gYIa4dC06vc5rh4ovBBAXhWrWxV9fC8d8X2iQo+e7YqlqtVqqUjqLgIUyJ8x11b8sgFPsNfLlNClldIekUZeY9WNDgvlCunleUB41C1TbRBKAC0Wq1C1WqpNC1QatEGIMCEQQjCDVqtVqnYzBPgt0yMzaOXRkjmwMDxCxaDb6i1vp8OR0DS5rgYYSnQR16ZxHp5U2KRfkBDmkfiT3MC3YW2rWytWrVq1atWrVoORffsWrVq04kjbRRxedlM77IH3HNktDZJHPPWNhe6OIsaGlBq0C4wvAW63WytWgVut1sVug9WrQcmvpB5XIUJChIU2Qpp6BN6vUkB9d9Uj3hZM1ydKwZERaQWtvIx+aJ/2nD++LiXEaLmg8tIzEJzy4UvCIWp6UelFalUfaBW3ffS1fS1aeQE6d1dkcZeYYxELVrZWtlatWrVrZbK0CrV9AQgQrCDmoPatmIFqGia1qYEOjbXlG05GlK1rmzRSY2LNKf8AmvpshkgdSJRAWHJxS7rcrkcuUrkKD/LyxyaVu1cgX22ZSuVGVGQFW3rS+5eelKl57a7LVq1atOdS56LnF3bDFuWtDR7HheOnjpaHcE20LKCBQKa4pjymuKb5TRXV4Twn2pBZnhDpoohC0uRK2T4AZI5N231tWrW5XJ5L7QkpbNKJCtWrVq1atWrVq1fS1srWytX3XQll27QLUcHdXdSoKgqC0XGtQtBWqEaaxaIRFcblTkA9AOTQ5N3UZkUFnsf8SOcE4uKKf81aLUWiw0LQFcIEuoR6HVGuvjpS1VIjtv8ApOcGh7y49kcZcmMDfc8dPHZfUL9CkFaC/TU2k0JjAhG1R+D1k/i6PZGBSReHRustdbQ5qcSjdktXkqy1blFxVkrV5XC9cD1wPRgeuGVGOUIh4W39Zzg1PdseyKPZAUP6wQpV0BQQKaU0pjk0oFB63C3Cc60SnvT5E6ROkRci5bLYLytCUIwqa1bsCEjCjIxq5GLZp7S0FOx4ynYgT8eRqP8ARkfSJvsb5UcXYBZLHAf1bVq1aBQKDk16ZKmTIPWy2TpKT5U56cU5EouXkrRFzGJ2YwI5j3F08ji6VfT+OaTNx+Iv5I3cjlylCcoZTghnSBN+pPCb9TTfqUZTcyIoSNKmMWsnHdlHZF1Kwr9qR/aG2Y2arHiEgdF1aaKlj9iitStStSq9u1aBQKBQcmvTZEJlzLmTpEXovTnovJRT8mJiOYSpMp5TpgjIU0kvlbSfZb9Ndrk/WG3ikgRsa16djSNRYtUWBaLRakItdXI4ITOa5n1BwRyI5V8qSMM6EAqiFubvue/tjZaAA6RO0fJ5UkYcNSthvBrx/iCeMXbIfEFBPBxeqgXrWL1y9aV60r1qGXa9QVJnaBuW5zYs7kdzJ0jdcaYyH2LQKBQKDkHLZbIvRlTpE/MiapM6Up0myxGMkGa8mZAL5Xw+Y/afiE6yfUBthIBRZBiQyy9eoiXJAUDAVpCVxxBCQccv3v6Ntp+nlEkkda8+1Gyz0DCW6eTMGJ2SKOSK9S1Nmc8M3U79Q6dzlG+RBktPa9i8qka0LgUxjga+3hJQgAQgaE2MA60mxtav132rVq1stluAnzag5gKkypnLy92QxsbC9HysFmsF7Sa9AnfMv8XfDD98X5Pp7n6oyFbFWezYoF14xcw520U3J9rn2vKxpjDLKAHe6xnU9QLQxZnhv02RN+nkJsMgUmKXj0jRH/xrFFjcadj2/JAY1uSwKR+M84z4AZw2FDIjC9RFcUcE0ZlY0+oYsd8Eyf8AavUtULxJ7l0pMkBOmmIdu5zmFmI5zlhC5PqXjHtQVzTENxmD7VSACPkvIMZQ+fpx2xsptSdlE9ArouLxH4ycFsTAQ0BSDwW/difkb7YTGdjY3PMWCSmYsTEGhvXZq5WLkYpHCo5bbyLkUripMBjnegYvRRJlvjdhRA+khUEccLp8dsq9NAhDCC8OlHpoguCEJ/8AD2L6ZxLRjnY5Y1EERe7K+3FICxfsX1CXlCxh+XL/AB4EhIdstlaJUbXyJ4LSvpTrH1Bn3sbt0x2ckw8Kt40E5RPpfTJQyeZnHJ0lGqjfrJOPPtNoLdbBbLGZzSb8QOUxHNiRz4kc+JeuavWFYEzZust8Wzj08hTv3weV65Xr6fIS/wCpbNJkemuNRnkxbCsL6e77cimTWE8qJwq6VqwrVq1atWs4+cXVs31KW5MXZZMjixRHVktmRwWI38ub9yf9+SgwoRnbSIr8QR0KePu+lurIyYOaWON8U0oqTHOs2Y3XMhIoNJJBC/8AzTDq6f8AJA3o8eCKdiHmh97C/BhVsqHX/wBOn0n/AC9ZWaTJxKwPy4LumE7Wf6m28fXwvpjriyG8c9r6e7WT6oPvHRv8WmnTtEePatWrVq1Hbn5Lg+THtOO0sLfx5P8AlZ8tDS1xJ6Yw8TyA5jIpHGPElB9LIV6IleiZcWDE9zMTHan4kLjAyIKZ3HlyStYxmSzYz46MsLjWMVULX8kbgIMQiTBhQxGEEhsEY2YGucXB7VLC7jhcYn5raIcSditititlsVsVt2gWs/8AHgKlRVI/w6fSR9/X6kA2c9PpLqky26ZCjNPkHJi/KkFO+luqX6pHU1LH2En1IbYwBXE5MikDpYDGJ333xnUn+TKGM2NzTEyWnxuC0FNGK0H04UcmOxDNpgy5F6jIcg+co861nWsyYZmrnnafWyMMYDYZ4RM1mEE2CJqAA7KCMUZRxoinYgAbBsOFiaCi0ECCMB2FARNDeO245Cdj7WO3af6qU746v+FRX0phDOubDyL0s1+jnvBxnxTZWMyWUYkATYMYLmY1EY1/9dNkiYXZVo5S9Wjl2vVFerevWPCflvkRbr2eerZowDRQlno7FasWsK/Et41zLmcuZ65nrkcrJR6te5crlzJmcONk4afVFijmZJ75WZC8S+3hFonyXwTIshXHAuKFBkSpi8LZDKeAMtydmL1bkcpyOSuYlcjlu5bvRc5FxXlUVQQpWFsiVyLbs8dzpHLYn3B01KaxNY1atAke5RQbxcTXt4nNRj8sy5YlDMyUd2TPxponkEeS5jgbHRxoPzGnHXjpfsCQsXNKuWVbyLZy8qlQVBUEOp89GlbLZbK+lrbpdLx1s9n7pV2uQ7KVeNfNKl+0B5aF+ujV/J0wLpmCmwf4C6g3709idGWOhzS1NcHDq92rMZrZVjOMU0LBLNiyaS9PqUmsOU3V/SlS89b6V0KAJWrkfHeOhR6D2vA7rQ+F4R7HIfHQdD4jZ80qTB9wjRFdP10+AwUABsFB/hDt5wFIaBaHtlgIUbnwHGyWTDpl/wDjMLonZbNm4PkPvYGwifUZWZG2vbd2nz08K1aHU9B/Rb3EeD89t+GmiD0unB4pFHqEEEFD/Ev4525DavmNdJYg5SRU7Fy/Ke3ZkTd4o5CIcZ+sgb/08f8AwZ0mkOPHxxSObHFytXMFzrncuZy53rnk6Wr6OWqDVouMLjauMIiiBZIIQ/pvdfRhtQxukPlBHrf2keyCvnoP5FFBfpvwEEFEnRtem40QXhoErNuaPb5TmhwmhWNkmEjyp2mOWUte6eL8QI9O0atd+bKWa+N3Z4XheFXaR4Fo+TkfwjGy4mqRuij8tMfl7HBg7a91vksT8ds41LZMCKTeeE8wjeBxuXGVoVK3x7I+OjUfhDoEEEFH8hOeGtDn5MnC2M5DiXQTmMg2D5E0axJ+EuAc18LozyyuONCWmQ1HCzSN5AblwUfN10C8BeESEe1hNJx3bCDRvWRtttbFT+Ix2Va1WiLmBcjeloK1atbIWVq8qix7dQWiz9Xj0liyWDHLy51q1atS+WUV8LXxXSuwdKQCPwegQ+Aggm/y2WU+1G/VCZinmjkZG/xhO/HaPlTMWBPfZLJtOs7zEZ/xn+SodNVXQQMXCxcbLELSjiAnPxWQwva0sHhGlQXjpg4jJ2PxZAvQTKSJ8XVtyvLgwMcCsyPwmW5cb1xrViuIIOaUzlKyBJEyKR7pJYadG0NOLF+P6qNncEq9PMvTzoQTBcE5L4MhjRI4vlsTfbu0uDqHCWWtaWpK1IRav0G+P4rl88i89R8BBBN/k5O+52ijxmujlh0TGEiJlO6OFiS43RPEkakdozF/isrwXxsdFJA4v4Hr08i9NIjjyrgmXp5u3/2zI+TEZRgLVqjWvhUF9K/w/Uy+OXnfePmWsmLjkksDCHlvGS6INAh5oD4TXuatnOM8TolDHCGs4Wn5GqyGNkYxmNC6Op42QgPb4bJKJ8wm1a2RqxrbwC2SNzXF5JdTlEayOlKkQiPDG7JpU7rdigBTuLmxuoqkEEEE3+TgvhzdZAGOt8CkkZTBTesjV9Nk1evqT/tA1asttwtkeI7nQExWsi1kWsi0euN/YTQimBW4a3lYs+YKmJ+rY2FoZ9qZXJkS4u/JgrfC1GbAxfU8kS4n0wbNkgaHwN2doIsWR5eVFQcMmF8XqMdqOeU7MlKdNI7riZUuOm/U7E+TkZCbiJuPXdlEcFfbC3dPP5I5muWxW4PZ8Jv8D5Ib+GN2zXfziNhBBBBM/kpG6vTJHNRsmGHXtPkOtkwNi+bP6O8p7Gsa9oYdWrVFooNatG1QHc5xd0ym3EHP15XJuYQ31qjzY4lNmMe/1LF6tq9YVLK6V306XiyciNqxv5fVZePF7KKbE9yZjOJGGhjRoY8Y9qePka+CRjVDNo1A0my0hIHIar7luF8o+IkR+KN+oyG6ujP5OgQXwIqLfhPfERUSayFQQsUjmsMk7GsZmlNyGlvMFzKT71Hkva2N3GuWQudLIvzPWUaMIDn/ACvIWyPQnvdIxqdkxBSPBPtYf1INY76njtGQ+XMlbhuKGGEMaJNiYD/RfjxuUmKQnAtPUPcE2YhNmtUwp7fxphDm627L+boj4TChSlaTFDPpBFDyEY7FwRoQRJoY1PYCpY21E3/qY7W8GjU6NtNjsa6ryEQ4ohiZrG2b7pQNB5XmqcqeUWPWjux5pu2Q4GGcj00tHHlWrlwvXDIuGRFpaQ1xXE8riem4z3BuF49GxeliQhY3+y+Nr0/DCdjyN7Q8hNlKPyG2zj0jl+VG77NkLVOCfLom/e8SMa3mjQlYt2rdq3apZG3hH7o5GNj5o06Ztb6jd5DXEvZ8t+cpya0F03h/9Glq2wAqCH+hlibIpMZ7URXbA7xkSU7I/wAqhH4raSINm/cE51qKVgDuBVCtYVBHA58uLjhmkNva1s0EYYwMc5ccqfs1bR07IhBGSwoz+DlLlfvDE7n1Bd/uHsa9PxFJE9nWN2rnMFdMJwLPSsKY18bZI3OLsaVCCRGB5QjeFq5YodHJluEi4JA7jlDq8f8AYB55aeZZQYSVwNXDGtIwg9jSJ49o20vj/ePgjcpsYtRBB6g0m5UgXrim5rV6yJepjK9VEhPEueJDIYEcqIr1MadkMe8r1bWo5ydl2vVPXqJEZZCrvpHG6QxN0Z1/X90dfjsr+s9jXp+GvSSJ0EjVVe6ZpCOxrHOTcaQpuGm4sYUcbWf3/wBdh/pH3nx7A4rrdjSWYZAjE8LVypUVRWjlxvRaQo4XvHpHpuGUMWML08SbG0e9f9b9f/LftfpefbHt13/r/aef6fwfe/X9H9oqu0/0ifeKHjof61+zf+2ru/f76H2f1/pq979e6O2/a/XQ93x2fv3j/bP9A9K777B/dHf+v6Hx0HQ9377j1H9G+756X7H7X66fPZ8L999949j99B2HrfthD4V9B8nqV8+za+PZ+PZ+e4I9R/XPYeg/ofpDvPvDsPQezXvnv/f9sq6QQ8d37K/SvtPUdL6/rqEPYHSuwdx96uvz2/tfrs/Xd+/bKPUdL6fvupD4tfKK+e35VdQr6/roe759g+en6Q7f31/Xtnp+h2fK+PYvuKrpS+ESr6BHpXZ+ivgdn66ftHr8dP3+v17fz0/apD2/3+gj89pK/XQePYPx1PbZ6/PSlfU9a6frrff89vx0Hz3fpDvPaPn2fhfC89D3efYpfsjpfUdL6fA6Duvp8dT46npXmuhR7bQ+VXulH2r7aX6+Pa/XZ5Xx2/PX5RR6Wgj2jwv/AF/S+etor56fK8dt9n7/AF7JQ7K9k9l9f18I+e790rXz0/apV0I8oI/PyPg11tWq6fvpavoenwgq6FfKPz1+T2D2R3fHZXbXUr9dP37QX7K/S+EOz9GupX76V57TVBUvAQHUdP13X3fqu347D7NI9oRtAeCv37Fodg+fnpSpUq6DpSq+yuvlO7qVUh1HZfm/Y/fT9BfB6D4X76Dt/QCPdSpUv31pUh0/fZ++yvI6Bf/EADIRAAICAQIFAgUEAQQDAAAAAAABAhEDEiEEEBMxUSBBFCIwQGEFMlBSIxVCcYAzgZH/2gAIAQMBAT8B/wC8dfxNeiyiv4xcqRpNJRRX8VZf2u/8Sxeuy/4Cx8kP0tllM0Gn7CiivXRp5pm3NequSx+TSUUUUUVyoooornRRX0q9FDxji160yxsjJI6p1DUL1UV6aK+nXKyyyyxjSHX0FyofguhS+/kvpIR2O/Y0DSQr/wBp1PKFJP7KvQudifJx+jVGoSEkdhGk0mlL7WyzWauV0RZZL134IjR2FuUab+47/XRBCXg02KP3q+mjY13sjUathO/u3yUTSOJp+hfosUmiOfyLImX9vpoSNPOho0Ggr25Ud9jQPGafBpHiZoZGFnSGqI5JRI5/IpJ+llFMr6dljQo0UUM6iOojqmtjfPHHYasY4WKPsUUaBIyY73RQlTHGv2kZN+x8xT+xr0slXqirdCa7IqRKDfuSjKBczVNe4pz8nVkLLLyLPIc7Z1PwQy1sJovlRRRRRRpNJRRRRpNBoNBpNTNTNTG2N8myKscdr5446mLYs97JcnBWdNMyY6YoGmnuf8js3ISfuiL+jvysssv03yYthyJS9hIhsZdlyUbIR0IsvlRQ7EONihuZMZoNBvHZl7CyEZNnzG/OiimUymUyjSaWaGaSvSkjYbtiiVROVshDUxJL0UUV6KNSNrLSMsbIWaa3NW9MXosss1Go1GovlfN1z2HKj2ILctIy5dWyIq9iEVFUbGk0lFcqNyuVRKx+5/iJdL2Iyj7kEhR+Ul8vfsQfKjSaTSUikNFFFCRLnZsbDFHybXQ5KPYlNyKsxw0iT9C9FDseolqJSZJmoi2RdbEX7E1aMNdijSVz3N/TZY+V+hyolkvko2QhpLLL52WWWXyoljMmNonsWY9xYtRHG1IZONNOJqss1Go1Fmo1F8757ehyoe/KMLEq9VctihI0mk0jdGTNHwZe/LBXuY5R9uVFFUUaTpS8HSl4Om/A16r53yb5xhyUW/oLkmJl8nGzJgZPE/c6RjwtmPBRVFj/ACSz44j42K7IXFT0dRI/1J+Bfqf4F+pR8C4/C+51OHmT4eHeLJbF+pvktxRMOKOWH5JcLki9kcIu6ZmwK7ixRWrTZoh/YrH/AGP8X9hQg+zJRxxdNi0PsxySdelcnjTOhEUVElljHuS42PsT4ienUPNKRdku+xw3zYJxLNON+5oj5OjYsHljbQs8+zI7xv10JUJmPNKH7By4qZDBm/3DhkXYjw+Vv5ieFxVkpR/sadUdVicI/wC4lCMfmZjUG6TJyjB/MRle69Nksqj3J8X4RmyzXcgv8bkL5nRxKrTHnM/T3u4krTr0Y5VuZIu9S7MeL3MM3+z16kR+Z0iGHFD9x18MOw+OxkOLjklpQ02cRxDwUh8fq2ozLDB9jBPHq0pUZunjk46TBKGSOmhSgvZE9MoqbQ5pdkKVllllk3eU1J5DPLVIntDSQh8yOI/cbmlsePY4J6cqM+Fqdij825pqVFHYwvXDT45T+WVj3Wr03fLg9tU/BLkzhP8AzLl+owuClyzfNhjL/wBGOVSTOPj8yl5ODlpypGaDjkaMdy4drwJSIxlVmWe+xbNTIy3Fu7MPfcfeye5jUVu2VGTtsShH2Zqh/UhLHFftMUoTfyofUi3pXcjiye7Ph77nw1diXC/hEOGktkhcC/dkv0/8i4OcINMvY1M1M1Pngj/hf5JYJMXDPyPh/wAnD444pamxcTEyZY5I6WjoQFFaNGkWJLtEeqXdCUlvsVJ92VLyJfkmnXcfPVpOrXY6h1GdWR1JeTXI3NxWY82SL+UWbIQ4v2mRkpbrnkyLGrYuLXuq5PscTo1XD1Yd0aUaUaY+CkQ7E+xF7ifKyynqsZGkSJd+cuaiaTSaX3fNGONbkZbIlHYSni3gYeKU9pbPlxM6yK+wo/OoPscLO7izip1HSvcyx0y9WK62FZ0sjJKUe4tRj7EhRd8rLLLLMmTprchxGp0ZItO+cudikORqslyRFFNpURc3+41RonjTMPEOHy5DPHtMqXdexw63v8E3rnqM2SnSOqzqSOrLnidD3TRH8kLi9xOzGMoclHuyM4y7Go1I1oeQ16mZsPy9RGSEHFKzoxOjEzRp7FDXNoiSLERIyolO3XsZFFx2OHyexJJnD5a/xyHw/wDV0PThjSJPRHYzqPePo0w8GmPg6MXB0jtua0OSY1CGJTohlxsy5NKIt1Zpc1RjnoZ1X3EmzpfkyRerZ7Hw/ujOowx6PJ04s6UTpRof5H3NCZ00PGivIlbomqZQiI1sQSkPEmtkRgk65SMGTXGzNPVkrwZP2mXJCfsVHwfL4Pl8c8eZwRlztwaOqhcfjrsT4uChsLi1+P8A4ZOMcouJggsmL/ggo48bmxuyGRw7HVn7GnJI+HkY3kxqlIcdbue4opduT27GVtvdE5KlQshqLGYldmR3EQhCWw4b7EMOSe1mlY9hZIyNSMGVQbsUyWT2ovely2Hzebwh5Z+B2zSymaWLFJmGOXE7iZHky7TYsMEKEfH0XFPuS4dPsSxSXJSaNSZBk1pQhM1+SEv7ClAjNLsZJJmKkrHKJqijWSntZD3kKB0zpr119lPFGRLA12GqIumZZN9zErkRw/2J437DUqqjQ/BiUem7Q037EoLYeNex83si5l33Zjx0vvmk+5PAvYeKfgpoWaa9z4mZ8TI+JkfFSPiZE+J/qPPNmubNE5EeHd7iVfwLVjwRPhkfDfk+G/J8MvJ8MhYIHTj4K/7Of//EADARAAICAgEDAwMDBAIDAQAAAAABAhEDEiEQEzEgQVEEIjAUMmFAQlBSBSMzcYCB/9oACAECAQE/Af8A7isT9dll/wBLf52jY2/xjRRbNzYv/GUV/S8f4lD9df4GhdV6aKLRsbf1Nm3Sijnq/Va6PJ8GxsbGxsWWWWWWbGxsyzYssssv8VmzFk+RSTK9VGtiikTg5HZZ2Wa1wPpZZZsbFmxsWWWWWX0vpfosvrRqalCsTYr9VdGexsL5ZVjjSOel9LL/ABX+RrrFi/DJ0SZe3B+3ybibZLX+5Dwr2ZKDj/R31YumpR4IzF6kMb28DjQ37MbZ58eSb/8Awc3VHc+B5G/VfWy+tllll9L6UUKBq/Yv2Y1aJISIi9VfJP8AgTPI7iNsU2vA31ssssssv0WX6r/AvxMyT4HK/Jv8kpX66/pL6PovwtnL4O3XLNK4Y4pvgaa/JZfW/wAaESkbCmKX4Nfk8daHjiyf0v8AqTw5IeTYsssvrSOCkcGy6V1ooooooo2Q3Rt6E6Nzdl8302PHJ3ULMmbccm4sqZuiU9eTuiZPDCfkl9J8DwtGpRXSzk5YoMUDX8FFFFjdllnk7bO0ztGiEuuWXNEXQlyKdDlzZZZv7MsxZq4ZY3a4O7GXEycdHwcmpqikUUUV+O/RQiN+qUtVZz5ZtEjkS5ojKMzWBpD4Hjh8HYgPDD4H9LH5IY6VWdprizLhk/uiOco+TundO4dw3NjY3Nzc2LNjZm5ubm5sao0RqikJdEhuhS5rrOSih6s0RqqojFGqF48m7RjncaJys22Vor3QoxflGiXK4MuCL5ix4aNBQNEaGpoaGpqjVFGpqUUUUV1Q+RRohH36T5MXMujlRkfcfJ20aIoo1FKSHK/cxuvclK4mKdeTfk7h+/8AaUOLSsySkvY7r+Dvfwd9HeR34ndibxO5A2iWjZGxsjuI39XJyRVI3LshHVE5aobb9Fm6Niy0bxNyORMU04i+4wTSJ17myfBpxa6UjVGqNEdtHbR20dpHaO2a9NbK6K/Qke5J8FNmLFryxuicpSdj2NpG8jaRs/g2/gcl8GyLiXAqB9hGcImPNGJkko8onnTJSqRB7+PJky0/AshsdwUzY+45Ey+smRXSiunIhs5FFyFBI8E5WOhlM1HE1Zoyn0ZyOxyZ9Nihk8j+gx0SmoylAX3QTR9xinUuTPG/uFIUpFtmgkjg4F0ooooooooooUbIwrpdEpWalFFFGpqNGo4DgaDgZMbPoMEssrvhDxcVZ9RjePI4swycSTi4UKJDw0zSjU0O2KBqaI1K6166F0ci7/Bz0bLHJmw5k88V5P8Ai2njbXT/AJOce6kyM4vx0s5OWIs7i+TuR+TdfIiiutequrfRtfj1HEcSUDJgsxTzfTv7B/8AK/UeKNJ5pbTIYkhQEqL+BQmz9PJ+52Ftqz9F/J+ifyfo5H6bIis0COeXhoTv8eScoSI5Is+o45Mef2Y5vXajuz/1N8n+pvk/1O5k+BSyf6jc15Qk2r9LQ4jgdtCgRxN+CP00vchhi5aixRieBMz8ZYyGXNFy+DutHd+Ckzsx8od7V+F/wShf7i8USWbH7CnB8ks8EuCGVNiv4N6dMtv2FkvglJ+5Hk8emhQsjh+THCL8E396ijwYHdyL6RR9WuEyKTV9WSV8EKqmWia/u9dEvtVsllyS/ajtZZeT9JMn9M4K2WYsSy8i+koxvJJeTLGetsx7zjdmSMoPazty+SCezgdt+76UUamol/1mrULMUdULmdkp/aYf2nBaRufUq4GLItBvjgbtWulWTWs7+enlEfj1/U81D5MfPSB9T/430+llToXgxqsriTVxaPppVGjPTxmPInBMf25kxtDcboxRpclFElwS4VGblcC8EVRO3wkW0NyfuVL/AGJLI/EianFcn2tcjnH2FloeaxZ38ks9+T9X8C+s/g/Uxck0e5RRXXM/+1EMqQ86I5qMs5ZI6o7EiGGUXZvkKlttY9n5YsVe5218nbSFiR2/4O3EXjrJWNWUUao1RS6WkOSJRi1cj7LpjwX+0aa89Yx2dIeF+3RGDavu9U0r9LEMorpXpXpZY5CkbdfHJknaSHC5MXHgWSM+JmTC48rpiX2sb4cjNHwzCubfsYZXH1S6WhUcDEX60rHAi/bq/Q0RRVC6SGKajLklOP8AaayMeVxJ41P7oGN+xa9/cyv2JfbHUwRuNs0RpE7cesj3JPk/ciVpofVclPrXTIYMr20ZHJLZs70jvSIyvyWX1QyIyRImrMWLWN+5Bu+T6jH7kJOJkjst4iy/JzN2Q++Zgb8P0bS+TaXyLLJSVsT9uqlKWRxsamuSPJk80KajKxqzX2HOh5v4ITuPK5O97Mw257Hckd2Xwd1iS8orgUqNxTLKpWxK1fSRIvk2pCnT8mWbrpilTMkNZUVrD/2Yv3GGLXNmz+S5fJb+es4bMx46kLHL5H9JOyGCWw/p3/Jj+nqVmeThkHc5qK6SxqR24e5tjid+JNwm7aFPVVEcm/PRK2Y0kuCEWm7JYfgcDViMjqjGqkTVMkMl5FJ1yiU9fYqU+SWCUTtyMkHJInjcvAsPvZGFRt9ORX0o7XyxYofIqRsiy0PJFGSeOapkNMfMEd6THOT/AApteCOd+4skWeR40x42TIO2ZFY4Cxu+DItf2+T/ALB7sx72fUX4QlM5KFHbgn7Is2N/6mORxI5k/J5JK0Y40ZP2ksi/tIyj7n235OPkyXtwxUvcX3MXnkqHyVAXHhE57P8Ark2iOf5Fkiy0x4ov2OxA/TxP06P00T9PEh9Ol+4WGCNIo3gh517Dd/4FOhZpH6hn6j+D9R/B+oP1B3pG8vkv/wCnP//EAEUQAAECAwQHBQcCBgECBQUAAAEAAhEhMQMSMkEQICJRYXGREzAzQoEEI0BQUqGxYnJggpLB0eHwNEMFJFNwshRzgLDi/9oACAEBAAY/Av8A9FrA6lP/AGCgVy0A/wALsflRcHSV12+aew5fwuW71dmgTSia/wBDpmVIRVQD/BpH0jTw0A1mid6LOF4LihogXR9FhKnJQ/CgP4Kip4nVXZt/mVyz8tVuYaLkgG0W8CZQcKiaP0OopfwLDPRAqDsJV05a8jANQdV5yV0TtXKAymT9XBXW4XfZTykU5F00W/TJFvczUSVF+yqx5LYEF721hwFVEfNdqXPTB6iCoZr9bPuNERUTUd+niZaLzsZoq+qAbJ3/AMeKi/Cfyv1NrxCIBiMkI80079nTssUDaNbymqk89EG4ArrZoutHT3KAk1RIvHKK2jHRSKN2yksP3W0xvVbvmP8ApbX4Uo9FFreklIxHFQexX7MxC3OV5snhNtGUK/SaIsPlP2RBqFtGalQUQIhKuiAm8/ZbfTepTJQbW1Ai3kjGU0IUyUOiqqzWQCDomXBTd0Ra3PNBjcZ07LSVOAW0SVgCkAPmmw28tt0BwVOujaMFJsBvdJTde5KFOaExFRZMq6+V/wDKunJRjlBRjPS3bRbuWzNF1SoNz825ER/m/wAIT2oriJgIT2hSCJe55buotiz6lbIujgII9rbf3UGNMd5Tnum/JRKidkKkTx+dxK2A88grzbMM4mqi4k6MlIN6KEuinF28XUXHPTDQDxTJkuzQvQjmDkiGktsszvRbZRuGihUihU6blX/m9ZtaZxUhaWzlJtnYjeVt2r7T9qF2xaL31V0QYIqL9p3z2eiawBbL+qk4FQOmAgByUbS0gYfTqB2QKviA3KUygXYFdDTcI6qBpkjDNBoN4gSajetQw0u71cL7s4QFUSBeIztCnNDhwuqK/SKlXWaSm8oqP6YoD6WxKn892giWOhwgoRH4U9DtieRjqDhJAgeic+0IH6VDJCJpTRs1TQ4XxuRa2JblGSvQlTSWMMAVN7uqj2h5RRHaOmvEduXiGkEA67Fzg3onu+p13ouI2fVSrQID55mtm1tW+kVDtbF/7pFR7EEfoK2i+z/c1ScHakRVOMZ1mm3Ab3m07cfRPvPhnAZoXAI8aqEZaYPiEyYMcqKYgnOiNnJAil66uztI3QZprsmML1ZhlGhCPlET+4rl+c1H/gChnuUfmRQHcEPY9vEKdr/W1RHZ/wArrq2HP/mmpgeg7lrLLadWCga6ZU0NJ2t8VCN03qVaEWyJDsQVrhjKqa0MuuFpOC9oec2mEeae1tXuDB6JrMrMRcqz/um2bB7x1eAVywF87+Kg60D7c1KF5wbzUyAthwdy+Xc6KUv7FNtPQp/DaCHEFR3EFeiGpSKhaWPqFs2jm8wpGOtAuDeJ1JaRAxToAS46hc6pRZGbiMlexQDzJQuiILRPgIr2cCjAXuT32p2nuRFvdDhtNvUKddtA2184OfJNNmHNvCbgZFXrMGW5N7Wzds4t5V/2W17T9Lqq52TRDgvfm4VsPafln6fwi13r/lGzfR0kwuy2HJsasdBOH6fwUx4zkVZtygm6kzFSsmkGVKq9Jp3HWLhQaxpLXsXh7dqCtg7C8V3RKcCSaiJ/KvhsSc8ggTC4KBdh7QTdyfWCHa3QcrWzp6p22HWR6Iu9kAs7QVaXK57XZXOImE209ntJO4r/AM3Y3wPO3JB9g6AKiRL6gg4WhdZ76hQt2R4tUjA7jL5Tebj+zlcMneX/AApY2fhR+sT5p/6mxRI3/lcnJr6Jn7S5N/beRG7RkvDaf5oIh1k4cnRV6Bgo6sxDUDWzJV10iNEYV1BBTbhPoi6AtrLIt8qvQvWJ9YLtbJ5Z+oGIUPaWRafM2i7T2Rw/l/wqOs97rOY9Qpuv2BzZOC7axN11b7EbL2xvaNpFe6uvs/pOSj7MQ12fFXS3sbTdkv8AzNmH2R8zULX2Zxs73ToibNtmb2JuSAcwGFIzh8puwL7OEeSfAYc1fEIgbXFGAkTJRgYf2ThGd1CDZQBKvZRV2PkaFt0qTyQdaVxn+wW8j7lHc2pUQDBQNi67vT7MMczlqtEBJRcYnViaobUJoN7QPFRDSHQ2YwQ2G3QdoZppIhZ7wg7abGhUCNve2UUdl1m8eZkuoV+zhaf/AG/8KFqx3s9oPM2Sjs+1WX1NxL3D7tpuOy5CFnD8OVz22wNm7eQr/sxD2HKP4KlPgaqnVXSIj5Y1jIRom2dnjP8AyK7JmEVO9S2WCpVyy2bNue9XIRdu3J3k5LZEc5Ils/ynjzOMESUBHbo3/KFi10LMVO9AMtCB+Fe7QwU/amj0T4e0Wbo5EJsLRpj3b70b/l0EvLu0pBe6eDDNbU15gx3H/gRg0FuYaPy1HsndjaDI0XvrPtLPf/tRsX7e4m67/aue0MvnldevcWj2OGbf7he/s2W4+tknKDH9o36LWRV20s7vAhB/sVoWNNWr3oF7ePlxtHU/KdlaOroFnK6EbrG0gOCM6oBHZnkoW0HQpvVmI371G5og10XbTfEI3nANG/zKBcBZt+6IaKfdC44ngm9nehmCvcl383eEZHFxUWRHBSXZWuweNPVAscbJ+U4tKu+22d0/+o1XvZrTt7Hcs/Zrb7K77SztrLfVNM27g/8Ayr1m8td9Lpgq5bWd13UKX5+YB4b7ttESBFBtzgnAsEVNSjqXmGBW1M79eHegCq7N2wf1K68QV14BJEon8FHsYvbnZuV1vrZvV72V5snfTkrnt9jdP15L3VsTZHymalLhl8XRUVPhrjTsheKo33X9ybeLv1L3d8qVdBvu24SCAvCeegGInqju4gU0QdERXDR2ftAmMNpmE11q6+2OWY4K82BaR/yIRjDZndJn6Ik4m5iTgtr3ln9QqsnNUbIlnDL5ptWgip3idJh+E0tMzMcFHzK9bEwzgmtdOzG5Hsx6IQr8DIxQAqvetjvBXa2BvszGbU4WsW7nbkLG0DZ5eV/JWfZ4m/jcU21s2tZaE3XREkWe03nGFyITHO2YEsjn6qwum7fNd6g6R+aS03rSfBA3jKidKbs9AtKirmouDh7yoTbkQ2G0USBsZIz1oBQvB3LuRZvYItwuGi97UCS4C49QtBG8IhzShaMb2dqK7ioGAFZZIjZc+y/qIT2eR1QVea+LmtvOitnaa61/sv8Aw+9QTT7pBulRy+Iqq/FQH2U1fcE9ybGMSIoqAmmtYSL1QnbPu2tyRukEO2VtPGyYAJgY2YrxTjeAOQQvZS0XWiJ7oC6b2/S6+8ttMk2d5raNcotYGcBpvMJB0wDyJxQaTISCPZkBNZD3cIEJgDoOPl0VVdeurRU16a9fhPdiA3lDOeahuR4lQOUkxubjeRf6J1oc6aNubW0TG3dhqtC2zllNC/OMyF2h8xIAUSJHMoRJEN2mOtFRyUz38n2jLYZgyK9+2+N4kpWkHbnS+FkFRRe/ovM77LZaAFNV+E2vQJitFZD9UUD9RX6WqAppgnQqgEYyCs5SAitokiHRPaA29SME7tRFOpeGauPwq+KHVN/CaogGI0DcVAK6rhG0g2MIoWRaK4k5sREfdSC/VpgKqaIZC9uV14gUdGxaG7uKhbNu8QoscD3u1adFJto9bFg0c1t/ZU66KqTgFkfRU+GiLURO8KDdqDck48Uzg1Sy7l8c0Y5nRVbGZQtbKW/mmGzMRmNLLviCqdQWjZotjLcg1qayzaBARKsQ2YDgEy6wCD4ova2DoprHgi3FChUWgEwUWXS0Nw8EbO1F68N1EIGmEoi9C1+xQs/aWlpEg8IRbEjzjNACPaCgRi3ao4b011neuxyyV17o7nQmOauv1PdxjwW1tDitx3aZg6sgVtQCnNeXRLRJVU3H4mqtTGgTD9Tk4lreik0Dut6JEOqgXMPMLZEldIhe/KIBI1dvonwAANIaLBrJCOSDROG9ObSKh5simWjPFaIc0IYitmTxMKgGiBnoa9ri0hEPE9+//arEaC0+iuuELRp66HujNuSmIFGNQ4TUc+CDbSY4oGyugb2/50QaCVhHVe8tRHmoC0MeS2bRxCr8ifrTktmah2awhSMOCqOim8qp1C8ESy1nWnppad2gB0o6Cd6jnrwcjAmemI8QUV2E6K45MdmNkq8BsxXaSFmZRPFOtGWze03bymO7Qhsdpqi2xMeK2dlbRPyzNSvdFIv6BTaSOS2mOHp3sBo2iAqk8lsWDvVG+27dTHxMMorZgFiHRYh0WR9F5VhavDHVe8sui2LIQ4rwGdV4JXilvopW1n/Uu2Za2YdntVRv2g7exOz+oIvsJxEDwVt7PaNiWmPMJ/s9pG4wwCooiRQgItNfls4BSmplo5leK30CxKb3aB2mHNHuXOtMLVdsgbR3BbRFk3goui88VstARKcPL/dMueWSeyxGyWwQs3C6ShKqNp5rJ0wnOso9maIQx5hWQs/FMiEWukQpKEGnOYTm2rCHXdkgqSc5giG1W00jR7p7m8iha9qbzs4zTh27TszQsX2Vm528m6ix/s7gR9JB+UYfusKos1QqhW0Ic5qTXPKuiya0cprwbV/NbPs7RzKnIIzoJFXtFm5uYTX8bqhrQGaAA2syqLCsJTmwIiEwPBjUqjkA1s6koF1nMcVDsyEwTDTEOirSytXAEON0qwePp22lX2WsbOOVQELpvR8+9WhvAOaIw3qKIiO3sKfqanXmxBEFaWjHbbCJcEG2rBaC8TtckXMd2btj03pgZ7PYvbZ3gC1tYSVzsrIcQE3tnWdm2F0kMXa//WMc8SwwijYl9hFoF03cSq2HL5ZuK2onmVgWxZwW05QcyPosAageGmGYKtLNwmCgfTVgJlRubYkpNKm06zMoDUtuYKa0YypZlXHenBC8JB0Cn2JwPCLqkCPMJr2GDH/ZQtKYXK29lzG0xG9Q7JCtGXi11m6PovemjqwT3NuFhMzdCi20sonIlAlocNwchZ2x9oZbH9cl7u2iNzwph0VnBecLZj66MQHNQvN66lR/UsTf6lVS1KFUKp8JQKgVAoCziVga0LIei2hHmVEWMfsFLsm8AE15qHabVsJwiE1hHlgVehJ7aJvKY1RaUAUGMaFkFtxK95Zj0UrBsFtWPRywP/qU7N/9Sa4MdCFIrw39VgtOqh2drNWxN5rbv3QtLUuIcNhVc3gpWpXZknsbQRjCjlZWgJvsN139kX9pJrqQ8pVtZ2b4vZQEVCsbceJG69M9pZisTB2+CYYe69oEvVNc/f2T1a/+o0fhQAiIxTjZBl6BcWuRY5vZPGV+CG3aymPMix1mLT7KLhbWHOilB/FqwnovDd076pVdSqxKqksX300VFhWErCVhUwVQ6lFuUBtHcFhDRxW07ovdM9VtOJCEBhVo31UVZkeYKB5K1/S6KaRTeVaTjPUi7AoCnd4QUPdfdOBYZiFE3K7uTOytNk1jkoiB9VEtKvie8KGUIIHdJMMIsDp8k5hHurYQ9VaeznxLA3mck14/7on+5Bx9f+ck4MreI/uFFpIKg+DbQ2g6KBtHsA84mE1rrbtrNpiHQTg0sYzMOiWq82waGebs3fhAsMiqqYafRSazopWbFtWI/lKwP6rA/qsDh6rzrxVsvZ1VWdVG7HkqQWMXljZHdFUWErCVOOrkpgKg04liWJYgpu1ZrYaAtpwAW/iVWOgBO/auMEw7l2kNqScd6DQdIaKqkTx+AkqquiNlaNc7NpUCIaCEx2FzTFMthyPJPsxTE1f2THVjLongUMxocLUV/wAKNntWJyKv3H2Ec2zaokNc05tQdY7OcqKDpO3aaqqroyVAqKiopRUydMnLEqraEVRSUgpqQ1a97VTfFXk2GclBxgQntlsuWEwUXSRcdMSNo93VVGiWiipqVUHNDxxCjdLOSsntMibqInFWns7hGExyTXuGB11yBd4doPuuydCMZKztDiZsO0Wr4eVrlACLf9LYdCzORnBe8Z2TvqbhK7PG35RVVWJQs8OblDfo/a4HRejWqjfgoeUU09q+mSkQqhSgvKp3QpXCqBYQvDHovDKmxYPusDSp2Y6leH91gP8AUsLuqwu6rAeqm1ykxZR4qYb1Wy0QW1ZgqbVYW1myQi1wVqy5K0auzIJtLHzKxtobbIR9FbsA2bWfqrWzeBeER/zosNbG4rMQyGXCCdFuyWnKCLHz9nJMDDCr1laNdCgnFXbSLcrxasYKxhZFUKprzM1UKZCmVI9zJbUFLvZq9bbLPpUhBgyR4TURkVzkgouJUKN0/pUBRZdFkpKZVQqjovKqhZLJTa1eG1TsmrB914ceZXhNU7OHJeGsCwlScQvEXiHosZ6LH9liKx/ZYlBxxCa9u9iJN5kS1Wdq7dNWzfLaNDhzQa85wV0x2SQqZQmrVtzYKjdvWRMgdyHuSGOEua8Nvqvp9VK1mh7yEVDtXQVWu5qTGgcoqbWdFT466zacr1obz1ftKblJqjCSc00KMea2Jra1INCoqaJKhVCpy9Vi0UVCpqiw6tNSncdsAL+ZXtvsvlBvDkV7E60dn2RV36S0q15x0EJ14RNOS7L2iBsia/SVB4jxUnEKVpNSe0+qwrBPismqbwslKaoQfi5GCu2Y2letNp2gwqJqCAZNwUXakGiJUIKioVn8DIrF3jLdkMJa5EOo0h6daNwb/VNYY3nBGLvMQsSe2sQmPtBGytGC/wAChtXoSiCtkqLjBZn0UpLGI8Qv+2qqiofkETRENpqyUqqqr8FnqV0YlXuHC9Vez2VXFxLoblZMyAM/RPL63zppJWlhkDEaKqp0ZdFMBRvQ4QVZftVVCMlEH7KSoNFFmqlYlVZKippoqKnecETCamdXgoN7mqqqqqqqqoVR1VR1VQsuumhVCs+9juTLSjmlENjMx1DaXjfXHPXqslQaKKXe17yKhTWi7prV7iupVYlVVWWiujEViKxLEqqqnqyIU7qy0cFSHqqqh6rNXhe4rPopEn0VSqlV01Vdavws9eXxFVLvalYlVVWy5YlkpwXFV1KLCqNC8qyWSyWErC7p8bHJS+Kr8NJV0ZBTc3qsbeqm9o9Vjb1WIddWYBWHotlx9VSPL4KWttakPlk1MgKU1syUO0+6mVdJdEhNhaydvUHRWazVViWM9VMqcFMfdVWIL3sIL3N5w5KmnP17uA1o5ozmjDLUjkVHr3FCsJ6LCeiwnoqfFSW0Vi6L3bVtWkFmdAiUNx0M5oO+lys70/7KTgDxWEqippqdF6CgoxnxW1NfS7QB56nTJTGvLWloBQe1RbX8qiuoXnBTtB1Ue0Poh2N5x4pt9m0pWf2UrNSYsJVHaKhSn66IqFxeGETdcEQ4fBSmtp0ApbR4LZbdUXuc5OJbRFgwtlDVZy0fdWnKOmUwjsx9IraaOi3Kv3VXLzldmLMwjHaKJLbqpoinvLb1ziomp7/hpjkjPogIGCk2aMhNYPsoNYT6K8WANMpyQLYQPBQ7Np9FBtkAFtta3om3rk6SWXTQXCcKheGVGnNQhPeplYipEqcSpRgoj4CNAtlrnFbMGoAxJPFCDVIAaGA57RTnbzqt0BD9ihDTXVqmWj9phMEbp2HbTVMiPJUHoFRB49QtnC6be+nrSWGHNVCxIzFIIBznS3KESWnipPchtE81ejzV4zHKKwvI3FoUTZ2gPAqBvtNBeMimm48tOcV4JP8AMvCd/Wi6yvFw8pcoGxMf3rwj/WoXSx3NPBs3bM61WFy2a7j3k1szKk26tsxUR66I7ppvPQyNIp7h9KjqSTIGen11s9QAO2KppOKy/ChBSAXJQTmeYYe9nqbLSV7x0OSwx5qQhpqFiCqs+iwu6LC7osD+ilZuKi2+3gsTvsqu6hFj7MObzUwRzeF//YV5l2P71etGN5xVPyogf/JRbdUC1vVUYD+5QLmE8+7vRO6CEc0zkuC56MJI4Jl3LQOCu73IN3DRDTsqBrocOAKP7kdDWHNOGa4jULXYSi04XSRH06YjJBwkg4Ud38AIwV33TOblO3svRf8AUdGLxLY8gsNseZUvZz6vUrCz9TFODrNgcNw0vhWCxP6qp6qLTA80LQbgVUdF4iIc6KYWuIisZ/qU3u6o8tGSLUR66I1grjsqHhprrgfS2PqU0vMAE0NNAoB0E1rjHPQCjHQCvZ7PfNHTCig7ZchG5FXjEcahbJigDm2CtmisnBQe0hOVm7cVaDipqQiphcjoBVnbfyO1IJ1kcYmO/danmrz5uOu/lqPbuOlzN0RpCjuKmdBCe3joA3ppygoaN938KBmFd88YnXa3eicnO+wUc3FGFI6CBQS0TNNLiogya2ATi1jzHcEPd9TBT7MeqnatHJq2rR3oIImLrmU1Jp/qUQ2as32bAIpjjQiCiYI32CBXhR/lUTYRK/6Yodk02bczmoOc+HNYuqJYIjg9FzWulxChdeIjqi+MFBkzyW0Ic0Hptom2jcL1AT70MGcG9xactSMKhUGi0bvEU8cdAMER+lQRAyKIQdv0N2So7lRUQIsyVEBxDSpGMZ65fuEVA5CCIEeaivK0cUbxs+qF57Z5Arae5x5qV48yvDLzxUGWUlsWQHoqKoCxrGsShEQ5retpqYYyE1/dbTiVJgVBqUCwN6KkES0uPBDtaDyiikLp3hbUCphEXBBYIcihZQiN+5biET3bBxVi311RptHHPUad3CK8Mw5LB91ftIAc1fvgLatfuqkpoEYDgo3V4ai2z/Cwj1Xl6ryqcP6VL8KrlVyIjAHKCE66ldJG24lbFh6kqEWMCN62ruW1aleYrCpWf3UmNVG6KrEVU6lSqqYTWFst8VDDyotsRbvath3wFs6GzWPeAvMAE33kCP0rxH+jV/3j6LBbLwX/ANa/6fq9eBZdV4fs6x2QHBeKOik9YysT1U9VL8qgXlVViVSqlVPwNVXv5qijAKgEU53RNdmRULZMVKLXcF70Xm71sHXg2qvNJ6q7azURpJTmEG87uJakliHRY14jljd1VT17n/XdyGmfw0NfgFBQCs+WiYkoVUWEtKhbj1UWmI1Cdyffm5Gzcra8jYn003RifJNH6R31O8/13cu4z1JKvdnuY56BwJ/Khu0RjRTUphRszLctzt2l6a9C1Ynu3lG1HlcgRnoe44WCSvtJI0ZrPvahTIVQqjXyX+vkR0BHU5ajv3lOvb4hf7UG00ykVudvVy2rv0ObvCdZHEJhPZOOSI3q05pnJGGJ0lDPNWjSKZLwl4QXhNXht6LA1YW9FQKWtyQ4qoWILEFTXz+Cg2vwYR7i0/d/ZbQisK3BXYzRbeEdE1NBlrNmR0do3NB7c6prm5CaFnVzkBuRPlZogDtaad0NDFmquWamhuXL4WgbaZEZq7CaY66YRT4Rqq6clGAHw1pzGiJUIwaoggKJEeKnNqiNE6Ls7Q7GRUDRSF4KGSvPruTigpmGSvMhd+AMlCCrn3Elkqqp6KUe4kFRAOlFRspIJlo3zJgbGIaiXw9NU90O8tPTQGb0OKnAqEtBbu0wXZPxDUuCgroAFVDXovD+6wKHZhYB1TcInOBV+zjximuAhrFzyfRFgAczJ0Zqg6rbaRpDclkBovj10SEVl1U3hTesytmzioMZD7IOc4FAXpIXpjIjQwuE6qwYKxK8ZqlatXisXisXiMUS5sEBFVTgTNFkvRGML2iutEqi2gW9xaemiO5Q3SUS6e7RSk1HUFo2oQcM9BduReav0MdxTS3EpNMFhKwuWElYF4a8P76reKe3goEwIVfsVX7FAf2WJYwjAxmhAkBYz1Vy22mHeiBTJUTj6Kd0uURJWm67HRIlQLihOLTQhDtC29zUW3Vnog50FeNpEqLQCxeG481NOcDsskNWKKj66KzK+3cw3I2jqNQDxX7KBprv9NEVucsMVG1ddG5XbIazrE+mhtkKuQGiWU0btVjd1WM9VjnzWJV+636tFdDC3mhErEFZtvSJnAqTnf1pxD3xh9aAiJLyp0FdtrpdxWGz6KPu1sxcmgCbnZq2HIoxCgnDc1Ty0RKu2oEI7lsWX2WyyCqB6Kb3adibdy/6d6uhlxmaxOWN/XWMM1GM1HcjBTkVSPJV1JabPcTNOPGSKhu1rT00HRv0XnV1mvGRUU52TNR141QvXhGi2YqpWa83VVcvN11hHLRKomox0AFsVg+6mY8kT2cV4S8NSYFFybewmRU5KDBLMojN0tWikJKam5UUbvdcVE00Gemf2U4OWyS1ZHkpy56DobwajnFNpMR1oovGeiDipPU7RbEOqmR1UbwR3VQKoqLMRV0tjBGArvUj6LEB6LGfRXHkxCMaQUlQ93NwVYo3ad3ctxyctmJ9Feuyy4KZAW04qhUh8FSB4LYmoEaldGRW4ojRBxhxKN10U0cEDqVRgnRFDLii62JJ+yyVR0X+lsy02kKxomRjRf7VFXRIHRknmgCJvRijxAWFywlYXdFhKw625TifVYVhVCsJWErCVMKQKwlYVFbTpqrlRSaPidoLYd1WHprTopIKBqhqzCFQmO8qEXBYwsbeqxN6rEOqxN6o7QThwTQXiICxhSj0TNydOBim9E3fFGtdyLbsQhxKbz+Dpop8inXepbQU9UcCmzlGaI3aKEhYYciosiQsa94FNy2fyq/dYvugIx9VGMOZWyWH1TRAEEoQE1st+y3eig4oX3CSrHetlhK8rVj6BXrJhvb02PNA/OdoLYMFtDTOivFwh+dLmFSioWb4DiESbsVksP3WErA5eG5X+zKBY13RbLUy8JA6JWkAp9mVdLm3eDVtPj/Kpucsz6rCApuasXz6YWxEqepJZFTYsCo7oqw9Fi+yxLEFjEFN6xJoB0UJUmLAqBYljOnZQb8/2gtg9VksPfQvnVkCqQW07opzWzH+BKqOzyUm/dTaVhKodFFRYSsJUwotCyU3KcSsKk0f/nLH+EI94P4Wl/7ix/g2Wpu/g+U9aetPW4fN6d1LVpqz/gA/Ip/DT+Wn5HL5xL4WHwMvnctMtXP4efen4CnxXH4uXzmvd01qKnxW7uafI//EACwQAAICAQMDAwQDAQEBAQAAAAABESExEEFRYXGBIJGhscHR8DDh8UBgUHD/2gAIAQEAAT8h/wCrv/8AE3/4O3/Xv/zP/wA0/wDw+/8ACv8A8b3/AI9v41/3v/xrH/wv/lf/AG7f+p2//P8Af+bb/pX/AMfb/wDDn/5Z/wDmn/4iPRHp7aR/8/trH/t4/wDp7/8ANH/bGsaR/wCHj/iggjR//dj0rWngehH8qNYIIII1f/2X6kIYTRcA/wCJMTRCehLQxAxBBH/1kIUMbQQejf0Rm6KK03pQR65FoJiaIIHov/lNv50dGiCCP5EIS4MayAfEbIj0IWj3EN0zi0YcjDRHrkkkkLXyiE//AIqZJJRRBB3egQQNEEaFROqcCEvkfAelBHoeHphpug9iBnA8PkMPQgj0yJkk+k3/AI1/0ySSSTokkkkknVaxogjWWdRMlDRGiBuhTuIoPchuBjGgy/U49RBH8+38VlEVKMqeWhkiR5/0zpJJP8caSSTp5E3JL0GBRRGiBrWEQiHpX/G5BukhCG3VN/RkLpwboc0v/fJOk+mSSSf4JJ/jIH/xtDS59M6DKJFlJO0bithnt7NWq0WtoUDimoLF2hsmpn/ij1dvRPpggga1ROk/xRrCIIf8K/ihjFhUTsWSKFZfXggY3IfTlJEfLKYImrf9tFiLVfK/obN2o7FTkYQx7/BtJeoojNpbpsmyX/mj1x64I9caR6JE/wCZuByTs6/glmzt3KrlOPGysstugtUOzlJpe5zyNzxus5ZJknSWxOB2bb5cjdt7JkaWFnRIsL/rkn/kkkn1SSTpv6m4MjXDkpD+gx7jfQYzy/JbPRO/S+utpsTJMmB3zxYvTcoJEkZINnlQ+4iJh2XFcOjRRnd7CdM5TJxf8DRG2hIW6jx1Np9LEu7wExfWl6RQ1aXV3/zx6H/LJJOiSdJJ1wKdIghEu1QklMTGVxK+p/lUTrJRXuQlWQmp2hSX+6RSktJOlE3D2A29iZVdXsuR9bJcsiSI/AFgE3Dz1Fq1tKDYH5DU8tjK1iz7E2oyUe4u4m6t0Mu17XFM+p0PZ1F8iswWTwzDwBeSfUewiUO0LdMMC25MEiCmaFeSXYQQR/xT64IIH/LJPobJMTAqkfsMgKe4P/EC2btEDIOOmMLyFcjdUccPdFGbv7CzODuHmUMiGMmuVGio4ZRpbkZt25OjrL6hyhMBX0KEunHcyFShNdBilrLgRO4rw/fqPUFTsRKUE+CsbPgQKnrmJYM8CKZTw1i11zRdAlkmzsNnkk+iAPMXufgZMF7J8SC/ggjRBBBBBBBAkRqR/DOsEakaIII0ggggi9HBeDeXVsbS4BiFb8hcUTRYlJu5aAxyOmiAk+oTDv8AgeIINkRLL2ccxDl/YiC3wjA1m5Jw37i6lSonCTWB9M28UKU7N/wUG0W4WEKoLCwQGNy988iQ5JJvk22p7Y5Qtdy/T6iS42UJmV94ZXhQM5dArJeWPkeDtI05GJV53LMZ1lv4KEaIII0gggj0B6huAm3EEzZsB8Rl6KKY4aOogjRBGkEab6dvU0XWghesJE+kS3OHk7oryjlk+nuNP+8iKC2EYiUJxVq5IFMWGSSsdDJZzcxgQKUp49RoIGcHW90iddyMjS9hpFmyhaZfYfAmnXw3fAsRD4qXsL7GAVzp4kS2PCUTu4LcGSPJN39opo+NC0en+SgL9EL1MpdxCEHSSjgaQwy2I0eliRBBBHqaIGIINtKEydEpISSKVIQQiZCmnsO5l2C9uGqOVw9FAWS9gY0Rin+NFpQs4sjLLhdOJEiyYOs1KJJzKCHfB9B0nSmWx8wt0MpDz7v5M+S0GIRlFN84gIv2dFK0O6QhjLJbKZgruRdJEFKduWNIKBtLbKRZBTGEe9sSdgKZcm/91Y+lIDMPV6HqBAyGQR6JEaNEaRqQQRqY9GPSNSWhaVGSFOmGH4HAwaUp5EAQmBQDtwYD6aSobTEA+QI9w5q6aUaG9G6RSVYOBdBGTQlzIokrDYsVEHO4TJsJskqJFk3fdoeS4xAqS4spCHusSzNy3bCtfhRwyzGulpEszA7BqRTMHmtkyvzAocNt47isXN8FF51gghEakEEIhEIaEPSD9QGRoga9U6wRoRYoRqRgREoj0EShDrSeCSfsyWjo0CTIBczTfuCnpRyvQxTabjQJVu2yVMrk3Q3ekqxw8hrlVSKotCcbtphw0b23xqvsQ+CvSrUns6mfkbcFF9LZZkCL5sYGSSdLZCUZKZJxLwOZbVWMvLKIvvgIcG5tfO4WJxX6dWRr1DwFl52EJCIIegQQPSfSE6yST6YI1er076SiUdA/QdFE6FJpiCqbyOLgWN7xropxmUoTOClJ0lFR56V2sPFX4YRkVreAeK1Tiyn0ppsDaEQIymEcNEm9ly/CdF9JwEQpBq1RkKanOyvYuPZLJ3sKPORahIicQ+tpG8/WpIL5qHUeRlybnO7/AIK3jKzJbxqZYfLsbnTe8CKBddvwNaVHVwIHVZlOkIhED9D0gjRA0R/G0QNEEEDX8EEHfSSCSuTrwNI3tQQwUjbrc/FuYPCn3ERKl4Fiik1FyqOSZFS2UwPFFg2K98zlvaRCHpK8r1QEAONhpXozZNoa3Q23J504rLrDHk9GW9TGTWxZFcxCrIHJZHdYSxY2wbUAw2kHxbT3IeGOuCI0ny3qTN9UUvIIs7BPfhOGAbDctN5FMBt0ZwBZN+jl0xY0joKicdtejZJJP8MD/hkkkkbJJJ9EEakem1u+Zy43tF+5B+pB32Yj3BgajaBvp9xY7YEsrZg1b1L6jSupsaZnmNW7XyEQeqG0QDcpzXqXBy3qibtxWsJpSE29JJFpjAzQmbt+wL+4rDIXRdVzhVuoRSDMV/ou4zGKuLsRlE2ga091Ds2IE+XKX78DeA8R9V0HCb42P4JwMigRvCorEQASml9iXN7cJIIdrKEeGSgJmqY5EEEEEEEfyT/G9Y9EjHpCiNy2DgBbsN/sP+DhJg7Isj+yjYT7UJI/WUIbUUL4FTPZz3I5dpPI0Dw+RzwTPMF99uC3EKoQeQRQ2ZnR6IiDm4foQxIhIdEYEPRqRmSwZUase8klnN18sieV3v8A4GS25mI+zAlWXu5Pl3RYhO1z5bMVcDa/IN8uOv6ij03b6h1QdHebT7oTNQ5Q+wqL9Yxujvdqo8MeIJtt+qH5YECOAphZdxXclKoY/SogtEav0QRpBBGrH64JegQRpBAyNGtUuzCaYUyFlfc529mhyGSThkbEq5xuNqYzVpkoSZh1wSqYQGhI4HI6qyeNsFGwsjFtdAt3YyGLzkNOOSi5qkNyakPKmOS6abaVhPetyfDkfoTNKdocGttuxZJJQfTqNqUketUEeViH1Ncfl56E08ULC+4qzcI3OzEdLuWGSVky5C3cJu93fETRguN5Qke1KDFvY3+4yZClWPc2I5gfoY0W1bW8A/cZZqQRWQ6IRZN2YkSFgYYj0x6X/C1pBBBBGpcZfpBhoeod5CWO5mvhnbqIVnzgrHi9NIcpjavcEtvdIfkcTlNk0z4FsSkm1X7D26pKHVFwTNUymsJGYBjIi7Piciydy9+QtiKU/UO4/HlIfHsiiQ2WahAR71t3H63q0BeYseRJQhZAI3Th7M6QUmGSR33EVtMbPyFDcyBfpwLlgMn8FCvZV47ZIbX24j5wFyA70Pz4LLulBCtguiO0jvyGZlzkMKJ2hFSy9h67DDDDL02HoQQNDRBGj9DWiIGiNEEayOyBoYjXfRixTlcLkIJzluFptZsJZEUQw25u2nN8k4iSSI9sR+RHn9DZAUP9qL2BUOmmW1PI6QdBv17CVuJus+Sf2etx/kj6PjKEmuL6S5abtPIs1JW6T+OyVTRaXPld5M6B7thjRWkURbTyfsHu2/xBjqZ7KW+QaebR7FL3CSrsP9xOCds8dhIushmH1A+TtTCkY9a6Q24JcDfgb8DbgbcD6R9Ay/Sxhh+gIesEEEawRY1rOsaGiBiOCyvd8k2plmxDCpGSELjBCVCtzJJeJHrJ1hkWcju1vSY0fG9h3/JuAOCmOHYXMEUzBmJr9KEA/c+Pv4HJt+F2JzIrfMdJLZT7iYdJgR/tOwkKokJxMNEwnJk9LLbk6h1hkyYNiYy6nWh9J2najsMcB9IU9h2ofQTpI9Gh60UUQivSwiVtRNijLwKkTNgZ3uyIAmTIpEkb4EpiL4EimhoIT6hhDkLGOC29MJIVaRrGq1TBhrJ8CJXowa2JzfkYYlUiEfJyjhUj3DDDMgsNf4dxaP8A2CfcgY9glIGUVfXIwsjyjrMC5eCBrVMYTFo2NjfoE+uCBogggWpkaSSST6IIIIGhj9HiQKx0+2UPNCHrF1m3gXE8CRSG0ttjGghZCf8AnuBYpqZXBEL2fNceuNNh6NehilJtJ5FwxOTOwwOHfDhGID/YE9aKt3Uj11GDngx7S1Q28sEewfNbcevkDa4He5A01AdPokqOKbobMH0HqxGiYmJkkkkkk+kJJ9DRBBGiCCCP42T6oGiMuEiPehKXCspCSKrQxvM0QhzZpXa7wNj3AGoZXUile5aaTaZjDHCMLklZyqGo0jR1R5Kx1XpRJGiOgNafZiyVwHDlfsDYYmTy/eDeSiI43TIJMunAykFM/oYlENMYA6+5iKH/AIMJlGq7eeSeNMLv2EDUdcckku6mK1WkEECFoxsY2N+gSI2ELh0Jco7zuEu4QwrJosyTrGiCBogY/Uxkk6kiJqFdvzMw5cbwS4pzHQfupZFJ2yHoQ2eyEgpftpDOp5AxpgnrktxqPyRYRFuROuyO7ewpIypocqIEeQDIT/C20YvKvI1oaa0imnGUxqrTFEogXd2VqpLvdDcuxmFCQlKBJ7khxbQ9hPIHKmORUmkVTL5GqKNMEihS2DLqhFoaGiDtHeI21qrYOKC1PoOViROx8VHtMY3b9DTYnzqLGExjBJOow2N6PR6NbCkmVzvMTC42Ik6yhIeSGqoSQomOxAY2tn3FKi2VwirSU9BVIKwmFJBxHfVijFJxOEEClh0ToKyZQHaiSlXRE8lQ1sem0Vz6UzEsPJsDjk2LhIpSY4x6of8AAnDonWIpndRBJPcAmUTusIFMfFl22i0Gg0HqHJJuQJDL0npSHZPZn5FV9dMllPDQbgfOiPIpCKEekkPQtxpP+EcbJG6PwC49pZI7iSTkfANNamZXPjFtWix9ijCMjMoQtLhI6CWiCqbV1KFUSfOEHVkFiew5s4pSPgUIUkxjBhal0uSJTyxhPVJSaXIxpF8ZvHUVRcOnyIajtEpidCHL2K7JzMQe2u3JOTFLJJCNV3rknEFDGSKcnKR+CNHIQ22yG+BrYYBApk8jY2sYgtyRKkwnWRep+4iKF6MZ3J90SDWwaI0jR3DG1ojxrokiGZEevBmzaC6IJ5BHZ7GWyJQJ7cDJaXOhhtkuTra1IbJJ/iD66dgiCnsp5jzzhArqe5l0YEIS21jkSRCO4vwWXGvA9hUCRhKFUd3ZJpAXGUTiGwUxj8mrSeybofydqbEmRT2EsS2RpE+9xL5dK6klUWY2I1Hq2xyvVMolECfuN3HazPuMZDP6gr9RiX3FpSLh4OmiOrdISOHU7IC3GZH6pPYVG7TlWKgR+2BGDs9nonpcEdikj7wUKJBLhjCNSgup3E9noSMnjcE+5at9IlZQQUKfBHhAvYl2gZwi8DWXB8WPk9BJboixoxwNdtGxkkjZJJOiSSdEYFMwUMSkOBwyZnMIs8OrIggjSCNI0aOEdw+AWuQhcL5EOVTuYmSnzV34Ma9FTU+iJ3fQ3catRpmG/BJKlzEuBVISBJg6MjUyUS5wT9rFhMIcuI8NDetL1EhPAWiIiAlUOxHDDjO0twpdYd2I7DEoZ3u24ZgUx8JomuQPqRxlbUIKiKGYZHEuj6CtvcNVa8jTFrCE2G1y5nqTZj4Q47R3UwhcpIoJBsnAUcAG3LnX/ANmMz9GbJGyRskb/jelXea+ggSSpEPQlUzwFLMg7Iz6yNTs2VwwlK2dx9MFH+8Xq6UT3u7jt36EQMb0Io9O7UgYXwPYRAgEuHGJJEtCcmGrIjIInzCaYexMY0LI9yKfLoISZKMju/G6HIMcDz0+B4coTY1XgSgYqTbSPyNnQEc8FgnJihgnQnDfkbTIT3OnRIkQyHpGlllkklll6MYx+iSSSdKIGiNN6JJJvR1BEY9hwrwMwypdsURc9w9SKv1LMBQkb3ehTKXqzDu9A2FPkNqLOOo9UlVwaHiPEf5k/wAqLwpcEl2n8Cnv5RTLxv7zHPfQUcQdmKcp7NEKvbNkL5e9goSclR5DUItbq7sSY/ypO/1gcsKc1kH27EwrpDQJW0vzycBAcdR9I24G3A34GyHoUcBNwLp0dLSiPiNhvwSGjYvgS6aMdD46r46B8A3G5IkPWdWY2G5CtSIZZBsg2pi7ZOJxhTpdEZCeSJYnDyjoFSCcpPP8OEy5i9E4UnaNsh/DyHEMdkRF5hEpJbH1EX/EQ6sw1CqgpUisTWg4TP5BHRSZkvdCs6pXJ1HHpSuv5FQyoaew2WE0JDKJgXPyrqJ5I9ErN3K7HG4xaLJE97A+LaGje4gCCtplKe2wgqepEYAm4UfGT7D4fQmvjHxj0Z6B0CPBC40Y2eww14IkdU6k6JHDOgN2hEajQanG+gjZuQ+PQDz39h4gjyy+dJiiTN1IIvO6o+hjd0GZH3IWDE04CX2MYiUpNifeLp5G0nATjZXqm0+hblivuDhc/Szk94X5xiknAtiG38AaqTw5uk8DZRttBNU9gJU0EZdonBNE0zEzLMl7kMgl28OT3gl/udpX9xC2AjbBMZcJwxO7nP2fBBE77eo88mjV+73ghYwNMzb6jzliJpHVe4yM8q7xl5auDDGSxtJ4T6FQsosQmZwjZI7iTE9k35Mb9AEUPTacDRjYLSIDUhoMPSeg/SWJDRPUkn1PYQlYhGiS2HAz2rJHMsFyreKOkuqNxLomPPcbEBpMcxDOTKaJUNUn6/7LCJUMZDekkpbNkYV5GzizK/wYQ+CW4kRyJQqIGPy0a/nRBZEIp/ANvrlVK7G6MWeRmZUuXcMbmuWDYMC+qJ0wDpeT2Pr5sZFI3p6Fycsn5/UTNSVK3ToZIuQvBjzZtpfwJ4lrU/sMnHgjRvJNAkqFdM03ahqocUb90fRFEFD+4aTp22GSrQ6B8xAO7aCE0ZG+DHBK17iZg2IsTJ7InhvgOGU9xITgJGX9RLBHGRpyvkoknv8AtHKxIbF6SSdXokyeTuGhAtEsZ7V7H6EKAOSsJ1OJIX5oxMnit7sgVfqwT+7QZpw4nEBLcTYx9RX4ZRfwdTlYL6LkbCZdLYc6Ielsvfckegrg4/AhtpQm37dZj9wycI7yLPsPwfsP2HQFZNu0TFauxTfwhCThWrJpxsLLhJQmLh56kya8ZWOuVVxAvN/aA+SxXH+MvKJvLXLa/r8HTgpb6aEcmRUexFm8/CW0yG36ZhRbN64+hYOd1xfw0yZkCewRPnSknt7iqVRc7izaJSYT4IGOuJP3GseORYXYIMUpwkHDTkfEzpaLWCLDYx6yTeRtJhAfOFzM6jJvdlMteA+Jiy+R5FA07i3FJN4KIhJ+AWYp1mT+DHD8GlCZzCW5DuV8CM6X1FY7iR8CDQdSliSvih20kk7coJ2/A2ZfILhc2FKLMDt/giNSThkIqhUQmdULyYT5FIRCbaL1LRGQ74X0K4CzR3IUQ5sQ6MyCkkomSvoIMjScV5IZaSFMY7L2dvgTgG595DNmH6nQu02y2gWad6BANpfQm/1Q4EbiO+Kfu3wYRCM9g7ZwMZonumyYJAVoxP4TYEQrt/gg91My77hJF4GMM/JO5bdSmCScRPMoXuO+YB48gh+vAyfbn9cUSOvgQPACfhz4Rxsc2G5PzDZK18HJTQBVc+xVNfYSUsJNT2GGT9hM2GFT7C38mznA8A1QQqhHWgTbe9D4rdjnX2G22U32JImtUdce9CbEOXSIt0TQp1frQoKm4ijfxBFfxIyq92ESpZcdGNqKbEVJKDJ9joKJNYm3zsPRAMsQSO4wugtEIPDXgfAjVejOIJ8sKPKDkEaEpoMRskOHsKhyt7CtjgfMkLS87fhkaoz7H6x7a3v9e6EJM0hLrh9xGUXiZJOhYjaaY9hQp7nREIx1QTIDcEPwSyk6St4GvAjMvkkQYbErDiRvEoVRKOQLdBy4jrETAPfB2ZBsdzKNsWy4IGMWwGXn4GIBGwReXkYqA8CFhJt3HgjvHhC8HHkfZOEbG48ixXtId7coecR6Y9DJCxgvbYfMdvbgkm7AkuJuUOSZQoBQDjS9yci/jRKcC0d97EkkiELIsaOUrFiV4HKEd2LQ6WoPSBJUDMEifNB4+5kvJAiJjXKp1nBCKonOt03cfC+CxP0HyRTuyDy+SPtpiNftRNWIgib/ADy/DKjmVHx3KUQ7i57MXA6Ymyf0EmnuvDX8Ej9Uk6E6wxF5C5km+lLwJiOEUbDY4WB9bJ4ZEqZJjSiipI5EaQaGbRdxYKT9EQrqFiZ30J3fGieBdh8TFsILoIWJPnaIhU8f3GrE13R5JvpdyZSDRSkMp8iP30MZ84m77zMe2Sd/IJF/YQq+4kRuewJuY9nOP9XYWz7f8HFP1T8CLqHs/Anr2MonJPc2Y6RsCHQshvB5ITdzwNeqVKbPAwD1HeHyWwKuS/w7mB1c6sH7cvoL35Ps2vyF7++vuMTLPUbwiPRz8RukEDywyV4WuCdnBLrYfCfUS6rZMT5XcNMyp9hnC7tY54bSNaPWBYD2A4holLZJBBBHoTKiwtTLppDIb8kyZPf0z2nadqJQnjkZrNwchj3gqHU9B1fC13JyaSt+5YykwsCqPZ51bK8MsW2QmxyBsPgSsH4IFCG525dUJMEXLwJ7gtz7DKL2Dd0JGLB7wm4VdhYKQG3TxlGnqexsf5jKuCP9wTAHv6j2gNAe3wO3djjYTnGOw5EhRtH7yLbY2c/tDMpcUvamTphsfruc3ej2stpWxaXDLgzbay8DJM5fGH+RIySyMiXU62Yp5eZWMENdiD/gpQ8T9gz6TdM2mN6McO8AQF/rUZxA7DoJ7M4mNuSRwPQcFFDSGkQiHUei24ggjXqeipCPJQH2TNRwjCjYJbEkbN5KS22NMTDROPtZhcupIW8aIiawssjnY+o1/cT4EK+VHkpFqK+sJf3hDnL3BRZe44OxpUWk5BR0ErVL7jirqLfEs5FDcQZtITvKZTuJeGdYcVjogK2FosQAmeC2ognKrLwm7KzU+cfQcqW4/vYSEpJ/MhC1DIkIj9RL0wKXJ1PujEpqZ2CMls5Dp+Xsef3yHMO+BA6b3JzigJWourQsJCMtIUk57TDSwIemrXpkMP1gISBnVtDZJI/ScEsbjhvNn+xCnd3Q1OYEA21CkEzmMEjPHGq0dhbRiVkW2S6Ah3b8kMpGFEpwhs3Qgg3lkt2zyOJiffQRQRujeKIWQthnLN20cxDXo3oNYxBF3vgVTJeu5KjNRyi/1IiDT9v9JvJXyB1nxxgUrsxKGnewyiTHtJGUxMpKxs+XqJTJdlieC+tuwlTsbDPGHuaDls9ymicUtOCCrDgg6THuofExprI9H6oByJJJ1nROpOjKNyNbGDEGS2SPVEfSueDkFli0uXOlcha5BFa9G4lWNKeg3ciNup0SZuzZB23Gce4Qtj86JGkLQLyLvlFbcGrEUafm2X+E4JQi5TIcBvpINyHDIUQs201yNZwnBnyx8wSiccNp90P/AABKwfRQJEnuI6afuEVP4G4TsRLyEBLZHYVpZSrBASrGyoTyJIo/0T4jWyQuYU7joHoJfIl7sRVkdVoh6T6gSLqEsoVmOg2ufo3GXOEIkQixGwpLJExLl6EhKCYStkEnAZEsiQJ/0OzBT+sZvBJhhtGE3haB/JztI8sExA13x8URDlMEPStHyowVdsjUWxDYa0+C5dLScPU5gYY7xLVCVnJ9tMRI27jyGnoclqMKOUPQQbseoQkT5OrWZfAkkkkkaSHSI8FD0vaErIGhJJUlAoM7kLkhPQT6sldRR1KIXIk5OoLeHGyHJhM0KT8TI+ghIW9pI6kPJtx4GEo9gnb+4l4+YhbPk5X5OSOEpMTl6EpwfWgh9b2HW5DdA5qQ5XTkLXDFP2BGpF0OlQsZGucUERhxNwdhNnsCbW9iOpXIwodw+Tfsd2h3I6DyTokkkkkkkkkkkknSNZsOmuPTgcciOl86eRK8nk8nkXc8i7lCjRR0E6J0IKBRwQ4E07CciKwx1oKuZnyJ4KijyXXYqcUO5QhsLg9DQFbQ52HUT9xJYqJAayrDETfljNk+BhWu5DmaTNGAkh7JyoIFO/BzvwL8oG7Je0zDy4+L3H2QgzAW/NjZJJJJJJJJNazrOk+jODZHqtG2BUFF6FrJJIhMmTyIkkQtULQnIScihBHKGQsTyK5FLfR4DnEDJggRHq8hPoOg9wUsH5NwN1LEAeMg2hSBxDjqE/HtxYjRK2foU+8I2MvYbbdkm3VEk4aafD1ek6z6p1w8h7X6EwRvL4EoULVyEyydNV/J30WqYhMQmIIILWce51xqJMiWQICsBzwOY9jPSsOlAuSdPjH2I5HsGhmlbCRu1roSDxh8R5LqJjSngnYjQt8JeWEP6GK+RghZYfhHCbwzEHgQ9l8iJNWYF7O8O1hM2PcNDZDozv1HsQ7BK6myfSvRCDcv0OiSkzgk1o4RApb2Pg3vSBfBEryPsx0NVawWq1Quwv6rXWuUUllvb1SJiYmSIL1AYgIsMmNxr15ayzAPcglNfXBT2fAzC+rRMJCdH+Byk/oHYkhjvA9nqCVA0BO93uyb9vvX3OjR7OvwZCGn3ScFPwJ4T8m6XaxidhruIWCPUhsDsKX4FkkjkSKt7kYM+Vjbqj7EvsxWv2Fe+8PCNjIIeR8Mgh7QpY9U9YDvVEm8GNaPSULBK91z0JHc10fkW/Dubx3gjR5DHB2owj6YfQTpc9kE8xb3IsPsIfxIksnsc6dKX7bP7wyTYOwS+JI3Ud2Ji2zaQ0i3+BepVtZC8atdhC0QhCExekCIIHSzkekOSlRT82Sli8sa/Z0wvuKnxhbG5RUTAtBpsNWxuSIh1l50mOa2+i/sUf8ASxTQjmBvEtixHJo9AbnCft+h+4zEN7fwL+hDwPGkORii0RjoM5EPghTfkhrhMpGRzwFMUgc+UZv0fQ3HuJJY/hRYMKlWkExHduBJA1cd8k40rqGNbQ7tsbqm2ywORNJiHC2dIWif2HrxGRL5qt8MwCdVFV4MHL5s/wABS3FosblD+EUMuRfqBEYRngUPLKhtJZcJNbinZCj3bISGSB08SNGtIOGmG8wJLHbYQtFohMQWgitB5DFNZ9Rn0oyKxE+7HILLLb8D/RD3bk/AAre29GAc/wCQaPORplWfZN7x9xFgyKbehrOXF+ESOAY4Gzciw2qnYiwOUgx20hB3fHsQTAs6cGZwmzyFvgDocseWOZCNOVTdNZ/iSJ3OGrQhLnRjUbfQpPdG4SQsJ7CVEhbBFrIJ+W1M2TOAeRDMonAusm8OSOr30gbxsX9kdJlKSGmRqgfQFbFTBV9j6skf2JLfs7CmOAA7oU2b/gjw79dBzPZU5JkYqaYzh0Hte8hvHwzYqp7elMTExNDa2JHFLQhC7cCK5y33YsJrMwoe7djWXBDsCdXoTcNkjQUPEdRq6lil0i2WI9ROkLgEVowaGeGSUW0/Z39xuI8rSD2EpSbsh9SJQLghxjkhczwcv34GhpvqYJeCScdnJAy3x1Q8jin70TOP40k3PQVvaRNPYBVuc2MVdmja3Y1Z94ac++TYX2L9X6NYm1DwP0voMiZ2mmhwUt8FQk5/V3KnJ22kMbPADB1V+3QnZRF/1GNzwf8ABBs9/wARbhNOf1Ajsr3IVrvL/k2WyPZ8jUTrzCYJJJJJJJJ0SQg6XANlLeEJUXQOTSlBk1PgPMhNthCCkpxJsajYm84qbombSkIWgmMbySiaY6jRhZLOun2BE7h0IqmuCboXhjwSbgDktubNHgtDQpPwBjQN5PDHPd0d1q1pGng+n+/Uc8SkhVRf2e/8SRmMhpRLgJZ7FVo1sCWB7hfn3D7EqNiVe6QbsbvDIj/MLGish2pIaG458zjl7nmKSQu00HZvsJ7i4rwOyJQFjWUSpwJq3+ReyO8gyzT4F0TrifjOv3yIxPI6iFNKctk5W6FnZyT+v1jTJogs6SPKI86Ic6HQnc5X6cESKe/JhQpa6jM5E6bEB40aLeBDLCte46PLgsYuZtZc/dLyztuSm6IVpyNyRyb2FYX3KY1IgRRkT2SAirA7eB92iKHnvBD1tpOji/kh3D+r/RZ08Jj0nQ4UjWGJ9RKW/Sf806eOzqxf6/vJwe2inJ437DHN2J9fyq3oqyxp/iO97dltiRsiFollpvp6wtHZN3AN2JNQPy4KVpLtn/pX+c4BF55Jh2OAFTROH6/WRbpDyTb6hdGbCt83/fkgnT4/IhO5gbokd4i3J8lmZQbhr9ImTyhR+9xXbAnhzkq52ZJwQ2RpJVjlt7kGNbQNyrmCuaIHohNrGA8OEbl5b+x7oJH9WbzPoBl7cbz6m7vmQgJ9DbhidivXKpmHE8MjWjCnI1eqcTA5t8BNhzNIed7Apkjm7IG2WvzP7DUsXwS+wykCVMk1hV2k6iNlbbleI16qKkpTfsTYeaFYrvg/qMRMcPYTbB1t/ZioiXQUV61PWpk8kVZ2ekhJZZ1Ifp7DtPhD4EhPcSERcwhJxgsCtaCuJjS5SiXsiddj2FQ0h4OHjkle2/kUz3bCLsDmu/7+BmyqJ9kxonJGCuq3TGHkTqnIrFlcrdG8IBrYQsX0o2NztpAxJbyRVvp32HTlRSfXf7joKWyqkJck42hk/DgbvjAxb3kaHJy37PCAMh9zn7ijspuuCEfgw3sEZMk6/J6DmmOl5SH0Y8B4OfqYx8r8GQS+c/kWU3DWAn7QqPrgswiPGkncbs+wZAG+exn1+RGSc4sQdMaMUwRMjlIiymiWC+zQ3Kh8gvhSt3UNzGKgInrJA16L6D6+jtEJGvlhIeNOxuKUPYXUFRVRdRa1HoolJkhYEF1RCWxRNbzOlVmJX2/qMK8z+hKMASuXsyuJeETpphX3oStkD/ZSby4hyjsf00SL80DhGJlQ2C4TRPNHZi0FguB9FxighNNl7psTi4MZSU5ciRWPccmQlMGL7ggsI4keCzK9h8D2G8Fne4NY31JezFH98g590Jl9g44i/oHJ7qpv7fwO4vuSFdD6fz4iDvOP07mTBRLPAneGRdG1CRHBcnWaQUNPd2Glbv15P6xEKWneUvsJYf3EGzyfklcI7sRTwd0QpwUKlEnP2QnirwP+h/o3nxEmW94/c2ifeNw/oRxKvA3ltBNsvvk2feEjJZhEW41HspmBs9EbmVlSReDseDAhw7UbtvfRa7ao31W+yGroTBWRIwE2aJdBCU1EpRgmimE3pSrk6Den6RjlNPCfBErpgl8vT1vhn7smRnHFhvdCEMlPfVTTCUj9VbxhcG+DsJS2FQ2F1JIoXAqHD3MXTbq1Jwo8CTf4SJvyDbkTll4jvPudI6R0DHRuEPw+JMbP2IbH9nYSJExiZaG5yRVuEzOpedHgmylaocC2xkORStjtpsErRat+MklbA55JpkOqVjdYeCYUNsSKFoWD/YgDeEhK8SUDz4IqZiKKeJ3F12dPSMMZ4kiYZx6Jr2SQ+5+yb4rjye2Dpf8ARJmU58tWb+QErNLcYlJ0DklxCRV5LZLaDA7cSoEFJjVlxG1/wUPSMCOEZLPtSHmqX8FPOCERjoxYJJHAjlMlTITkQ7ic0OYsQ9xkJQgWiCoLNh8C+dJSnYrEiK4Q8BaTLzsQCMJ4TpevghTZY17x9igUhrMK0RI/HLft7kKT5G12vBsEeOvKEbWzHBdQje4Pv+BGMJK0U6Ol3jcUqv8AeSFsPpAirCsTqyKM9BRtpMjzybZJ4ZQomKKb+4M2mX0Y0l+YkUeSGlDZgV+mxc19AvTJJJOk6TpJIkq5N6FnA8iITFp3J3tFoiRvTYtDhGxjMCZct3o4IQi76egcfgHKUU2cT9hzOeyCRdqO3wKCogtQsmx4QbCvbzEKcYcj88cGqgnkrOGFjyTNeWvxBRPCoetxBCtlYQDcvI409yA57ewLYJ/nldA/ySIyE0WY4GSqTsFtNwqSOEoQW5rylBhyVyMqo0oej6tvIonH8zmhYLN8SChsdRJJJQJ1Jo3pjajYh7CVel6JjGr2JyeWIXQGsxJiQsejKfpsFaM+mL7sWPCB5Y5cjU5AJyVojCEFLK2Y2uSuEZJKtMUKfuMAlV4ZGmv2BDHYdyMdkDzN1LubCF08FyN1hCjcUWWeZZUxw3G6wJVbY24qCdqPMJp7Ki5wM09bIkw34CcOw82IlLfafBBJTOJQ0qU1bSh6ZE3ojREdiuR9JJJJeyHapLOqXYiPYgu4l2ZK4jqUIJNythedCegC3ILthI2Fvw2kaR6swlCh5QhsPhFNLkzA1aH0N+5sOOWJC3N8xig8Z9xijORczbtwQ2BiKBoTaSWGJmN4x6tYcBXGZ2Qr+xCJLYmw5BmKIhvlmAR5GaHQJUUPkJLoJVs7DJlSIFiTui+C3lGHmyG5ndCk1tDJGNXCoqLPahGmtJmkvATJQKiWO2LnOlD0T4CfPuP0SG0Mje49wnQ2dZ6bZF9kLfV3oWV8rnbkhG+DJUqb45MDmltcoSRAKI6D7JvYfqzxH2EIyiEI4k34MrplpjYeSXowGbbydMDptaCQxDekz/o6igdDZEduUsWV2dRwRS6DFD6k3K120VQyVNu6Y5X0X0cNsiR5BlMSbDlcFWkhPJF1N8GV0JMMhTA/1pdaz3Y15Duxtv8AcQ1ykrgS2wmEsXGisgEZ2jpihghCxZTCQdQE2Agwzsg8jRGy9Hb4IpRpSWqah8CEiumiPDm6EnDwFDBIPwH5WxtHhKSTB7w3ANxEEsibMC8wKxTJslHYRghtSWqTsTe1Ia6/b2GvJ/exin9PBZ29v6G8+p/Q0O04cj2bowVCba0RJqlCm9hapNDDIOgvoZPAbw6QcnLWhzWiUjwjTB/cgq7kNsqhoa4wL0m+B940Gay6fjcWLPJhvKZW3clMmgatXUQ+rJ1zEbL2Ma6aLbVAk8+T4JG6FAfikySjwPs9cPkmUL2zj0HbNyr8hO2ez0YYkk9OrEHZsvAqUwVTIf0fQ/T+gVqSay5X8EcHsyn8pBIQkrQ1XiVT/eSGgmX1UDIXO5PYW8yT3gl2aXy/wnlsEPKIopt0iRbPcEbQ0JYUXQSiAfLH80u4zG+1m5DOJZviGLaUO0DkxpW6hdQX1kVFRYKE9xgK7N7i4jRnz1PcHAaMk3EDNliMXA54fQIbb4kmJrdOsEfLphxDGMZaG8Fs058FEFCwHyM4F1E9ZWVCyH/5AiK0L6F8X7yUTcLKYlRriY0nxbiW0pm6hZcz5IJPOi0m8jHGs/r9wSP3VFIMJRo7mMIBqKwyy0PgsY+UPnvhI62e7Jgkw/Bn6TruXCZxshKmbLaZMYpFse4MpFo6GEf2sPDJpbJNshEtkuIKkdBCjNkmBf1sghj2SkqH7SkdIUiMoRyKl7H+iVQ3kbBUqBr1JJs+wmN5hC0aKppXDHKNSSTIeKeUIcITqzD9gPu2G23b0d0b8uqGWSdC/wA/ZloQrifQQ82eg7ZMCctNulMkU7JwUlR4hZFSPU0IYBBwcvIqSSeHRaGQS88CwleRpHyRK5AVFy17UFVzlnUVBD+jfA+8geps7Rkc7dw3XPgl+w4EiNUoFW7lCfnHyIQmGPiFC0wbbwRlpURRpWZEGQaMY5OfVCbr9PBeXyI/wH49V8YaMc+GHPthwNOIfQXhZKJkmCiVM9rGTJydOQYX3HsXuxQgrCQt78mMtwisEts3ErntvTVMoFkt6mPaklzAmvgQgg/gvmyIULSBab6dhj4VhgjBKcaM3hLEZ0Y0pwyds6hNH0zIPZXaJTKSINwNwobskxqGSqQQ1z0CZYQIIN1oYtduZsIRsvBWuP8ARxk9GGYXebuhh2brBkUT8BwT3CLJN+4WYtTFDbhvdDRZ+SHg1CODIvMEj6a88homlLdDeFKRxAGqYXcv3HCtFaXBG4XyDeBG3w2i0cki9PcwD8n2SRHTp/iQoPNKkX7jvf4UC3GxNkPgusVyOwllnkn0LIvBBHo7HbSRaZ02N7GNW5dQZ/ElCT6+jCDpHYRl9Bibr6BAlxokoeQNkkQ3Sgqs6WHAugBpoSczGmIHzK2FpQPI/XAhoPaaPgS4eELdAhwE250OT8wTqbbpxS/A10GyUyVtKO4+B+4fZu8b2MS3kOJcPyRkPahBhp9zce8ZotMZRZmkUy3jJeCyydScE/VFlOESD6A+5OuH6JZqZ7SN01K8RBMAMz6hLLic4Uxalcxr0ijjk1yJJaXYSUp67GxIrqOjOJcEhLduEje+7HX08mHB3HOlitW9NzCsZ2GhdTY2sQ8EDO5J51VwpliSeA+3Bppw/RinQs4CM9g61kTXjd77HnJQ9KEuGqM4lFSah9ExNW+6OWuqggmtXfe2RnHE5E78ozgCfpBP+uDaFgjIzhMJ7YDs6x2G3TM31G6Q0yORNAXYZrbpjveDJSZe7L5TnLsQSnATZWzP6aydvTvpA36XBDhGY1nmBDCS7Cgw9huDIx50iEbFEaZ2EPFiGNznTcZNVk2Fk7C1d+jfTsYfHAWviDGhIfpyGEP5FQ5fEFSWaeE86Om06dwK8Ab49O14OJvJKSk6yQVVY9hHdnHXRq4hnad7L+pUroB12nQrZQDXcooZKWX0vVCZdHMB2Jm8NLJhw9rZiJHcDkOmYMZed2XRAG9pNh0IYMORNCxqztp20WqI1g2JG+unb07GxkYjJFWbULTtp2H0I4NqNvRnTf0PrrHBI3wLaWLbbR0Ma/Jr1AyLzjvsNy50yAZzA9kdmJ625bLL8HdUMO/kJNTj0Dv6bQtiYj/ARe2NmbI+0xItt8wKQEHLFKhLjevEPCEj5SbO33IIWwugSnCHZpGw/MzInumMlToxtFg63Jc5b3IhCO5nXGRenaiedOxuPXe9V1wdxj0eMwbiXQ2wVZloc8EkDNslEcGTcZtsIeljvXbTeh5GhLTcreBxKfFFvB4iyNI0+voYybNNC2H5ELZn2YlmKF/RPyKNYmxYe4acv7Sq/eG1EQZPBHj4skdyyEdy8qrETKZHvMJ7j2kjb/QynujbJt6RhO7JUbcEkaPgbEXp2OwzbTGu52JFem2mWWPrpc6ZejHfMnwdA6yZFwHaFEDHamTwTOu9ncQtEOqsydxaNShfGi6aIWQl/U3vCEzf3mYZ9rGzWmv5N6JAau/py28H3aYzYCCjbqyVUE7SbkXfpkWu9m5EHc7D16kzgZBk7DrEnavRRY2omsDZwJRPB30+g7ZPB3OjI4RvZuLqPoPqOj66YaRotWPAkdRUKskxkk8O6kata9kImII4WjVkvbGpX7RLgTsMdZ7Cb+ETMe2ZAXcaqHcXPPuNOtdkZQC/2swa8GBLJuPR6YwbWKjtpBKaJck86voPR5JrqbnY7CIk2J4ekqDDPYnjJMUIsS4I5HEb6sZ3M7sxQ1pvZQ+o9Hmj7CUm9aNHcYuh31jXsdja9Jomq13EeTbTbR4om6J1+ujIK2GMZud8mdIjuRK2MaKIrR16Iuit9JnuTRYutCjcxhDwNXY+GkbjsNSyPpuZHXJvRLm9HRHQiyKoaBQ8jsVlIeCTY7k1QihjAzAkd9UcHeKN60ebojgT5NtX3N6ETZsLNGFo/RHJFaTR9jA87aQYzo6wQJQjtBN0SzsbjzemSYyNn0GLoXvgb4EdGTuUU8k+RWx5o3o8CS5G2b6JdTvsPBG7HyLQ2Ow8DvDO+m5taEJcm+mTuYsyeBUupPTTJgWLH7GyYx2zYiVQ5RA9xYGF1KHcb40eDbR5H1Op30T/AFD5RJvZnVLkRgR2LDOnY+w8itj6DUvqbX7ixv3MciHM6EENZG/UZ7DXA8ok20VbEyqQyO43yZwLrghSROFBI6Fzk2s2laZWVuNxnTGw4I5yTdHuew7CNpNhvg7vVYsxJMqzuTZNYKJ40mrF1Js7jzZ20fcbGbnYxgmUTxrN1pg7kXek1R3JgTJ4Hg7iM40y9h9CJFY2gmHRNG3QmoJSoPluZiV5JRhg7GB1sOokjgdLYhWzEi4F9D2E1A+lFwYHgeKFgnk46ncmjDlnYwb1o6ekEZGK3jSLvTJsTZN0MwTVZJN8adxQM5NjoQPSKHgwiKolGCbwMKno8jwPqPO4nwNXIsUJTk6oWRlizGCZR2THLA2TSN+R3/RvDSegpedMDLs8nIU1BjJKUlQT5JaYE73I4xovA8D6onRUb1o1uYwTVGXBHDKjrpsmxZ0mhuOwuhO2xfJD3PJ+2bUMf0JNtEn7mNxue5PWTqybsddx9dO4ieKRFEkkDSQxYGt7F0kmxZGzvTFQzgiJzAthh9RVY6ocscrJMyU2MYwTOWN1yxBpsVZHEsTQmjmzpJh0KN6JyLqbc6bWzejehrOi6CVDpXRto1yx2qH1WTxQ+omRYyYXQ7j3RnI3ohzeC5g7EUbDiRvyK+x2EbiMbWbWVFEDtR2yYSzaTIpq3p1Eb29EQ70nlYOCvJHkbhmcHcyoqBuqF8DUZoy8Doo2Mbm1UbQhzJPnyd4GpJ0WuTGRPqLZpGRvghu8exbI3CrceOxKjJKfcXUdl9R8BOXZgKiLsbgJyi4OiMIJnoMsroPA8CmbHmzctk7G2DbqW3CFlkuLMmNcmZNrEvYUS5MjFYdq9JThkuRbm1lsaYHykWBF74J5FkpoRNWRLkyJLiSEE1ZnCFyyJp9+oljo0dpwUQ1sFbFXYvez9oyjZ9RKVY3yKCGpUWqhkykmIWMCypQ82RmRK9x8DakKzDJ5Q/gUbjvA+g6UbQ8C3gxga3JlucHRgScioS0NwbJwbmRqje8G0k8HcypHxQ6HiioqRtop7aJ8Hc35JjAup0D2ODY4MvmhrGdxo5NhuMIXQWRU2NDxsb3k9hNRCGql5PKDqiSV2O3RNG1MSW4/AnXBwXyKkNXVD5VmLKSmJN5rBNQjsl5FE2PkylKMukiWMoE5L3IlGBcckhjtKRaFvaH9BQl1Hih9x3wRsPNE3KIqjCOw+pI3GDm40ahLBUGDgTukbwxs+5vRtWTFEXBEE9zboNYLvg2pD6aTHY7k1KN8DaGoY1w0LJMYJoVi6aRbHRtCNupHCGSU7kvIg0WREi6N5MIU7uhOWeCFhnqZOTFDuWcH2I5yiW8DULoyhnmBJo6n8aICc/6L2FVsh+C1eTwOtymKkYo9h+zEmu3Q7HYnkkjq8nsJaxXY3fCFCUopkcxwZtDSwQkTa0PFG9ydyboecaLBSiiJtHwPODKGuSw0NY2FwTNuB2YkcZihiD5GwqOB4owO5Ck8MfQfUVHBCxuNNb0JXsRGFZnctG1wNH0RxJvkt40LEG1YGukTCszoE9moJSQic2VNkce4nbCxb3EuRssFOwaJckwkWxgwrIkuJYmm8OTanEHYd2SjgdUh4MFiSVGcEYkfIVnUtdQPMTI4wi/Bti2JcobHwbjqkWh8GM5HixpWJ8nUbCDrJLl8iekb6Nx0yZJnoO4+UdULkpo2syhX1LWxHEdCOSDVfJTWTEBLN0mJWNhZlJCeDEHvCt9SHFixboSScvRvcTzBQqYHEX8EoVu32HCdEo7i5IkQdi2Pbg4BUwZVjPsiDXQSpbjhgpmH1N9hRAs7Y9jBEbGUmkLMbm1k7PLFh0TOWJbPkXTI0MyupUDG7FFEP4MXA3hs7mxljybwx7SPTYWHYxtkgRB7DZp0eCbsfQyrHg2s2l2ZR9TkxhrnY7RuJTwKiNx3EEGMCChKR3wkxJWbUdqErv5HSMrodzMQcApHKvJ2cDRaE57s7kvAsyiRKrHLyJvocnkVUlRKKIVIk5UYIoYV7i62KGrQrKUXxI+SsiuB3Mi9h2vsTV4IeyNrIUticLI+uBqUkSupFS2LZrJPAsA6uaZToMvI2h8mcqja8mcGbEjZaUi6jVSqJEp8kcGFNw9xIzKeRrktPDgdpEbQS6pE7omWOW+iP2DcvDodLEEpicSKlkpHLliSMW8EJgjqh54RhJJDvNFLJ1UbdSeVEuImSKvCFDltobWEUUKyz0JMjdVA0WckoThitt8IjgtgvdEMFmkd/qZTNEztXJvTNrtFJWZx4HSKPPgmFyTd0KlmZEkJ845KWSxPuOpRZfYiFotkQulCrAp6DODqROXRJI5lE1RE9UTAreEOIoSFDcmFkyTaF3GwxpXQbrc6E070TwIXCIHGxLcSux9xO8CnYdhZS5E9m5Ml72dtIsvdUbVsK4+o3U7ljbbQnI+7G2UL3IhUyW+hT2GhtVDfghJcChuhpbjexmSTa8DSsYEoV6MKMnJ2InGRvyNomBMmpMcDhI4k2JivmiZhIaujfHseRNxhGVj5GHRta6kqGLitFI4ki5GpwG2rR3Erl9qHWMCexh2JyyWi8ckWkbm6B3yR7HBh4Z3C6GcuB1mWJUdhVvDFkWHyJTMKeC15FvOxwsXOEKZOrPQvwJSbFiGRCY2l9jsTOI0QQskkNQKTqYFwsqbFwx1IxudEzMFPM8khHYOUSSqPYaCEuj6kwrExsxQmmxCmz3Dx2LiXCgyoVrN6+hyYr7F0EtyKEDm9Cw0IzL8CU4IojZNo+xnJaDcJy7KeCL78nQbz1NlgfVHH4Ouw56pIpubG0DZUXHQbfA/IqqglN9WRZhRK3sngTU4MutCpCaga6HJFs7itIE7Y3G52Z3+RqrOMimB01itOqFjBiw2/wOMoH0wxttQiuGcuxuOo20S+DYm4bwIwuikE9hpTMlBHDkhpt5XI28IStRncmmJ3Tog7pZscjU6SZvaRLjqW3wcje423kS4NxWTgOn06EJwOohlpyxYMu0ReIqjqPIiU5kVTUmV/ZCjuKkLApfsJwzOTLaDv8Dez9h+x1Z1Hmx9DYUrEh1ZMoT5IgVWNZsJHI8CXGhtdmIY1tY3u0e8ckm1lJn2EnDLUV8HV5IujgIEZISdNCaLZnkXLZkKd0PqY+ayLUyy30IafJLeCHOS2I3OxJWwm1iS1yO9i8fAiFUpMOpkgTeXI80YX9m4eKFjuJ3HySW4X+BW2KZuR9GW3k2G3/ZEYM/kdjuZHgcBubtoJFFZMvoY+4/A11KTI7cv41XNrwJW0EnAl3IiD3IcEU05MMEtyUiW5DvBc7wRE76Ha0JyJXOhTuPsjpYnCSZuFWWPFaKTgoosFpFbZ/9oADAMBAAIAAwAAABAUxxz3/wB67z2Hf/8A+2snnaL/APHDzb7w448x8PPL+/8APufnaP722mzOeu316wsPss+4yy+/O+OOekP72yy82ucIgT0y/wD/AAf7r/35ORY86zD6f90//wDyj08Rzx4w2+++f/eK26o9/sM+oKGMMe/+7fl/l9z119NNfd/d79Vzf/PfNNxw3/8ADjiGvD328nXTXWdef7Xhyssvvnv/AL4755u65457LrP/APPZB0wx6t9z3jOPP6/57dNV1zxhfTPPfPfffvPBhlxx9sud73nvvFeaes9JvT/Ty++OO2v/APrrDnjr7rD7tv8A7PO/s5nPXe+z6uu3+644tH+0EHHjT6880FJ800w00k120nX3z+0CT7/e+20/rf1n+fo4nW2FLn33/wBt/vd9/wDLPd7AFYRxiTVPN7dcPPKcMTfdsPedbjnPv3tMsPPPHAVDDDTJdMPfLyw/f6nRdPqjHWOT+87hsPbfd9znOe9p/wDHtM8/g9//APP/AKHPu8/dffHRW/Z/6EO7n+553/8A7ib9jzygTDSj/OePQ/xnJxWZ7H3c2Xv8ZzmH1e8/5zDzV03l/ozTRSTXxvf651dyD/PjgH29z3B3xftf31jA8/v/AL3SBz+97IzrPc00S/8A0v2tZ/8AyLyi7Wf/AF79lY/zlS+CSy5N407i/wDn3suNTLDKGNn77LsX/wDfQO3/AOnMv+J1STpe7HnW7ynd1qV9hPdJ9tx95beo59pd/jzcpI45BP11bndc+rvlHQW9/wAvf1vOBNHbfPuOWbPZfEMJldPFP9etbp9ZNHvFNTOOO6NG+8RDKy43XbIKLPInX/bm/uD/ADzjRsinB+OvXRL/ANiqie08EE7z1IJsw04SV3/y2W1jM0t/I+epZ44sOp7vZfCfsxRevis7MQ4a8VJRp91V8xsu/wApC+NLdeDHGIfAvOfU/jOzGK8n4cAfr9ebbP4ZpR77zf8A7bkq7FyRLzi6Uv6iAmfpa40+w5mw2jpq0iz7y3Bt3c935nTb3H7b4zQmrQwT2V2JBHD+PSkj4Sz83Wm59v7iJ7SijqxXz6X3SX/bLISbzSfy2/4nJLgmKzLTzEl26exq/wA39lp599lgr9+ce5MuT+CC06A6YBqSR7KksPtd3ZwacK42bMx09xd/87vVO22jgPXW5U2Ldhvqg4lzMRkdZ9g245t6uy2dxlZHyEw/6Qs8F1cdXXVpEiD4Jx7Rzljl7na999/IV3t3WQvssHv1L4f+5z8O3f2sFW0lP0YNdOG8zWY0oY90dH91bWu9eB+N7c+hsq6+Os579/vpVi/7jVDyuxlu7wau+cg4q380deFzfv8ANeXEbb5ATKt7bCPA1LG7BmvdAS09PZlPdhv3medf9t7u/b2et2n4q/EcEMfX7XKxKNs3UTS91U7zu9theeTJ/wCzFXu31u1g8ed+g9Sbz/Ub2H3/ALauZZTCyq4aJfJN+xVxq490sff/APPbJ5kZHa/Vb7XamWPgBwj8CjjjDgGpUirX9IKbLhauD+pPmfqWbKOjt6JnDW97u3tRfKsUMyn7HX+cDZ77JLZehvn7a3hXf/t9Kc7vOXiN4XDjcXyiKaKIFX/vVMdP/wCe/wB4cy9+9mzV/wBn7KeH6pfQtuj7uKxfC5v/ANIefW441Syly7K+naqCn6/83bn/ABNk47PezKr2n9gIp+Vus903Z5BTPBVtltk0SPbs/wCZVP8A/mdPrfIn4b+Szq61blYgZIGtYItin8Oy/wAfe2as9deSOiLu61PgxY7+Rc89uDHSVE3/AN9T+SlhVbe0cLPnnPlgezY3OErZbHxGIsd8VGsagE5zEmH7F2enUZfex93r/wDv8UfRw2KwRnxSnFXQ4B7lySo20S/q+jIps3y7SLfi/wAzdsIcUu0o+SwFzznl9RLdd5uXfev9YXyChr+a88/8p+e7DO9syEwEH7Qa4I8/wn+p6xhgItM+p2CmXN3TMm1f0gujX/zYX5ZtRmo6QSXKlumzB88NL7Hc9KbX6afP2mOV5x4FEMPaocYILkK1zlOZ9aQ1Upo8132567lIeQXZXhPXt9eSen1XKEw4Mxq92bgu5p6/RldoYNw2EPsgT+stl/Udh+4vv6k6TTu9WHcyuskkJqrqztFJooHNjbwLRQX71UakB3wlwhz+poabo9CRGeNMVVH1svSer3e/OYJjyszueKrCmSjLk4peHJTh4t5p+MvYWdZgYY8XN3v3z37LMJCgpOXcF8YSSnS2x03X9nPM+c+Y/d8Utk1/S993f7+F/wDd0uNwZkYUgJbguLKFLf8A18njS3CzTj1h7v7XZuzbZPryeM/F3drgSz+s94QS0sOn/wDs7w9+YGo/uv6wf39oO2zX7HymSu+meG+9lUa/Uc/+6ay/4048s4/vP+2+IL1tf7/rm1V/767fmqb68csa4+6z/wBvodRz72zidybPPF/5qvtt3+98oN3NdX4S9d9R5e9/t6+eMvPLvprGpXXHsuSf9eltJv8A/fzv57uW3H/1u/Sl4u83zvfa73bpT3iWdz9y5/wrtXq5f6fP+9x9tlfQWeH33f3z/n2//wDreO00xdlmm871f+d9v+m/1eKBffW63nlXzMZfdXv6tS+zmu+Z8F+98+oTtvG+vcNuM9/m+H98Un1rxefa9z+Zv1/ue767xJfYe+nK86e96/69c88T/wB/XuLG+s/WwX+31zzLoPT/APx3z371briw3z6JJjTx9p+r/wDv/e+7d/g+tU2Xyjeurv7t/8QAJxEBAQEAAgICAgIDAAMBAAAAAQARITEQQVFhIHGBkTChscHR8PH/2gAIAQMBAT8QmYPxzxnjJLPxzw22fnlt+vwz8Q855yy9/jlnjPGfiHk8+vwZs/xbtlnk8/UeOPOefv8ADPDevGWfjn4Z5z3+Wfk+P1/gLPBZnjPJZ55v3J4y485ZP+LLjzn4582QWerLILPOWc2WeGyz/Jkngsj8HyFlnNn454yzznjLPOWWec8ZPxZ4zxllkllkeMkgufOeM85ZZFlllnnPyyyzw/h9eM88z4/VlnjPyzxnjLLPxD8DxnjPGQWWWWWeMsvXks8Z+B49WeM8lnhLLPzyzzln4Z5yzzlllnjPwLLLLLLIPJ5zxlnnPGQeMsskssvqyzxlnjLLLPB4Txz46/PLPOf4M/ENlXX4gNlklj+OeDwH4Z5yyyyxssssssss+LqwZR4Ij5SXkllmWedhtLiwj8c/I8ZZZ46iW4uLiQssskfAshYWWSyEZSR6mLtWrG58Z+WWWNlnjfUdWWWeMs8ZZZ+O+M8Z4PA2tr8CEF/FlnnIsiyOfHqNXYlwh3G+7PGeM5suPGWWWWWecs/HN85ZZ5PyXC3iHeZcQ4gyT8NJBGurLLPx58F9SWfnvnYstDu/Vmx8NqQ8wO2eulq8Ei9LOLq5XiUONkOC08ENwx8mxBnFlllkljZZY2YR5z8Alllljc2mB3IepX0XLzK+ZcbvuHMmPFnu3UPCLySw1Y1TLbmAOvw7TwB4GvKGwJCfIyyTLLLLLLPAGBgkvZE9SmZK5jdQ+5debQ4J72BMjPUr2wu5rA9llerCLLiy46sssPJlllnkyyyyyyySSyVZ4EKTFnOZHIy9J+ot+fGoS7L6LHcHOEHiC8ep6Pi2YSMeSyyyyyTwWWeMssssZPC3Nr433G+Bixk7kRx8Ejnn1OeCrpHjMkTsaXX92nN4gOef+z92nwwjToutbLLLLJLLLLLPGWSSWeGbJe9JcyaNqPN2yBsHhjXRnuNnPHF2yZxAvBAXPZGk3SBNJDdMTT/lvc0T/cHdI5cukdSyyyyyyyyyyyyCyyyyyyy66wd1kBh3BeGcdRhPbXleWdYCXJdyTHxz4931I4fSZvP92nZxGriw+uYG/cgcxxbb4yyyyyyyyCyyyyyyyyyyTWvUlidQKLYnJK7DbltnuTG7tss42I8Niolg4v4sDjj6iDMyzzllnjPwz/Bk+Mnwv1Bsp0Wn9WepOcswjm3Xi5FLds44kSATFyGmnqwc+/ZcD2eraidwjl6gAjtlkFlln45ZZJ4z8H8cs14nnBIa5Nh9z8O2T1KCwHPAJfZBzzHEptozOJddbU5tbXzDcPE+Ybr2JvjLLPwdlbn8dltLbbbbQF92jY2yDm+UrwWHriAGTwUcng25vqVICGaMoKep0xbi9MA4NnJT1dVcYSJnJIsTm9hxC9cidH8NC16h9/8Am19w/b42bPudtZ8K2+TTOJukptyA1kLi4J+BKO7zIhvcnMONwVJxljMeoFsIaj08E7pwyZzZUOYW8kGCaSvXzCb2gXwQTq7c+rW1lfG22xIzs+OLJPAGxsfUr1MO2T63YNZMurfGdAGO5CfBCY9rSBckPbINVauI9awTidLBmRzIHD2O4AIlchYYCx+IZ8hcSJLJkTFerRI28xg3MkHXmeQWN4OrEkxASS4QQAYWrn+CagZ7g56slzhuoHBYb6f9Ti/Esjp8yIh0bA0c2HGdxOMoH1nhbWW1tte7VtmtqfBi0tlZbWwvtk53LGrC8Btsq+JUbeMPplw/LbM8C4ghzq4sPdh+f7g3MePe3sOjAO1yUfPDJnDsoA9krE9MuPRGemnzJue7iM5/c/IP7k+P+7n2Ni+m17leo6jxs/IW3oheiNoTtt/M44Ww+YfBaNTZMrmSKlqDnZYOpk23qb6IDAsgjPiw9Q7ZYwNmloF3Z4tMn0PD7nFZlPXMeWPVpg6+IyR4erWcu2vq1tbVu2WrcXLfVjfTaHm03ZSCMuIS2BwDZ5adyh47sWp1YPTKwdsfB+449WHqzZ6vmQNqz4Ws5GMzkZXh3/cmcP8As560kjFer9TzM+bAIc28Y3/YtD5gH0yPDV+19Vh6hXjxaqZcmBha2pDghj1M9cEK7wLlh8XDrUuCXiEsJxucyO4M7Lj5hLFxYQHgA8QHWSztpxZSHsjFmWHhsOTsahMK/wCLPzI+bh7tfiV+J+FykT1aysraOp33I9W+GltsPeRcceGWEPL3DhQ4WH7hxDXEYiGMlkThSe1dkcfcctkY5ycaPNvnqx1MC5O4w0lStg7rO+mTnDLOJb3ItJQkPqw7LD2+CFr7hYola2ScnqM4Eb8RH1FhAgPiD4wPiH3ASzGIOxcoY92deMOesvhXCcXPux8QdYSLb0ba9KT9pE5Vh2JKSkstvhuWvh3Y9Try2O3QsQSgoRsQvuGG/UPgOeAYMIxHJ3JC4FnbEA4iPMAcEp4IYagLgl1+oe0ZSbj9SajQ932UXA8P4vkkgeD+4bzv9dSTuU3uW22W9BdweERzcBOFlET0zrnD/wA3GTnstNkw3bHs/wBWPf8ApA+Nf1457lc2Z7rH96vULDCwsoR7u6L6IaP5ETgr/wAjFID0Exy2uTcELif1JsaTTiB8YfiW6P8AMehP7g1P0ZIcPUI00+5Gs5Z5JHeG5zJ8cwmDgRDybbucX3e9cZDySFQfy2p4fZkhXr3YdAvxYyDDvIDDt+4QXR9wYW/EUFj+oCJpDDDDDITlMGN+2xhopvFq/uWCe3IiPQbIPVmGSx/i2d7G2U9WwbC+pHreOpxXg2fFOtyF/Es+WcO2PluPzrck9fjqCZg/qB7P9/8AqMKa/uERSVQ3SUahvd6CSCrXD8Mnhc9yLLM0JDQpFR3h+oZyIgIwfmD8wfmD8y47xvu3zNCHiOAyTieGfL7uWD1gQLqOIufuDhusnwHiaY4VsgDjZ1OVm5C8i1V3yIRIuTqQQ6f+z42WUtbeIZX04/bPXYbjhb/ljqP4xt54Z/V8pDPSXDPS2j3xZJ92l99JRwLK4kzuBz1C+6+ybHPE1/hHEjllzjwdH8yf9IJcQ671FYJ/N+7+2GLz/uapic9dQABOi+rNhf1K5If4IWtHPrLUz+r/AOZVwKd+rQH7klVDR9zDaZpnzKOS7vV999193kkxNUtwn93sj/f/AKtHUwXdnqQaDOEYw7gLG5abvNyAkyAnOt9S2AfxPK5P1JHN04OvxFYKRtsMd0bPyt95ewL4HJWKdrLjltTMnDkhFu9/qIcderPgz7IcXR+PKV+puLB6bRNLjyjyG739P4/uPatp7f7vriB2gWcZc0TgeckSW7TFBww/uXEA44npHGffn1kgidXoI46dRtB92XBJhllywtCu2yA7Ye5z8yG3H+pc/wDEPjAjccyZ28k/U49J0/Um5zwnQen4sgge7fD4QMm8BscoD+5cMc/zexeJcJKJCC5DhxNVtq1MPXk+i5YZIUcPVpae7mmQPjRMcXMJCyMsg42PXg3DxIHGBYa0zq507mBtPTE+w9/q3ddDx+oQB65f9t70OD/3LwiFj1niflg8ZA+YAnaQcmgjh6iCk+DbvD7iuI/m1tbkgQJAknlg9M9l6iB3ibkdkryvxfb4RH0hvVhZ8+OIIIx6YWZPqVgLPTw7sIw95Iu3iJ5tXYPW/wDI9dA9hD5Jx9sCI2Q9W9knx42+p/Vy8iO0waQmfrK8obAAcZMDXykphxb31L1eX5t9nOaStDGBQ7iRUN+e498Rj8D3G06n3Eeii+U/3Y8i/wBzsRd/c0c77YwZnPcq5nbPUQcZGj0ssOFwW6Ti1KR4fdxu8wMwT3YY6naQw3rux1303EOh/uSpPXMQfL4vfr+5D7QfN/8AfxbPUw119RIJL1lkDMAjV6TSCOkEREfq2nCq9JA8yLWMQaMK5w/RdtWFeW6tvjJ9JX3dSmaFGtqcGQXb3L0wX3Ie4G76y5z4LOfZ3ciMcNuAs+txJ0fuxuurrGfkjTWPP83KqKrt6SkuYJD2cTp0NkAcZ4XBWT2t6+YOuX1tyZl9LdeWhg+mNCB8F6TYjwLDxx4evwJwbcw+bsy1PCBMe5hTNuJTlnm3LxYBBhAg9Drb0suUwRCr3ID44yR7Gw5jslzDhsnnEueh/wDN9lj2sp7bd/APGB4LA/DLIbeLn3+OeM8cgmP1ctyJFiWQymQsG7safJDcCkkrp9R/+CIm76JTOPPeRAY4fFl77K+APtuDlCV1YGH3zP4bbBNxHgtnwvn342PL3JFlkJg2Vy8hORbyZAYQHtgfiC9FxZhK8IZIpjL2l1dY+dYXrAAOizwFvgJurbi2zxk+Prx+vGc2T8+GfHvxnjqAYyfkn0sj1Mz5IA6vEDs2BOBBDAyyyyPPHjfHETDepDx3xJnjvwxFrF785ceM8ZJv45dWSWRcWeQmGCIz34O/HHVk56uf8Hq3m3zqdW+N+bePO2+N8bbx578bDb+H68evG23fN14W7mzx343xzceO7S33bz438t8b43b9eE+LIF5vcXFmQeMXq+r9Wvu/XnYi+vx+yT5u7JLPmLvx1FpcX3HxdTy2fF+7PBvcxcLxHHj3c+P14eL3Ftso30R1e9jbLu/d+ruTLn8Xfx/Vzc/gwXXhLct9WWeRufcO9wW5ZfVzB8+M9Tnk5sPXjuCTfB41v1PBc2eOfwLPVvrxh1PxAdFwRzZe9v3bDa3Pj1HMm82Fh142YPk8e4PH3+DOwWXEnjmLvwXVlnnm78InLHPctx8SQ7DxxesnPcvxdeF+YXqbvuz48fVtk2xcxl74nxx5Ji+/H1Z4+7Pq/cPHFrDbDAdkm8wYzrB6bD3fcN/Ns/U+N4iMt9efW+P1c5Zvh2C5ywuvweOvw42//8QAJxEBAQEAAgICAQQCAwEAAAAAAQARITEQQSBRYXGBkaEwscHR8OH/2gAIAQIBAT8Q3/Ez1435eo8ltvnfhtvg8742346x8/c+Nt8blvjf8O2/LfO22+C9+d+O+d+G2/4d8lvjfgeTzvgbjxtvj152222bfgPw3ztvx/S23/Ltttv18987NtvPnfO22w+vO22+N8b422WG78b/AI9jy+G23575PG+d8b4223jzvHjfO2+d8b8N8c2+Nt878N8bbb43478T7tl8bDbbHnfG2xbL423xtttsPwEt+/HPgbbfiMPw347bDD5W23xvltt8e7bfG2+DLYfXgbYfG222+Rtt58b5H78bbb53wW222+O/hvk8b422223xttvgttlttttttt+73bbbFt1423nx6tt+G2/DYt/wqIG234KnkINtsW22/LfO+/O2+G7bb8Nt8akI2+HHuw5IZwwGEttmSTbEuSG218b9TbbZ8Txvn1Pnm5ubm5lht2wuT3C22xJbILuPtAbNpaW23FvjfDLb4222fuHxttttsPjYt+B8nzlh5CNubYfjttstt1bc2AczEnxb42G22Ifu23yuW8W2xHnPG22+Ntl8b42DbHZPV25u0u+Nt8MJsfG+7bYt8b4W21t+/Oec85ZFtnjq/JYMlr1DALM5k2fdvPjgIF6jXLAOWwnfqVa7LbbaW2222+N8bDbbb6ttt58cX6XCfSFW5e5+sBYB5gchxDobfixBfBh3DOFgHMZxOfbA9WLETNjyZ8WL9WkMj7W/VqNeTeObbbYfdsMpKSN4gOmYfaA4YHZEmkGG2b3JpjKOSfY5cgElm4Tlwx90tELtra7t2y1abfgQ8WIgIgx9rbVrDb4Ats3xQ2b3iHBger3Pg+pLLNfzGIPdv13LmmVzMN7ofL7u87+p/CVOE8B8gwlxZ4233bb4DDDFxYXHgPTIEA8WLhP1aWnEhOGL3dsWXO8QPM/mAc2DowPwTiMZB5zn8ynHD/UVxkvskc7bdsWngSGGG2G18FseNttt8NjrG1mTxIBNnjso6heVgZkjLDI3b3P4tw5lvJIO5R0yxaGyj/4/mGA/3bveH0+4A3lf03KOZGcMfcACww22w+G2xCDbPgxHg3wEu+EvMJF16kIIwIMp+s4LDVH+J4Cf6lp4JOdvzPHULk6RcwWXTz/71IHn+T/ksnfEo4xJ19H02jttsQhDxAiDLbcr6W22x+IXwEthw/MPuHbQcnPcD1DzZZD6t48Zhad285NDTq4CWDT+8oeG/k7t3e3chIWQWeGFhBYQHuAsO7CAsjfVz422HiC5g45ZwQPdgN935kZcdW5xbxfkth+7uVHQsXH3bt6emNjp92Q9HqAfbZjEzIbZS2Igsky6922L8YVNt8Nhh3yWe79Ln3bhbeWXB+YNQ9R9uiLOYdfdum+N8+43JD9oAYXCY2DZ+pnUve/5uQGn2QvcbgRCbsBnMRgtO5TC9XD4YwPUJjjbtWvd+HhsoerBbyX2y2mZGtbZc27dBeHuJwCj3AbTxKZkoH3e6BN+yU54uYGzYNJIjuj/AFAmnI2pjH7LPvN48Si2tqXO2XuFvbGz1ZIeWAe4A8MDD+IyAgIIJHiQ7Rd4BxZYFYQ8b8pGe2BM7hODqCTi5OuLRt2A5kGfVrhYv1xsE0k64wMbiR6uRXMf7lFyNG1esuXbEkAg2IEFl1EZHnUh8NLT7uLHZFeiB4cy3I6s58BbK9SJ1zfv/qR+3+pXHSx1DYX0QjwMvbhroWrGZdEQCtZczpevwyGg/c6FFC8cvqN+vE4wrUD6kNv7hRAoX14ggPMPB9X1wXGsWYcfvDnAXubiMTHVu24YKq6vh6DrYyu5PRr/ADJGC4xsWry3cOSEGd9kD2EhFcTmUQFOrV/Uu8H4kw9/ptw9MLzkdUENPELEx0xp34A34eG4v5WMi4SfRDXMh0D+JeS5B0lCIEX82dPYXMR14uYjnkE8bceluHtlHSyCPTA+xKuzs4Y8ls5dc/1Glzw/6f8Apg6O4nFwFWMLTXH67swDPf8A7/5I6aIN5m/cPYQbwR7OIfnYc3SJF5Eh+mw7ZPtJM2R9WE3IV5CF+pDyuMHLsG7YIzjfwxrg7cJcp7nNXZJsd3ZZ3IQWRJ8sYaME53iSxcZ0j16/F9Tz6/NgD28f9T44ua+/9zvbid7Ib1Kdlp6vx2/qPpvx3qLSfpaIx2SHskDjiFgQP3IO2Mj6kZXlbMJYPLoHu0eyMqyGDsMk5O3VpzhcfIbHuBO1r2M+wbQzGU6bDKOPZkkO9M3p0/08kkZ7xP8AmBePdtdZ9PTBnobbvbT1zC9lr2QvqHWjazuYMefAbYA0OZ11bCxZepH1JAyhx392Y25R4LqTmUHMLzeJDq5dModSvuZLQyR9yHuR7mjxLFTNkHPZnAy0JwGC/Z/7Je5Gn/U+zvNlK9keP55Ie4HUO1C/FsRrBOEBgIgMs+4z1H2+IIk6EHbnwgazcfUiwWZEj6kTjwuu7SN7k/c/pte7Y0iFedcbG8j93GvJ3n5/8woGOH+2U7iPRv8AuSsSC9kDMy1mDY9xz5NhOYJ1CsYFteOfqNjWwsjcAMJsupS18e79Z/EuWs7P5Tv3N6lF7MvJvq4QXHRr41x0c3EKEMxhjw6Q+jb2MH3BO3LHsR9CF6Et6R8CZBnhkFlng1AEvErweBILj4bJJJJJJJJXp8ikmktGv29STAH7nctWNIiHtA3BtyIZD+YjqR/SwhmpDqPpZ60fYjPKjP1/u5+odgg8ZB7YJQNlW7Dw9Qurj9TwDv8A4mDF464YWDfx7tOn+7Lf/U/WkuGoN6SmYzLGZJJJIXsy09QvZfjgOAmOCyOwSjHJ3t0BcDCbhv1U5ALR1pB+09gbbiIFyTr0N+gFngvflcJV5baYshYrguspE6b+8gJ/YsId/XYCB36jrHJ9mRwp31Ktf9J2gdPXEUUOWy51YpHuySSTbDKuIV5H/M8oOGQ6i6rJu7WEd26yWRfTEMd2BaQHlLNwwbb2TiOoIhx+9z4z1GWTvq08pLTiC9BEt3UL6/1/3LesgDuQjrM/eJaP9SI9HISbc5/SACuYh2PGy3CoYFMh00ZEcy0+pcr6tRnTmz08snbZ0nJBpuPL3rcO46nNpdDiBv5nYHkLbf0sD8Uo8WBjEXpwf1k5jEGbq+z/AFZfjwQBweFr7nP6EuW2XIV+7B+lMy/cg4MvzdzGx7JV+rBb7OZsPOSPsYb2EbkHb8iWz3Yi6HMMx+LgC4IdI09/xYtX78QIAOs7kdQfzfhfx/8AJ30frlm2u9cwkWicZ92rQ/zdI0/dtAu7+sZ3RBlWhONR+0Lm4SOGXp36jngcZZs2Y8OIjgP9xaIwehsOBsxDud8g4ebP6JXrPUO9j5iNlDFMcYJL1Z9wJ3OYoNdssuEQ8E3+7XQ5/Fp9+L8MF6jNkkt6sYZ+8j9j/wB7i5PfwzuDHynsLkaFOyzO7txNZOZ18PxdXIZGeg8a/cr93aPOwEs/UCyAXARNi3Qh8LzLzK73NlwKyXgl1meDMI6LXvQtzUXLn7hO8/143ycd4gScLg/rEY++/wBYX1uX/Vh88+4+7YSbYm8zlnJT6R5hIySyyyyy35YGwPbkssZY8yzYQvN2jJ5kNk5yfPE5VnRj9Vb8T99SOPUJ7PZ/1IbvHs/W4cGRM17ZZDt5f+o+YFufxH0W+Oe2OH0TmBvycyAfd3iW+jmQ7LHIGF9WfdwxPcjR31ByZ68es53tOO41b4fchPA+4QlX7H+rQzy6/EEo38w5k5P7ldIfZe/+5c4C2pXrmCA+2DQ2+Pyr6FdZ3u0Wc3MHf0bD6xImce5HXwRIPHVk4lCJxjSYufsXoP5MS/wCVj3Hq3vUH+XqB9H8WnY/iNwwz9JidOXJe+JOUORY4oQMbW4QYy+AkHL6P9Esg6l5NDK5e/HGPTbQ67Lg/a/omB33xLuFj6QjuP4n6X/v3siHg4IxVlPtaSMvSPHs4k//AFCTMz87aTnEl7iSDDCZFUSQN5/q2nDP4k+hu7P724RA/Ezy2IAFwsStkDp6gFRYdiX0cxcz8lmH5tD6b948ObhLqdmf6mDQYeWv4lZh5s/TY04L7WP9TAIAMJzkCba2F+4wcsl73wacg+kvZ1I82/KWM3Z+675ss7NXQ/az72XYLa/A+DurInB4utbDt44bo6FhBbkx4P7sQkyY2A8slCnl39z99hwOxwOf4m/1t4/S3ndyfxCLdz4e5Zj1n+pL6v0wj4r41fdvx2fO/Afhx3q4Lgwg0bgIgZ6mmg6nHLH8zOUQBJ3/ADP0/tcHTP1imm/3moqb+bZ0ZBcqbk4GHZWTT6PL4zwx8jwX4+GWfA8D4c0cmODv5ht2AcO3ZCW9f3K/cv7bk3Ww63bQ7XoL6RPsllfeRK2+Fs+OfIuPjvxPHq223wi0hfTHsI+3ga+pWcHMv1xLdqUurb434Z4D5ny2J/yd+Sy9+dj57Enz5iLP8OQf4sss8b88kjyXXnPqz4ng+Y+OL9IPGeOPhnls8Zfr4/W2ePGeB2fG55z6nxthvz768nfgfCW+O5LLL8S+CJ+B4xJ8b42/Xwc+c8Y28XvwxdX6eT/Hvnvw+e/HN34PBvhLiz68Za+B+ps23yeS6t+OW+OLq78Z5bfP5j7l+B4JLJZfI5c23uyJfj+Li68ET4xh+HXhzx+vjL9PPFvqYiJEuL3ZHF3z8C6t+G+CbfHrxv1Y+XmJY8b7ufOz+LLibPH73Nuw5Lc34suvBHlbXyXvyZt1HcZbcb44fj7883//xAAoEAEAAgIBBAICAwEBAQEAAAABABEhMUFRYXGBkaGxwRDR8OHxIDD/2gAIAQEAAT8QxxuVOcGoGYHxGuJn3D8Q56Sy47xxLsrmVcrNO/4Pj+MPiYqbjZPzK8VOAlaxzA33lYiuAjug1DO4GZUGxqeZQmGGPEqX9SqPEM5axGVjvNmdzs1iaDE1Cjj9x+a+YYCBbiV2lE1N2xODE4tZXEqVXHmJqybn7jGarmcbmnrEvrKUmukC7iY5hvzqV2uV8fxVkMlEq1/hrOSfT0m5qe4vtlRKzErETpOeJ/sTPmENzHWV9Tb4lX1inz/Cckvia3G3/wA/gxAQ3K/7DF9Z8XKslF+JWP4HpiVzDZKbjLx3nUhjluAXDUI5ixL5leJmp+JqH8BjxHPWvE21MJ0h2lTjcSpc45iX4lcmo4lYlfPWVK6x+ZunUq2jpKzKx3lfcojO0Bj3u4uN55mN1P8AUSsH1NZm01K3H8S87lePiVeOktyR1qrm7moHvtCOmbieJ2mpR3lSrO0q2YIFE4hn1N96nPMAnzMGfU1mY6SsxJpzzDETM9zXSVTib/h3xHMDH8a6QMzycwc8SvcrUSnWJddcx8Q2QMwN83DD9Q91Df8AATwann7gYWe9QK+ZgMtFy9x3n7lVrPWE1Ez0qXqfUMOeJWfzGfdxMSrju2B8Q0aqV8yvrpNDxB9VAzqplxHpKz3i1xqcXqVUfW5VRc77Zn1HLr+DvGBN3/F8yvnUWFPEubU3Eld4NS8TmFavfECoqpeKgLEpuDrE3O2ITDtKzubuXFlfUN/9lpmcXH/sZ3/MwXRL8XDpTKm/mVV8VKLtlBD4gNe5ub0/cqh18y6P7hlx/Fc/w5lV1CIyvuOuZxnM7Mv/ALKz3gUxtxHE2eJzfSVcMOLlV/tR8VOMxP4Sc6/h+4l+ZUqjQXDD4xK77gZ3knvUKmwz3ldZl1DHlhnEquZxgue5p7MvGJipn4iZ6TRzPzcf+xQP7lfczfE08Td1NRO0/cRuViB8Tbec/wAe7lWxGvU6k04iZ6y6NZlULHBuVArc3i6l+blNzxXxHnJiG8xM8VAhiCn/ALKqt/E/PWPuc/mcbldZrEpXgme0D4mty84zO+oFeo57VM/7cesDtHExWc8/xx0nqf65XM2ufmV9SrlXqVgY53KqoYzC/ER7zjoSukTMqbruQnGJXt/BO2551DepslXzOTmOR4lWZ/hW2EDUSnm4bqUH5hi5d7ImojXEFN94zjVESuuZU48y+8r/ALxExBbzuVZuIm/mGY8nSal5rcq6TFRdxOZdECuLn47TF/3AeJqsSmbozHESu8J/7B/qmXNN1K+5WYlHM51KqV/iAyrLziV1lZlNfy57fwYlFSrOGJb5lUSqZUp/7ExuVjrNL0nuInWPWvU7xL9ysSrKgQplVMO8Rz4jrzEsNRwdblTnvEqsSsmJ8yvU/c1L/MLv/EMeIUw6QPqZzN5mx5hnZqV5qXb0qc894GWV9QLNRKZviGU/hJ/i4947lMK1OWNzA+4E/UrMB3HfWP8AidvzHE5u+09ylK+Zp4h/yAxPco1B68TiprGJTy/w5r+MVmUE3co8xbZz1n7iWSs/xSkTPDK1Krc9vmVD8x6ZuXOx/wCx+JXTfMq6Ykr/ABO055mviIdNxP8A2bIQLAr5lNpKmv3iBSzRKdEXOblVA8ZlD4iVH11lZ4qVU11hia3qBnWZQDiazUqtcwJm+JxzD1K9xKcSsv8ArlV3mnU/UNcStRz0YPYhk9Sm4GSPuV8xMz65lOusMb1NPE5u5VMrn/EfxAq+k170Tw/uE2fw2S13K+ZWOKnzUuFZ6kMHeFRM19TRAvxvcL6TJ7nNMZs/MPxDDrzMDF+4y8RPRCVEbthmYvtE3KrcC6cVPq4R2zXT4l4gSu06ww9pQ5gfmVEnFvMq/wDsrzU45xKzvMdT0z3qdJoz4lW8Sl3K/wDJVnMTD2nd4lWahmB+IFZ6yukqcd4Gz9Ssa1Az/q/hxOLlS9edysdUl5gb+I6h89o8kN4xUvGOsejKrMT5qVw9ZWViZj8y35nHjpPlqDWSVUorBEzd1ExA+uku+s1XDArcv36lZ69pUfzAHpPE5hjmVbqJMu5VV1gU4jkhg/U+ofOZXOpi5RWtSmGHszLKlYYnScJWIGc44ifUq/MCVU/H8Vbc2yryQN+YMrnhiYlVrCwA9TN+ZXHSVrnrDPrdTj7nWe5dD/PmJnOf43HHWVnVsbq/mfEZtiXr6hvMrpA6brcrnklXKw1A3CH3+JXxAzOO0C/UTM/ErEDLNr/5A9QKuXRfxK6xwYzKuJklZjlvef4Sa4lVCbXrHePuViF9mY/gL9yt/MTO6mLuG3ifmUxHUqVl+5XLxHE4Jkd7JSdcwIlXW5VgSqlPWVjg9wO0RgQ6yquVnzNYLYtHiGO4Su/zDP8AqnaVVTRuVmBk6c/xTcr3KrrKt6xL7Ss8kSjjEq6+NR/6lVKxKz0GB0nzcTP/ACV8wJVysSnXWVb5lRxtOvE0SnpGMS5mVjxKzDJAI35lDFb/ALhV+JjvKL5qoNrzU1XWa6R4qpVhn/k3x/yV/Ct7p7wz/wCz5xHzPjU83DLr5mO8c9ZYQCJ7jggX73DtAK7TK84JWPHWJbEe0Su063coOYZMTT2hKvp5lH+JV46SsZgQNbiEwcfU3mpVV05jZ2SVKjYZ6Sq3cXjMvE8yvZNlVqA0d5qp9TUrPeO5WruFFTfEC+dRLuF3EWUd5cTmVR4hm8b7QMwPxN55g4uV3ifcTUrzK9/wXstieJujM0fqH4jrPWUkS9Ym9yub8x10iXKxMiY1Oex0gI/1NnSe4YmJVuBjvrDVdZVOPEp61jU48yr6TN5jDLOsDEDpxEvRmBTK9yvNfxR1lTPS+8qw7TUXEouBiVZ4n66xGJhxPUc0dJriUE3KoxEuVX4ldG5/syswogVqaxiBb0lZm8VUcMCartKubMYh5ucnM5mdzzOzKxcqoEp+JWPyTYdosq3DDUPxOOcQzuiVWL8TnRqJddZWJw5plZnfUy+psg+44+Zt/jmpVMd7nDEPASv/AGXXuVvVMrJx6gGcyh8eYheOJXPxKm5zE5P+Ss1z/BmJjpDOoFESVmBsuV3ZVnSBKZV33mvxKDOIah+ZX/sqoFOJXiGCEA5gQwuKicEM1HOm2VAzAuBnvKu+sriVmVcp3wTrKx4ianholY7SrxqL1hucO5XzKDriVfWokSV8SpVSr3NyvWJXM+5vrKpMER7zU0f8jrB5lYlTjuwPuVV4gpYGJpqJN9Z8d5onGT5/j8SszJqXqjP1MYvrEPUq5XF6lZnWVK9MSuzA8XA7T1AlX5lcwL5gYxK6zbxKxEvmJK+JVcSrekoeZWJVkD47zBeZXtlef4q2ONRPzKxK/HieNyqze5TfNSrqVV4n1K/MqVAs9QLO38VDMqmV0lZxK34iQHu3K7epXWVnG5SYqVUTcqs6lbZUq46mzt0lNVPJHeoDcSq7ysSrZw4lX1iPuVRqVvPaJnGPuXfTxAzK1nzAYmZV1ip3lWyrTvAYhAolZlX2lZiFbzA+5VHaVcDrxAgZ8SipVkqBzPUqb1KzWZVuNRM3HLKL7QP9cS36idpwQM84IHqBjtNp3ldomAlSqOs53A/MrH/IGf4qyVW4k82SqZ8SuwynM0MqhgfUpqVnPMOSam0rqZiZzKesP8IHaA3qVUQ4iVWzAohhKrPWV9xJXSVKzdMT5/gJXTmVEziJRK1KK1HxK59zicTXWPXErNYicwMV7lYrMpt7xvruBK76iAUwOk9/xz2hKr3BKgUeYyqOKlW9ImXvKuuZX/YHmJK3lAJt/g46SjZKiY/cT/kr3OJVkrPWETEqJZ5lalHVlBi8x8StJhldOe8MHaJnpNHmVuZ/xKr+KxqBkgXApzKnHaViVKuqlXxKo1qJ1lHmVecVKKlFalU+OkqVjzHG4lLKqBj+4kqBV3cqVnVzFxL9wh8TcKa5gFs1K8zaQBgeJV6+ZUrpdwLZXWDTmVZxKuGT9znmBKSO8ys30ldRYnSVf8GKlY8wIkrHiJKOkNXrtKxKzDviU6uVjDdQPdQOpXiVTmonBK/9lfBKx1RlXEzjcTj3Kq6lFfqBmVuBYlDKlVxr3KPUTtKplBMu4ypVyv8ALE7alfcDe44jmV2cQK3EibiW9pSniVR9SsdZV73KznnUqViVvzKxnmEdY1KzElV1lLOdFy8vzBEv+DLFvtKutws8wv5lZ6H8JbAiepX10lViVTuN8QN9IHMS9yrX5gbQ0/65uY44geW5V4lXM0bxK7QMwLmpVuKgb11lU4lWalVDxKySrZWAK8Rw3jtMK3KtvMSBr8ysMr45lSrdXK59Sun4gTn7gdZUSuYECJ5iYgYlVuc6mJ2lY8wMlyriXUTGpgaiNeJV+5TrEsmT+5VOjpiVTEB/USyvcr3zKgErx1nE2TF5lTENSs9YUOJdMMZm2cy/EtnsgZuYYGyuZWZXPqBuzEplF7IHiAVAwdpX+IJWZxiVvU09oblr/wBgXKpj4/l1/HH4lYlQPmV3z3lc0ypUr6/iukrUS8QM7lUOq8wMF36j4iZlZvMqI/qBmEVUrhlf4lY8yhOYHrvK+J5gXEzHJKa4/hJVnaBbxE7SianCNOIlutQV+5VhEuncrn0yteJvLKlZqVeod5fma/i6zwRo1N1upWyIzJziWsC4Huc6e8PM04i8crL9S6wuYl9u8oZVEcvNSumOIH1HN94OM/MOvxK6RLIM6d4ELtmqzTKxnmXntHxHJ3hQb3DO9czUI4h9MxiDUD5nljTvpqblSzgtiUzrjf8ADxmKyXxhl3x/yAHCJwXLDVbijdxNSl3PmY1iJc73Et8yq4lR3BE/cE5KZZ3ZAof3E51Mt/UIYYcpVSuhNmGrjkZV30ZVSr4J0vMu+QlN9owPxDHmVfmAP5n5lU4zEo4lRO+O8CwlU6mklZ1DfmXQSi5T6hmfviXZdan3Ax44ID0JXErv4gVjEr1/FZiNmZWOlTR1lQxAolcRNdol4hfepWc7gSsyv9xKz153Kq4A74xAszxBzwxJx9SzW/4r1F7iDeIIlPzAGcwAsNxzR+IO0pMEp6cR+5eZdnGJd5Kglx9S8m4wVEbrvUcgTPMcpwV9TW9zJ/yLNmoxmvM21G3mK31l+477R+p9y8dZv8zwbgY6Q6TATLiOHcr3KrtUqvMJVcai5jk/ErpjiH3KzmVcS0lPSpV1KU/ECjxiB5uJjjUKuonTErzOveJg3K3euJ/5EgF8Fyv+yrz/AMmWVULMyuGXjG4Dq5Sv4lY7RIZlVsuHiJHFxPIMLhdL11OAs6mYi1EXOIF8SunEdDrLUgYhgxFZ0hivbEBZRHccVrHiLdaYoYoxNusrpLzMMFqW1n6gpy+IIN1KDrA9KGDXFxBEOsyrxLe/NRy1KWo9krm4vf8AkI8X7lVKvq+Y5/ENwZqf6oNsIGOe0vE0X+Zp+5XyhAv3KwTeTc29Yl4NzWLlTUDF1PHMTMDFZuBkEgGhncuKOGW6Sx2jT/kBlWSsd5UTBAgW+5USyz+KeKlKyZ1Bf6itcpSDK1ByWfEfRseGcsq+SOF5HEU1BW4lYtlZSAb/APYKwwZKbhZkgzNneAyqmOkUbBTpIxqMsPqOOsEwTbGInuVROSBArrBS+JkeYabgiqYFzcXpmGGoB3mKFIRFr4hsgG+0DHmBmVYSvmaJVBi2Z6Qhm9w6Ru+JWXeIZId5+JdzPidLgmcy7rcFvrc5fMx1jsqd7NzbFu4NHLDFav8AEpXrBtMGZzx4mtS4gbxB3mmA6QVeKlN24lXSyvWUc0lupF9dxRFvEGbNRK5mUswW8VE8LjbePMUvtB75uLpMVJg6QJkkO7Qh3iYxuKOPcc9R2xmVnBBRYNn1KRtG5caHoxK211MkANkd5sl88QO16jBgj3lPDntEG89Yo9xT7nwiVeJWO0qqzD3+pYMNxIKmv+QUFWLIMdw3N+YYhP4rrzKrUfOtysal/wC6Qem4Z4lXBLz3gblf5hvI1z/GpXqXfTPSX0GDfuacahrvPHO4me/EHGZdU8nSXjzBQ7T5hFs6y3n1BfmXqWNalqlt15hlBgfqHV+IeOYG9TquF+sw5nZ+IvhuX2wRZ/MxKGUedSglMELnEsG98VAvtMhh9w5tsMcJUaGK+ICYSOuTMtfEEViUVXUYMqMtaNdqijkvvK2N+pEDf0lg0zCM19ys1KOKiQcMb4SNPEekzF44uL0ZfGKlg1uXGWrUpsZT1Zxkl2eJV5ZWPMrEz5gdeYGpVQPqFpqGPU8JQSmoQIYYa6SjGsSsSv8AMROJwNppPI/kmFVlZ7mH3Z8yw2FC2l139QxVKUnIjSfJKTiBm6iUayyjW2VmVAleIHaV0ld5T6gT5gVAYeMkqcdf4uoL1ly2HRL+IU6x9CA9y6d/cHPLBvkgRsl+pY4cRofMd1UDHSCrmUmYLpDtqAf/AGCHKQdVAaqBXKwY5dTPpM6ss8xXYkb8nxEfBEOMZiKjXUUqIkrHHudQixVEXrU46TZ5lWb3K7QUSsFErG6gVUqqxrvGfuViUsrklQOnMrGA/gM3E46wHjM3mOut9ImylUsZ59h9ED5jHQpd3tL7EJ3ywOLlP3mImttLba0/gfcK4m/4rECoY58SrxuVKxA+JWYEp3KWVT0gfcDMrETpK8wIGefiVAuVUpqVmVUtlvxBHGJTtcHGI8D+5ZeTcQI0rmWkKcMfWFYHp3mH3ALxL80weeYPWG8Qa8y0KrCnM8sy98x1G+Jb3zLal2a1LHrKExMnWoPMM9Osd6lfUT32mMY9dJipXVwwKzhlW4lU5lY6wmek2YzA9yvFRMd5Rh+SCnaugN6tfH9ym5U0LrmGk80eGk9P5IHIqt6mvuvmYdq6FCGTwjZKvNqqYp3n4Zb+8wcpi3yI+ogGiJY9f4L/AIVtD8zHTNK03zB24LaCPTMpoV1vEG87GVeiOot1KifMMQJVSpVSiUcZIGdxN94H/JWexD/LlMqV0ld5Xbcr2lVrJMvEtz5hFkvr8y4Az5TIzXsj/pEHTmaKHmC3j5iXeamTqovWFnUvf3N9ovuDntLO0HMHEMvWVk2x236lPl8Shck6ikF1iBkuHzKqd5ntMQM6nHmV8E7OtSsynXWUe5m6lVA3AogYtuG/cxXaqvSpZ8BFCaALW8V1loVCqdzhgEFkguMN/T8xGloY6Ca+THxKiQFHnkfJfu4TMCg5q26hm+iwRsxV1q/giL2o8p49uHqUvRObyGB+ojTYvvKTwbNSr78ymTHTYPuICe/2/BEmKZQF3th40OS1fzKuVR5lXqfuHGpSjmL7mN9ZeN7l/MMtfcO3M46MMdI6/EXzFCo5MTV5mb1rMxKVxE5hfziV2zKKlBdSmo22QEdTPOoFl3mOEyV3j7hbzcV0mHaN8Ns/UIPmXd3A7wygTDmVqXTBr/kIwbzFqLu4IwpcYgvWGTMrNwcTRvNSnrEsrpA+sxafPMsBodf77lQ3MJ4Hh96+JdG9S+ubwSq3+YGOvWVjmU/EzcEMLwTatEUnF8W6L1917ekRECdCbPJiduBUAK0PVPuAb8Fl4Vt5r67zZSoANoZCO4AsjCIJVdG79y8EQKpAlp3hx6cVwaB7KfmDdi8l7gVxtPUNgZaHduVZmrlFSV2lS3ia4yfxuVH8w3e5WZkuGOmZqBXSBzAiU9fcc5j0mjU874nMur1Lx5+I4zcvBmXj+oK8PzMt03LPHEFubzBg7illwBfUTLKly6lt4uW3bqKOpk1VseuLl5l3LeNQXxD05mmYInmX3lcjiIpuWjdy57g3fPEozJiXXZKrvUqvMpfUpzjUIll1u+PfT8QNNZkWAdn/AAwubRx0hluy5RyHPkjCdK7VnTfRPj1EuGotq2/op7kGirukB47f1LAZpLPFQKzUPmFm4tGdS32NoVHftwTVChFC5oOxd+WOKbrC1W8vjiXhFQFNFg5zEopKYw0ADgWtcOY9XVQul0fa/b0hqaQJxaW/axmMHCzap9jT4GNy1XLa8j7GvJAWFKN1G/n+5eQogZqr9cStwGVxKx5n5gPTmH2wigrVaAgRgcQzfQErVQoChQ6zyzXK6cc93RD6DVUJ/qBCBd3iuymodeWipVdW5VDdQlVeIFa3Hr0mP/JjzKpgdJozzArFahqVipXP/sK/4Sp/5Nu7l10qXrH3CmAeoWMPfMRNfEzqVd9YEma5IqS6ZYcS+9Rc8J4nXOoNOpe/7l0de0svzBzUw5m38TCBrLUAy71UKwvjidIMWlt0bouJVYRoGm/DKFWNClvcrBThET5jU0LaXj2PHr4YnNDS5R55/MPWNONv+yZPEK4H+ydGNMQQGx1pXUr0hB4CVtbRM14w+Rj1glQ0glfGn4iX0p8O5hUr1ATrEEZD7KQ5fj8wDSc7OsKia2cPy+PMtd9z1m3HujpiD+GkFdBk5Mjm4uMIL3a74N4rphg29OuiK7OqbxrMAQLbG2nOXrEGW1MFKZPCN+2FbKanV237+ZiaRvQcdz69RFFLulH3ECX2Hy19wRRAVovnRHJJVrWv9SsZwEptGK7t9Dtf4jQTbuhrB/cSDiCgaDx1Y6ZFxo9z/UI1DBJae3MulDRoPBxG7gN1sIC+zESSkAA4R2K3Mw9ewH7hRrKbY/hJQDhgFYHwRX/Ydk21mI8xK4lSsRMRMEQuVRKuJbqBiViVnxAax9ys4xic/wDJaGOYWbg9IPiKMvHM6DzqJ2jy1zKZ6TT+oIGtysu5V8yqblRHriU/MDrG/E0nQjmLReYrrL11gpTz1lFXqOkXjKJD3AUsNbUf3B43YKyPr/kUNkUt/cOGFkUWzCj0zUQTNoj3EyMviFpbIPFGyEh4FDnsp1LItBsuLb+HXmnmVTRk9Ft/3MA9Na7hYR8ZPRK5jiV70+skOe60C05POYZ0AA5UTtKZpmFVKNKvxLLliob4AcrUzgRi1vEampo1AGVuoPhaqBfFenMeF2EFLmhWmcy9i4dmtp9N86hLTZxcnJXbMPM1mtitHzZ4HSFfArnfU/Z8QDazZWw6YMLnfMaGtwUu/BbLoAyW2njK/BH5KsTI7rv0RKiCNRXqGlsIatGWuHiFDJljbbj4PERVKuVcq9ZZDPqOBfcir51C1E7WyeiVirujD6z9w+j90P5g9GdglMBIJZ5g54gf1Ax1lbIhz8xzxHDzCs1z8TDr4jtje5Z2TTknwlqrMStbgOY21NOYo8ETtEAZTe/4bvgmWA0/uchUsbMQcdfUAe0p7JQ5j8o/KL8xs6zMs4Z1Ta9VEh2R8qY2HxGtxXh2mev1ARQAtVqo8p5EKUXzEoI9nVnRYsqraLfcHQHYJWqcDlfBthTEl1qetOUjE7bWPbuOLZQZC/BLwYFhxTdDxGJQgUVaxnzcsTzi3Fo9nT/2UyqyhMrk+onUKx69HrrEzL2pysRCQcGVNblNpr8QhIvNg1KFvSK9qj3VrcxRbTtFmwDYQXlF5PzE/Ma4I6GgIGkLCTbsROiZ8kp8gb4zrmRyJxGtqooRvZfZfzKtM9Bg439RyeqgQEvWNK4QrfAOcwG54ak4C1ZTU6xT66gFHgRHyxsSChtL0owRc0omaVsoxUTcGTDNdqao6RnrdXp6iVL6Sodj+4cNP319a0QIAABjEwaqeEvZh7R8tR6MTG8QfM4b6QkoahQ4qB/ApWJh0gW8RtzuOfmNeNSjZLdILQMWyuCTIXpCaw+4OwahLo3ATIe0QspiUy93VxHFYgPB6irVS2plGNYhXiUSglV7yzKQ6nEt0uKHJcTtErsuJgiHVKrnErncTXiJvEQDg9TBuVQaRxTAKDAYohc5zC0xrV4jD4U7HhcES9SYf2rmHexRFvxnENq+wGKBSouwP7i4q2gB9mYMXnJZT2zbzANasF3Znm4Twa8XR2ipbxHqloSlULaF3iKmo4YAYEpobvOfVwg7FyU8L2vdimiBQoYYHFWmTxCBalFB4XkXS0FYgtpYbFQGlDnDFWg1XKzZSUjbxuASW+FsnaK2b41AbYmm1i1maoZd5Q9KC13BnIRU6JCw4byonrRbBkvyLT7bglbOHt+zSHyTEcjWnXNZr5jZ7TayzGKtMAeV0QAdXaX4h57sWqCjpFcFQaCBtxFnH1ODQjrowuUGRjiYY9kLLjMRPCeGeZgVFvaKd4N4ljiDvUVBr3UtWsS5XaD74ncEAs69FrHJA7RiejEXa0gd7uWNksMJF2NwVYfUEbEzMmLhfMbTASk6PiJyVDPUMZRjSU9PmEX4/MoeNSjpBd4iWBcEfqMLyJhM1AyxHDRBhqDBKioAJVJYzGGG0CpRmPCWRq0RpIJfIzM9ls+xIrb7gyFV1ZnUdNCRE2fc5hY939SzAVdMQ5yQ0qgmlpodM9Y7dRYb3xNpbUarkZ0FM1V3rmBvHFRQVaHKby3FZmWlrg5V6d5eG3RbtKsDrWolEoIRBVd2OQmRHKFULlHks+pWEDQCUxdI8bz1I47tAC1wu+jRl5E4PJMGNWsR++uJEtFbAXmLfTmsq8mV/BFgiBb4ORXNV0JWnl7I5pern3KgUoDNzV1t9RSoayxWquAjZpTPBChWqMLxq7lSps54z/UCmjl6AZ+5Q4JEdFQPpio68l6ao/cshKg3du/QsPUT0iOnxF+DtAJA04IDkInpjrHoXcFiBdMexhjqrluMQV55h1RpuvqIVxE7NRi4rVxQXXEt3uoGtsUisxTxKesVMfuFssNRZsIheoGtcx7onX8QHn6jbBGkamszbTUemKD+4iYlg1qW8RWWXmB8ylbmOJTesO4I4ZSljDOr+SJ1LiAOIrmne45FPxEeIK8PxLjr2S/kuX4C2KweKYznQS6nsWb9xjUTZY/iHIHhgW9Re5lXY4RzBmBSq6wC1Ku9G/MYExOCt5W863qBOSLSp2pyPSDPECpNUFUUbWIQVgFW/PiJMSTgC3QcFxJlJ0qWVla6IGbvrDiFTVCsKlW2uFjpGoZOUuG8N4umC3bqUGgYvrWZZlOEH0q6BdU5q9S+3AKpwaNxBkFrJoM9KdepjZikbDiudYIua003yNH2ymFmNsx0/W4ccoiNSg6b0xBmsJQrU12W/mI1mJwrmfVnwxSg2A3a/oyxJw0FbVWV+LjG0CGB6y5LVaBtXgI0agsoN12gtIwF2UQXqAvMbojioh4xEfEMbiblXEo4KinG5Z3HQMTHLgmFYuUc1BrPMTsjnrUR0iIAcwXeovcVcUdbnJx0lVdTnrErnMoOMRQxRP8ACKXxUQvTGw4qovp9TLZL3OWIf8IvhiKvTUrtUQGiCVg+Io5D4zB0wE2cQYGPUVwhMfEVJn3BlqEt0n6uAHD1XlwRlRnHSnmwT5ic07UnF8Fv0StH6GHyU/UHu3BoPpBiOpbzkiqYddI+0UQbE5lXOBY1y0u16SojzRKeEOJZygkRQUNGOM3Y7dVADa0nbgawIZzzFqh8OoHA5USWh0mjWh1dda5mviXkRMSy8RZLFMbrFzc2J9Hg0rPFSmROTkaaaeaYefo2Ve1Yc1zLws6AUyWm9QpBM1gttF1ePmN4VTu2j7KCVHIsHC9tp4X8QEXm282vQgeYUemAGKLs6FhfVSOuTa15cPkMHSukAYIHLJdCdUynFQUjZK7Dn5qBc1OxAdIBjgqJTZKkV8xpGhAnWiKxQZsuK9ktfE08wD5lfUUXMWsjiKzm42jZilxq8+yIVoiYj5RVZ4jSRMeYIlYi/DFXaW+ZioE6QA0EaduIjBTvBIVvEDzEp/yK+nxA7GebLPMLOpU3434gyC3A8CbICWBAfS1CNIqAu0vH0wXLDuYl4WWaFfMVbgdykdxKI07tKrtGuMUIb+wPmZ5qGYboLS48GrSUni+PUeYQlFvmtyiKZNt7jjZOfMKwRnC4Y20uXzOekuCck0rIVu8grkoPmPcaSZExSRtLKZJE6ovw3XeoPU98zRZaUgg1S9KDMaVDKAFhXN7ONd4D6TaGNYOBZf1AAMpshOQr8XEa3Q67aGc145YaGwRoRA58x0hThSAKfKnuXnK4N1gvFqFdo0UFSa8YxwM+iJVD4AZdK6FtffaAFJOsbFzoMBrFy/dmV3dgHN8GXtL4WlIF7o4W++0xey7KnzG0x0jA9MRR4Kj0JydYkdzDUX5i1xFOkR0jVaiGJrcaXqOdYiRV4/MpNzNTjkjf87lW9SIr2idpZyxeSL3i+kuLYkWRM4SI94j7j4iN7+Yi4ziIh0lLeIKoYQA5TGIYUbjcgUxYpy8xJgy4yGh7OviZEVaUqm6z4fzEmqmXVlD4uVqrI92gfhgw4qLoGn7WIfO2nN3UQrmye6v9QGnWowGg4zFYL3B8Q82IBW1Bj3pV4S97Ah92JrXaz+2DcrQSCdaYkunvLb8w9tTbqoKeRctFF1jrqWhk4zZzFBpgDAEcPGYrd1iIj1GIEVNqtqwLe7qFW0lLTqHfzM0hsBDmhS/uJtBrrBvzFqRQj3MkSUeqAW9aI4gCCES9q5K7b1Caeg5g5CxsxnT2hCGaEAzGuG/uJs1QIJVmegB7IMM1TWjkB0ioXrDAKfIqKzQMWNZegYjFwSxgvy3yXntye49a12I7WaRqU6lD6I8K8X11D9nag1KbbydTEO0bmV2+i/HaPyACzeq3mCwrgVZXW2m+0KGUGjv43LSJLd5hzmZRSooxDWFiA7uIRrrmIHJE7EcnpBfETETEbOkvOtSy+ku2LWItfuOVRwxGFYTMW+0vWescnvPSXHHeonaUgHmo65Io1UXnGIjWDMSIEqIr3Gfmu16eI7GxpmuMdzTGZCFi4aYfJ9kIdbLjhwPvHzFXsR2vP2BjWytkpWaM+kjvsbt4ET6IUk1mspl9EZYVbfBf/IoaUuPTX5GVKsQa7xAGKcGn4hcJ2WGeTOHwxaRxUh8CftiIVE3c3R8ZnNReYThYvSy2jF256RRl8cRoVxI1doYPc55ZeTDHP1CQpdUdXtFt6wWTUFSW07OGLOYRqihatOnaL4aNaWrjIjX2YZBXCqnzE420QI0KXEKm6qB6eLjKXimWAEKukBYDzDPRQdexaS+ih0lsZWFjHAjmuMViOcDTqx4EwvNX1JQs9g582HK0rJZ1lr4g9NBKLFZxrsS0M4MqvYmfR9RRKa5qe9pnkPcCqeKhcbax9g9JRWBNnHP7leJQRXacXamR81EdkEMXlRT3KmNUim66XT6SUUXFyjkQdncsiLiCI28TfMefWKHbFZxcR6ZidsxL3cbrrBOsQ4n4iHqUJ2jqLiI8S7jd+I88kX6i7iu4u8TjxMh1l9YLPEpTmJntzEDE7R2d5b1OkBeSIb0wCyqZTVWpndJxdbIDKr+RO6ejqNW25DqZHuj4hSWVLoNj7M+iJmSsmqME+iIPFCtYsrT7PqAkNgNYpYVQuhdA79WPzLb4aXgKA/n4lSt4m1YPKrB5WK5LVoDq1GCikNlg9PmJoXXNiF/M1tmxRX11MtytVaasVQ8Sp2tF2Rxeo5EsF0B9EEbwQUDwy8ZidXlioh2CJ6ZgJiDF0iG2rojEUqKkbyMCWOiuEGnNPNREEu+ekBhqUzEhBLMPPbrChDddMSIM0lKgSpWgUBioAW0XScRRL6GQLmzYdqhrDMpvItvmyNkYU7ZwjNnVBjrCNym65zA6wviNJk5qEyPn0IL3MEfezyFbMQEtZal64cj49xZ7Am0GrUFnOhj72cZV9+06a6VLpKKBoBwYfKX3gW2Uor6F1T2RIjIE0i9Df4flmYF0xv2Jjrqo3TAWWOUG6U6VUKoDRBQhYnNeZQAAAwVHBiV1moDmIdcRM73EYw/TEQNmYh6RlUqq4idOYG8waxE7MqU27qa4uJnUTEE8TsfwA+pTzHpj3RF41HlFZga/UVuolPSURte8puCbeKZl0U851FO7rjriFG3kOlwYQrCjFkStuvMN6pKVrzyaDDFS3DMymm6epccZuIXS8DIZpIZufXQv7MGdgtvNosudgtKS2vj/ALGmoja1Yp5qHfEFixcB6THYlMakAe6FgdUDl/qLGavtrAwHOMvojgslEVdKYPUWnQ2NnVA1MhelYOtglO+kS2IVBSFdYLYvDxKshElEqpu3nrUYvwC6rRjMubYwk4axGkb3cU6lqKr1WXyBEji1tyf1CsPYaB7cONRg2+IkHcFeatPNZhbHleKCCRsAmyYiBKXMA0DHZoUGAFVhJA9kwygwRQi+iZ/NPeM+4JJ7tidyzxBkQZ4PnNubpHtFBUA2zrtPj3KpGFHD+LFfdsCsZkAejivFG+s26FtOhg5dxGOBsA6nuEEPrvFo0Dq1zlDnTh6xtCFj/M0+dd5cXC0ksp9/MUDik7E6IwiYAoAoqW8fUUixd1E93EzzEPES4rt7lJG460ziu86pvjiJwRxFrcvtF4qIJr+4hyQCqlEYYcYPPXzDrlE6xH9VArYJ9xR6zssqkcLiLiPqewjl1lJF1qKvUCLRAAAop8AsPmVMQ4C6u+88dCPrr4987fTgga90tQfB5+4Y6gqr8Y5WsGjnpB3UKgzNq8r6hp3KrNKosVQ5XFrEz8N6QEFfKt0NtQ4YdxAQtqdqc5gWMhIOU563iMGrZ6QQUFaYeTdaNfHMZfYoyhtL3dHWHCLShoOVJzmr7Sq0xWMrq2Z1fGI2yQ0LRPbf6jiPopeMpS04+YMH1jodoqyDeddIK4l/xUrMMu5t/HqZ1wFZRHIOicxABVaALViRUoQXFimsIm+kXucAbNM4ezUvnBpEgF3XY/Eq91ZgUpmnI26aZgoF/M42X1cWbxuLLxdOWKddI1UTbynqPwOMRasphIOA+gTywY5n7iF15qnpFw0gshOL9nVD0QKagnUua1Z2TxAV1KuidCufY+Y9OACb0pZ8V4hSiZFBewcJ2XxAXnQ649nJfR+4a0+4smHUy6/ht4nUiDqKOsW4tfqKCLqpYIn8LXiPVcbIGL2muagRAjd6gP8A2N7YvSCTm+stzAJfEaO8QxFeJhyxAiGK6YnnxFDpjd4vO4vSLcKPEA8ajCqaVp4A7GLjMWRtMugrVy1vcapRJgXeV5Yfvy+XvTqvK9I6k1u5XmUtDXAKryvPaAeFFBaHl8r0vUaDmCBOTgaLyt3De+iQjlCbt5cy+aLYupCPTUvMCnDwynkAAoOordDIcx3mBAuuOhwd4pelFW03WMOnLCl2qEBrKF6JdbIWbfB9PeAprYRY5rqhlS3UCdKTcTPbvKp6TTK+45/ls1maqBeI0WVCI0jCoa7sXlHLqVhMlyuRJvO+LyTI8QHddEuBFavjrryVD28AWHfaHpfqVdCw67VTCc0nqDES7CPDVL+H1EYU2k0d/VN+PcVF0u0M4Q5HpcOFYCwreNv7fEREyqNLTZSPfcvvUV6Hk/RpgWHzUpDxevBAU1XZIEaz1YaKPmNmvuLdcScIvpTqeYHCyN0pZyviL1fEQ2z1F6PxOSmLvTFZ3F949VygnYmTmNo+UtWGpuCA1abjXIRCdJm7JXpGENMQXiZ10juia3EeJklrOWWOYg8xxY0uLxiKJbpED0lsO4OcxZoNYgFveBSAqaVbSl8sDmrAscdgaYw7JTBpSBr2KAPJRZXF2xA4bK8RxniWmXUDlYiooJTVx7iqVmd8Lzm2F+oqY6wy2lwvDctop4ZZ4lgrUbul+L6T6IlR5n9fxWajwEBuBNsB2RbqyqimysLQG9ZdZh1LqrJGsC8X11mBFKFHIl7E2dyZIBhMjWOxu8r6QyeGlfcDQ7/CBPGVfe4tkPkOhEOu3K/8/nwRJVwe13Dke1wsRlpEHo6TxUwRA7Ja9teq9xszLYLV9h1KXbc6tnXs625q2ymWrByrlRUVd3XuI83ElWxGCjNrYt3VRe1cxDvPWU6QjZx8ROhEaUXG5QfBKLo/E5Y76EULSeo9ZedEQdh0ghs9QQVg7SlV9UDoIhtoz2gnQhY0eosxDOPqZNX6luhiLrB8RRNUxegIvTPFLnl6xBpZYcrFK3LE3KOHcB5hLxrmjG2X4v0jFU2Y6zL6lDAN4trpM33XKs6U8xwyFGJisPzvtET60AtXsEFzs6wzfSobcRtRtyLwgQ6gAtUZLRXpqYhp7jZFrZZEto1k4i4qGY73LpqqmFetWFLnnrKV6Q6mAPViFfUUe4FOpuDMcsN5hTGEhQdXpOiHSkg7twpydazKxdSgRBrpKyGhxLhwCfAdJ8xCeMOgg11ptGo1ljcab1ZU6YemY3EkRkmwLhWjfGNRpNSjWpedXvw9IIKgionZ3VZTPaO4iUdIcifqUJC2m+tnge5UpqYNxwtMt68Sx/gzRWS65qUxTxOisemNub/gX7xSOY2f8ivSNvGYnmMNnU7EbFvMco0MXLd6gBZUq94gjRgJzxFHMt5h6xsaxLHcQeZUdNYiOkpcRzolmvxBA+4jLazLYaToWu11pzClG7BA97iLGjocwVdWsSJrBJKPIu88Rg9Kxu6lJpagUrsZV3d55x9xtyTaN1QawaJc+tatBy27u6PxAcxWWuRp60G5nT1uKMsU84i44lktXECy1qWGh3MusQyy3LqyfaDM8mJRqOCbzDMHFGgKWdHrHgKRKpdguHo2eoNeULIW+WLHDq27qrxSNVnxFdGYR6hydzGJXeJLSX0I5HXaGzECVpyhtV9KHnOYO00XvUFylYeRGE5Ux4bYKsaRKYIlgMTu0VsRPmME18WAhNAaG7wZ6xyCgdvoBhVSnZEiinGe6P6cwDeYljuJsig5gJxG71EvLGZaKq45x6o26+orrxLBCCD5QLi4iWLGnmJVyhiEuNo3vFxyyMSGHIRT0loL5lYzEpOI74ibjEI41LSX1lviLDiMX47xa5qKdI8SiogJRFfUrhyD85Zn0F0dxhBSgHMsM0GJeRLR6bjYm0VhVN99Qw0VFWAbQ5vJHm+ZcC1AlBaS+W67QtFSAWAr6L/UTmifqm2Yaoosl9QN+6/dVLDwGK1L/UsshAi5bvRzVRsG85gWn8a8TfQCqgKO7BoxQ3qZ4uVRxNsRNXMsR2MUeIy1ReEqCU3nqlPzUskus4ekF0jDAAw1vTvEJSBkkap0i4UcTQGhhUSkOHlHEaJZogJly22hiAFUbspth0FXnOZe6s601hOibEjRXSJBMoeaLePEXsNouQ0jc5XD03BpxCNlCK8hEHiG13x8HPxCB7izCDV+LGVBFiWJyRGuY2JtcF2gzAEuoseYHqLGJ2J2dRV6Y5cx8oLus2TcU1eFVqHlhzV+ZlivWFqwzFmEjGj6qBWM7sBdBIjxLH4hXmEIY3JUHiBe4h0weKIKYldSWxVcxWu1RMS3/IkiziLHEbb1ERHG4hRDY4Hu9+pQtBSwGl9uWESxiwG70lZuCx0AxpKgKclsx6MBiNuErsG41jRi31WNvLuPWdMKfBWX3aX3MLXJVB3Q2d1z2gwJgPI7Dirx6iMMVURWlXvF/UVvxsq9ir0Ax7hjGBDajAOPvcMDBgAoLKa5lCpSLeGnWOYmK1QIaLYQqW3gRSmqTjUHe5nzLxKilRw2alXkM8wb3zE0Uq7DTQjpGtcQst6JTBoimy3odaQLu+cQ1zIEYlJT2+JZ8Qt29toOjsQfMSn3LtJ09OdksFKrcUVqRGmrHiBeoxAJQ+aa8ROZohCtoY65hwYsiqAHPahOjLMR+UY5DwpjtKWYlNXqlCq73AIY30iC0LhhrfQIZYnhHgOO0sVZMuoFxK5Q8zIs+bMwy2DpLlB8xbzFHQxV3PWFRQ9QF0Svo+Iism95irwK7yzQY4YcyTzDNToqsY4DwS7Or1bjbnEu6fuCXd+IMFsHSlQaux6EBlIpwfiA9f8AIrOPmPV9EQ3F8o5d41WUGUuBB7e5g2RfkiIoRHEUKiEHfrAOxo/MQtYC0XhcDxFEYs1aq44JclbVuKz3YaoDV+ZcI9byCg+7lxqOAKR/piW/zqbUlXXf8RjTwEFFaPgr4YioPWWstsOgnzKoyVmLNGMurfMY+LahVyhzdfcG6jrgGgBZyXxuoro9wcNg56NfUvTmhIgBVmKK4gkIKMze+GsQKXzuVT08zBDu0UxdXV+GU03xxOsrBEslI4IWBcN4XXqGYK9YNX0vVxulUbUxfSFeylm6vcGuIXE5ZdahbqCNArS6lYlYol9YLAJknfEcFojYmx6xoVL2H02muTGCXzqs9J3NL8QLHhWAeguH0ysRRLEyPuCqijC/YShRirwfx18oTDhizmKIDkASXrWRI3cV2ER4inEvyMHdRfR+I9Fz2j4VDaoB7ZhIh0hT5liyYq3fS7liDOBkPO7ihrbuvyc/EXLn7twKiy9io41MApuWcBvtFFtqusWtj7i9IV0TYX4lnLBc5hedEc94Cabr3Nm2JIhuYdy9wCAVFMo128cwkRsla1X7g2VAB3aqo6WBm9Qf8iAXyBou0+IdBRleEHXtv0QooBEChvL+YFBVAYqqlkdlGF5WjHlIJpdWryq2vtYQ1rC6y4v7hj4wd8b9xNxQVNDiqPLFhq1SCKCX1OYid5wjXAC6vp0h8wAXIYwraLa9JdGITQNjeuRxETU5aYbTa2mf/IlqaEC6LZrrdPbEFzCGoMnAHFBFv5jrtDArmmi0XuENN5oZRUJSEo1TomL9MKyqA2AWn4gzV5lG4JbpvYKZTmo00wAyq6oig4aWUitU9Mx6vCwyDV2POn4hMsuGC6uCLcDsBayNjmPcwoRaGxHuNzFIAtmh5e3eYI6phpXXrfqKEKq+IiR76UBavQI8iAqEpHoxWsAppvNdzdTKMCnk4R5HqR7MCk7Xf6IsSsRdgCfHg5PSSrbQFlXrWz7h/rgTXk49zfH2Qxz5I6yemIcvuHeE+YUN37iV3jaIZS8kOu5S0Nwg2EcqB9wKJzm0vlqLoAzwH1UwULwr5C7jK5uh/mpTWUaaL8RzqjVNKiAg/NoFdxl/SdoAvkI8hn8j87hGELukr4qGlFHXaYq06iK4TzBaavqRPlKL/ad5JYYWK7PqPeqi1+peKrnEuG4t6n4i6u4s5i+sv46S7uWQIEEApmK0K94h3btgpaNeIiwlhXTOpTAA2mbX/YBZa6q6tD9VDvMAusv+37g5YV+4hOVfTEJnEud5hhgZ7xApUcixtYRBXSGPm/mJWhT9QLT3TCqRZto56wuu3m71ei+lkXEEVLoFC170X3hTUd4zuu/+3KbptAOFqvk1iLmkbINMCQGqlBrbV2jR8wuqOGVyhbsTHZh7dCGlNMbOrKaDl+Ia8QNRBQL1Quh7wrqkDTQCuvN9yZvCQQoIhRy1jtAhiSoA2ONZQ9syCUgMObaqyvKSqwBEgpSq8Ad6HtL8rAtqoo9QdXsXmUMiPdAIgeRKbMlZh+qhrBWYF0DvC3YtXOWlGisPR2Sg0q3AbBdJnDKKxUUgzFDSVvki6qw3xVaHT45vEOnO3gVeeS/JeeEC4wqAHehe+n56qOoYNV+QE7Z+tRDTsU9PUf1xKGqi3aDWNRz89YNREhaIBa47REYeEsfM37uWWXdpFx0DLvpEAqnmn4j0LtdBtiK56Sl+L3Apax6BcQ2yrbfuDubieNeao+dQDZjebfBFL4MZQX+aim4cBr3NOBwaIHSh15lRzfLUakR0W4Ql7yWjdKrtxEcqe4Bu0am8Sqs47ynYPiOaLuFX2nQj1A+TPSAaYWul+ZYb+43ObTvFW5fmX74i1uLrH3HAwR+fSO1BHHiPWzNK4nc6gIAAYojgkQkaciy2AVAdK34jOefGg8d4ucKqFKrcXLDLYzVwFN65gl3LbgJ0gvDAXmENLIKoRqr65l0cpioLyvftcAgBq/u+EXLV4joNreF1YuTGIvppYVPKOEqvcXsibCzDjTHLcdS4VoR3be8D3UAr05b6AR0iLoq6sbrWYpRVsEG+u5VarolxESumWMEUxFqdVjFzMAYERGuz+ZQ2emkTNL0fq4MOn2g0MJc3Vl9e+D1N/BBHMwi44S5TUKE4AOr6JY+ZX7CWrYLv77QCxosKtyxoNdiWQDWVWeTiVczOlBsro/XaEdXAeDxDQNhviIaKEzKPCa9/RBs5qh5rp3g9g1RM8SduE6S3lflXkR7fYkFCyFBitGEaW+opKq2rZmRMOOozPbgV00qtbp+YcIhboFTLsRK9xmQl1yqdLPYw2DWkB60t9VHLpNrZV7sIK6gZ/GvcGHcan0r9QUDDfTytwNAaEmk6IZ8x1YGLUxHlSu22LVsr1uV6sp1gac4iUy4iHlja8xWaX5mbb8xerO4xd7GNo3ivTEdsVU7EbbSUcx6XMCObyxEKvcRiPmN3qLa8RBf+xCJeb+ZnrAqcwGbxUt+bA9wH9wbhoODxD5+LleveVTFvn+D4o7VAgUCWhBD5YNhLrIOd4JSvGtGW/HQBD2keCnUL+iKaI2Cp9VClKRVQdL1lpq9wK5lVAFillUdDqXiJRSq2q2saOYLWZqJHrEOmjvQy/r4ja6lCUabT+vuVnU0nmvaVCkV5TbnVVLxs31gXI/EMwjSy8Wc11z9SmJ4Eyl3UOg2TtOe0vnD8RXVxBGCaRK8Fgg7EbEeG5bc7cI3YYxe4i0lQQgrQZWDDEKqknPzx0YFrKw6pcI3rMzeVBqq2bOuPuF40CkxLSPVfUojOdUI2Hlp3LlLltMDms01fSVnQhCUKy8UpEsx3imSLqy7bMlIbNdIiVwINpri7+ZgyxgAv2RA1W6cD1qJZUtvMQS9YfcU4iTz6lHWJOLY0aYiOn+oreYj3/wCwy5fcqm0i9UEGm4rpPHcAGYKXURTfqDzU7vUHb4gT3ErrFobUY9NsUNQRL+SUOCCXMoh5qWbloI5uACQC5e8oLddpg8VCCTn7lLVb7NsTQbOQafiIEV1BWLrv9wajAxS3LdaI7Fdw8SrCLQoC/ERGkpOJV7iY1/BiIuoMWDzmXTur/i/ZFvWJxmUx2oETF4LKi80aJfpEQxmyPzFEJ8O371BQPRKCddfuOFLA6lihbzdEKWcLUNWV0yS/aUFq9Jtzola0YurP1AxMqV/gh2GALNr65iCk6LPwwwVl5ADXm4E3XFIr6Y8RluE8He49RFunVO9VUpWYq0i9ctyqFgpVK+4TraWDL6oJ9x8eulQjyKMU72RQKBQbs5rjxKVJmSgviUbS/wBxrCmGoFl4KaVdqhBI07Qw1zhfbEESOeqNlI1h64iilF3iNq2sFgdeVWPUajUyqHb6O3U9xur4ghyz2iDf4gOfxNMM6NiOKfiHXfEQ7/ES8s9Srs+piqnxLdhFdVCS7eyF0X6g3bs1K3VVGP0iu7m1zv3gIWMx6zE3zUA6o8c/EQ7DHaWORBOBYPLSBdQbpj09domXT5gTYvqW9Kl92MXuDXA/EbSxHgqBqyUuZjCA3SRid7VAlqholiICe2M1Om8g+Okr9SKLd+VqIDthL+pRAg2W8Of7glVVc2u5b6MmqIcW+IK5gBpBofcpuJTnpGyberPuVHEMkPITrdFnFtmgZW7sAFBMbzfolg7wTOjX9ksT+3P1DwU0GSkbSqdaitMlwXeZXrQgd76SoyNQKByvdwfEr4jpehod6tDMLYyV2IC7PDL7wS1Qt1V+4iSAKloX8iyvcHi18BQQ8KnipYslcKHYXjoniLTxOBS0K4BMV1I1lA6lDSMbuUFVyOyM8bgKqVS7qga6lxlpJlOkd4RGuyRlWUuFKa7ys6GQUFQg5c4xKMxa7lo0meRwzo7x8x1a1tdPBBAOM4FaEGCzUEJUotpcLa0CvHWA66rSobVst2YLgUuRQ1qxEUOcRR3x4WdIg+PuX8n3FVKuJHP1Bu5A8MTMfj+KqaGPSREhN27RK0RVxBswbjTwoKXRMvCPTIkYr0ygZdwAd3Gmo9l9Y9hCuaJqaiUyEHEMXbpAtE3d4v3Z/qQPT4gc1fqU7FbvL8Q7c8JDKemqri23N4mr7Kgk8QGC+7K8wq6ChF8CtfFxJhBVtX218EQYVUiOzjMQp4H/AEgRZZLWGFyxbTKOUO0KFrVguuxVownslkLxZ3aFX7ojmMoHhyoua7P6Y91AkCkosVOtvxEyRkcidqYwFYlGI41DMIDiBZpdK5ivqlmAvnLxEK9JSArnXjf4g5gPg/qDJuJMWOfmMBm0NC507xXSJBdvGKfmLz5CCMlC7FXnrFgGVwpStI8XAqAJRcyBfFOPqCnEVEImRbBL7QypAkmAODBZk5GNiKMzQQJjNiodoZeFXGRApVlYbxcFasmGqIrwBpOw8wdomwbqaepY1yQX1NTxel7OoOaBBAplN7UNHeuYXZ022mD3GmUCdMW196GHG4GB2/Ewb6iErMH0Y4s6XLLWVjp6QmGjSQqpvJT3wwbXajBAIBdbPtlLUMjKza2kK6dGXKRi7FaUu1S7dWBL7es6Q3gAmBBu4uVgpBL4bRrgL7YIdNY9xer8yzaxBqAcMTeviL7LmDqpkLcwHMo5jxpAuyK8kEvJB6kybJYYuseYpdkRNnxLN21Ntvi5nyytcyzFwc2XKOkiQ0iHk+Y00xQ7lq3/AMl63F5imIwZlnWICuGvENUG+ZZKBiZVawXUoq45TgdMxfZPKfqmPdrgKq/Nv1FsV+mj+iKa2ohKrsQBLba2rwZ1EdG0gP8AYZgCgGnKYv4qLu9MRtWL3K6qFWaF/FW9RwMriKWfdfcalRLoUWazzhIl9oFRxNxdp0FavYltQSaQ/rDWOkXRU2CaliiG1YEQwGLcMsMaYAGgAeCHRM+5U2oMeGyCGoI3AHCXErQRDA3m+VGGWJr24OX2CV4hLWZ5u25fGscRDDWppQg+AruQV6jC3w7xgbhW08Xiwoeo2HiN1DC24J3QPqEAcDY1rY4Fo7PaojKJVNvCfh9Q0HnRsF0eUf4hkpBG12TwowRzcdbXX1KRjuCsNAhQKymwGqzcCU45ElgWX4GJUyWeyeK3LhvENDs4r1G0okg7wiwtUVe4eo1aA5sRvyRrDiArseudEBRGcooLtdIeZge82DeyiP1Eiyi2gR6YW/MSXXrXJL4AFtcf7tGXNoD1MOvW4qMDqg36uUlFtoou3pKQuHwoP5x7j9F72h7uZAiUrw17/wDZlZJui/hihrDWE3DoqDag5rVyvslaFRXpuHrWHNP7jiGOELPqHoyjqzEtH1B+EgbKZQLdS01x3izhi/iWORcqcyucytbg1sIA8PmW4PzKG7lLv7i7rjbzETRjqXFO39IZh8AubeZ7SksBwkwNfFE+d/UOOSyDSPOW/iJFmQtuXlFfiNio8pXwQYoEXFafSl/DANQ3cVDVlVEmDOAolnqwlPfMCNYQWhBXkVk9ikaWs0C5tddF+CARCxjJKF+j5jmIFE4A1ddUr4l29KizFsgXUry/AMNykO3VlGtVgq+VVt5l6pFzjK97j14iDf1dRXUbEC3S9fMeqY0pPkQC5Dz9Q3LA1lZprkWugdA3HPA/6qhECqr7lCrM4be2SG1QvRX9Si3+U1jH7gS0V0JLWnFVjcKssIUgyi2KhO0FlDVk3exBdVATPu9fwMLAEVZDl0A73cHUFmFKx62LrDiDcEJWSGjF0mvlKsgggibS0uivInMGqsKBsBT1sH57QNq6hs2xTaA1fRekbJvqiwU50Ih7XGuDZ4ps+WI9mK6qpC5TBHm/UdoKclCXlXYeBIOm5oWyAEpoa3URc9pZrgWvuCuwGgjnZ/EqbMjYbRgOzkIPc1id3mbPxCqqN1rjqhdemWjkwFs/UApgLVYB7IvKDSJmDdXpi1tqihusy2yS+8BIK+iy27bgTOWJ0xKqWu7+Is2VvcyFue8AoxVGViW13ywIGbux6R4WLLfcwBDG92spiJ4WCqCvuDlWjN4fuUSHY/pH0CpyNkLQNM+ZWxj5UlvJewRml8MKyvU0jHi5SWJ2MxHT8QVLE7ohQaxuXTcobBekEKJD5iC6o5Mx89uELfd1DpQasXo/5PFG9v1b9xpbLTUP69sVreGeaqjB7ZSAhAApWi7OS8neUsFB9DIP5IPRpAvBd1+IVqbr4NJ+INK1jXqWfg+ZieMlcC/tMCaCEcw4XeDiPBlUbDWGnkvT0/gdzKMNYKoieh/cD0EAaA4g37io3BHMHMHEH5g29ovqDEFVBC2ObW/CSsogFqwcBUeNu1+ed3zCQGGNJChrI47QVoQ1egmgu2zU3A+kx+GovZ81FpQB5yEd1bSIIidwX1ESyuRsQrh5V6ibglrteHrWH1K+2QRFyDW6ur4uEjEmhQyB3G67xBlFrte0DyX7qVWBUVB4HRQT1Bzmy2kb/lV5Ro3EzIZI9wSUkOxVTTsezDp2lFmgxosstvrLwsBnBt0ImEU63BrNsBUNKg+S3e5dMd4U6RvUdUQ00tiHfFYDqVUFiwijZ5Y0RhKpCfDA3m1C32SyxltMiumY0E9QqK91xAVzeavXEUqb6BT2uYbSu7ZnpXEpK0Kam/Nkusa2ULa3etx1KOS2PvpLBWIoSKVeOIFqd0Fr/dJnDpVCfEHNDpxhcogpALzV1V+4OhZLpl+K1GjS2LsTrKlSHKw+YEAHTWGDoKsIZRChDgXKPqKgta/W48pY4afmWgYJrNVCqqxkNzHMBlS/qM5KYumA1U1gP2TiuDNFL5hhMxwB8UwJtHno/MBS3WgyuEozuqtJfF181EhsYiTJ7IoOMku2AL44pQvJzBqeOk+Ay/UXabo0TwZfbDjCvLQeD+2A1QwiHwGPm4+FRrsSl6Im3u38jfpJfp0UFrIWeWyHqTDhaiX1dnuLLAqjkWwfkIhQrV1g/YV7glYrSGsCVKQhACEAj6zUWc5YV4jc00HTvD5XCsKvvRABQoMGKixBnCAuXzCrytacQpuHZiigfZLDkYDC1gUhcIKRe3t0ajvf3A0L3FtRKS1Jro9YJkVJNrQO+n7i6xwkj6cQKEsdy0QNNOomH7+oy8CXYNl+L+CAKVWhYjd+B8XHQr4DhraHYN10SEZdBJ0lieUU7EZu8W8wt8iHszmEp1yHxdeogKbGyIyYmWC5jo2D7l4xIgM0LZxvZGjuG9D3MldqIdFioldraxryMtnIKmc5vSN8Ux6oKwsJ0PI/WmUGF+YIwvDNEfbNJ7m5wB8hA9E1ZWIU4L1AJaDZkuZyG3F2RV4N3dZ+dxvSuM3cviXqxGoMu8rzEc8aVWDVVOHHESpCYoaJXQW+qN+Rl4KrEFQPqEgUcuW/MDVhRkKIQGl2axICV3UJv27tAF+oNqAd2XEuMdi3LQsEeQ/ELVKNpg/ESmk02qxiprbVX4htHuwBUlsu6CLd6CCDD5bWAEqbiV1gSqDfaBsatOeYFcVcAWzCwU5lVodbiSJBQqKsXe88MpHbVBW+vio2ByvoXp9wKCiAMI079sFpH7paXZQ7hauQALo9RlbRoOGlYL25iipSgt0vAdiG4yAKuiEQAtRSemddfcMPHEOyFD3Ec3EdWZcq8xpYXEGZtvpMSZXyzGUHupQIWvMFoF2mdpQ5IyGXMCaGwXk+oOlo6Row26ktqXa5apZjOoGJ5BczVZVYJcVseMwkEhkYD6yfARm/hugVPF2VxuKME6UKGsV7luECs2XDno2RusNUcJLH24iykKoMtS+o/KwzZzrlVJek+GNtERrIpC/Z9kctoXPG/wDpBJhEKrinS6YWr+OQMcvFjCkqs1MNOBWr+YW3me4mLTh8XKJucHUHN331SGSxrBFfhyP094tXe4srBKplV18Ra3F7xp5+IqvO4uNxc5l0Ra6S6vOY0iooMLNsnhgAyvuCQz8oQ7MqDY8ktS0z1IbVpZKILzRnB7MsKVTpcXI+ZYt3a3ELdrHOOPcVCk8FRC8j5mSlJ1bgV3iZq18wXKyu0vFt8Tg/GAFjK2AOtw5aqlaE5LG+9fEdxdgAoKS3+4VfOSEpS69pIP7j4FQvL6vbuRMIEZQs063VkKIiVUSjfSFRkSxtui3prUTMKveCoAYQW0egcHEw144RuBAXmVCRKTBsyezGkUpgVo8XL4bQULrzGtIaFlrS3+dGBWEcYp7w3GQ+njntlfxFSUCtqHe6mR6dFCe5qi7woVEYWVy710wku0R1A/mLYqdPfzcATA5K3U3HMEpiu9zWX8Y/j+krgVXE/wBvqYMVKooPW6MdqINQuKUt+cETqqMW0PkX8QIaTKfpVxCOOFsYkL2NWopsaRh25Wxr5YPIoXErS1oR61cOWcYbEotXRPiGJ5rJYg5K5Z7Ig9YogGq4zkE9wJ4AKawKV1pemMjKIbTqTuAe2UKiNGGwU03dkzPeUCaofYw4oqNjbcoWsWXcGwoHV3A3Y9c1cXVEUHvDjHYWuLIAaXbi3kA06G4HYwZWv1tD43EoA8N90xbUxMJp+ce6l93pS1pSWZMcMDQyaRH4Yo5Ij0WB6RfuOc5YJQpc1qLSIjAaHvH2o6Zhc0I8K38Ex7l7FH3EV48OYp6wFrTESnVlFZeI0csXotROuoiGp0BMvHSrmxKdnSUXlIt2+YB0YBqjvUNSPiLowfEunEH0ILGD4m+nxDtvqBO92lB1ugZXYmLByDT033/2IFc1LAryvPiYgYj0b+riM0k7TR+ce46ShdwgRLPF/ESUTaXeiv8AhBIpNYVb/wARS6jztp1f1HMq4VFHHrdjuwx4qAAB4lwis7w/qJsC81GFFkeGKFrtBd/mAQXxaxw0KYxK+I41C8lP3CzffQFH3Aw2PWt/iHUqkoxIlQVvCP7YW5eSJYPYRi48apZ+JlZTSx9NyjHVm1L8ar1ABB5AG78/qUpo0wHyoy+AAAwj201BljPCr+ZemgrqK+Vg8WXDbXuvzAG29KJXq4OrQGqqvzU0h55EREROqD+YI2DwsLLDa5EI/c4HnMfzGLVwYtWU55F8Q4ZENk1Q57j9spJQQpFdbqXCgOgsGnBu8vcC6pOCllC4vOCpWnPsKLSL2rjmZ/0l1WqQ4bBgVVIhojJnefpM9PcsTVWVSFZlElk05abacGE5DBNaqXTAeFfqLqjkvp2DInuUBrYB5emGAavekFB3HW4NRllxT2u7hWiWbQ/DYN/4mQptjZfa1McoYF1cZEqZoe0X9sU4BEnAe05V+Y0ItRG1jvG5tfeo3lzB0RpoIG6+4h4qJXpOC9/4CzuWzQljMRLBHjMRWle8Q8zyY7ZCIvPxLRwynFgg3hYJ4XxAdH5gN/KXUXrLHCQa+nBdHqvEKoZoOB7HB3hNVdbVnY4O+2WIA5ASsEbu7JbErP1DIoGltGx7vPqbY+XRTT+QYPS3otgDr3uBr4YBgDsRy3BeOsHYsy6D++0q9HauV1e8tAaekwEJyq3+ZUgrrbMoWwvAOZsuuUMCZ9gOrJcSq4hgDz4lvsqwozYrDOWBC1GkLoj1l2CxBauqcQMr5CufuJcY8WA0+SNUCdaYPB13Yw/vKOB6XHmS3BbEvyqiuQjpeIhx3oOsHamVsmvaZqvqHlFwZQr7goVAdZnvp2h+n/CRgXkwb6SuaKaHcQ7Df1ApASIyEb2y+YMeLAxdrjvlX5ghIwVgBX7GbwhaXOckVUGC9xFfghEUMkWpl+XzO/bFSUDsvDd831jWkBBRBy1tjRbZAA+YsBQExj2x/UZhAAUL2LqKgpOgX8wgcqtKPI4gcVq6Ed2jOfEQp3aa7rCpnXBEq0iqsA7YCzzmNgyClSr8P/I0OkIr+X9TO1kl9wHZ3Li77S7ZF8S96kegh1eYgiRYm3ES8RFha7QiMH4iLkp8RU2M6rH5guLIjNsouyI7TpVjld77wwq4O9uJnLYOyHbvLRZrTmr5TvxEttbysPBChhamnEIurBLPFXHGAtZXGz6SDdLSwo17sjJKqpwtlA6TeajiC9w6hNB0630ilXK1t5iBq8x0FPmkPcfQvaUxEVvpCDiPzctgBDqrcCste8spwA3Vxi7biLWSCDFXRY7lvll0QcubgiWV0lQE47y6s/UdEszFHZXSVKB7y76HiEtYVm24XHxpGh+v9TSspumyJAs8YlZcFc5qXbgK2vmBiIAtTPLAIllEUybFncR9Ms1NCtKI4339zaWQlukhOKWRbRLgRL3zFZ01QAgq/ME5UoIE9lWiMQ0+bmrGykc9410ZGwbk3Yh3zF8YCAqsOUylL3gCWnQQH2LXxBcg6FvLohYNLaALPbFpeVaU35JxmzHQ8i37jZBbwC+bb/UFsPOTIfiAqFAwlX7zHyCbLGBRZ5RqVRtR4iVnvKmWpW5LphhKFF0M0FPTBsE8kT8RVauW4xEXEVrrLeZacRezLN0/MbDR2Ite0cuYqpddViveWP8AyKTRPeCDmCqFFcC7/hUFjC6vNTTqpcIn/PuGFMKhtDAjxYEVububhnzBZCi86WYHVjYS7Epex2irlF+YoMXvjJHu3zLjlvHWJycQHmo8bZfrMu2U7lSfEAmFhbktnJF9iPbZ8QDsH3LS6o7Mvc/MT+iY+geIUKPvUq0i12I4KfYJZLTzN0m+ekAKh6BIbQOHRprzcGaEiMLY6ZqPohKovsxonpsSrG9Oyv3MDF1Ayq2dG1aqARzotC58JULW55BtMVFxb7NxbNadofLsCI2tx5p9RvTNyKLruVX3KaAK1yEQ3yXhiAmLBbf5lmBemp4jzSDr/RDq7mCn4mGRKsl83UEFNGkKTtTf1EDReNfqolSGbjF+cSkAOUbV8YiObHcfVwyr3tDNxGE1fXJCASBd7+YQgqYq1eoEaO94H9xa4xNIf1G/p94LYB4SAuFvWcy1MGctxzwv3USsoJwMQc06iRNr75bpTAKpXTKN4q6sUF4TiLcMROL8RYba4ljA7lneblsdYI/8lnpcoVgJuU6RyJekuAaPmCHoIuCG5V9IEBhw8mau3od4TIOd2r1YAL+4ldwWji4EcblDiW/zO4EByJ2UzMEEE/2IU6PqVNR7jAdvrhgGj0MQXu4WobpdjgQgl5OaH7iCjDXTX5gLV7jA/uUuxroGPAFXQO4HRQ2A2Q3YjdCxXXg3QteYpy3D5KVMfeCS6SGqNQoFVeoIlZ/hqo1U1zLJA80x2CUwXBQh3EpPo+JY8FTm8fkfcbdMd7bd/iJ0ihvN6gABa1Vw+LcvDAQrkw+odVdX8OzxydmW6XLXNPkgsaQDmBe4LWSLqtHYwQUBoKxMYgcog5NzykW+KGwsF9zmDKa+1iNKAe7iUvcKIjrqRnNnqBoJ3ljqrmC9JQjh43KYXUAzbcpW/qNXe5YmafMVWA9rgeMjzKVhaatxGrYB4JtfX7gOPuAbPzKvMD5mbd/cLEp2I8EFa9CIee25ta1EmmASr63B7lNAGVl7TDdM+lhVMHBivUHFfcWlKBgTt2jQpR/MqA3nAvXiC7y7NS2hQddwL7fzLS7X4icWK7RuoVdUjdh61BmlVwYCFVl14sZhajk0NRNF57oagnT/ANQdCxHkshK3dbKIYDR2JcFcLabYD0iReOSi/Uz6xEq6Par8Re+5R2igJO94wL7d0lEoq63/AFEUy09C/wAQBm9SivxGpTH/AMBWAajij7WXH1o6iILMrK9h+YBXU2i/9mTd0tUL80wrcxqxQfKFxkWCcIL9xKzV4Rr1OfXQRXxUC1FtFV02cmvEuyk5sn4jTQFtKz4gSFEy3v4uES1blePzApe7NX8wK5Id9yrZJ4LgHFb1URuPHECvT1pagBYulJiMZj4Yg4tfCSnFge8RQ9zbEd1+Y12/EdOY3DcvqKYUZpFXuYRpPbtFmYYYZe8zKBfKSmhutRDG8d4BfJCDOcAbYwtTjfBF+ZUTBA53E7IFytEvicV5X+oB1SAXtAbQA8zzKDnMXtU7m+rgDtShz+CZ5F+CNmW3xUHoS5d8XUepnuQHb4gh0lFsAwMifcXT9xc9u8Dd8d8SnBQKM67QdIjuMrJQdi2SqaYVWGOlvgiHEBNSFbHKQ2YI9ZQao5IilssQ4oK6QgQ4gBgGmH83lNPaA22r1RCBwbxRTDIxu1Z+iG9rtVKrtFxTwYpPf9QclyEbT7hgSbaI18ktjMbH8MfiIkwaKr9XUsHPVqzvmKrCuRf7iXY5wv8AcYt+IwfEBDug39QxRjqg/KRuAnez9DEByHn+pSoY5538SmqtotPyQBQx0CfmLNtjaX4ZZVk5t+QjbHwOGIubUi07cdo2W5kYY/CU6xjadGI5OalxYwvOZedRz3FY/IZf1Lx3m4M3tC6NxoynBwEcyreYLIW0QYwl52+IGOnQRekHEuu0Wf3Bg5qGGIGj8/wV/MoPcyWteIMLHEaELRef4F31hZH5ZQOYhaVrxGG0C4x7keCnxA7b1N/9waZPmPrE9zHxlRVvcsMtxBFVK8HEWbqEMZlrwQ90MuPuZGgPcyaMR08e4abyveEj37yrK+1MoUm+hlgrT9aUf39QcJHgzE0le7+jEO15qJiezov8w44shTMKu5dENeFm/Pj+yVGY1QfwwfS+G4R9Sh6SjCdCT7m3b1T+KRW16APkqWqB6Xb8NPxcFPvYInpi2xe0Ut/heYtRpzFbYvywZcvPOJ3TXO/4AXjzen/YmUq7WMTpHBXMVAWriiCfEv8Ab/UAAAMAaJSXmFriBirUGoDu3RRukcibv+Nwag0ZhvrBL7Q3Bzy5l57y9wb6wcZQf8sWTLmDW4Od3O5UT1iYzE1tKiHWUcrAsy/MqNxqC8EetxxM/cZaHuOIzXW37gUIKMy03EzcEdpaAc95fb+ZZOfmd03EOYFgy9AtgYAHqtvwf3BUs7Lo+oWi4Wll/BmX4+cqB+36h8jUMDHlbPdEUdxIseqaTxcECObyUr1ADyoC2JSBzhbKrzKUtm4MLpTFKheKUvrCQd2uzqdTvA7erDj5Zf7jGCPesQMb2Z+KheRXF0+2BGM4W/Vx8e6L7H9RQCdxfpCZJdLGgV6WNqBuzSnhzHj0tNp4TJ6l5cOSyHh2+z3L2UzTpXzNYsoFNJ8j+JR2LYHZdjVHTtDlqx1R9lnzUWaQqVZ/mflF+O0XMv5ixRfmXR/2DnrXMqK55R12ItmZd5gZlXqFLRyVAOFRVdPcCBa/A45fn4Y1kvt3KcJ9icI8UzIgImKqDNv0halAs1AzhxT30PrvKrxqFi6uzsmfnpBwfiXm/wBRdW4OYPciFxAvLthiciHZ/wBQ2jmtv6lOzb6v6ld0K3aP1OE/KINdTziCUZMwaMQdMHi8wWPuYM6if8i3Cv4lB/2eSI1lIl7ZVjL+YpW/mUNwAK1ABQwqoT5jRuoI27mD/sZ5qJIA9DL8S8KR5/pCggdqAfqZIOILX8H3DWsOY16Nfc4AIg34rL6lkn3kC3jK/BL1AX0UH5tiapWkrWdZ/UX9MOZ2iPsX3KeWraACGF260rD4JLXgK/svolUFqV6Ar7gLS1sbCgo4qxaxV4S4gN5j0wsemkvnczyQzZr8lxYZDYmfiAdHkmW27RHg9yPCOmJVPTxZZXAegIX07MFlEyK0PFf9huoxWsPZYlQ70p+Sv3ATbAEynR591HdTSgMt3XEFgIW0KWm3etl047QR9MzWdzIOgdSD5g3a0d/+Qjal8S+tTCcRaMcSzuxM1B0wsTkysQ1mDMe6wdv6h6V3tvLL6xwEKC9Oj6f3KVE2V2Ww+1Fdw7zFQAsEv0PQaz7lG6Osw/cbwuiCCgqj8Rab0QhR4q3iUFuhaC0Gy87MZ/uX20u4bfKYVnXAY2OBL6kpRelQvXdZjjs7/wBkKgA8V/VLGP4B+CFmAvgItxeSv3HVaTHR/cAVSp1oGtFWj+yRbmg0l2eo8CCxLUTY9IlIgbIKP/Y9N41QB82Q7pRBhfSj9wQBCrq694jzFRBrzFFXMX9x5HX8FHAzJxDrcE5+4B1nJuFOFPcabSGFiHVwQrS67FHzGm5KsPtgIMOgtvmoqjXiyHv/AJLoToJexX1HrGBXW0qOC3XzFHr0Yoy0bbvc2pM9NRAGgzeOhFKUmpmYoL9jDq9bIwiqpgEIliXFJpFHWan7J7hnzKmuQQfRLhGQKrtcrq5tiMaLQoXo8EfgK2XM9B/UVpBzk76ZE6X0f3GK4XgH4RD734wM+mZrE4D+WJSZjQRtYYtADqwU77ooX3uKIsrGh9mplfqxgHDJznjEWwtqKs7pFay41FWtFDq/qKzFMt2jFXh3BZSReYZmFpamcQRoF5wRaLzHcW+O8esEuKsqYHO4LdZikCDLxfYhAAAaNT3HRBKTgfbAr0iBSlqhCrDMHcu4QLVcqPwQQWMbkTgQoIwgAha1c03z3iqtERTua285g3IVQJrZ2Sw85gK+UDPumBd/MBR2WYrSZ56QayWCh+sRoqK4Ba11M+COxSCIktoF5RelP4jAlaBaylSzuf1GpC6qh/EZUNt2AvxDPoomWbprkevzLcERtSZhpUUqEp8ajAudbUb4LQ9hGmGC6QsKGgqV0EdAA+qggKGyk/qXyxG2niVSsWI1Z3rnhnJZ5IubrEDZA7Z66j+f9SvnEQ03DBh1EbuCWRNb1MlwOup4FgTUErMI5+4B2wow9tr6hFiLd/o5ZfVnVpfmw9S2dsWKB5Bz3+oj+wtqtOKHzcvmFFiwGAV6/UZWqegX5loW92yFiolHoZ/ARN8R+VWECK4MAtpVUfuG0dTcnRfQyjiJYK8pZtDu2PgURfWFM/FzGFpLqqP2R7ZUAqucGYNQDwTdI8YgBADV0pdRbc5YMZRCJDAuNZpg8umruqfMRY2LQAKhw2msbrpDbnAAg7sdrfgK3K9DY7tw3+pt2qsAvuNS6ALaIUbYG5Z0j7HyfZHWvdi3x5GxO01de4vMeEWLbmLXXpLz2i9GXLg0yrljiIB1uDzDAa8QcSgxlaDqwQbKuW9QKCV504ArFQ4TFJXpz9SmV95oVPx+YNZo5EgfbFY2gIodl11qNCUCoY+SUuLjYJwjWEcPZlCUdcpz8kzs6gDnrZTAVC7sUFYKusUbuHidoFVekUMN5TnUwrapQrYW4odKHkmp75CXkFa9S+4rCiYSGHW8XzBKOQANZEbDLfc4IPUt4MW0K14PwgSWypj0XJnh1EXLSAicUxXEC9MiaGN/4Ly9sMz2aA+EqTAYaS5ZQfQX/qG0AijAOazTi8DfaBVSKRHeIJqCbg5L3B11mCBXaBgo+JT0EWYJjrBXY6hOQMqtFQK4Iyq92qDvmDEsYZfsU+vmF7QLaKBnq81BJ2pdobaXtYRdFC6MEUHYFPcKPt+oRFKADyK/Z/BnVzbllWKJz4lU4NYhoB6INVBai0oID83MFgo5YAqJSmC2ANiuqxlxAArYYA/UBizkIj0yZ64jvqNQgE2aK6wGcAQ6Uk+K+pUjYR8i/wDIlbDw3KvlfUOxfLDwPUvhhtRD2EAPV3ZuoMkaqirF55i3UY61xb0QojdALbU6k9I+DvlciyWWyB1UdAQSrVX2KpPYpKAoa1ymR81UrE3i6pn2loau+sCBVjkeJ/ri58/wPXriL0i8xrrLzAz3gWd4mAaldHWqHmGCukGyDjm4V4RpFV+dHMGGLvM/Oj7giifdPrX1CEOW2lZgkFoPLNavJJr36MACgdIq+aiEaKKYURpx2w/qBkstFuDTZ2qVdPJbpPaPKINBHWzN4smTbzbF0FTEYtKdQ/mMATGMNfcNeGYqoKVbwtDhxGww5AGvZcD5fP6oQitKtKetRSSJkdTi6zlrKVihvxLyAhhUjN9vcFORSIlmEaa0QAo4FA34RUtiXyCtcJ1kRvMioEheHJacbYI6PjJ6gsZhbrDLiyGGyEFdwqY9zAh0y5A6fKLVb6cVBbVHPYu98sUBB0c1/wCkpvsFUKtVM9gfcAYFg83b9FThUQuRaLcW0HNrW+JdPYqUjgBPmMss9S7U2E45Bp+ahr2iUO0tfJaxn4TFc1b9rCt61cqOCo1feNOBO+ovVb6wDIA5Iny38Q5hC0Ki1v7gWEQbxR3hhuAzoF/oTAX4tVPx9zcNNoC07ZldSF8uYiFVb3Rr7qFBYGHCIi/QyxgFVV4LP4NW8RU1qT4b/cXPnvfST8MtiXCKGgbOzT4uX/37TkfhH5l3+ZdjLulsN3bx3F9IWYC2YBNPzvywRYKQ1hQdsidk6RzLuKy7SceZfSWsc6ZeY63xAm9OOkOiwbOYd+Ox6pEFdFdXFtAsVEOtYue9fL95uSujPyTP+Nb8sfdn2D8RnK9Y+qmk91ZfklCWAQoNllliJ1dytMFViMfu7pSNNU8PeCykzl/uK49r9jKZoi2xMnMooWmxRaMETCvwxalXrWfRBz8VH4IxcICtpYtLyYx0th6gIqVK3W8P1LoJYYRO8cFi5XA3jmXiq0pjCEr0kG4b+YBrIdSO0jc0bKu/wD1DU2kWU0t87l+TUXmBwWbGSlF5NdweIVFKiULpGumTHADhI1jjkbwnUeSUhQDq8XKsoPcH1d5IdG33gW8nzKsJvWWA6leYIlSg6xOWAd2v0fUNC+3oK7H2ssRSqMK7X4CJGYBumgVNOSWaQhpY4p4szrrAVbZQHvN+qHWVbfj8SnDOkYB5PWYdCFjTBaArOxn9TkzF9tnwvxKIaDaK1j+2UhLStFcQ7bBtNblfyFEYrtVoPmNBMWqNibqjJ29x6gBA0wGcOFbXD26RbYZRGx1GzpkPUtgt0bfh5jTlnhgEofQ/MSolLfKBZ7Vj4ekyBjI36gpNqUcXGc0t4BFxhaWUUbgKJAta6n9SvRLbsLA11UPcSdFgj9wnVkfgP9Pn+OUzA6mk9lzELTUraKC8v4RJeZVHc4i0wsCkQm1FPvnyStdDKuThOyU+5Qk0ouFNfIp7XglpYiI0jhE4ZdFy8y6JxLi4l836lwKDC+oquk7MHGrlBp63BarPxCptvZsBB7T7mW1mFVcxVCgd1mAFB8S0P+QRMyl3UuttQUycR2tXRL6Zn1IQAzpxHPVaPF2fSSjsWABXll+ZoTsln5lq6ItwFrMS2xN+BLfVe4xZEn4cP2kWtsDBS8awRVXHbzpjoxFRe0tv4EI9HS/RyfSRWx13h2AqXTjdH39e0dvaDWQO/YnxG+wVwrjrErQC4yh+ZuDZCy2Ul9lTOguiU/KEtmEKDw5MemDAe2KiiVfAUndF89Bb7gPKVLb2O8V5VlGre2YU4Xi2II2leFz9RQXZHhp8l/EK8GytKiW9hUYqKaAAoVwGAqNRwq3oA5+bfiIswROtGX2q+4VMArQ+F3KbNAqF19wCLUqg3d7uJDS1lwxqqyzZmmh/MuwTyiEYq+V+II0qDF7toOnMcIgus14tfqFZqOFP1+0oh0Aa+cb8TNRNZw1dhrmMfmhQcw2rV3WIgNLtGvmkhl55ztqN+79QYyFFqN5avFj/AMIKLLN425fDUGahadroEdz1CBKgqkzdHzE69iJIUsGkvozPG5xX8JCcFVxBC9yGVv1C30iM07iw9LBDq2W1Z2F+5fEEENBbhv8AMaxiogcphrDmGU+oMYZRlLRbSeeYuxkLpe2914HzzHBmZQr4y/UyKWkGf0jwNFFFUtDh4MeAhY0EF4R2PhseyxjdHcrjtHzvyMTmloUtAtD0SusPeopyF5g3JXiVmEbj2viUaSVprxFZy+ZlZPXrK0Qu2lG8mYT4EA67jMeoq55fpfMGC0NHqYLFo8ZmxVdAJVVk8xAy8EBgL/PmJ2Vzco6MHjL/AFHiEY7tlVUtLOHtGQPgAutd2UNDaZwMfCgk0WqfpIBTsIdBbPpg4sH3FLuGgtUHJXi4p5aDqgw/IQrhlSslNGK84j/0UG7s5L8kwDAsL7I/cA8K5d8mH6SLMjwMwTDIPAiX6u/UESpW8IOH8nxAFW8AWwUV01VZ8yzFEQocRFqhFLeYVMKq9pu7Lqm99WUYozCDBAz2QrgDmBdGxekqky1zKLpFXpKjm+1wFYW4kFD1iZILjnRX2SPSu2cWu3tEYcqWtl3d11fxAKgXbOJTx0dxo3SN+evcg1VKqovcAuNHxFAl3bWCq68xheK0R1qjMFy17pDvQi/UFEbbsA8BZXm3vCOz3N1Vbx213OIKAvGKvio0aHc/sZZPGUr84qC5hfB/ZF+jvbbLxBsUjbZ0zKzIoLCHiz6jwoBovD7D+ZXnAcD9r9RHgt1wALHYPqS6K1Iur2J0cRO+2IPltlLbTk3+7hVVnQH4gobSW6vzHPV5h9OO4ZtdfNB+QmrZ1c/NxgMGiDnq6x8OoHCAHoIUW7WpWTwpBJy9k7InaBZWtFSzucPhqFi9sEwPX7hBEgnSjWdu3dveFhbgQ+Lr6gQZUZvoMeil1xfWNFpQR4SxPpJcS1aVF+aJdrdSgvlgN3dQu8OYjuJ2DrBSOYGMwcOLIAF3T3mXp6gKZVkTgb/UUVi/0wAflhHAYhWQvDzMqiX3QRFFq3irsjBA46HaJ5tfhiEUHrEcGVPxQbr21KH8LHIVQuxUpWPmMBNrGhfpZbNxpar5lEVYBNlVh9+ojVQDZmih+KhrdLgEo8WghWOjfwIEACIuqrFX0Q3A29m8nT819ToXh+xjjqsVvyjcSBcM06j6K+5g/AG/slt1by/2l8WNBdvs2PNQN8Iz8kc2HwH9ShUg6TH4Il0ShNUpzv7jGnNIUylPx9xC5K71BGlWviYFjXXrHbNODpAgyL9w1WFF71AYECECkaFtcnSANdR1ndUH1BRlq4BjpbALCCUp5JlhdBuaMTPhgLLugFfYSqivdav7Y6f5/wCERHnG3+pZ9L/eBPSmStP1EGA8E/UCz6GvxNzlaLTHtl+YjFWUPDABV0L1FFHgBPmYQ+90fjUIHBbUoCWtK0auZXIoLk67h5HvUCG7N7T1cWd7A7vB9TSxIPxz6/gf/wBHEFrxL1+qllKKX228QRbA6RROeeHiCy28ZogjgK4WC25KZxLBiOcjG1A9Y0ujmIoXRzmZmA1FBKAekG+ZRCqpVFHRYWkjRRRqxLOQbviNC77N/MHM5d/20+2OYtmupH4CL6FQ5P4gHhTrfywOTvbfzKdZR3NGHiUy9skfiM7FQELW8uCIuk8P9wy7HoH2ES1p/liC7XTDmPsZtC80/olmQHh/3KPoF+2CfhH7IXPIaQ57EQAT1GQRn+W/uAcu63FdQh0CILoeJVxbFBMA3KsElmuaO0tXLc2qIFFKNwOF26QWDDWsRpkOriK8IF5czmpRbAfuDUIXip9ogFo8LYNYxFb1iYOn8O0RC6xH4gwQ37B+42GokAIci+XEdSFtTE4WjqyiWq5rRGWzAsBFC1QximDSwXfmj7l5UBT1QV9OoSa+QK0y8PslKp5P9D9RQct3kXqrD5PmXOV4JEOqOa75O8PHSWvCeufUH/6aEU25gzQBy31iwraXQydrx9SvyCoC8azWEx57sDmawNidf5RmnJ7BcYcuIL1QNt6BwO42WRUFFto2qoecwUtBWrICpoMb6xgtLavMLNoicVBGBA6wCKMdWIWVGusOoNdriC9KkO53ixgO37iO4Hgfgjtetn4myXl/3F9qJlmz9p17e2dlDgMGHEGZeKQot974iItnjMWsiCV03QYON51Uv0fMOgRbgj1auK9zUMtWsx1aWLAWqpUPOEgpGtWk3flZbFahdGemnfi+kzM+phbxG0tNtwAcK9QXB+iB0UIdUh6U6ktDZ9blKLQ1dXuG3C8dLlBvGNVU3OirgYv6muKvpFBKbIIWFF5qA4bGRpB+SAaBfXmKBsM3BU1SnYwMaqXSOV+rNxgKsMvqdZF+jP8AUAtVN4mZN/Ee/DKG8qKcPA8G/MNk36B5+bhaajuVLG7A/Ip+om4i4wNWlATvlH2EvnjIdDuLWfJnrUUBLbw33MD5x5Y3XCgFYvfv2afMGaoKsly/4LTl8kMHzDsI4stB4dx+MdYx4Zq66UeifqLgsLEFKUid8vl6xgFVl4BlC+EF9d/5Mvjkbrn9HuD5RQo1aWL5xEb0naUtMido6iDERZ8kFlUAzjrEy0vjDUBSfWZSmpeEdQ3DZ3imlO42RQYBTGqFjTwnRqMFgbQsIFYTOzpV/k+ZTDTV09Jdy5cuD/DxFLB6Su1VfN19Zlul3LfljBzTF0tz02xiqNigtocH8XLisHBLiykq1sPWA5JZW9ssioe0VGAIGEOF4j3KFKA15ikCnXpA2FFNNV+IK8csQtDZkICilXqjExDSnY2RFBrBypO4D3hlCEVprErQ9S6uAqg5HOt3LrgjjpKc5EMmly7IhaYUsuv1GqneIG3VSjtcoUd3y5mJ9cw4gUjLpC0AOquIFjaZXqu2VyKSnIP8xSr/AIVT+44laVrFjT/nLFL0vqKoC0UrS5D8+Q6ymdsEdJZwxdFoii0Olcnr1LJHcyyu168OOjxMcnjCb6Z57fxuWdKivgRfqV2F1rwGk74vtZF2bBYNr0+Rrv8AEusVEVKVBX8wXUuVW1UZ8g8LHisjdRLH4YtCuAg4b1MlBz7yneoVfJdYCiw8J/xCxQrwVcK5FkUWa7BFQytOLJlFO1YgPDm4IK0O+4GtMrtIgIKeQhUglc4YHADDdxIYgHRcCGUHo1FW0fLLqEeUCBQoe4D5hO1gYAAKDGNTZfe/FxHk8X/UR4sGQG3npFiL+JZce6ip0oA5KkdUfL+JsNq94MWOJZnJDCeH8NvcvoEUnEXEEFRXbcf8uZXdjXMG6inYXFAUsMWlnmIVZfGP1EULarRTK2ttccVG8WKnXEViUMU3LuAyuAYFBvXP8CoqYuvqNDVDdRRtZ0liWwumOBe0fmCfu18sSKghp3Buyy12uWzeVPoiKOhNZoQ3vQDy7+D8w6m8w3MO1PsH9y37CVQK0QyrGsiXnJCqkVth83j3UEItDbPJ0vQFzloMmAKAoO00ll5gMPk/cCAektn4Tt8JMZ9TOK9395OesQliI5Em5uPhEllga9eBSeL+kZQ8i75AJ6tfmOWqhHeWPm2vcc5TpZ1L9sKtbQX0Cj6IjbrzedvxALCd3VeP1MT6BNZtieRHHN9IBZX7t/c3D2C/mCGj4yhQzwifF6yugwwYRswPgwTdO4spHN4Lhc454YqLDNcRvGlrtu4FoGrms6iCosFopFCABQeA6xxgxq0eD/syV4KD+4xsWBEGfD0ihXbewrV/qb7F0YxHiPH8XynclOodYqsAarKsGXLxFzFg4j/Du/4ucQsI+trjHMvfMegrQTPcmV9IEwgWr4aIgMegKgLGi9NUwgsY9CLM1u9VLWygGgSXhGzxE7QsoBgqBiBDU3/AMxBEckuVcFv/AHmXS12L7YuIIZkMkYldK/qddojsRtIuvuIQ5VtertizDkgMTIOhfmB4FMDkQ8mYdte4nwsZgHUAAHYCUu2AEGXULqdEGwfMoBxMiNieY3MnDydyVNzsceMmk67PFkaCrqX0f9nZyAlwQiNidZW4Fd1g5j2T9ykQcS5r34a3zXmAuggBlWR8ivz2g7a0g9LgvwQMvBL1oq5tQU9iNvz+5uCN2UQcguBqnawCG1LyqMRQseBY70B2s/EQlBngGKFLF7wLFqGJykJLVXOS45fBeSpVsNtjUULNcazG9ICclkBSqgu1Xk/uFwFqKZM3jzvEqwKtg8RIEaGnsV+Ij2mAt+bYoWHXX9QcsVlaX6iFUCmWq8j1OaiGuDaEzfs8PzF5am2DWAw7jxOM06R2RtYlK6xM3w+GU1KH+FVBebPmHePcQbHoWMoRTlSHbK95ZshCaBpvOoEAIm9ffQiwVljFcAMF9T7ikxHXIGq+YE9wyAUpbfMBzGsLwKxRaTo2sFdKPCBAk4c7omYuaq1a/EqxoGGvvKwMuLgnU5SKI4/hhhgxYgVSj8/ojEdBSdyDMUWFUv1Dg5S3zByxCg5agWOjb+v92lXvHmAhFqUB0b6n6gxHAC8vaCBouhpHGO7oN9aymRR2lwXLhl6HXbGDO2BnyNxc1DfU5fj/AHQGtkI9SMjI7uDGTUduc/B+REGPKa3N9w+P+nIDsFp/SP7jxfiKC2PUMj1QTmri927DCTG2jW+IUrJrFJ2ry8dulxvaLFzacd4CIDLDlcxuIsQ2W5+rgoag7k1dKo89GW1cGqSsVELWB5iEACdW4OhnhyfMaFcvRthuJ5NwGSs5I45DipVarjghVYiaY4LXYJBpDlPw/qMrQSZ2jRj3GrKQ6qQaPLRFo4ZbCBukKRzrv9RXQKtBsAAtcddd+sJFqolC0IlvPWBekCK8oahqYEyJWLWs1NwJzROuXZFwe3Duv6iJVOClPzCghva/Ux6Me+U7NDChUSNjmATHkg+Leq/girTO8+qkf6xsCCS7awRYMChvXy3b7gAyw1iUygd91wkbtbQ3mfNJ8TXNzSkA7esHKSxG/b11KItU9Wx8RdZ05guFsm1YLlUXzmEgFtU3ncCXLKCJGoiQVM0lMuBpHMfTTVYYcoUiDTERm5WYaHhbX3UAdEcqbP1BOy8JBiymxeCzcyBzi4zWNOmOkmZXmPDzFVRR2EA6mb8D9SxuHfvahpAtTyhXuBQjfUGjAHwwTUGw1PmHVHIpRfFf64UaZaOhzrvUVgoHtECB4tPUXKOIiagu0HD2Jp8n+6RvKvG8hx8ZO1nH8V9xaiEmfXyuA8Yi7iEojkChhqhXZgIqB1ThwH6mJQLSZ3x+oLSnY/7EI0A7XEGgjHTERRFnkNyxRaZLiCs+Bmkhbp0fNwCgy1QhXzBYTZAg++0sqDaKA9qxcII4GogK22kFopcLDdJQVTx492ywBFRepetMCNGE8yzWOuSKmn3DbSpQuLzBaW/g4BVUeuoJ/IcgJVItPJYShaXSx+YVtOBSh8OmLUMtUAyx06XwGV+CVIZAW66HLCBXAKx4ZWKyEHw/r4g0wDHN0v5eJmYo3mT0K/UcYu+Bv7CYt74J+F/EuaY8P1TLQlwK/u4A2asgRd1dJ0eOIQQrFgwt2mddJantXIUZcHY4jPWxYrXY/wC0jDKr0Lm15ZykI3YuB9gvuOK6XYDImcf1Ft56jBTSOObhNRh0qo40SoWQ1SkfcUsNK1gGfhBTEKgq7YmDw2CAvwQ5EFBKc/8AsRQJOQUWyo4U63mCLRVkiIZPk7SknBZgo9mpncsdP1EQIAUWRsjBMjV3BumvLxCgA5qLh1Ar8xOo4KtriKQAvS7ehLTEXtfxFIuSzJPv+oJUvmhE8kAB2a7TU7R2Oz+oorJ5wU3X80sntGKFk33D4LH1K2qUcZ3Y+xj70oVGh4u3F8QGuk22BNdv9mdKkTVnL4v77wG4CQaTL449QSZhCccOx6MDRbBHIf0/WOZyDBLunSemXG9ojfeAQtPjoHxHHpCc2ueqRU+iLZ4gqkA48jGsQATA3f3GkFHOjXmXFivpVfmAgNwyIAfceBTORB+2I0zTSi/zAqqecP7jR1IKcp4alXy/MMTmxurlm8g25G0T6jHbfvUT8QkClFLzfA9ZYDPxI57SBDL7W7ZfZDlHz/XDOQ7Jb8QcqdFXRjIRYfZgHNi12p6jcU9mWPuV2R64V0b/AHsigohwFXCLdiI9yXZqoSB8LHpcO1YFX80vuWntoQQGqB+fcKPbQqERymrKu/PaJc04IXYLA9kcqE4SMXtFFQpplwNUqIW7qKwBY4TfcR2OSJ6RTeF5qrrGvMOXANaKvRv43LgkbZkPsIIKgmsi/VwexYlSxHea7/M1ClEC+tA/bHYo2AG+QEOubqBs3sGj56nm5ZivlGjGjsTK3vjNWwdHJ3KjJsLFYvXpgQcExd8mOZQFNFlJdwEbBWQU/wBuEUEaurTfPuXUWoLW7b5j1pNmnOV+sy6EqhVCl048vzCnr01UKzm6fAdYOdZKm2qD5CNVI4cQDWmC8owbsFQKwZ6sJyA9sxc6AA0HLXR4jhpYNZ6S56V5eWAqFaaeB8p99Iq4AwtHFVwg2fuozVG093X+4ALBB+mHQ4jVXe4Ujjbgv/dma7RuAK7CXp4R8k6UCvV1rPU4YX2RV5ourWvxAxBvYDszeOxLHFqCsvFKOQ+fUdNYMvV5fn+FFvDCspYaTvVfZj1EcUcukqyvIa/b+DHWuNcF1/fxNA6HojqLECUDzT/SyhclBtMhu65v5mQCmlOx8D/qlEPi1ajzLgKDVETLv4/EUxaiwQfuXS2nVofLiFLMWqtR7m4IKqJhHLv8cxc+ItnEtwvZGVSMAW+IG5ots3SW6zT6iJCiy5awD0jFMziRKFMhaPqXomvOAr7mQbGT0GB6pMFusKtFKq5XcyrtfhlTJKVUAsL13j7BNjVjGytMfo+l/wBMU0M6T4BcGXd2Wr01KqCB0Ac1xanqDvyZ2SL/AJzLWfybRvNkxpLsciVVZ817mBcCKFtcJlQYAwa1/AsUotpTQ1Fjg14aylfG+YuXk0/kKsP0KCp8AT6Ah/Ny0sDwMPgxL8i9Vv8AhKudtL7nR7nu4VcHpWPuj8QG7dBd5a1iuAO8HA27Bw9mD0trXC4FBloMK26lUJi/MTLnfRlgujGfEQFVCtuMRVRYQ6brxRrvDLVAIVOVrXHMNIBSJdtIeuWGx5dhWtQ3hTN6+YWrBtgFXVMPxcYquCW+GmWmXMKjakTV0vmF9RvSEpC0KjtHX2ljLdjXYX/bM5YWTOKq7NMKAERUp3v8ywTaZpVhprxZMNzRMpvFknSGcnT/AF+oXO7EoWy/Zf1E2qkyJhPcAOswFw9bEfudHNxpVepllSBcx+V7/iZP4MZe9WvMckF62Iy9A9y51AS90zMa424XR+2ZUmMnMBYrYidmG9I3YssXhzjpF5BnQqNVaNb6h61MWwVaAfX9RctBzWKM8FVDDABQAl8XXMCKSXai69wrerRC5fdfmCjowfgr+kvH7hSZ2w3e5Vu/UGkTZkZSgqgArHeW9WWb7WrcbPZcRUiNUkWxquug9x6zwOEMoLLFrlxC7X/PEDhoV2jWSwqXVJKLDF44YA3l8n9ThT1PwQX2g/1HRFKBQHaPABrug0XsIMx2rhBfV1Gl9mzZo7F8Spowd5qxXxWPZHx/JnvEi7bQo0sPELICD46ynv8AVB8XT9Sgq85yFfU5eKpbt+7gVRMgkfCypAgYAAmW8Xm/UpeS+c6iK6c45g0cEybZuJQNWNkTK27ZgbCm40UA2UBxbj9x0B1t7DvGVABgKweK6J16RyqyyIORjAhRzU+zTDZE8VR6SBBS4tT02fFQNe12qU7Dj7jqPEQ+dfcolCcI2fMtfIj0p+olCUw12hQaUrY9Srrmo7FDWdohQnQpXzEsUezZVpl62Nx6tMw1ahf6r3AOsyow4GsO4LxBwUlfUXyGpRTZ6t4+kwqy9W1cdAQ0g2PmoOEQeEF/JCgyNUJ7tiazAUpz3Fr6iF4NNn+7irFYKKqjoFeJguW1UB0Kt2W1Xc6XKrFJWCWXVLArT6/3DhUHlI/Mw5ClEs2N9kse0M5AJUUcjdtVpK6VE21tLXsMBApZoACdRbb+us63AwgzXF3Z3mcIJTQscjeAiEBtyWDlLxWCquZwClWyWVfTvAAEGsVTk7ceIpqAjYBV351FnDbVglLW8st2ELtP0yrhQRxS/P43MLYqiiguO1kGqWtQKuNXvziXZdy76xeRRu4s4gyJv4gO7XIjDd73mAlnQx/+STPSGu8BtRoHNdfrmISo2Ps91qoIQ1oWeY48sYwnkv1+YsdyqH5uUm15ZfxHB9lq1qqlUNdbog7t55riFnkelYiFYbvrAw5vHWojlvT2i1aFecVLo5O91Bc1z0LuIREd4xMDDorvExtvBfMunJt/qbxTaY7S+Q3utRVFrT6itfFZ5jSQ20HmtR4eojQn9xYB7BU9wgo2MIpE6OYi3d9qx8SpGDsSFqA3l35JkhVwtV5d+ZzmMAxKAAUNA7zBfoGuVK0GKzvmuYA5TgGwdL83ECw0d9IAKsrHjj6hRh2BB1ZfWTG6dy1N4KXaMb1YBbI0Fd0QVAWDsQOQN8SiaLsYeknKGcUf6iNq+yf6mBXPaQUrUasbOVCX5Jc1XUEGmsHV3iKhcyAHLW82fES9gzVBx9RGj7B/uHdSkUoa3lZzNw4y9W77QgXbN87rveKH48xoAA0WDx0Mb+oqB4wrvrtYCjc1SMvSpSJZuKBaPuiWrPaCG3FvQqGLGlM2Vo6uJZwYU0M6pwm/ZDooxYv1RF7sOwDXfP8AcDGtYSwHsq/iDBwjdUfubIN1raPg9yqv+5a7xHBZtjgETANX4I9Vig3Pcs+7jZibUzX1cvBFOit/mW9quiP4YBsDVVzEelQrcUp+O5r5+0abvARIrINokPcIKGkcz7FXShiVcM6LRfqA2XmEhnquZik1eEB7ajOMTkf2QjSau24fLcLo9OCo4qzvNuWLwaxdWSqbxnoa7y0JYAZTE1NBXSocFm8ZxUbFts06rrM5Ber/AFAbx6ZYijLpCoC864hdcgr+4LbOeLYg2WTEFGHDFay0nSFDf/koI9OTz1hirF7M5j3V2qUY06XHOnWFglAssTQ3pPCRogcKk+T+psA1d5EZAiORP/gGn7EE+5hbbYWnxcIFXdp6kUegD0xL+paFfNUNDV66x4G6IdxT9RbhtTtnpx9QLQr5SLEuwcgzXNH3MAXYR+BWByNvKq01jO5Y0ZRSUQcOzMJ35Qi7S1Tuspq9lJ+gD+5QUnp/cRNfp/ctZD/XWMRpQBbU4p6sqjmuM2JWfbAWyJIiFOI8flL/ABCkAhVap1Spd9F21wP/AGUFAwVg3i4JmAy2lBVT4iLCgNibnV4qFFbElCwpy61xLL1tSARTj5l34A8haH7JmKBB4KH3AAKt8MunXa+k05o77IIWLPWLYKqfcbUpZbVFviLiueZdwLbnfEbN3xWp/ggr/wBhThSHnN3ELtrwl8zBoeQittzWbP7llrqXSvzFKMW6Bn4hLBnUBKcKmnTT4l6Ozm7uJQwtOX/sFC0SqbNw3eEDfB6iEaL2Xr5hVEK/cRWXedbmAFH0PmNggCHVpgodir3iZNqXeMpEFLnJjBGgWrisGYqcOvzEYpXVMMlXY48d4lpFF6QuVchlDcsbMarfuCtG7DOYkV5eMQRcLdI4ILOltYevH1K2OQetlf4jnYX1SCjVKNOCiW+jQMqzarVn+/2IoOCl1iLwz3cRAzaOYNlJy34gmXSYE/uNI8lnPxH6g2JU5/jN/wACDmsO1H+yBwcSjaTN9xZifJnkAW9+ve/4IkCECCBQiO7/APZleFzYD3Bv8zVI5SUrSv8AMc11OL39QsTNWJ30/qIwLCG1ARR88wTpy8aPwyyqZ1v/AJj+P1/qWAUA5XrpRPVqtnH1f1EdEwj+oeqZfRKFnSJOY2ZVpb+dRxGVVS88owZw81A9WS4gVFg7yXW8npO8DvaXFbW8j6iek91ls1RcWvPAqFu20ofczqDFI0z0GX0H538jBVLjDgttFUNrlXHFy5QqGxpHWHx99I3QFm3Id/xFW9hWu0Vy6rvFly27e8reGusHHO9QpBFaRg386gwtcXbm41Yu+lwMde9QXwC9Y5OuuooVeuMrAE2hq6uAsszEpHMbOaMXe4CbXfDMgau7b/3eGbp3WrlBs3ZRqZbaq/GYjVFZpW/1MmBXlWiiKKMndxKFBZRd873CsM3d29K1FSlB6ZYUstLVMMcstl5qsSygJfG+OIDYyAz09QI5MXhuyCtLisoZ5/5BaXEvONkEbtXGqlK7eN8f+yiInWL46xyvDFU18yqVHe1i1bJTbRuC3pTXWK7b6BZjrLo3a9fxMgsc7LuVSWYs0axA00PuYq7rNAuIavC8HMsVbTo8RBelnxHrYmSWcphziYBYjSxKrTe2Nih57waHmRyJ73C5lFXOfO/zEQoDVMj7P5IULiJupsgaVZHQGKc5eKvMZFtZqc0qoNIhdJnFHzKq1ym0H2QUSbAPkVUxjAB73A1WUVI9aRx8RYlVnGEtYUVil75ZeQEKpB+YPaLc0L9M/wCbxsptZnOGvVzL0EU1f+xokcE65qlj3ZopULFxb0iKBW1VaviKbW1QLMDRqq3Ag2QtPuQo+ohNaNwDwjQj3slSIFCI+1W5QH6KF7YMeGGSo5CH0JLNKTikx3EU+Z3iUqTtWblidmgDoK13+oLscpth9+4LCIqv9XFCnDrBQ6KxhWIFXtxggl9vGpZS1+OcRFC4HLjtFB39Zg44IW5pq6ipfau1Q6BQqxRnBvJMY1TjcQAtg45i1ZSnbzGihgrMcOLaqU1apeMOotABfCQyVdtXyPxKsKut7r69y1qr+34l01Rb69oBMF2LaRICGa1zNDhbzTu4i2oPZ2l2Abemyv8AyJbtQoXrLiKgt2c3gJQLDnq28xDqA71EMKTVpz0gHnjpTML4rdYlnLydOalaYWtZ+oCDVJANtM7rOMUVEQlVXFZrxErJEqqOIlsaq+mD/MKMlHDUyrC54xCl7ADruDRduOL5lgQuysvO2IBm6w3MGW3vZBcuC6YmRVXV48QK4WIo4LxmZAsaDVkBeLO3TmWFqZz1ljgsDWOkAeQuB4lLFglGLEggpcq38MSoJbVEjHbiIDvYKSK/y/YrEaRglD65vkqVg7k4/dzDpTTVK/iUkeTCn3AatCOzz2s+blEddGGvqUcXdDnDvjP+xFKZGMKYK6UAK37MfcJmIiUi0bMB1icqWzeI7IEcNRKpC7xsJThVCnkzBS2CrAPzns0NSuyjKua8waROBVb2aCzsx95noL+WXumb0/qC006XD4I1bHVV/i6tCrMB5YDAnKrl3jt2gGrsrllrSxsvXTiUViq+JZFlTZX7gVoL51BZUmcQsRKLd/EugBrL0lVsZen3FXLaJgzBUccI7YrdOPohYzx9wbc4TeZxl79WLYLb2YmDas/UaFVd7ssuJsrQfFxu+br2S+SVy1zu4tDeemOYWmR48f6pdN5NX+JS6yHGLc/4ll8JfBWO8SzFDXPqO8dMW8eY4G+mDJ/s/cHJhd5qu3qC1DfdUXx5gcKW2fzEVqi3YISrs207q5SyLrm7uGjmktHGIBNBoyDqCmxEbrnzCgJaGB4itq2lzjk4ibgOM8TkhLxdb9lxawYLqnfMasU+Z1RschW5YYGkrqxFGzSWWa7RFYurwv8AvEQclD5dygbDK71/5GjbwaDeZShEb/5BVVC7M9pSK0y4zgixVFdZiwuhaZsK7MFi4pxeZQm8mezEZbU88dipaGAR6wXeArB0jy3lCmHh4gXRBfAeSX2CtXK+O6mn1Ko4cJUZf84/+iCgcEziYarWVqZ/mu0U2/RP3EyyHkj63KimrgX9sTD6+GviounItNL611hTgna6iGlFOdGOIILnRgIpuy8LDLeLqtSkHSXpe0FdpjitxFDTbjrUvKl47RHhd6hRgGtYuIumXVHMsrrFdblWDpx5iA1Q6H/Y7Cs9e/aAibK5JaCVrXeDgSV2mDC6cXAj081e/wCmOjY6LmbN1uwYqUq6yl+IhWEapOa/9iqaNNN/73KswYTaxGi1RrvePMtaeMF1LTsrthIYXCvFf7pLKWAXtR/qgkAF3e1NVAxVWhS9IIBu2nhcvNxaNlF3iqOZQMEOVx7ja5LdGN+CBTRxjLbT/usVQXSrzmIvqw2ZLYoTLfOfqAgKXrd19wEULDRVSxgXHxB4BHR3jnC0N5sO9QYtFPWw8QLtly1BblXDT6iRRSSh1QuKOkqt8aCKsEvnmoYeXx+YZKq9XUVEpArNagKES3gq/iIvXOG+ZWKcWVU9rdm5bsxbjmWcpd6zczbhlQLtPUFMhjg1BarFmGpQGQ8JjEEw0iYD8J+40D9rKvWpZjpwJrtluUG3QUXl1qUla9Zy5FOqidz8TYjwTHePraCCIOqeYIKBUw3JuJ0t0FQcCGmwZiTJ9Fr/ABKR169+2pWjY5boYHLimN35hJm6pqp73EdAB1xCEXYF2MSgdc9bxLUYzzXWYq95tzywO8YzfMLN6DqVFtS433hkCFg6FvjUyVgq/MErYnPGZlyV9/cFSPUcFO6cyhWGN1/cFXt0uGkpa5OsdFIKx2e0xRoEwqQKbxV5Q+4igOS7uYi1v6fiKq2l7qmVQnk3ZUGsK04EiVbQsqnHiZnVbGrfZBCi2js59RsNChaFY+SFVSloCJFEI1dZN9ZViUYowJ2lpViTrqo3ERxvdkUnJqrcwDSquqK17lSGAuaZQVCJg5iQVTzVZOCpk3g4zjUcWlJdZ/8AIqSrK3qs/uK1oyWLu4UZ9uP9qIaUJbV/MUBgN0C77wGr01ddfMBTVpReP/ZTZtjhKKhalKTkYlotZ9xJReThK9wBzVuDDi5YCqzZXiII0YOO8QJxXWo9isFIuK/3xKQUbEb7ywujoZinIxvmBbqk61mBQRHQUPVNRKS6q9xMds7OYCmlXxccO87AMH9RChCzzHAZF1dXmPQLYU9MxzozYo7ghdK45tPmocFDpuWABHSVGkAoErHb/bio5aXZe/mCFKA5vP8AuYB2DnFG+8Qu6F5ywrQuzrFbab6UbguVU3luVZbSGRq8/wBxUNE5O8UhFYrJdxs4FC9F8Zli3nGC7itlUhsOfMVTFnZeIh0u73ZzuIE683TzCwbRzrMq2TfSALveLs5gobwn+YlLxXiiJVAtu44KW2ALiGiIf64WIGO5xiCTSNel5lKBSNjrH+/EAVaNwcDahjEpTpp4je75xcWC8cfuINlA4XBgiXw9MtuefEGqC0xlxU0WLyoZLuFHIHPJBBDdHy7hZSILeeI0WW3aLBIqYM941bVq5SkvrErcL72/3KBYhypqZppvDZ/cFtlV72+oNAKaWyu8R0qI3d2e+8CqyDlKttgUGQhgSoLBluhyyhwwpHT3SN0NFW1ZFg2gNHupgdBvgu35iiwWs0/mU4prToSte4NrLTOKg8JmPWqPMQcq5d/iYXGNtYzx3iBsp4A/coUETfjxA4I2mwAiUlXa2jfEGgvucvSWwwAq0b+ytRVKJk2dbgqBBXOfuWbtpArBNFC8t3XxEYcW7DgjZRrAFsVQAUcc/mAC3DV1BLLQbPEoQ2DxKC8rW6gC7FWwr7uNugXuKacFKxVMtTRoAUxbWTbepa1b3qANQxv+5caC20KblDlvWLp6MeGLSsmYl3pLsSLem6xeqZYznbuqzApN6S3pB0wrjj7liwAvC0lMbaNVtb68f7pCjAl6/qNAXStvWVSt2rk167zJptTjQQu7sscFZqqi1luqpo3KUUzWU6epQGyLisVHs2u/+RVMt4u6lGlpba1qZWrAwEoolYABWr3MligXUx1Uc6qABoW9dYUrWXFV/ukavKZcSwsWJnPH/solpfA066/+TI7dZzLL2CXS0eIXVFM51BFbCnxiKboI+SKCobNXGKRkcOYA52W2uqg2W3Hbv/2JGAq7iCU1blpcdMREKqk1tP8AZgW1Cg4xFeQl1hPwe41ESCqX/kRGigZ5p5YkNKrV0ZiIEIuBAOYWg0yZy0xb1ZVYqoLAhTONvuWBsVdl/mLVRblv9S7VXTVDSMUEUpLpc3KtWgVgtPWWEQSi3R1vawGxArLm/iLXJE/xEFoW6yFhAS1ZM24WuYlNpoYP8RDa6ad4GCTMK3lLGb1s979epZK0Lbdd4NDSrigiqhCkfPXUWyk2NDWSJRYZS0ug/wAQISxNWfU6OQt3xEFzY1o5ILdKQC8hj/YiIFBM4YOGqCqsvtLF0xgenSFiFKcYcZ4lWBdgb6QGmAbL5CWAgMGjUtSjJohoJHW9xfgLz/yNk0q0R54xCkrNcZiCLy98RsA3jOrxLYIAKFNfEyu1WLAxqJyBtpN+blh62l4/HxLBmve+1SxWLDABeZwCOCnF/wDIUVRt4b4hgtgHGoW9EBQlEYQE3sislW5zZCJSM4t6ddROjbeUHBXeKpsYeufEKNlF00ZjkRarbd+rIqFcNdSUqMouTedfqAGshVlYU+o1QYFuUu3p4lr2uqALAiXSyJy5jSBZDNcXFM4dN544iIFAVm0WVEOzWIWRpOMeIYKhHmvuFhSkPlzqUuODnqxS7ukxVmPcsLQFvdIU2Y4WwP8AMwnVKV3jSxRp0KRQ0yc3fMqFhnONQu1UlXq/uAA4vGMVnrEy2brK68QKMKvCsFu4A0rFlYLiAWjg1+YFBAIdA8y02LamP9iBaaAO24BAIo6PzCgYSN2t4uBW6Asw6T/MyG1oaxWYnpXRGm/zAslt43r5hk7GKGjA3CMjVjyFcwE1nCkxuAgLN26rxAUojyu6YUwIAuDctFlHY/qGQuyxDG+8NjJvb3gkMlFvXG4KBqyxDUo5pK438f7rBwBCt1jWCYwQhl4gLcsKG7u/1CgFjTmnXaFoAmnLk6ygJSK0021cTbK3201/viIUpZwdXj+42tDQXRmIpCqDEGxSr22aalhcEQvD1g2yGqO5AHIvSY+uIFo1nxk7pBbKbS95NxIE2vPR5uaZDrfMcNsjQ2QbrCdxTwo2aLgXSLe5jzKJdV2WrfMFKC6aq9wSqlXAulvQgHm80zFZLvGPTqCmBTOaekQc4s2XvpFYvi8K4YWm5v5fEBeEzt4ig7FaT9/cU2EV1RVxQNkC7xC/akxhxzGjQG2m2qCKpZYaXZEFLJugplAwOALPiLuAh12ECrdFsePJ8yzVUHVoOLhQJw6O0jTlurzWWJFTDvnHGICFWt4UL9x5oCkp7QoY1jvKRQGDbRcsQW11zLVVg2u7mjkCavcETNUNpezrqJTYiGA48xAKXfXTj/spRsKeB5ziLWikeQz/AHcUBdOF1v8AEE22u9f6olpSLduae2PXMU2FtZMBUC26I2Vu+f1FK0UdXxE1ZtaHpMm7A5GohRq7NZ5qF0ipNGjjGYbAAW76+8wFFi74uKAl5W65rP6jSCWSxqqb/wBuYFiugFHzGjKi3daWIC3mmrOJbgrdOc11imo5xaqbziKtlHXQH3LQFCynm/3AKPDr8Y/2pQqctFJ+PUQtQqHrLtkjqzd+4qoqVjSZvv8AqJSqc33O8G7og4y13xLbNi6BLrtAosJbfLda6wUubXSjXl8zRsF2YKM8xWOQW0J8Q2o2BS2OjcQscocHFdesOgBq7ebPxmOAWRer8wW0uwU2mMxTeRvA5+9QDaBK8bOdagMCApY+4NrwDhP1+IDZRG2qTUwSlKw7mVnNVeKsr8RoIleK3RGyooqimyXQgvFJQX8RTSmzn++0KFu18PqIOftj4iCEscCFfuJVLXiu5KBNAcV+ZkLz5qaM0V33CgBWc249MsWxbwu/9cd5AA5r+oDoN1dJ/rhndIOKD8yorCJWLKa+Ithhxld/mBZsGzKa9QQ6E57f5i6VgXijEbWQ3heWBozXGTmNraJpeV1GlUcsAEHYWW9w+4A2KUWDwwyAVlsNsU2KqzPXq/1KFbV0H4hsIel4jaCm3I1hgrWAjnEKC2Ut94QBaFLxgxxBRH1gYUZm3NVTBwzWLCWKl51VGJSlCtWygRvJVub7zIAcDkHfh/24NCoDXZ6xrYUAzXPxLAtpQ4bf9iDYt+DVRABcbcFPzLCR5cGWWMhqtYzHrdiizIV/uIhakzQDV9ViDwayjoMzJILiLYXo4zxcKpoy8l2QA1aAzQ32Mf7MBgKQUoOY6Gi2hyiX19QKI02YbzfeUCwF5E4M5/EGDmnVpf1AK4FVZg/1SwOVuOldYZVijpDPxLFAgUl4+2K5t0VVcedwUdAORX/twLF9OBvR8w1lUuik6RNUXeq4IiKFVkvTfeVaUq4wOA8XLc6tGBy+42DsWLhu+kXSjVK5v4gMmwGrxiIhsHNb+YiKQq72piaCy9Xkf90mS01Yusd/uAeoTFmogWrMlNXuAjluzrFAIzzmq/2ItNVaNpgo5lVFKGjrmLii+cDiO1ErmjP9RNVsvFlh3I52JlDF1Yf73Aou7W+0VEhQwl0XFsu2+qY1qACOpirIUltdaxn/ALEWohpXFxSrSLm0txuKsRMYrklGipoBgSpdYtpM1qVBp2Gm67RIHitbxWpsu1Fw9/PMAoBy6zx/uIgBE43s31iSxDbSaQlkLY6s1DO1V6JRggOrM9LuLnZrGN/+RKXReMKvvFGgvhA+4mqRw0WxOEHLFOsQDpBNqbiVy33pxKKLRBrJhZsrpRWGCrezWeYlnKTC8HMaWmTTwY1M2GqF3+sxCqc5uxfUSktx9Gv9cCABVurvEcVS3WhyLxBDZDkvPSMK2xq9p3hVIihZ2zuJaTLeznvUANAiYX9wFhnLXV3zNBjNrzGiFKrVXUFITJh6v+6RCwIdZFuXpsupVEQZbcmMHuBoNllNNW9fiAhmr+dRRbWSmucRNmznAL/sfiIRcAcnW9wW6ERyYKgVaXNXhxxCBdql5MHzLKLFm+fF9biDssoedUfqGDAuq5fawMWZNg6iQwBpayjpdSupW7wVXFRBMnkVxfeZVWrW894lF+cN7q4wBFbKtJZnF3VGV7S2y0lAdeCAaA1hW19XuIgUCin8ypbBe3l+YtKsVsEbXz6gjgA5oB6894iim220Xi6r6YCjahrIVg/qEAi3NWFVTCwlyFYyOMN/7mIRGJWFwmN1BzBC54P3cLRzRybrizMSghhpurOv0yrtYvIVuiue0LFYFbpRuvzAoUI1TW/iJTegEraF6uABoX3BiKBQw7o1qDYW5ur51jmNgV6FLqZSi01Y4v8A35llFRypr/fuITSwKTCxF2GFB77QVQsXdpjMAlBpSqxzEBbMm8wI7NjvGDzBwXb0hqUNiLxgcSwKtrho1KFSozlbPEodq7KJY2Apc9b/AKgCENPcKrBDl0Swc6G7SoXDeDdUv7gUrodjWEnV+ULxMjaBN6qVTht1bj1s3bQGIRHNmM2x2Deb7RFo5astqKLTLC/iCbFXIBde4WBhbqr/AFBKmS9Bx5gchENjUHRXG0eexAtjPF8QECbbo6YiBFWcoblIsDZj6laclI71DKqwXAtVEGRUGg5WU0Vt4qA3RUcGaCBTakcOI83QuhT/ADBDd1C13/sxEBoEbC2LrkCo1vtO5QF1rMShoEHtX7iIvI+C4YMiwaNMV0Smby2f64pAYBuiiq4gUUNmVeYlwjbrxiAlWw6+d8ZIiCCxTCalloGsYtp/EqyqXqzR/mFNEXBV7u9wG1KrsFFM/wC6wCihJbVK56S1saKV28xBBeMhp7qwAXyKcmx4Y0ja4UFFnN/BAS0C2uUwVR4IkAFI7uiKG6FbLvMSxFNlUp9SgJYDLxjfMEM0FxnHo/24ltUWg094ZF08gNJx/vEBAgrTbiVaQNW1x+oUAAKp9t3XxLgC2qrNXM6FWuQb3+5YSlmELL9y1wA1t4x7ipabtKc66e4jAaUy3llBchOq5e0NnBtCjeOa9ywsF9MXODKjwZy5adxODRi3NuqD88xpYVTd3T97lS0vKcktDGcVf3KaylmAMcZK8RMKDWAXHxMJrS8pZcUgtCqRQO8AGwpcF3/7LfFjY2OGI6hfuJbXdZK8waq1kFy9NxZURD5ihakArDLUsnVrBFEVFNhEsbPFSxDi2RXnpMmhQvzyxUgCfH/nqKsC84bKidKDsXF+pQ3YXk5e8qmOAM3VecQdKIYrdwK1arKXjrLQqVnBZByaqnAlt6zADbdt01dHLXWGjS63mKyjVuteLgIFBjpiAIWbtznzBrYRyC2kCoE6vGCDd0U9eQmYBZtI2IUFHSqilgSzOvqI0YL1dZ8ygBPhzLolUau9d5WNFTu/mOAK+0pww5tLPrmNwAoN1RcJScus0vQgzOWOL3Mg0GCq4zm/iUIRVGjbjMBNt7rZEwebl38/EVLYbMWl9r8SgWlnS5uWTVLZhf8AyVBoaXFF8QXaqsoB5i5LQq2hVZS0GsJm9/iJFHGlqseICUWiJd1V7iFNrlXJ6uBTVI0OAgDKQ5RwV3g3aI7AVYloDgTWWsc/EQEcptU+4FgvJl0/3BcBbAA/PiVI0rhrOP8AXEtAq6RMRQzkBOSv6gLBWKKMd7/UADky02U1e6/2oACnHJTuBUoLxDWRKzdb/wBiXRUbzjUEDaswHOdRlrKncrP/ACotIoUzT8/JBRFxVWZcykuabzmtf3Gza3VVil1cKK5RWK1nT8EtESg3Tquv+6wLcinJx2/MCKgBtcDcBYCtjVrXvEyi1rlw+V9/mAoiucjVQoVYRp0L2JQ2p5bDxuCakACpp9bhVACOU0dfzAAIL0mut1ABrS2dP/cSq3RbmFVbzV1+5mO3er97i3QCbFwxBDl4566mW2U221CbqF5xwwCtBWqfslnQwmCYiWM3TeZaooUcC5lo2AGh3TBhxYu75c2SysaUwmJWlEswXvtAAwLlvCe+YlbVJV1ZXSDdpewMwbLE4oTibgWXiy9S7V2W85KggrumR6Z6ReArvWfuWAsYpC8wAiEEyuPiIKhWOM4rUAMkKbpqvDmXYbpcYd1Gi0IdYoAvSixwQGyOdoYYgEoQLLAL/wAyhAQ3ko2SjA3i/fSDdKoE0GHzACgF1my0IiCgqlaeP6mY238O9ygi93WNveEMgXVn+/2YCq7G03jowBQWpYNZ+fMoSYYU0F66azcCgaDSCYfcKLjGM2/MsGQgIh+YYbQ7nL/iZGi1wAsLLoXdVT/vxDYWTNKXrtxEYNoZMZW+hmGSIC0iJbuWaqXQWbrP/IkatJoKy766g0W1dZ6frTG0BT0F3ntElQN4DJ71qE0Vrtr/ALHRYgbUzkeYoCq02qdsV/uIoBXY5LuutRRRotN2XAFlQFcXUppomARl7wIqcF5Mf9lgAojZVPjMFqLSFKFxawVaBsOd/uFtU1dt7zziWzWS8KiZw/Ms0Ijl4Mf+cSmBbSqd9xaF3XJhSzfeVN0asFK+IKSinLWvqaVwLSUGe7FbdAGHv5PUJkqqjrvjtqNHVAYRtc3BRWFrYqt7/wCRhTJrAp6qAtSwoY6ysUOSJeemJdFLXlDBq4GWmtZHJDilobxffUaDQpC7N+KhsYJeB0f1CgNGkx81KAMDDrmtQCi6ty9SoAtgrYLx0gu0Am+Ygcrex1ZXM0KZLKDF/uba2OUXN32l2IBu28EuAq9U67agGzdODnMoAFbw1mvHEUyKU203/vzLDI9FMAyGutYYqW0KCivuPAZrIN5jmgaN7/EHY2ZhZ3Qjdax18xxWA7rrGraWqu3iFtKTgrZ81L7CFu39wSkLR4sO8BbUi55H+4hbNdc77waBAQw8saAsU2mC4JTRaMpTnxBCKy/B+ZajK7tTN9IEuml0BWpQHPOfqAJbU1Tj6iu1gjb3ghdku1Xf+zEJVw7DYfuZCsC4xiBbAB51/usUC9OxF+JTkB4iQtIojWiLVIEBVbgYOw2KXWP+wGKLq3lDyMCYhCs5p1+45yAYLwetwJRaHa6PDcslIbttff41LtCmxngfMC8LtwFmGIBQDgbekqGqRVN4rcDto7ZggA2E6NfXWKgyKxd3VOb9TCIoKOLvpKW2w6Cz7qNwVu1FV/qIggZJWV3iaURLCGIiSjZSlGa6Q0sXIXjHWus0VYOxq69RGjQBWFrxmNI02XpUv8MFqBQ7cvNwsaFI1aGSyog3a1gWwH5mgCvXK+0FlF0FEM+MwCANJ878ROEUGLrHTIy2BRdIZv8A9iNDhS4u23tXiKLBa01tzANs6KTB/cuN3gUS7DPEoUFsdcGf8eoCm7ooxZW9fUsjFhopWzmJWEUt5cL/AInCmlKE1vUQgUUbBdcV9/UGCtmbxA2wIMXYvT4CKbcoVy3eLmkADil3iLkBovbFSlu6N3jd8f8AJZcARsEvJxAAXRaLDXSKBsVaK2P6lBV6K0Xni4LbVRwpVwAgLnlOv+5mDhVeFp+5S3CrawwstkR3gJYUpTaXs/uNLWGm7DXeiGyXpyW7iALlvfNQDnTmr2LADQ3mUtZd627iiFachr3AIBWGzpFGLRKq5ZSAXFjj75lDpsdDivcDgo4Uy9rgtMAetvtmREVoW8fEaRsGCjfWDArW0NEsIMjzdX9QWAB4uuelwUuE42wBdF+W6loMIjCNqV9RQACXgbwdYrXnI4XcBDanNuMxhoG88VDIgt9cX2GCJQSyrvcym0B00Udf+QLpUrZ1z8fmILGiI3VlwJ2KBrr1/wBqJSpYlNGrN+fMooAqdd92tRIwo6Uu357zAIAYo/31EUuFNaX3zALZbTtxuDarOeATpdhMC2o2KoZ+Iqiqza1/y2BSXRzTV9ZSlIdAKz5g5tCtKYezBUIQS62+vmWFWJe8hfaEaLFVQqz8RJYgGMaHvLp1EWtGaPrvEyRusLnPGICi5Vtrh7QbUQmzrAFCqwKEz1FMXd37nUJSwCj7lk5nFNIY8SijVbyHPnMKgI87r4gBg20E7G4FIsdzLEqoDkBacxZcLo19/cSXSG1b658xGUpcAYYFOFG84t8QtUAHBb8kcFk0VG7/AN+pklA0gFXjHuIKxsEQeOsKRwRTY0r0/MBQCTays7x0mAktEqs/PP1CZlF6q3q83AAbaShVQitBDM44z9y1d0uLXMACCg2N/MuOJrIOKJvRdA0FjBZwlFCGXmhgAFnOOCs8/EIskHV/vmZDV6lVmU0iK057cRAZCmWgrs4lJRNWKFvpjXuM5psEvYxqaabKNwC68tLbKvZQs1ddblLXNl0y0QbOoWhMKo52NRCwltjG5VDgLquZ3yFOc/3BBKNYa3coA0ty3vzAVK1i3NerjVWVcjSy2i+bqyOFUDWHiI2FpeDb8VAXN0BrevxKNE264qUg02Xk1KWgojX9+riFdjWMXfnEag3RxRbccUWrakFDdV0DRjrFaARfFMuOYudcYlWC7c1/nEAwTZjB9d4DoA5TfaJdNDaV6gNbjlWhOmrisUomAfbctVosyPK9Wi5lQNZyvcUDlmm8B8RSwqjwU54MSihdBs4/uI2AzRQWdyNeLUy22soAgu7K7Y/MJN+Ot1WvuJAUUG1xBdROlZe0RsC64zjeoXQdlAo8TAsFvXUjSDXOUSg/3eWAVmzoHiKQahc2jjoOo2Bmqwm3OntET1rWkXr9xFBEbcl9S1FRRRTX1KIAlb7/APZhRlfZqu71iqbqlKGevvUxhn4bX8QI0mryBgzFa8DaJ0lBgLYaF9qj6uW8lM0C6uXb0lBtisXd31/EBalLYKW9ohCFqpLtef8AdoiKCTTx9eIlaU7QxzFyKDV1XP5g34VbtAhQwRY5U6H9sRSrC21yPTxcY2sdJTKi1q4uqfuNHIoehFLQFRxeplyvDZSe4NIAFpbiq5he+DoDK8JKqUqrLeenmFFZR5KD5lQbFl4WLrr5jEAA8c07irhL4cnT9RecXTd1Z95ioGLqynf/AGBwdqU9c9KiVgovOWw6nx3jSRG8201/mBHYKHY03HRsZKF/v1BMFY3ZpIojQbOcn1AVgNbsdRFAGlLD5fxKAKG+SrM8xsbCDaJeYUQMGd4gFta1dRUXFpWe3zMGxbbkq6iuhBQh36SitzspSzHMAE0WrMfqFqWGL1VzRgt2uL+8xFK0KvW5pbTvAShUu7FocEUUZo2o41qphRFqqucS17Z2alHALoqoTHC963KS42YvNMFVm2c7xAoSrC6MV1gK05DnOWKtIVvbfrtKNFo31puJYoWoEy12hwNnG6ovdRGzAD1N8FxAptuw4WrcS1kKF2G/6JgDoFspsrrOWAw8ihibG62qMcRoHIDdrb09zKQVcCcQqPkAW4bYIvTQeZS6WylArMAxZGL6pTNp2XZkU1/viUV0NKDrOGWA5WlIUh1g3SAUUE13iIqSi94fjMN1oBQq6Ym2ICdVga6KsWf7/ERTAhwDXkYgDWyjOA/1xEJaVlXvke0Vqyi4u8X+9yqkK10yH4jRCrumrO/EFNXgxMGFcaFuArFBwFr/ALLAo0Ka6VbDVS2tbu7/APJhWaF0Z+/9iUXT8dsSyoGUVvnP+6SoEFdSqWor2IZoZ8fMAIWoXYfmBxaAWazzUAqKFvCleYUbqnCLoezAYAiqBykFVpVXgq3vcoEnDbZdnC/7iJEbAGbrD/iAWCF5Kf7rC4Qt0o2a7xUcIhlGsTJgUGhEqoCmyquqy64lAXQaWqrWvMJVjChDAWd/9mABsUAQMxXDnvd4hgAmxNnWrxiCi4oDBd/1BAlmsN93pE8cbKu0esQmhTF/mDmyOnPTzCkckQsDLxzBA7vapbMwqCbt3/rioWl9HDjiFIo3UM0SkVRay1nHEVSrZiyOC4KpSj1AsAhaLTzzApkUZrD9TQEK85is7aMVn6iDIjpijxKNCo6pki1pKNU32GWkNIpQfUDYRNtVAqZGa3Egbc0U3iYOAUwlRlCBCZvHeCAyVyhi7xKAbz4b54uamjRevGYoitYMgD4jQcAVi3B7irENbzuOowGlds0jBRgSuPuEjaAoFXb1gLLW7E0eMRtgmg5xADhEBS9sV2sIU0XjrASLL4el8/1Nq4r00ENrNHAhcQ6qVrd9SOmSjT1aiAFlHJWHnpES45iAXj3ApYS2hyw2AAUYRHjfMsCIWgHN9IKjRziFeq51DcBvCGbrBDiyYxh9/iVu4EK1fqWQ0raOaL6ff3KYUDau2fECwHOStzEQuibX1xKPa2Cj51G+6KS03n1OFsdhj1EkUCnruq+YWtSnN7q+eIJADqtBT2mel1Ql37l4ANoIWPzqGmqAWgtNF4ghbkA02K7RZ0pVKutXWfiYLyDYgPcC6ojgrGM88wsBaihODee8FqqtGltvt0wspIgR0q/dRBIJaqtXnr7l5sLjh/5BWXC1YaOMQGTEF9XX/syRqFFllK/cuEwJTTX3EAU54AP32i3NmlLCnfTjcvYtBR3m4jAkAW2rcUAvRrNhdXx5hQtW8gUBitAIIjuMtKpaCmx+Ja9Ubu3IQBd1h0bLP9zKtYWbc7rmUBS1WhsDzKgwKppDd7JQWW0U4s85iBUTWx1WMxSTAHF1qdGXpd0d+8wWtw0683MrBEyGart1hQqgW0HPQ+I5VWrovhjQKhaMFa7wMXR5/wC9ZsaunGkYkWeNYo9zCUErGaTNxtBksFyZzuFkWstZAiVWtn+4lJWuco8ygC+gbc9cYlKKS0WND5JeTEurocwFK0DrmLYGVKS3XvEo17ubttzUJe1dANB2jGyUu9aPMsKKmdDX3FWyWGVN3wdZQ0QtvVvzGUBVzaXUsWU2XhOOvqBQzG0XaVrxDqKeTt08y0N3uqclHaYqlCgGLQFUux68fUKgKxuyxzuKVQCqW6XxUoFUggjVBX5iioGxSub3GzcNNNGu1/7UUFoBusqOq7QoCgrzmvEQCq9AY3i4hajTdbYWKuXC1r4igGgKPThOIjRbNt4IFgSwze3MWHA9DiWjBG3IfEACFq1lejC+3mOvuBUtVq8l4j22oJRTvrA0VSFCnxG0SAwYxiJlgowXVt/cDgiBY1kPMIFAXaN18VLNCGyx6qYgQDFmf+QNlsAQKxmIbEdCApV/uOkhaxulYrsAg4X6/wCwoOC5abL5pvpKbltQLQ14iWswwoUDxuWqyLopKB3dHQY5EJ0CFbpjQYFYFoJ3hgldad5lIFts8X0ggUl5XUVKpCzY/LBU5V6DNbzfETGiLTbVH94iRNC9JGvHWI2WitPA93/2U4ULS7V+YCNnrexxdWwJsrp6D36ephUA7oSj3LrI1tfXY9IItgK5buWbYOFyjqFqoGy2kH/2Lfd1dY2Si95mkHVfmVFZC8N9ot1qXnH10iUotxQMbw7iJRFtKzfzGhNJx1vn7jDdpQRXC+YOqqVaJUoq24sKvEajsHCt1ACLsOLzM9C8Xeo2JLpbc1ZECXRgCBUUXvF1f+3FZAK4UMPTcCwZHgta79o0lApsvd7gmi5dI6qBWqKbUsWABsRhL3nf/ILDQXJVV2l2JXKBd5lWmGqG83LBbDjBa9e1RIW2ryymC8qu+PMJRsbsu89/cSjR2znP+4ljamGqwnGoF3WKrN+I2CqvQYzLm9Oxe/TmIBRLdXTEuysGer43C0BAQnncDVKchQfjzDWYC4pKfErbBVaTNYiAphKGq8xQFQt7EAiiGRLQxrctovLxj/ZjaEMLWFSAtKWXnFd5tEoLKvBUBl6DI68fEsK+VWCt51qAUspVw1uIgIxOqiW2Rrdtn+IDkuct0YrcoNqUrKufUu52wm6Op0zcIxQ4ppr6hWZbuyqf8QFJG86+H5uIiDLaVCq5gaXZdLtvxBd2qYtVylFVDJ1KweoNaBvYEDRLUXBm4AqAGqwZ141LU0vZt46sEQK2M1p8MyZYIpttfmCrNiw41rHxAtGibq0XnO5YANZy7iAWi7rol86CnDWPzNYqAasv4lEhEa2XTnFxUrNAvdqv3AoDYl27xkiTfgprItYiBsq6tQ+f2RgzUrJjNa8ZqJL6VsSnN84jSqINo1rCQEUW7Rx9wVixpRukvG/fSNixg8GOIgl4y6sY19n3LBkFBSAp/vMq2giAvTv5gGVGkaeKlxpRLot5lDHaSsPfaDdWBEu7MdavP/JYAy4N4TVZvIylUBRVhfNfMsN0lZa35OsRxtB3p/tylqgVq1zKjCkpm/iK5d0sRM1+5dBUVKAApW5VlSylKwSxHC7A6eZkgpGXggQLBdBbjxKpKaG6qoYhacrd+A7QoDgyWV/cGqlXmnf/ACWbUusA5OfcKHSFYL93Egty3a/BiXwNd4RCViTQ2lU11jcop7iYhEbWshdD3iFWDLVadV4gURLuy7tOhxDHKGkdBEqwXeFeku1UNGTF/wDZYoAxS9N1AEpQcmm7wRABmlGNUxBq2qC9Hx0xCyxl1QqxKiFFkNhZ4jdbFOnMBGAvFBd+e8aGrDSlt6liIN5NmDqVx5iqPBgvbfTl/wCTIAq4v1fzFpU7qhrH+6wMFFuhOMhn/dIHSxO+KgQArgLzAihKpvdHj+oXYbzjOoUIgN2h1JY1ZtKKzWo4UipSKZx9SxlIM4aM7hHNQ0AlHfzLRJtuxW67QIpXIVf69xZXRopS2pZi0WygwboIpmW8LlDviAAZbVvP5grhaC3jP7iEUSZsxTcAAVKs2+SExoNGaV91KMINlG6a3LolV14+nmAGRbdhUKAoWbHL7gC7s3gwsBNV0stfP1DFIDd8/wC3GxolDsMLRogtf1GhzRCuPPmKAxwJVvWrJRS4pmra+YAJweC9J1xBGhRtRd9oKHKibrCc2wop0KA5Wtc6gFFlUu2sHb+omm6DY4OeIgRBYIvD/mBbwrTnT46QLmqtNF2dpRTgbKqrfnxFzKcFmItReyoPzEuiFEqmw794AAtW12e8GCmuDgmpfDNYvv3httbMoK+KlIGzbs+4hAGtN38wOcOyFYhVKKjeSh6kG9UWxuhDeGoqVgu7MjWvDFEuyugIP+YAApswuu5FgM1LVdnS43QzTjOji7gheRWKHOeYrWAcqAuJRxUEygUvS2Aud2IgZv3KBgO1qz6iWO4YTR3IJGgUpsx5g6wdFOIg0it7ogGuw1RWYyKoDV5Yklw22GbhICrrC/PYmFTHPFRtSKBdN5fUomTKuKbiUpFFRrS9cRUINuh69/zKKuORzf1KQogNafpi2DSAd1xBjAJYI29G4WvBbFoM9iFio7yrH+uWtDV0uVgmwUDQ4fO407qFYP8AdYiiEUszT+IqIBotpWurcLDDhwFFywulDWcnr9xBpaOKXZ1uaNM2xq684hQKoBZiuK7wYKA0CXLVRBxQZe8sUtC0MZrg/wCwWwFjeO+4CgUmFTfiCBGZqt0n9xNAC7sKN8+oUAFbq0pMQQVsWZN44qBmWZS1e/8AcRyh4AMh+ooIi1zz4qAFKrF9C4l1jPC2dcRACmqVwee0L3KXGDR55iEYrWbze4UVMNCGC0AZHFPc1BAHCooLxFpJVumLV7m8VV9JcSgHAA38wtU25OW46sochV/dRgcBG0tcxKjjIpLe0ZeAYbORr7g4A8lI4uIhkB1gGI0F1nDVY6zBsqHJh6RUUApdpdSiKRM0hSdoUDNAA1sgUd01arT8zAtAsEq0e3WN2tom1l30lBRQLaUbO8aUQNLdjdeYqlIKphyFP1EACp00UwHAKyW57V4gIrVEBpdnMzeWqhyebndRS2JFII3Cqsp8Qu0AXCHAeIuDLmmXUQFyMWZz3IUC13hCz1b4hRIKA0x1gKFDY5FoqUoNjky7v6jdWUnYPm4iSKLq7r3EGstHFHrvMNGEwcj3jgWDOad/1BpJbvnB7gIqOdobrzFSgi4SgWUQgGilHud4LkwWLsloIuiltbfcoAmDCF092HRfmqLD1CqwiNC7rrACKw5wZlgKU6u8RoLTSaBsfEVKtbdqywAWhd69SkIusU4D3KboWub0niYQClqtNwKVUoKsq1ASgM3/AIjVKhcBvpvjcpUChaL4OsyCrlW1zFRs2iZWt5HzKAFDCoC78xsBC7tsNeYjNVqmm17Ylkyw2Vh7ELNJebxd2ytwBrRP/9k=)\n",
        "\n"
      ],
      "metadata": {
        "id": "_ILISr75fqz5"
      }
    },
    {
      "cell_type": "markdown",
      "source": [
        "### 5.2 Try a mathematical equation"
      ],
      "metadata": {
        "id": "gwF086_lz-KA"
      }
    },
    {
      "cell_type": "code",
      "source": [
        "#try mathematical equation"
      ],
      "metadata": {
        "id": "hkEnfC3V0CfV"
      },
      "execution_count": null,
      "outputs": []
    },
    {
      "cell_type": "markdown",
      "source": [
        "$\\sqrt{3x-1} + 1$"
      ],
      "metadata": {
        "id": "Opdgi3Uuf3Es"
      }
    }
  ]
}