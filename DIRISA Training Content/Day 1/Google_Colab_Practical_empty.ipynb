{
  "nbformat": 4,
  "nbformat_minor": 0,
  "metadata": {
    "colab": {
      "provenance": [],
      "collapsed_sections": [
        "xENhcPMRGhXp",
        "9UayUMb-Regm",
        "-hiB7MfdhnVl",
        "92V0B-br7q9A"
      ]
    },
    "kernelspec": {
      "name": "python3",
      "display_name": "Python 3"
    },
    "language_info": {
      "name": "python"
    }
  },
  "cells": [
    {
      "cell_type": "markdown",
      "metadata": {
        "id": "i-VLQFBvr7Q6"
      },
      "source": [
        "# Instructions\n",
        "\n",
        "[Before you start running your code, make sure that you are not connected to the GPU / TPU.]\n",
        "\n",
        "**This notebook consists of the following sections:**\n",
        "\n",
        "1. Basic Cell Commands\n",
        "2. Importing Datasets\n",
        "3. Mounting Drive\n",
        "4. Exporting Dataset\n",
        "5. Text Editor\n",
        "\n"
      ]
    },
    {
      "cell_type": "markdown",
      "source": [
        "## 1. Basic Cell Commands\n",
        "A notebook is made up of cells that can either be code or rich text. Text is like the guiding text that you see in this notebook while code is the code that you would run and see an output.\n",
        "\n",
        "To run a cell, you need to click on the \"play\" button or use the menu items with shortcuts.\n",
        "\n",
        "Each code / text cell has functions that you can perform such as moving a cell up or down, copying a link to cell, adding a comment, settings and deleting a cell.\n",
        "\n",
        "Activity 1 - Add a text and code cell.\n",
        "\n",
        "**Note**: It's important to understand how the text cells work as you will need to add text when doing submission for your qualifiers and final datathon\n"
      ],
      "metadata": {
        "id": "xENhcPMRGhXp"
      }
    },
    {
      "cell_type": "markdown",
      "metadata": {
        "id": "GwCp1D54snTf"
      },
      "source": [
        "### 1.1 Change the name of the notebook from   *Google_Colab_Practical.ipynb*   to   *Google_Colab_Practical_{your name}.ipynb*. Then add a text box under \"Instructions\" and add today's date to that box."
      ]
    },
    {
      "cell_type": "markdown",
      "source": [
        "## 2. Importing datasets"
      ],
      "metadata": {
        "id": "9UayUMb-Regm"
      }
    },
    {
      "cell_type": "markdown",
      "metadata": {
        "id": "P0CsHqqFs_uW"
      },
      "source": [
        "### 2.1 Import the dataset from [this public link](https://raw.githubusercontent.com/boennemann/animals/master/words.json)."
      ]
    },
    {
      "cell_type": "code",
      "metadata": {
        "id": "_xkM1WHRvIbg"
      },
      "source": [
        "#run !wget and the public link url\n",
        "\n",
        "# Enter code here:\n"
      ],
      "execution_count": null,
      "outputs": []
    },
    {
      "cell_type": "markdown",
      "metadata": {
        "id": "7XmKUk6EtN55"
      },
      "source": [
        "### 2.2 Import [this GitHub repository](https://github.com/boennemann/animals).\n",
        "(Make sure that repository has been imported by running `!ls` or checking in Files)"
      ]
    },
    {
      "cell_type": "code",
      "metadata": {
        "id": "8LBJw4qBxtyU"
      },
      "source": [
        "# Enter code here:\n"
      ],
      "execution_count": null,
      "outputs": []
    },
    {
      "cell_type": "markdown",
      "source": [
        "### 2.3 From local computer\n",
        "\n",
        "There are two options to upload a file from the local computer:\n",
        "\n",
        "\n",
        "*   Upload to session storage\n",
        "*   Upload function. Below is the code for this function:\n",
        "\n",
        "```\n",
        "from google.colab import files\n",
        "uploaded_file = files.upload()\n",
        "```\n",
        "Check that the file is uploaded by refreshing your files list or using:\n",
        "\n",
        "\n",
        "```\n",
        "!ls\n",
        "```\n",
        "\n",
        "this lists all your files in your directory\n",
        "\n",
        "\n"
      ],
      "metadata": {
        "id": "N-VwJTChe8Hf"
      }
    },
    {
      "cell_type": "code",
      "source": [
        "#upload cars.csv using upload to session storage\n",
        "#delete the file\n",
        "#reupload file using the upload function\n",
        "\n",
        "\n",
        "\n",
        "#check that file is uploaded\n",
        "\n"
      ],
      "metadata": {
        "id": "Ts5lcd6lfPes"
      },
      "execution_count": null,
      "outputs": []
    },
    {
      "cell_type": "markdown",
      "source": [
        "### 2.4. Import from Kaggle\n",
        "\n",
        "Use the following instructions to import a dataset from the Kaggle platform to your Google Colab notebook (To import a library that's not in Colaboratory by default, you can use `!pip install` or `!apt-get install`.):\n",
        "https://sushmitasingh1996.medium.com/importing-kaggle-dataset-into-google-colab-using-api-command-5b735862b6e6\n",
        "\n",
        "Import this dataset: https://www.kaggle.com/datasets/parulpandey/palmer-archipelago-antarctica-penguin-data"
      ],
      "metadata": {
        "id": "RHfvTtEjya4G"
      }
    },
    {
      "cell_type": "code",
      "source": [
        "#!pip install kaggle\n",
        "# Enter code here:\n",
        "\n",
        "#download kaggle.json file from your kaggle account"
      ],
      "metadata": {
        "id": "P1U2oQr6z4F4"
      },
      "execution_count": null,
      "outputs": []
    },
    {
      "cell_type": "code",
      "source": [
        "#Use upload function to upload the kaggle.json file\n"
      ],
      "metadata": {
        "id": "rAHIwrYizkIh"
      },
      "execution_count": null,
      "outputs": []
    },
    {
      "cell_type": "code",
      "source": [
        "#Ensure that you are logged into your Kaggle account and download the file\n"
      ],
      "metadata": {
        "id": "uCXlorOEoSm7"
      },
      "execution_count": null,
      "outputs": []
    },
    {
      "cell_type": "code",
      "source": [
        "#Create a directory ‘~/ .kaggle’ and copy kaggle.json in this directory. Change the permission of the file so that only you can read and write.\n"
      ],
      "metadata": {
        "id": "_0vpj_W2zuUN"
      },
      "execution_count": null,
      "outputs": []
    },
    {
      "cell_type": "code",
      "source": [
        "#show all files in directory\n"
      ],
      "metadata": {
        "id": "kMDW8hmL0L7b"
      },
      "execution_count": null,
      "outputs": []
    },
    {
      "cell_type": "code",
      "source": [
        "#unzip downloaded kaggle files\n",
        "\n",
        "#show all files in directory\n"
      ],
      "metadata": {
        "id": "QmU3SBch0VSx"
      },
      "execution_count": null,
      "outputs": []
    },
    {
      "cell_type": "markdown",
      "source": [
        "## 3. Mount Google Drive\n",
        "\n",
        "You can either use:\n",
        "\n",
        "\n",
        "*   The files directory. This allows you to mount the drive using the GUI. Ensure that you select all the permissions as you might errors if you dont.\n",
        "*   Write the following code (Can also use the icon on left menu):\n",
        "```\n",
        "from google.colab import drive\n",
        "drive.mount('/content/gdrive')\n",
        "```\n",
        "\n",
        "To unmount:\n",
        "\n",
        "```\n",
        "from google.colab import drive\n",
        "drive.flush_and_unmount()\n",
        "```\n",
        "\n",
        "\n",
        "\n",
        "\n",
        "\n"
      ],
      "metadata": {
        "id": "-hiB7MfdhnVl"
      }
    },
    {
      "cell_type": "code",
      "source": [
        "#Mount and unmount the drive using google drive icon\n",
        "\n",
        "#write code to mount the drive\n",
        "\n",
        "\n",
        "#write code to unmount\n",
        "\n"
      ],
      "metadata": {
        "id": "SLUuM1Ypig0i"
      },
      "execution_count": null,
      "outputs": []
    },
    {
      "cell_type": "markdown",
      "metadata": {
        "id": "GvXvITRT1dD5"
      },
      "source": [
        "### 3.1 Add file\n",
        "Add the 'cars.csv' file on local machine to your Google Drive. Rename it to 'cars_drive.csv'. Do this by importing 'cars_drive.csv' to your notebook by mounting the Drive."
      ]
    },
    {
      "cell_type": "code",
      "source": [
        "#add code to mount drive and import cars.csv file as cars_drive.csv"
      ],
      "metadata": {
        "id": "6zFD9tgirsgH"
      },
      "execution_count": null,
      "outputs": []
    },
    {
      "cell_type": "markdown",
      "metadata": {
        "id": "92V0B-br7q9A"
      },
      "source": [
        "## 4. Export dataset\n"
      ]
    },
    {
      "cell_type": "markdown",
      "source": [
        "### 4.1 Export to Google Drive\n",
        "\n",
        "Create a folder \"datasets\" in your Google drive. Now export the \"cars.csv\" file from your notebook to the \"datasets\" folder in your Google Drive. Start by importing the file into runtime using upload function\n",
        "\n",
        "The code to export is:\n",
        "\n",
        "\n",
        "```\n",
        "!cp 'path_to_data/dataset.csv' 'path_to_Google_drive'\n",
        "```\n"
      ],
      "metadata": {
        "id": "PAkWGja4T8o1"
      }
    },
    {
      "cell_type": "code",
      "metadata": {
        "id": "g2-5v8Uy7yHr"
      },
      "source": [
        "#import file using upload function\n",
        "\n",
        "#mount drive if not already mounted\n",
        "\n",
        "#create datasets folder in MyDrive\n",
        "\n",
        "# Enter code to export here\n"
      ],
      "execution_count": null,
      "outputs": []
    },
    {
      "cell_type": "markdown",
      "source": [
        "### 4.2 Export to local machine\n",
        "\n",
        "You can also export to local machine. The code is the same as upload fuction except we now use the download keywod.\n",
        "\n",
        "\n",
        "```\n",
        "from google.colab import files\n",
        "files.download('dataset.csv')\n",
        "```\n",
        "\n"
      ],
      "metadata": {
        "id": "R0sHqABEvOav"
      }
    },
    {
      "cell_type": "code",
      "source": [
        "#lets export any csv to our local machine\n",
        "#put the full path of the file\n",
        "\n"
      ],
      "metadata": {
        "colab": {
          "base_uri": "https://localhost:8080/",
          "height": 17
        },
        "id": "Le3qjhElvk_J",
        "outputId": "1bca2bfe-694a-4c4f-abf1-677fa59e114c"
      },
      "execution_count": null,
      "outputs": [
        {
          "output_type": "display_data",
          "data": {
            "text/plain": [
              "<IPython.core.display.Javascript object>"
            ],
            "application/javascript": [
              "\n",
              "    async function download(id, filename, size) {\n",
              "      if (!google.colab.kernel.accessAllowed) {\n",
              "        return;\n",
              "      }\n",
              "      const div = document.createElement('div');\n",
              "      const label = document.createElement('label');\n",
              "      label.textContent = `Downloading \"${filename}\": `;\n",
              "      div.appendChild(label);\n",
              "      const progress = document.createElement('progress');\n",
              "      progress.max = size;\n",
              "      div.appendChild(progress);\n",
              "      document.body.appendChild(div);\n",
              "\n",
              "      const buffers = [];\n",
              "      let downloaded = 0;\n",
              "\n",
              "      const channel = await google.colab.kernel.comms.open(id);\n",
              "      // Send a message to notify the kernel that we're ready.\n",
              "      channel.send({})\n",
              "\n",
              "      for await (const message of channel.messages) {\n",
              "        // Send a message to notify the kernel that we're ready.\n",
              "        channel.send({})\n",
              "        if (message.buffers) {\n",
              "          for (const buffer of message.buffers) {\n",
              "            buffers.push(buffer);\n",
              "            downloaded += buffer.byteLength;\n",
              "            progress.value = downloaded;\n",
              "          }\n",
              "        }\n",
              "      }\n",
              "      const blob = new Blob(buffers, {type: 'application/binary'});\n",
              "      const a = document.createElement('a');\n",
              "      a.href = window.URL.createObjectURL(blob);\n",
              "      a.download = filename;\n",
              "      div.appendChild(a);\n",
              "      a.click();\n",
              "      div.remove();\n",
              "    }\n",
              "  "
            ]
          },
          "metadata": {}
        },
        {
          "output_type": "display_data",
          "data": {
            "text/plain": [
              "<IPython.core.display.Javascript object>"
            ],
            "application/javascript": [
              "download(\"download_0cfa401d-18fd-4704-83de-fdacb358d57e\", \"mnist_test.csv\", 18289443)"
            ]
          },
          "metadata": {}
        }
      ]
    },
    {
      "cell_type": "markdown",
      "source": [
        "## 5. Text Editing\n",
        "\n",
        "As mentioned that as part of the datathon, you will be submitting a notebook. It is therefore important to ensure that you understand the various text editing functions in colab:\n",
        "\n",
        "*   Headings. This is the hash symbol. The use of 1 hash is equivalent to heading 1 size.\n",
        "*   Bold / Italics\n",
        "* Add Code\n",
        "* Add a Hyper Link\n",
        "* Bullets and numbers\n",
        "* Mathematical equations. Try the below code\n",
        "\n",
        "\n",
        "```\n",
        "$\\sqrt{3x-1} + 1$\n",
        "```\n",
        "\n",
        "\n",
        "*   Add image. Upload bus_image.jpg in the next code block.\n",
        "*   List and numbered items\n",
        "\n"
      ],
      "metadata": {
        "id": "spTi-wxpxbpB"
      }
    },
    {
      "cell_type": "markdown",
      "metadata": {
        "id": "RRVg0z4E9Y5K"
      },
      "source": [
        "### 5.1 Upload bus_image.jpg to your notebook.\n",
        "> Add image here:"
      ]
    },
    {
      "cell_type": "code",
      "source": [
        "#add image here"
      ],
      "metadata": {
        "id": "hsMTTNeTwz4D"
      },
      "execution_count": null,
      "outputs": []
    },
    {
      "cell_type": "markdown",
      "source": [
        "### 5.2 Try a mathematical equation"
      ],
      "metadata": {
        "id": "gwF086_lz-KA"
      }
    },
    {
      "cell_type": "code",
      "source": [
        "#try mathematical equation"
      ],
      "metadata": {
        "id": "hkEnfC3V0CfV"
      },
      "execution_count": null,
      "outputs": []
    }
  ]
}