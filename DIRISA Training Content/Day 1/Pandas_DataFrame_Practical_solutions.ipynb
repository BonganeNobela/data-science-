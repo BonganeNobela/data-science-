{
  "nbformat": 4,
  "nbformat_minor": 0,
  "metadata": {
    "colab": {
      "name": "Pandas_DataFrame_Practical_solutions.ipynb",
      "provenance": [],
      "collapsed_sections": [
        "YdbQXJv6hxxj",
        "16L0BtYFiuLA",
        "cBdHw0en3SgD"
      ]
    },
    "kernelspec": {
      "name": "python3",
      "display_name": "Python 3"
    },
    "language_info": {
      "name": "python"
    }
  },
  "cells": [
    {
      "cell_type": "markdown",
      "metadata": {
        "id": "vMIyu-lw3YQh"
      },
      "source": [
        "# Pandas DataFrame practical"
      ]
    },
    {
      "cell_type": "markdown",
      "metadata": {
        "id": "YdbQXJv6hxxj"
      },
      "source": [
        "## CSV / Excel sheet --> DataFrame"
      ]
    },
    {
      "cell_type": "markdown",
      "metadata": {
        "id": "F9S9Z3wtxdxQ"
      },
      "source": [
        "Upload the Excel sheet \"sample_sales.xlsx\" to your GC Notebook (either by uploading the file or by mounting your Google Drive)"
      ]
    },
    {
      "cell_type": "code",
      "metadata": {
        "id": "iVvwu2C5xXgY",
        "colab": {
          "base_uri": "https://localhost:8080/"
        },
        "outputId": "f036da17-c62e-4e7b-f7ce-e4a847524e0e"
      },
      "source": [
        "# enter code here (if necessary)\n",
        "from google.colab import drive\n",
        "drive.mount('/content/drive')"
      ],
      "execution_count": 9,
      "outputs": [
        {
          "output_type": "stream",
          "name": "stdout",
          "text": [
            "Drive already mounted at /content/drive; to attempt to forcibly remount, call drive.mount(\"/content/drive\", force_remount=True).\n"
          ]
        }
      ]
    },
    {
      "cell_type": "markdown",
      "metadata": {
        "id": "ngNHXgUJZ41-"
      },
      "source": [
        "Create a dataframe **`df1`** from the first sheet of the \"sample_sales.xlsx\" Excel file."
      ]
    },
    {
      "cell_type": "code",
      "metadata": {
        "colab": {
          "base_uri": "https://localhost:8080/",
          "height": 204
        },
        "id": "zwNcLFyVdjYu",
        "outputId": "b926c062-f657-4a83-e4d6-87c38d8b1b4b"
      },
      "source": [
        "# enter code here\n",
        "import pandas as pd\n",
        "\n",
        "file_path = 'sample_sales.xlsx'\n",
        "\n",
        "df1 = pd.read_excel(file_path, sheet_name=\"Sample_Sales_1\")\n",
        "df1.head()    "
      ],
      "execution_count": 29,
      "outputs": [
        {
          "output_type": "execute_result",
          "data": {
            "text/html": [
              "<div>\n",
              "<style scoped>\n",
              "    .dataframe tbody tr th:only-of-type {\n",
              "        vertical-align: middle;\n",
              "    }\n",
              "\n",
              "    .dataframe tbody tr th {\n",
              "        vertical-align: top;\n",
              "    }\n",
              "\n",
              "    .dataframe thead th {\n",
              "        text-align: right;\n",
              "    }\n",
              "</style>\n",
              "<table border=\"1\" class=\"dataframe\">\n",
              "  <thead>\n",
              "    <tr style=\"text-align: right;\">\n",
              "      <th></th>\n",
              "      <th>Region</th>\n",
              "      <th>Country</th>\n",
              "      <th>Item Type</th>\n",
              "      <th>Order Priority</th>\n",
              "      <th>Order Date</th>\n",
              "      <th>Total Cost</th>\n",
              "      <th>Total Profit</th>\n",
              "    </tr>\n",
              "  </thead>\n",
              "  <tbody>\n",
              "    <tr>\n",
              "      <th>0</th>\n",
              "      <td>Europe</td>\n",
              "      <td>Russia</td>\n",
              "      <td>Office Supplies</td>\n",
              "      <td>L</td>\n",
              "      <td>2014-05-02</td>\n",
              "      <td>933903.84</td>\n",
              "      <td>~</td>\n",
              "    </tr>\n",
              "    <tr>\n",
              "      <th>1</th>\n",
              "      <td>Australia and Oceania</td>\n",
              "      <td>Tuvalu</td>\n",
              "      <td>Baby Food</td>\n",
              "      <td>H</td>\n",
              "      <td>2010-05-28</td>\n",
              "      <td>1582243.50</td>\n",
              "      <td>951410</td>\n",
              "    </tr>\n",
              "    <tr>\n",
              "      <th>2</th>\n",
              "      <td>~</td>\n",
              "      <td>Sao Tome and Principe</td>\n",
              "      <td>Fruits</td>\n",
              "      <td>C</td>\n",
              "      <td>2014-06-20</td>\n",
              "      <td>56065.84</td>\n",
              "      <td>19525.8</td>\n",
              "    </tr>\n",
              "    <tr>\n",
              "      <th>3</th>\n",
              "      <td>Central America and the Caribbean</td>\n",
              "      <td>Grenada</td>\n",
              "      <td>Cereal</td>\n",
              "      <td>C</td>\n",
              "      <td>2012-08-22</td>\n",
              "      <td>328376.44</td>\n",
              "      <td>248406</td>\n",
              "    </tr>\n",
              "    <tr>\n",
              "      <th>4</th>\n",
              "      <td>Europe</td>\n",
              "      <td>Russia</td>\n",
              "      <td>Office Supplies</td>\n",
              "      <td>L</td>\n",
              "      <td>2014-05-02</td>\n",
              "      <td>933903.84</td>\n",
              "      <td>~</td>\n",
              "    </tr>\n",
              "  </tbody>\n",
              "</table>\n",
              "</div>"
            ],
            "text/plain": [
              "                              Region  ... Total Profit\n",
              "0                             Europe  ...            ~\n",
              "1              Australia and Oceania  ...       951410\n",
              "2                                  ~  ...      19525.8\n",
              "3  Central America and the Caribbean  ...       248406\n",
              "4                             Europe  ...            ~\n",
              "\n",
              "[5 rows x 7 columns]"
            ]
          },
          "metadata": {},
          "execution_count": 29
        }
      ]
    },
    {
      "cell_type": "markdown",
      "metadata": {
        "id": "pziKv4Pldqmn"
      },
      "source": [
        "Create a dataframe **`df2`** from the second sheet of the Excel file. \n",
        "* Note that this dataset does not have any headings.\n",
        "* Add the same headings to this dataframe as in the first sheet: \n",
        "\n",
        "\"Region\", \"Country\", \"Item Type\", \"Order Priority\", \"Order Date\", \"Total Cost\", \"Total Profit\"\n",
        "\n"
      ]
    },
    {
      "cell_type": "code",
      "metadata": {
        "colab": {
          "base_uri": "https://localhost:8080/",
          "height": 204
        },
        "id": "zyEMM3pWelsg",
        "outputId": "07b9043f-9bb9-447f-872f-0f4759e8ecee"
      },
      "source": [
        "# enter code here\n",
        "header_names = [\"Region\", \"Country\", \"Item Type\", \"Order Priority\", \"Order Date\", \"Total Cost\", \"Total Profit\"]\n",
        "df2 = pd.read_excel(file_path, sheet_name=\"Sample_Sales_2\", header=None, names=header_names)\n",
        "df2.head()  "
      ],
      "execution_count": 57,
      "outputs": [
        {
          "output_type": "execute_result",
          "data": {
            "text/html": [
              "<div>\n",
              "<style scoped>\n",
              "    .dataframe tbody tr th:only-of-type {\n",
              "        vertical-align: middle;\n",
              "    }\n",
              "\n",
              "    .dataframe tbody tr th {\n",
              "        vertical-align: top;\n",
              "    }\n",
              "\n",
              "    .dataframe thead th {\n",
              "        text-align: right;\n",
              "    }\n",
              "</style>\n",
              "<table border=\"1\" class=\"dataframe\">\n",
              "  <thead>\n",
              "    <tr style=\"text-align: right;\">\n",
              "      <th></th>\n",
              "      <th>Region</th>\n",
              "      <th>Country</th>\n",
              "      <th>Item Type</th>\n",
              "      <th>Order Priority</th>\n",
              "      <th>Order Date</th>\n",
              "      <th>Total Cost</th>\n",
              "      <th>Total Profit</th>\n",
              "    </tr>\n",
              "  </thead>\n",
              "  <tbody>\n",
              "    <tr>\n",
              "      <th>0</th>\n",
              "      <td>Europe</td>\n",
              "      <td>Monaco</td>\n",
              "      <td>Baby Food</td>\n",
              "      <td>H</td>\n",
              "      <td>2012-05-29 00:00:00</td>\n",
              "      <td>1373243.88</td>\n",
              "      <td>825738.04</td>\n",
              "    </tr>\n",
              "    <tr>\n",
              "      <th>1</th>\n",
              "      <td>Australia and Oceania</td>\n",
              "      <td>Samoa</td>\n",
              "      <td>Cosmetics</td>\n",
              "      <td>H</td>\n",
              "      <td>2013-07-20 00:00:00</td>\n",
              "      <td>2542187.82</td>\n",
              "      <td>1678540.98</td>\n",
              "    </tr>\n",
              "    <tr>\n",
              "      <th>2</th>\n",
              "      <td>Europe</td>\n",
              "      <td>Spain</td>\n",
              "      <td>Household</td>\n",
              "      <td>L</td>\n",
              "      <td>2012-10-21 00:00:00</td>\n",
              "      <td>2267963.02</td>\n",
              "      <td>747939.49</td>\n",
              "    </tr>\n",
              "    <tr>\n",
              "      <th>3</th>\n",
              "      <td>Middle East and North Africa</td>\n",
              "      <td>Lebanon</td>\n",
              "      <td>Clothes</td>\n",
              "      <td>L</td>\n",
              "      <td>2012-31-09</td>\n",
              "      <td>282562.56</td>\n",
              "      <td>579000.96</td>\n",
              "    </tr>\n",
              "    <tr>\n",
              "      <th>4</th>\n",
              "      <td>Middle East and North Africa</td>\n",
              "      <td>Iran</td>\n",
              "      <td>Cosmetics</td>\n",
              "      <td>H</td>\n",
              "      <td>2016-15-13</td>\n",
              "      <td>1708748.37</td>\n",
              "      <td>1128242.43</td>\n",
              "    </tr>\n",
              "  </tbody>\n",
              "</table>\n",
              "</div>"
            ],
            "text/plain": [
              "                         Region  Country  ...  Total Cost Total Profit\n",
              "0                        Europe   Monaco  ...  1373243.88    825738.04\n",
              "1         Australia and Oceania   Samoa   ...  2542187.82   1678540.98\n",
              "2                        Europe    Spain  ...  2267963.02    747939.49\n",
              "3  Middle East and North Africa  Lebanon  ...   282562.56    579000.96\n",
              "4  Middle East and North Africa     Iran  ...  1708748.37   1128242.43\n",
              "\n",
              "[5 rows x 7 columns]"
            ]
          },
          "metadata": {},
          "execution_count": 57
        }
      ]
    },
    {
      "cell_type": "markdown",
      "metadata": {
        "id": "2iE3QQjCeqOR"
      },
      "source": [
        "Create a dataframe **`df3`** from the third sheet of the Excel file.\n",
        "* Note that you will need to skip the first few lines\n"
      ]
    },
    {
      "cell_type": "code",
      "metadata": {
        "colab": {
          "base_uri": "https://localhost:8080/",
          "height": 204
        },
        "id": "SWXInr01hWI5",
        "outputId": "c90392f9-a51b-4cde-e7a8-1a6c7f319ca5"
      },
      "source": [
        "# enter code here\n",
        "df3 = pd.read_excel(file_path, sheet_name=\"Sample_Sales_3\", skiprows=4)\n",
        "df3.head() "
      ],
      "execution_count": 31,
      "outputs": [
        {
          "output_type": "execute_result",
          "data": {
            "text/html": [
              "<div>\n",
              "<style scoped>\n",
              "    .dataframe tbody tr th:only-of-type {\n",
              "        vertical-align: middle;\n",
              "    }\n",
              "\n",
              "    .dataframe tbody tr th {\n",
              "        vertical-align: top;\n",
              "    }\n",
              "\n",
              "    .dataframe thead th {\n",
              "        text-align: right;\n",
              "    }\n",
              "</style>\n",
              "<table border=\"1\" class=\"dataframe\">\n",
              "  <thead>\n",
              "    <tr style=\"text-align: right;\">\n",
              "      <th></th>\n",
              "      <th>Region</th>\n",
              "      <th>Country</th>\n",
              "      <th>Item Type</th>\n",
              "      <th>Order Priority</th>\n",
              "      <th>Order Date</th>\n",
              "      <th>Total Cost</th>\n",
              "      <th>Total Profit</th>\n",
              "    </tr>\n",
              "  </thead>\n",
              "  <tbody>\n",
              "    <tr>\n",
              "      <th>0</th>\n",
              "      <td>Middle East and North Africa</td>\n",
              "      <td>Azerbaijan</td>\n",
              "      <td>Office Supplies</td>\n",
              "      <td>M</td>\n",
              "      <td>2012-06-13</td>\n",
              "      <td>1060944.16</td>\n",
              "      <td>255151.25</td>\n",
              "    </tr>\n",
              "    <tr>\n",
              "      <th>1</th>\n",
              "      <td>Europe</td>\n",
              "      <td>Romania</td>\n",
              "      <td>Cosmetics</td>\n",
              "      <td>H</td>\n",
              "      <td>2010-11-26</td>\n",
              "      <td>2082940.30</td>\n",
              "      <td>1375311.70</td>\n",
              "    </tr>\n",
              "    <tr>\n",
              "      <th>2</th>\n",
              "      <td>Central America and the Caribbean</td>\n",
              "      <td>Nicaragua</td>\n",
              "      <td>Beverages</td>\n",
              "      <td>C</td>\n",
              "      <td>2011-02-05</td>\n",
              "      <td>259279.24</td>\n",
              "      <td>127722.96</td>\n",
              "    </tr>\n",
              "    <tr>\n",
              "      <th>3</th>\n",
              "      <td>Sub-Saharan Africa</td>\n",
              "      <td>Mali</td>\n",
              "      <td>Clothes</td>\n",
              "      <td>M</td>\n",
              "      <td>2011-07-26</td>\n",
              "      <td>31825.92</td>\n",
              "      <td>65214.72</td>\n",
              "    </tr>\n",
              "    <tr>\n",
              "      <th>4</th>\n",
              "      <td>Asia</td>\n",
              "      <td>Malaysia</td>\n",
              "      <td>Fruits</td>\n",
              "      <td>L</td>\n",
              "      <td>2011-11-11</td>\n",
              "      <td>43367.64</td>\n",
              "      <td>15103.47</td>\n",
              "    </tr>\n",
              "  </tbody>\n",
              "</table>\n",
              "</div>"
            ],
            "text/plain": [
              "                              Region     Country  ...  Total Cost Total Profit\n",
              "0       Middle East and North Africa  Azerbaijan  ...  1060944.16    255151.25\n",
              "1                             Europe     Romania  ...  2082940.30   1375311.70\n",
              "2  Central America and the Caribbean   Nicaragua  ...   259279.24    127722.96\n",
              "3                 Sub-Saharan Africa        Mali  ...    31825.92     65214.72\n",
              "4                               Asia    Malaysia  ...    43367.64     15103.47\n",
              "\n",
              "[5 rows x 7 columns]"
            ]
          },
          "metadata": {},
          "execution_count": 31
        }
      ]
    },
    {
      "cell_type": "markdown",
      "metadata": {
        "id": "8RtLt1XaiESH"
      },
      "source": [
        "Create a dataframe **`df_concat_13`** that concatenates the dataframes **`df1`** and **`df3`** on the row axis.\n",
        "\n",
        "NB: remember to reset your index!"
      ]
    },
    {
      "cell_type": "code",
      "metadata": {
        "colab": {
          "base_uri": "https://localhost:8080/",
          "height": 289
        },
        "id": "2FIgm6C5igY_",
        "outputId": "9db630f9-fcb7-4ce1-a469-174a148af27f"
      },
      "source": [
        "# enter code here\n",
        "df_concat_13 = pd.concat([df1, df3], axis = 0) # rows are axis = 0, columns are axis = 1\t\n",
        "df_concat_13 = df_concat_13.reset_index()\n",
        "df_concat_13.head()"
      ],
      "execution_count": 32,
      "outputs": [
        {
          "output_type": "execute_result",
          "data": {
            "text/html": [
              "<div>\n",
              "<style scoped>\n",
              "    .dataframe tbody tr th:only-of-type {\n",
              "        vertical-align: middle;\n",
              "    }\n",
              "\n",
              "    .dataframe tbody tr th {\n",
              "        vertical-align: top;\n",
              "    }\n",
              "\n",
              "    .dataframe thead th {\n",
              "        text-align: right;\n",
              "    }\n",
              "</style>\n",
              "<table border=\"1\" class=\"dataframe\">\n",
              "  <thead>\n",
              "    <tr style=\"text-align: right;\">\n",
              "      <th></th>\n",
              "      <th>index</th>\n",
              "      <th>Region</th>\n",
              "      <th>Country</th>\n",
              "      <th>Item Type</th>\n",
              "      <th>Order Priority</th>\n",
              "      <th>Order Date</th>\n",
              "      <th>Total Cost</th>\n",
              "      <th>Total Profit</th>\n",
              "    </tr>\n",
              "  </thead>\n",
              "  <tbody>\n",
              "    <tr>\n",
              "      <th>0</th>\n",
              "      <td>0</td>\n",
              "      <td>Europe</td>\n",
              "      <td>Russia</td>\n",
              "      <td>Office Supplies</td>\n",
              "      <td>L</td>\n",
              "      <td>2014-05-02</td>\n",
              "      <td>933903.84</td>\n",
              "      <td>~</td>\n",
              "    </tr>\n",
              "    <tr>\n",
              "      <th>1</th>\n",
              "      <td>1</td>\n",
              "      <td>Australia and Oceania</td>\n",
              "      <td>Tuvalu</td>\n",
              "      <td>Baby Food</td>\n",
              "      <td>H</td>\n",
              "      <td>2010-05-28</td>\n",
              "      <td>1582243.50</td>\n",
              "      <td>951410</td>\n",
              "    </tr>\n",
              "    <tr>\n",
              "      <th>2</th>\n",
              "      <td>2</td>\n",
              "      <td>~</td>\n",
              "      <td>Sao Tome and Principe</td>\n",
              "      <td>Fruits</td>\n",
              "      <td>C</td>\n",
              "      <td>2014-06-20</td>\n",
              "      <td>56065.84</td>\n",
              "      <td>19525.8</td>\n",
              "    </tr>\n",
              "    <tr>\n",
              "      <th>3</th>\n",
              "      <td>3</td>\n",
              "      <td>Central America and the Caribbean</td>\n",
              "      <td>Grenada</td>\n",
              "      <td>Cereal</td>\n",
              "      <td>C</td>\n",
              "      <td>2012-08-22</td>\n",
              "      <td>328376.44</td>\n",
              "      <td>248406</td>\n",
              "    </tr>\n",
              "    <tr>\n",
              "      <th>4</th>\n",
              "      <td>4</td>\n",
              "      <td>Europe</td>\n",
              "      <td>Russia</td>\n",
              "      <td>Office Supplies</td>\n",
              "      <td>L</td>\n",
              "      <td>2014-05-02</td>\n",
              "      <td>933903.84</td>\n",
              "      <td>~</td>\n",
              "    </tr>\n",
              "  </tbody>\n",
              "</table>\n",
              "</div>"
            ],
            "text/plain": [
              "   index                             Region  ...  Total Cost Total Profit\n",
              "0      0                             Europe  ...   933903.84            ~\n",
              "1      1              Australia and Oceania  ...  1582243.50       951410\n",
              "2      2                                  ~  ...    56065.84      19525.8\n",
              "3      3  Central America and the Caribbean  ...   328376.44       248406\n",
              "4      4                             Europe  ...   933903.84            ~\n",
              "\n",
              "[5 rows x 8 columns]"
            ]
          },
          "metadata": {},
          "execution_count": 32
        }
      ]
    },
    {
      "cell_type": "markdown",
      "metadata": {
        "id": "16L0BtYFiuLA"
      },
      "source": [
        "## Replacing and removing"
      ]
    },
    {
      "cell_type": "markdown",
      "metadata": {
        "id": "DOt2X5tqix4b"
      },
      "source": [
        "For dataframe **`df1`**, column name \"Order Priority\":\n",
        "* replace \"H\" with \"High\"\n",
        "* replace \"M\" with \"Medium\"\n",
        "* replace \"L\" with \"Low\"\n",
        "\n",
        "(Keep the dataframe name **`df1`**)"
      ]
    },
    {
      "cell_type": "code",
      "metadata": {
        "colab": {
          "base_uri": "https://localhost:8080/",
          "height": 204
        },
        "id": "o0Q9nn1SkD7_",
        "outputId": "1adedd87-8f04-4b9b-97c6-a5a77a315e22"
      },
      "source": [
        "# Enter code here\n",
        "df1['Order Priority'] = df1['Order Priority'].replace(['H','M','L'],['High','Medium','Low'])\n",
        "df1.head()"
      ],
      "execution_count": 36,
      "outputs": [
        {
          "output_type": "execute_result",
          "data": {
            "text/html": [
              "<div>\n",
              "<style scoped>\n",
              "    .dataframe tbody tr th:only-of-type {\n",
              "        vertical-align: middle;\n",
              "    }\n",
              "\n",
              "    .dataframe tbody tr th {\n",
              "        vertical-align: top;\n",
              "    }\n",
              "\n",
              "    .dataframe thead th {\n",
              "        text-align: right;\n",
              "    }\n",
              "</style>\n",
              "<table border=\"1\" class=\"dataframe\">\n",
              "  <thead>\n",
              "    <tr style=\"text-align: right;\">\n",
              "      <th></th>\n",
              "      <th>Region</th>\n",
              "      <th>Country</th>\n",
              "      <th>Item Type</th>\n",
              "      <th>Order Priority</th>\n",
              "      <th>Order Date</th>\n",
              "      <th>Total Cost</th>\n",
              "      <th>Total Profit</th>\n",
              "    </tr>\n",
              "  </thead>\n",
              "  <tbody>\n",
              "    <tr>\n",
              "      <th>0</th>\n",
              "      <td>Europe</td>\n",
              "      <td>Russia</td>\n",
              "      <td>Office Supplies</td>\n",
              "      <td>Low</td>\n",
              "      <td>2014-05-02</td>\n",
              "      <td>933903.84</td>\n",
              "      <td>~</td>\n",
              "    </tr>\n",
              "    <tr>\n",
              "      <th>1</th>\n",
              "      <td>Australia and Oceania</td>\n",
              "      <td>Tuvalu</td>\n",
              "      <td>Baby Food</td>\n",
              "      <td>High</td>\n",
              "      <td>2010-05-28</td>\n",
              "      <td>1582243.50</td>\n",
              "      <td>951410</td>\n",
              "    </tr>\n",
              "    <tr>\n",
              "      <th>2</th>\n",
              "      <td>~</td>\n",
              "      <td>Sao Tome and Principe</td>\n",
              "      <td>Fruits</td>\n",
              "      <td>C</td>\n",
              "      <td>2014-06-20</td>\n",
              "      <td>56065.84</td>\n",
              "      <td>19525.8</td>\n",
              "    </tr>\n",
              "    <tr>\n",
              "      <th>3</th>\n",
              "      <td>Central America and the Caribbean</td>\n",
              "      <td>Grenada</td>\n",
              "      <td>Cereal</td>\n",
              "      <td>C</td>\n",
              "      <td>2012-08-22</td>\n",
              "      <td>328376.44</td>\n",
              "      <td>248406</td>\n",
              "    </tr>\n",
              "    <tr>\n",
              "      <th>4</th>\n",
              "      <td>Europe</td>\n",
              "      <td>Russia</td>\n",
              "      <td>Office Supplies</td>\n",
              "      <td>Low</td>\n",
              "      <td>2014-05-02</td>\n",
              "      <td>933903.84</td>\n",
              "      <td>~</td>\n",
              "    </tr>\n",
              "  </tbody>\n",
              "</table>\n",
              "</div>"
            ],
            "text/plain": [
              "                              Region  ... Total Profit\n",
              "0                             Europe  ...            ~\n",
              "1              Australia and Oceania  ...       951410\n",
              "2                                  ~  ...      19525.8\n",
              "3  Central America and the Caribbean  ...       248406\n",
              "4                             Europe  ...            ~\n",
              "\n",
              "[5 rows x 7 columns]"
            ]
          },
          "metadata": {},
          "execution_count": 36
        }
      ]
    },
    {
      "cell_type": "markdown",
      "metadata": {
        "id": "QPwgPM6f2eOF"
      },
      "source": [
        "For dataframe **`df1`**, replace all entries containing '~' with NaN values.\n",
        "\n",
        "NB: remember to import the numpy library!"
      ]
    },
    {
      "cell_type": "code",
      "metadata": {
        "colab": {
          "base_uri": "https://localhost:8080/",
          "height": 204
        },
        "id": "LAaJwEQX2pZ8",
        "outputId": "ab7cd0bc-99f9-4c8a-82ae-e229d8114760"
      },
      "source": [
        "# Enter code here\n",
        "import numpy as np\n",
        "\n",
        "df1 = df1.replace('~', np.nan)\n",
        "df1.head()"
      ],
      "execution_count": 38,
      "outputs": [
        {
          "output_type": "execute_result",
          "data": {
            "text/html": [
              "<div>\n",
              "<style scoped>\n",
              "    .dataframe tbody tr th:only-of-type {\n",
              "        vertical-align: middle;\n",
              "    }\n",
              "\n",
              "    .dataframe tbody tr th {\n",
              "        vertical-align: top;\n",
              "    }\n",
              "\n",
              "    .dataframe thead th {\n",
              "        text-align: right;\n",
              "    }\n",
              "</style>\n",
              "<table border=\"1\" class=\"dataframe\">\n",
              "  <thead>\n",
              "    <tr style=\"text-align: right;\">\n",
              "      <th></th>\n",
              "      <th>Region</th>\n",
              "      <th>Country</th>\n",
              "      <th>Item Type</th>\n",
              "      <th>Order Priority</th>\n",
              "      <th>Order Date</th>\n",
              "      <th>Total Cost</th>\n",
              "      <th>Total Profit</th>\n",
              "    </tr>\n",
              "  </thead>\n",
              "  <tbody>\n",
              "    <tr>\n",
              "      <th>0</th>\n",
              "      <td>Europe</td>\n",
              "      <td>Russia</td>\n",
              "      <td>Office Supplies</td>\n",
              "      <td>Low</td>\n",
              "      <td>2014-05-02</td>\n",
              "      <td>933903.84</td>\n",
              "      <td>NaN</td>\n",
              "    </tr>\n",
              "    <tr>\n",
              "      <th>1</th>\n",
              "      <td>Australia and Oceania</td>\n",
              "      <td>Tuvalu</td>\n",
              "      <td>Baby Food</td>\n",
              "      <td>High</td>\n",
              "      <td>2010-05-28</td>\n",
              "      <td>1582243.50</td>\n",
              "      <td>951410.50</td>\n",
              "    </tr>\n",
              "    <tr>\n",
              "      <th>2</th>\n",
              "      <td>NaN</td>\n",
              "      <td>Sao Tome and Principe</td>\n",
              "      <td>Fruits</td>\n",
              "      <td>C</td>\n",
              "      <td>2014-06-20</td>\n",
              "      <td>56065.84</td>\n",
              "      <td>19525.82</td>\n",
              "    </tr>\n",
              "    <tr>\n",
              "      <th>3</th>\n",
              "      <td>Central America and the Caribbean</td>\n",
              "      <td>Grenada</td>\n",
              "      <td>Cereal</td>\n",
              "      <td>C</td>\n",
              "      <td>2012-08-22</td>\n",
              "      <td>328376.44</td>\n",
              "      <td>248406.36</td>\n",
              "    </tr>\n",
              "    <tr>\n",
              "      <th>4</th>\n",
              "      <td>Europe</td>\n",
              "      <td>Russia</td>\n",
              "      <td>Office Supplies</td>\n",
              "      <td>Low</td>\n",
              "      <td>2014-05-02</td>\n",
              "      <td>933903.84</td>\n",
              "      <td>NaN</td>\n",
              "    </tr>\n",
              "  </tbody>\n",
              "</table>\n",
              "</div>"
            ],
            "text/plain": [
              "                              Region  ... Total Profit\n",
              "0                             Europe  ...          NaN\n",
              "1              Australia and Oceania  ...    951410.50\n",
              "2                                NaN  ...     19525.82\n",
              "3  Central America and the Caribbean  ...    248406.36\n",
              "4                             Europe  ...          NaN\n",
              "\n",
              "[5 rows x 7 columns]"
            ]
          },
          "metadata": {},
          "execution_count": 38
        }
      ]
    },
    {
      "cell_type": "markdown",
      "metadata": {
        "id": "9muPbrZRkFO8"
      },
      "source": [
        "For dataframe **`df1`**, remove all rows in the dataframe where there is a \"C\" in the \"Order Priority\" column\n",
        "\n",
        "NB: remember to reset your index!"
      ]
    },
    {
      "cell_type": "code",
      "metadata": {
        "colab": {
          "base_uri": "https://localhost:8080/",
          "height": 204
        },
        "id": "fM4S_Y4Ol4zU",
        "outputId": "58058346-1ecc-45df-d8e7-c9ea8ac63a6c"
      },
      "source": [
        "# Enter code here\n",
        "df1 = df1[~df1['Order Priority'].isin(['C'])]\n",
        "\n",
        "df1 = df1.reset_index()\n",
        "df1.head()"
      ],
      "execution_count": 40,
      "outputs": [
        {
          "output_type": "execute_result",
          "data": {
            "text/html": [
              "<div>\n",
              "<style scoped>\n",
              "    .dataframe tbody tr th:only-of-type {\n",
              "        vertical-align: middle;\n",
              "    }\n",
              "\n",
              "    .dataframe tbody tr th {\n",
              "        vertical-align: top;\n",
              "    }\n",
              "\n",
              "    .dataframe thead th {\n",
              "        text-align: right;\n",
              "    }\n",
              "</style>\n",
              "<table border=\"1\" class=\"dataframe\">\n",
              "  <thead>\n",
              "    <tr style=\"text-align: right;\">\n",
              "      <th></th>\n",
              "      <th>index</th>\n",
              "      <th>Region</th>\n",
              "      <th>Country</th>\n",
              "      <th>Item Type</th>\n",
              "      <th>Order Priority</th>\n",
              "      <th>Order Date</th>\n",
              "      <th>Total Cost</th>\n",
              "      <th>Total Profit</th>\n",
              "    </tr>\n",
              "  </thead>\n",
              "  <tbody>\n",
              "    <tr>\n",
              "      <th>0</th>\n",
              "      <td>0</td>\n",
              "      <td>Europe</td>\n",
              "      <td>Russia</td>\n",
              "      <td>Office Supplies</td>\n",
              "      <td>Low</td>\n",
              "      <td>2014-05-02</td>\n",
              "      <td>933903.84</td>\n",
              "      <td>NaN</td>\n",
              "    </tr>\n",
              "    <tr>\n",
              "      <th>1</th>\n",
              "      <td>1</td>\n",
              "      <td>Australia and Oceania</td>\n",
              "      <td>Tuvalu</td>\n",
              "      <td>Baby Food</td>\n",
              "      <td>High</td>\n",
              "      <td>2010-05-28</td>\n",
              "      <td>1582243.50</td>\n",
              "      <td>951410.5</td>\n",
              "    </tr>\n",
              "    <tr>\n",
              "      <th>2</th>\n",
              "      <td>4</td>\n",
              "      <td>Europe</td>\n",
              "      <td>Russia</td>\n",
              "      <td>Office Supplies</td>\n",
              "      <td>Low</td>\n",
              "      <td>2014-05-02</td>\n",
              "      <td>933903.84</td>\n",
              "      <td>NaN</td>\n",
              "    </tr>\n",
              "    <tr>\n",
              "      <th>3</th>\n",
              "      <td>6</td>\n",
              "      <td>Sub-Saharan Africa</td>\n",
              "      <td>Rwanda</td>\n",
              "      <td>Office Supplies</td>\n",
              "      <td>Low</td>\n",
              "      <td>2013-02-01</td>\n",
              "      <td>2657347.52</td>\n",
              "      <td>639077.5</td>\n",
              "    </tr>\n",
              "    <tr>\n",
              "      <th>4</th>\n",
              "      <td>8</td>\n",
              "      <td>Sub-Saharan Africa</td>\n",
              "      <td>Angola</td>\n",
              "      <td>Household</td>\n",
              "      <td>Medium</td>\n",
              "      <td>2011-04-23</td>\n",
              "      <td>2104134.98</td>\n",
              "      <td>NaN</td>\n",
              "    </tr>\n",
              "  </tbody>\n",
              "</table>\n",
              "</div>"
            ],
            "text/plain": [
              "   index                 Region Country  ... Order Date  Total Cost Total Profit\n",
              "0      0                 Europe  Russia  ... 2014-05-02   933903.84          NaN\n",
              "1      1  Australia and Oceania  Tuvalu  ... 2010-05-28  1582243.50     951410.5\n",
              "2      4                 Europe  Russia  ... 2014-05-02   933903.84          NaN\n",
              "3      6     Sub-Saharan Africa  Rwanda  ... 2013-02-01  2657347.52     639077.5\n",
              "4      8     Sub-Saharan Africa  Angola  ... 2011-04-23  2104134.98          NaN\n",
              "\n",
              "[5 rows x 8 columns]"
            ]
          },
          "metadata": {},
          "execution_count": 40
        }
      ]
    },
    {
      "cell_type": "markdown",
      "metadata": {
        "id": "H2hnY2mImlwK"
      },
      "source": [
        "Create a dataframe **`df_cereal`**. This dataframe should only contain the rows of **`df1`** where the \"Item Type\" entry is \"Cereal\"\n",
        "* remember to reset the index"
      ]
    },
    {
      "cell_type": "code",
      "metadata": {
        "colab": {
          "base_uri": "https://localhost:8080/",
          "height": 111
        },
        "id": "Xs2_UYnym8QA",
        "outputId": "53f269cd-f257-485a-fceb-c55844b2cba7"
      },
      "source": [
        "# Enter code here\n",
        "df_cereal = df1[df1['Item Type'].isin(['Cereal'])]\n",
        "df_cereal = df_cereal.reset_index()\n",
        "\n",
        "df_cereal.head()"
      ],
      "execution_count": 43,
      "outputs": [
        {
          "output_type": "execute_result",
          "data": {
            "text/html": [
              "<div>\n",
              "<style scoped>\n",
              "    .dataframe tbody tr th:only-of-type {\n",
              "        vertical-align: middle;\n",
              "    }\n",
              "\n",
              "    .dataframe tbody tr th {\n",
              "        vertical-align: top;\n",
              "    }\n",
              "\n",
              "    .dataframe thead th {\n",
              "        text-align: right;\n",
              "    }\n",
              "</style>\n",
              "<table border=\"1\" class=\"dataframe\">\n",
              "  <thead>\n",
              "    <tr style=\"text-align: right;\">\n",
              "      <th></th>\n",
              "      <th>level_0</th>\n",
              "      <th>index</th>\n",
              "      <th>Region</th>\n",
              "      <th>Country</th>\n",
              "      <th>Item Type</th>\n",
              "      <th>Order Priority</th>\n",
              "      <th>Order Date</th>\n",
              "      <th>Total Cost</th>\n",
              "      <th>Total Profit</th>\n",
              "    </tr>\n",
              "  </thead>\n",
              "  <tbody>\n",
              "    <tr>\n",
              "      <th>0</th>\n",
              "      <td>8</td>\n",
              "      <td>12</td>\n",
              "      <td>Sub-Saharan Africa</td>\n",
              "      <td>Senegal</td>\n",
              "      <td>Cereal</td>\n",
              "      <td>High</td>\n",
              "      <td>2014-04-18</td>\n",
              "      <td>772106.23</td>\n",
              "      <td>584073.87</td>\n",
              "    </tr>\n",
              "    <tr>\n",
              "      <th>1</th>\n",
              "      <td>39</td>\n",
              "      <td>48</td>\n",
              "      <td>Sub-Saharan Africa</td>\n",
              "      <td>The Gambia</td>\n",
              "      <td>Cereal</td>\n",
              "      <td>High</td>\n",
              "      <td>2012-06-07</td>\n",
              "      <td>247921.87</td>\n",
              "      <td>187545.03</td>\n",
              "    </tr>\n",
              "  </tbody>\n",
              "</table>\n",
              "</div>"
            ],
            "text/plain": [
              "   level_0  index              Region  ... Order Date Total Cost Total Profit\n",
              "0        8     12  Sub-Saharan Africa  ... 2014-04-18  772106.23    584073.87\n",
              "1       39     48  Sub-Saharan Africa  ... 2012-06-07  247921.87    187545.03\n",
              "\n",
              "[2 rows x 9 columns]"
            ]
          },
          "metadata": {},
          "execution_count": 43
        }
      ]
    },
    {
      "cell_type": "markdown",
      "metadata": {
        "id": "ShfAUd-wm9yv"
      },
      "source": [
        "Remove the column \"Total Cost\" and \"Total Profit\" in dataframe **`df1`**.\n",
        "\n",
        "(Keep the dataframe name **`df1`**)"
      ]
    },
    {
      "cell_type": "code",
      "metadata": {
        "colab": {
          "base_uri": "https://localhost:8080/",
          "height": 204
        },
        "id": "WLHJTpzn149a",
        "outputId": "7f4f0b52-0f77-40e4-b2ba-c5b12fd72456"
      },
      "source": [
        "# Enter code here\n",
        "df1 = df1.drop(['Total Cost', 'Total Profit'], axis=1)\n",
        "df1.head()"
      ],
      "execution_count": 49,
      "outputs": [
        {
          "output_type": "execute_result",
          "data": {
            "text/html": [
              "<div>\n",
              "<style scoped>\n",
              "    .dataframe tbody tr th:only-of-type {\n",
              "        vertical-align: middle;\n",
              "    }\n",
              "\n",
              "    .dataframe tbody tr th {\n",
              "        vertical-align: top;\n",
              "    }\n",
              "\n",
              "    .dataframe thead th {\n",
              "        text-align: right;\n",
              "    }\n",
              "</style>\n",
              "<table border=\"1\" class=\"dataframe\">\n",
              "  <thead>\n",
              "    <tr style=\"text-align: right;\">\n",
              "      <th></th>\n",
              "      <th>index</th>\n",
              "      <th>Region</th>\n",
              "      <th>Country</th>\n",
              "      <th>Item Type</th>\n",
              "      <th>Order Priority</th>\n",
              "      <th>Order Date</th>\n",
              "    </tr>\n",
              "  </thead>\n",
              "  <tbody>\n",
              "    <tr>\n",
              "      <th>0</th>\n",
              "      <td>0</td>\n",
              "      <td>Europe</td>\n",
              "      <td>Russia</td>\n",
              "      <td>Office Supplies</td>\n",
              "      <td>Low</td>\n",
              "      <td>2014-05-02</td>\n",
              "    </tr>\n",
              "    <tr>\n",
              "      <th>1</th>\n",
              "      <td>1</td>\n",
              "      <td>Australia and Oceania</td>\n",
              "      <td>Tuvalu</td>\n",
              "      <td>Baby Food</td>\n",
              "      <td>High</td>\n",
              "      <td>2010-05-28</td>\n",
              "    </tr>\n",
              "    <tr>\n",
              "      <th>2</th>\n",
              "      <td>4</td>\n",
              "      <td>Europe</td>\n",
              "      <td>Russia</td>\n",
              "      <td>Office Supplies</td>\n",
              "      <td>Low</td>\n",
              "      <td>2014-05-02</td>\n",
              "    </tr>\n",
              "    <tr>\n",
              "      <th>3</th>\n",
              "      <td>6</td>\n",
              "      <td>Sub-Saharan Africa</td>\n",
              "      <td>Rwanda</td>\n",
              "      <td>Office Supplies</td>\n",
              "      <td>Low</td>\n",
              "      <td>2013-02-01</td>\n",
              "    </tr>\n",
              "    <tr>\n",
              "      <th>4</th>\n",
              "      <td>8</td>\n",
              "      <td>Sub-Saharan Africa</td>\n",
              "      <td>Angola</td>\n",
              "      <td>Household</td>\n",
              "      <td>Medium</td>\n",
              "      <td>2011-04-23</td>\n",
              "    </tr>\n",
              "  </tbody>\n",
              "</table>\n",
              "</div>"
            ],
            "text/plain": [
              "   index                 Region  ... Order Priority Order Date\n",
              "0      0                 Europe  ...            Low 2014-05-02\n",
              "1      1  Australia and Oceania  ...           High 2010-05-28\n",
              "2      4                 Europe  ...            Low 2014-05-02\n",
              "3      6     Sub-Saharan Africa  ...            Low 2013-02-01\n",
              "4      8     Sub-Saharan Africa  ...         Medium 2011-04-23\n",
              "\n",
              "[5 rows x 6 columns]"
            ]
          },
          "metadata": {},
          "execution_count": 49
        }
      ]
    },
    {
      "cell_type": "markdown",
      "metadata": {
        "id": "iX8OuB5f3Zsn"
      },
      "source": [
        "Some of the entries in **`df1`** are duplicates.\n",
        "If the same \"Country\" and \"Item type\" entries appear in more than one row, only keep the **`last`** entry and remove the rest of the duplicates. Keep the name of the dataframe **`df1`**\n",
        "* remember to reset the index\n"
      ]
    },
    {
      "cell_type": "code",
      "metadata": {
        "colab": {
          "base_uri": "https://localhost:8080/",
          "height": 204
        },
        "id": "zTEFZwVo4MPt",
        "outputId": "e06bda2b-04cc-40ce-fdf7-24f46222dbad"
      },
      "source": [
        "# Enter code here\n",
        "df1 = df1.drop_duplicates(subset=['Country', 'Item Type'], keep = \"last\") #--- keep = first / last / False\n",
        "df1 = df1.reset_index()\n",
        "df1.head()"
      ],
      "execution_count": 52,
      "outputs": [
        {
          "output_type": "execute_result",
          "data": {
            "text/html": [
              "<div>\n",
              "<style scoped>\n",
              "    .dataframe tbody tr th:only-of-type {\n",
              "        vertical-align: middle;\n",
              "    }\n",
              "\n",
              "    .dataframe tbody tr th {\n",
              "        vertical-align: top;\n",
              "    }\n",
              "\n",
              "    .dataframe thead th {\n",
              "        text-align: right;\n",
              "    }\n",
              "</style>\n",
              "<table border=\"1\" class=\"dataframe\">\n",
              "  <thead>\n",
              "    <tr style=\"text-align: right;\">\n",
              "      <th></th>\n",
              "      <th>level_0</th>\n",
              "      <th>index</th>\n",
              "      <th>Region</th>\n",
              "      <th>Country</th>\n",
              "      <th>Item Type</th>\n",
              "      <th>Order Priority</th>\n",
              "      <th>Order Date</th>\n",
              "    </tr>\n",
              "  </thead>\n",
              "  <tbody>\n",
              "    <tr>\n",
              "      <th>0</th>\n",
              "      <td>1</td>\n",
              "      <td>1</td>\n",
              "      <td>Australia and Oceania</td>\n",
              "      <td>Tuvalu</td>\n",
              "      <td>Baby Food</td>\n",
              "      <td>High</td>\n",
              "      <td>2010-05-28</td>\n",
              "    </tr>\n",
              "    <tr>\n",
              "      <th>1</th>\n",
              "      <td>2</td>\n",
              "      <td>4</td>\n",
              "      <td>Europe</td>\n",
              "      <td>Russia</td>\n",
              "      <td>Office Supplies</td>\n",
              "      <td>Low</td>\n",
              "      <td>2014-05-02</td>\n",
              "    </tr>\n",
              "    <tr>\n",
              "      <th>2</th>\n",
              "      <td>3</td>\n",
              "      <td>6</td>\n",
              "      <td>Sub-Saharan Africa</td>\n",
              "      <td>Rwanda</td>\n",
              "      <td>Office Supplies</td>\n",
              "      <td>Low</td>\n",
              "      <td>2013-02-01</td>\n",
              "    </tr>\n",
              "    <tr>\n",
              "      <th>3</th>\n",
              "      <td>5</td>\n",
              "      <td>9</td>\n",
              "      <td>Sub-Saharan Africa</td>\n",
              "      <td>Angola</td>\n",
              "      <td>Household</td>\n",
              "      <td>Medium</td>\n",
              "      <td>2011-04-23</td>\n",
              "    </tr>\n",
              "    <tr>\n",
              "      <th>4</th>\n",
              "      <td>6</td>\n",
              "      <td>10</td>\n",
              "      <td>Sub-Saharan Africa</td>\n",
              "      <td>NaN</td>\n",
              "      <td>Vegetables</td>\n",
              "      <td>High</td>\n",
              "      <td>2012-07-17</td>\n",
              "    </tr>\n",
              "  </tbody>\n",
              "</table>\n",
              "</div>"
            ],
            "text/plain": [
              "   level_0  index  ... Order Priority Order Date\n",
              "0        1      1  ...           High 2010-05-28\n",
              "1        2      4  ...            Low 2014-05-02\n",
              "2        3      6  ...            Low 2013-02-01\n",
              "3        5      9  ...         Medium 2011-04-23\n",
              "4        6     10  ...           High 2012-07-17\n",
              "\n",
              "[5 rows x 7 columns]"
            ]
          },
          "metadata": {},
          "execution_count": 52
        }
      ]
    },
    {
      "cell_type": "markdown",
      "metadata": {
        "id": "cBdHw0en3SgD"
      },
      "source": [
        "## Dates"
      ]
    },
    {
      "cell_type": "markdown",
      "metadata": {
        "id": "kYLOx4VB3UWA"
      },
      "source": [
        "Consider dataframe **`df2`**. \n",
        "Change the Order Date column to a pandas datetime, with the format: year-month-day\n",
        "\n",
        "(Keep the dataframe name **`df2`**)\n",
        "\n",
        "* remember to add code that would allow for incorrect dates to be displayed as \"NaT\""
      ]
    },
    {
      "cell_type": "code",
      "metadata": {
        "colab": {
          "base_uri": "https://localhost:8080/",
          "height": 204
        },
        "id": "9Zp6t8Lt4mwm",
        "outputId": "2e47bd69-32b6-4907-dec9-ac8817019288"
      },
      "source": [
        "# Enter code here\n",
        "df2['Order Date'] = pd.to_datetime(df2['Order Date'], format=\"%Y-%m-%d\", errors='coerce')\n",
        "df2.head()"
      ],
      "execution_count": 58,
      "outputs": [
        {
          "output_type": "execute_result",
          "data": {
            "text/html": [
              "<div>\n",
              "<style scoped>\n",
              "    .dataframe tbody tr th:only-of-type {\n",
              "        vertical-align: middle;\n",
              "    }\n",
              "\n",
              "    .dataframe tbody tr th {\n",
              "        vertical-align: top;\n",
              "    }\n",
              "\n",
              "    .dataframe thead th {\n",
              "        text-align: right;\n",
              "    }\n",
              "</style>\n",
              "<table border=\"1\" class=\"dataframe\">\n",
              "  <thead>\n",
              "    <tr style=\"text-align: right;\">\n",
              "      <th></th>\n",
              "      <th>Region</th>\n",
              "      <th>Country</th>\n",
              "      <th>Item Type</th>\n",
              "      <th>Order Priority</th>\n",
              "      <th>Order Date</th>\n",
              "      <th>Total Cost</th>\n",
              "      <th>Total Profit</th>\n",
              "    </tr>\n",
              "  </thead>\n",
              "  <tbody>\n",
              "    <tr>\n",
              "      <th>0</th>\n",
              "      <td>Europe</td>\n",
              "      <td>Monaco</td>\n",
              "      <td>Baby Food</td>\n",
              "      <td>H</td>\n",
              "      <td>2012-05-29</td>\n",
              "      <td>1373243.88</td>\n",
              "      <td>825738.04</td>\n",
              "    </tr>\n",
              "    <tr>\n",
              "      <th>1</th>\n",
              "      <td>Australia and Oceania</td>\n",
              "      <td>Samoa</td>\n",
              "      <td>Cosmetics</td>\n",
              "      <td>H</td>\n",
              "      <td>2013-07-20</td>\n",
              "      <td>2542187.82</td>\n",
              "      <td>1678540.98</td>\n",
              "    </tr>\n",
              "    <tr>\n",
              "      <th>2</th>\n",
              "      <td>Europe</td>\n",
              "      <td>Spain</td>\n",
              "      <td>Household</td>\n",
              "      <td>L</td>\n",
              "      <td>2012-10-21</td>\n",
              "      <td>2267963.02</td>\n",
              "      <td>747939.49</td>\n",
              "    </tr>\n",
              "    <tr>\n",
              "      <th>3</th>\n",
              "      <td>Middle East and North Africa</td>\n",
              "      <td>Lebanon</td>\n",
              "      <td>Clothes</td>\n",
              "      <td>L</td>\n",
              "      <td>NaT</td>\n",
              "      <td>282562.56</td>\n",
              "      <td>579000.96</td>\n",
              "    </tr>\n",
              "    <tr>\n",
              "      <th>4</th>\n",
              "      <td>Middle East and North Africa</td>\n",
              "      <td>Iran</td>\n",
              "      <td>Cosmetics</td>\n",
              "      <td>H</td>\n",
              "      <td>NaT</td>\n",
              "      <td>1708748.37</td>\n",
              "      <td>1128242.43</td>\n",
              "    </tr>\n",
              "  </tbody>\n",
              "</table>\n",
              "</div>"
            ],
            "text/plain": [
              "                         Region  Country  ...  Total Cost Total Profit\n",
              "0                        Europe   Monaco  ...  1373243.88    825738.04\n",
              "1         Australia and Oceania   Samoa   ...  2542187.82   1678540.98\n",
              "2                        Europe    Spain  ...  2267963.02    747939.49\n",
              "3  Middle East and North Africa  Lebanon  ...   282562.56    579000.96\n",
              "4  Middle East and North Africa     Iran  ...  1708748.37   1128242.43\n",
              "\n",
              "[5 rows x 7 columns]"
            ]
          },
          "metadata": {},
          "execution_count": 58
        }
      ]
    },
    {
      "cell_type": "markdown",
      "metadata": {
        "id": "MaS3tfjz4n5b"
      },
      "source": [
        "Remove all the rows in **`df2`** that contain NaT values in your \"Order Date\" column.\n",
        "\n",
        "(Keep the dataframe name **df2**)\n",
        "\n",
        "* NB: since you removed some rows, remember to reset your index!"
      ]
    },
    {
      "cell_type": "code",
      "metadata": {
        "colab": {
          "base_uri": "https://localhost:8080/",
          "height": 204
        },
        "id": "bDVCGWwQ5Qy4",
        "outputId": "34ba7a6e-333a-4a59-b472-469898c70a83"
      },
      "source": [
        "# Enter code here\n",
        "df2 = df2[df2['Order Date'].notnull()]\n",
        "\n",
        "df2 = df2.reset_index()\n",
        "\n",
        "df2.head()"
      ],
      "execution_count": 61,
      "outputs": [
        {
          "output_type": "execute_result",
          "data": {
            "text/html": [
              "<div>\n",
              "<style scoped>\n",
              "    .dataframe tbody tr th:only-of-type {\n",
              "        vertical-align: middle;\n",
              "    }\n",
              "\n",
              "    .dataframe tbody tr th {\n",
              "        vertical-align: top;\n",
              "    }\n",
              "\n",
              "    .dataframe thead th {\n",
              "        text-align: right;\n",
              "    }\n",
              "</style>\n",
              "<table border=\"1\" class=\"dataframe\">\n",
              "  <thead>\n",
              "    <tr style=\"text-align: right;\">\n",
              "      <th></th>\n",
              "      <th>index</th>\n",
              "      <th>Region</th>\n",
              "      <th>Country</th>\n",
              "      <th>Item Type</th>\n",
              "      <th>Order Priority</th>\n",
              "      <th>Order Date</th>\n",
              "      <th>Total Cost</th>\n",
              "      <th>Total Profit</th>\n",
              "    </tr>\n",
              "  </thead>\n",
              "  <tbody>\n",
              "    <tr>\n",
              "      <th>0</th>\n",
              "      <td>0</td>\n",
              "      <td>Europe</td>\n",
              "      <td>Monaco</td>\n",
              "      <td>Baby Food</td>\n",
              "      <td>H</td>\n",
              "      <td>2012-05-29</td>\n",
              "      <td>1373243.88</td>\n",
              "      <td>825738.04</td>\n",
              "    </tr>\n",
              "    <tr>\n",
              "      <th>1</th>\n",
              "      <td>1</td>\n",
              "      <td>Australia and Oceania</td>\n",
              "      <td>Samoa</td>\n",
              "      <td>Cosmetics</td>\n",
              "      <td>H</td>\n",
              "      <td>2013-07-20</td>\n",
              "      <td>2542187.82</td>\n",
              "      <td>1678540.98</td>\n",
              "    </tr>\n",
              "    <tr>\n",
              "      <th>2</th>\n",
              "      <td>2</td>\n",
              "      <td>Europe</td>\n",
              "      <td>Spain</td>\n",
              "      <td>Household</td>\n",
              "      <td>L</td>\n",
              "      <td>2012-10-21</td>\n",
              "      <td>2267963.02</td>\n",
              "      <td>747939.49</td>\n",
              "    </tr>\n",
              "    <tr>\n",
              "      <th>3</th>\n",
              "      <td>5</td>\n",
              "      <td>Sub-Saharan Africa</td>\n",
              "      <td>Zambia</td>\n",
              "      <td>Snacks</td>\n",
              "      <td>L</td>\n",
              "      <td>2011-01-04</td>\n",
              "      <td>398042.40</td>\n",
              "      <td>225246.90</td>\n",
              "    </tr>\n",
              "    <tr>\n",
              "      <th>4</th>\n",
              "      <td>6</td>\n",
              "      <td>Sub-Saharan Africa</td>\n",
              "      <td>Kenya</td>\n",
              "      <td>Vegetables</td>\n",
              "      <td>L</td>\n",
              "      <td>2012-03-18</td>\n",
              "      <td>587135.01</td>\n",
              "      <td>407630.41</td>\n",
              "    </tr>\n",
              "  </tbody>\n",
              "</table>\n",
              "</div>"
            ],
            "text/plain": [
              "   index                 Region Country  ... Order Date  Total Cost Total Profit\n",
              "0      0                 Europe  Monaco  ... 2012-05-29  1373243.88    825738.04\n",
              "1      1  Australia and Oceania  Samoa   ... 2013-07-20  2542187.82   1678540.98\n",
              "2      2                 Europe   Spain  ... 2012-10-21  2267963.02    747939.49\n",
              "3      5     Sub-Saharan Africa  Zambia  ... 2011-01-04   398042.40    225246.90\n",
              "4      6     Sub-Saharan Africa   Kenya  ... 2012-03-18   587135.01    407630.41\n",
              "\n",
              "[5 rows x 8 columns]"
            ]
          },
          "metadata": {},
          "execution_count": 61
        }
      ]
    },
    {
      "cell_type": "markdown",
      "metadata": {
        "id": "aUhMxw5tFiz7"
      },
      "source": [
        "## Dataframe --> CSV / Excel sheet"
      ]
    },
    {
      "cell_type": "markdown",
      "metadata": {
        "id": "sWL-yf0DhtS4"
      },
      "source": [
        "Write dataframe df1 to a csv named 'dataframe_1' and write it to your Drive"
      ]
    },
    {
      "cell_type": "code",
      "metadata": {
        "id": "S0MiY3wKIQIV"
      },
      "source": [
        "df1.to_csv('drive/MyDrive/dataframe_1.csv')"
      ],
      "execution_count": 62,
      "outputs": []
    },
    {
      "cell_type": "markdown",
      "metadata": {
        "id": "09UqAGp_iLe2"
      },
      "source": [
        "Write dataframe df2 to an excel sheet named 'dataframe_2' and write it to your Drive"
      ]
    },
    {
      "cell_type": "code",
      "metadata": {
        "id": "qOV3rxizJ4zO"
      },
      "source": [
        "df2.to_excel('drive/MyDrive/dataframe_2.xlsx')"
      ],
      "execution_count": 63,
      "outputs": []
    }
  ]
}