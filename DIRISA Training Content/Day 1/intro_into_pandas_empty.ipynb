{
  "nbformat": 4,
  "nbformat_minor": 0,
  "metadata": {
    "colab": {
      "provenance": []
    },
    "kernelspec": {
      "name": "python3",
      "display_name": "Python 3"
    },
    "language_info": {
      "name": "python"
    }
  },
  "cells": [
    {
      "cell_type": "markdown",
      "source": [
        "# Introduction into Pandas\n"
      ],
      "metadata": {
        "id": "_5tTEdj1wmYI"
      }
    },
    {
      "cell_type": "markdown",
      "source": [
        "## Part 1: Creating a Pandas DataFrame\n",
        "Can be from a List, Dictionary or List of Dictionaries"
      ],
      "metadata": {
        "id": "0pHtIzkK4-0C"
      }
    },
    {
      "cell_type": "code",
      "source": [
        "# We first import pandas\n",
        "\n",
        "\n",
        "\n",
        "# using a list\n",
        "\n",
        "\n",
        "# proudly_sa\n",
        "\n",
        "\n",
        "\n",
        "# df\n",
        "\n"
      ],
      "metadata": {
        "id": "ldK7Aq6p5MlA"
      },
      "execution_count": 94,
      "outputs": []
    },
    {
      "cell_type": "code",
      "source": [
        "# Now from a dictionary\n",
        "\n",
        "\n",
        "# Define a dictionary\n",
        "\n",
        "\n",
        "\n",
        "# Create a dataframe from a dictionary\n",
        "\n",
        "\n",
        "\n"
      ],
      "metadata": {
        "id": "XCluKWHm6YdQ"
      },
      "execution_count": 95,
      "outputs": []
    },
    {
      "cell_type": "code",
      "source": [
        "# querying a data frame:\n",
        "\n",
        "# querying a dataframe column\n"
      ],
      "metadata": {
        "id": "6zpRXCpqBsoz"
      },
      "execution_count": 96,
      "outputs": []
    },
    {
      "cell_type": "code",
      "source": [
        "# Querying a specific value\n",
        "\n"
      ],
      "metadata": {
        "id": "ftQwnbULFW9g"
      },
      "execution_count": 97,
      "outputs": []
    },
    {
      "cell_type": "markdown",
      "source": [
        "# Part 2: DataFrames from External Sources\n",
        "Excel, CSVs and More..."
      ],
      "metadata": {
        "id": "Pg4VKXm0NyAG"
      }
    },
    {
      "cell_type": "markdown",
      "source": [
        "## 2.1 CSV to DataFrame\n",
        "#### Upload from Google Drive Mount"
      ],
      "metadata": {
        "id": "oKBVCgwlOB3u"
      }
    },
    {
      "cell_type": "code",
      "execution_count": 98,
      "metadata": {
        "id": "n1NFmq_8wd31"
      },
      "outputs": [],
      "source": [
        "# imports\n",
        "\n",
        "\n",
        "\n",
        "# specify the file path\n",
        "\n",
        "\n",
        "# Read the CSV file into a DataFrame\n",
        "\n",
        "\n",
        "\n",
        "# df.head() # show the first 5 rows​\n",
        "\n",
        "# df.tail() # last 5 rows"
      ]
    },
    {
      "cell_type": "markdown",
      "source": [
        "## 2.2 Excel to DataFrame\n",
        "#### Upload from Google Drive Mount"
      ],
      "metadata": {
        "id": "63epZ9w2RKhA"
      }
    },
    {
      "cell_type": "code",
      "source": [
        "# Imports\n",
        "\n",
        "\n",
        "# Path to file\n",
        "\n",
        "\n",
        "# Read the Excel file into a DataFrame\n",
        "\n",
        "\n",
        "\n",
        "#"
      ],
      "metadata": {
        "id": "Fib7tvCLRTgW"
      },
      "execution_count": 99,
      "outputs": []
    },
    {
      "cell_type": "markdown",
      "source": [
        "# Part 3: Dealing with Malformed data\n",
        "* Sheets don't have headers​\n",
        "* There are more than one sheet in the Excel File​\n",
        "* Sheets don't have headers​\n",
        "* Headers exists, but we would like to rename them to fit\n",
        "our narrative.\n",
        "\n",
        "\n",
        "---\n",
        "\n"
      ],
      "metadata": {
        "id": "284OMb4nXeme"
      }
    },
    {
      "cell_type": "markdown",
      "source": [
        "##### 3.1 No headers\n",
        "\n",
        "\n",
        "---\n",
        "\n"
      ],
      "metadata": {
        "id": "U5ZsyKawcSLE"
      }
    },
    {
      "cell_type": "code",
      "source": [
        "# imports\n",
        "\n",
        "# get the file path\n",
        "\n",
        "\n",
        "# Read the Excel file into a DataFrame\n",
        "\n",
        "\n"
      ],
      "metadata": {
        "id": "3xnN4ffTXh9c"
      },
      "execution_count": 100,
      "outputs": []
    },
    {
      "cell_type": "code",
      "source": [
        "# You can specify to pandas that there are no headers:\n",
        "\n",
        "\n",
        "# It then defaults to numbering the columns\n"
      ],
      "metadata": {
        "id": "FoWH96YedzsS"
      },
      "execution_count": 101,
      "outputs": []
    },
    {
      "cell_type": "code",
      "source": [
        "# You can then create your 'own' headers\n",
        "\n",
        "\n",
        "# specify your header names\n",
        "\n",
        "\n"
      ],
      "metadata": {
        "id": "8q5_dshVe4jQ"
      },
      "execution_count": 102,
      "outputs": []
    },
    {
      "cell_type": "markdown",
      "source": [
        "##### 3.2 More than one sheet in Excel\n",
        "\n",
        "\n",
        "---\n",
        "\n"
      ],
      "metadata": {
        "id": "8talmJmGkKAG"
      }
    },
    {
      "cell_type": "code",
      "source": [
        "# import pandas\n",
        "\n",
        "\n",
        "# Get the file path\n",
        "\n",
        "\n",
        "# Read the Excel file into a DataFrame\n",
        "\n",
        "\n",
        "# It only brings out the first sheet\n"
      ],
      "metadata": {
        "id": "N_HoAZ09cdL5"
      },
      "execution_count": 103,
      "outputs": []
    },
    {
      "cell_type": "code",
      "source": [
        "# To get a specific sheet. You specify the sheet name\n",
        "\n"
      ],
      "metadata": {
        "id": "v7LRS3srlEPW"
      },
      "execution_count": 104,
      "outputs": []
    },
    {
      "cell_type": "markdown",
      "source": [
        "### 3.3 Information at the Top of the Excel Table\n",
        "\n",
        "\n",
        "---\n"
      ],
      "metadata": {
        "id": "CR_h80E-n0AD"
      }
    },
    {
      "cell_type": "code",
      "source": [
        "# imports\n",
        "\n",
        "\n",
        "# File Path\n",
        "\n",
        "\n",
        "# Read the Excel file into a DataFrame\n",
        "\n"
      ],
      "metadata": {
        "id": "p6JMQ94un_un"
      },
      "execution_count": 105,
      "outputs": []
    },
    {
      "cell_type": "code",
      "source": [
        "# To get the correct info, skip the rows that don't include the real data\n",
        "\n"
      ],
      "metadata": {
        "id": "Lfz7OLZwpgr2"
      },
      "execution_count": 106,
      "outputs": []
    },
    {
      "cell_type": "markdown",
      "source": [
        "### 3.4 Renaming Headers\n",
        "\n",
        "\n",
        "---"
      ],
      "metadata": {
        "id": "ysar0VLXqLX4"
      }
    },
    {
      "cell_type": "code",
      "source": [
        "# Import\n",
        "\n",
        "\n",
        "\n",
        "# Read the CSV file into a DataFrame\n",
        "\n"
      ],
      "metadata": {
        "id": "9YfnOY11qTyP"
      },
      "execution_count": 107,
      "outputs": []
    },
    {
      "cell_type": "code",
      "source": [
        "# What if we wanted to rename 'Income' to 'Monthly Income'\n",
        "\n"
      ],
      "metadata": {
        "id": "KFKyGT9bqsQO"
      },
      "execution_count": 108,
      "outputs": []
    },
    {
      "cell_type": "markdown",
      "source": [
        "# Part 4: Exporting Data\n",
        "\n",
        "\n",
        "---\n",
        "After processing, data often needs to be exported for further use"
      ],
      "metadata": {
        "id": "ytTMBtX1skoB"
      }
    },
    {
      "cell_type": "markdown",
      "source": [
        "\n",
        "\n",
        "---\n",
        "\n",
        "### 4.1 DataFrame to CSV\n",
        "`df.to_csv('path/to/file.csv')`"
      ],
      "metadata": {
        "id": "aLXKDUm8svX0"
      }
    },
    {
      "cell_type": "code",
      "source": [
        "# Let us pretent the dictionary is from some process...\n",
        "\n",
        "# Define a dictionary\n",
        "\n",
        "\n",
        "# Create a dataframe from a dictionary\n",
        "\n"
      ],
      "metadata": {
        "id": "8uvcGKNbtUkD"
      },
      "execution_count": 109,
      "outputs": []
    },
    {
      "cell_type": "code",
      "source": [
        "# Now let us write to a csv file\n",
        "\n",
        "# first let us specify the file path\n",
        "\n",
        "# write to a csv\n"
      ],
      "metadata": {
        "id": "0hOZ76PWt2En"
      },
      "execution_count": 110,
      "outputs": []
    },
    {
      "cell_type": "markdown",
      "source": [
        "### 4.2 DataFrame to Excel\n",
        "`df.to_excel('path/to/file.csv')`"
      ],
      "metadata": {
        "id": "d2TEkefSwJZ_"
      }
    },
    {
      "cell_type": "code",
      "source": [
        "# Now let us write to a excel file\n",
        "\n",
        "# first let us specify the file path\n",
        "\n",
        "# write to a excel\n"
      ],
      "metadata": {
        "id": "NSFXy1eswSxp"
      },
      "execution_count": 111,
      "outputs": []
    },
    {
      "cell_type": "markdown",
      "source": [
        "# Part 5: Modifying DataFrames\n",
        "\n",
        "\n",
        "---\n",
        "\n"
      ],
      "metadata": {
        "id": "IS3HSWSpw3IN"
      }
    },
    {
      "cell_type": "markdown",
      "source": [
        "### 5.1 Replacing"
      ],
      "metadata": {
        "id": "d8Cn0tMMxC2q"
      }
    },
    {
      "cell_type": "code",
      "source": [
        "# imports\n",
        "\n",
        "\n",
        "\n",
        "# Read the Excel file into a DataFrame\n",
        "\n",
        "\n"
      ],
      "metadata": {
        "id": "iQ8WI70dxGKF"
      },
      "execution_count": 112,
      "outputs": []
    },
    {
      "cell_type": "code",
      "source": [
        "# Let us replace -- on numbered columns with  nan\n"
      ],
      "metadata": {
        "id": "BOr_s8ky0Bdo"
      },
      "execution_count": 113,
      "outputs": []
    },
    {
      "cell_type": "code",
      "source": [
        "# Replacing in specific columns.\n",
        "\n"
      ],
      "metadata": {
        "id": "AxxS_Kcq2_JA"
      },
      "execution_count": 114,
      "outputs": []
    },
    {
      "cell_type": "markdown",
      "source": [
        "### 5.2 Removing"
      ],
      "metadata": {
        "id": "ONaEaCNO7KhB"
      }
    },
    {
      "cell_type": "code",
      "source": [
        "# imports\n",
        "\n",
        "\n",
        "# Read the Excel file into a DataFrame\n",
        "\n"
      ],
      "metadata": {
        "id": "EbCh-hok7Oe4"
      },
      "execution_count": 115,
      "outputs": []
    },
    {
      "cell_type": "code",
      "source": [
        "# We want to replace rows with Team names  as --\n",
        "\n",
        "\n"
      ],
      "metadata": {
        "id": "w-MR3c6T7pOo"
      },
      "execution_count": 116,
      "outputs": []
    },
    {
      "cell_type": "code",
      "source": [
        "# If we include the original dataframe, we will only get instances where the result is true\n",
        "\n"
      ],
      "metadata": {
        "id": "ALKPEoaA87hA"
      },
      "execution_count": 117,
      "outputs": []
    },
    {
      "cell_type": "code",
      "source": [
        "# We the need to reset the index\n",
        "\n"
      ],
      "metadata": {
        "id": "5e1GTd_l-vR5"
      },
      "execution_count": 118,
      "outputs": []
    },
    {
      "cell_type": "markdown",
      "source": [
        "### Now let us move to removing columns"
      ],
      "metadata": {
        "id": "tJeNshUl_Qga"
      }
    },
    {
      "cell_type": "code",
      "source": [
        "# We want to remove League and index\n",
        "# Using Drop\n",
        "\n",
        "\n"
      ],
      "metadata": {
        "id": "EQ91C46H_Voi"
      },
      "execution_count": 119,
      "outputs": []
    },
    {
      "cell_type": "code",
      "source": [
        "# We want to keep only Team Name, Opponent and Win Probability\n",
        "# Using Filter\n",
        "\n",
        "\n",
        "# axis=1 for colunms\n",
        "\n"
      ],
      "metadata": {
        "id": "oxsiDijNA3Tw"
      },
      "execution_count": 120,
      "outputs": []
    },
    {
      "cell_type": "markdown",
      "source": [
        "#### 5.3 Dropping Duplicates"
      ],
      "metadata": {
        "id": "_HetNfdnF5RK"
      }
    },
    {
      "cell_type": "code",
      "source": [
        "\n",
        "\n",
        "# Read the CSV file into a DataFrame\n",
        "\n",
        "\n"
      ],
      "metadata": {
        "id": "TzkBjWN1GBSw"
      },
      "execution_count": 121,
      "outputs": []
    },
    {
      "cell_type": "code",
      "source": [
        "# Removing Duplicates\n",
        "\n",
        "\n",
        "# Have an option of completely dropping by setting keep = False\n",
        "# You can keep the last entry by specifyin keep = 'last'\n",
        "\n"
      ],
      "metadata": {
        "id": "yT7CfrQiHbvW"
      },
      "execution_count": 122,
      "outputs": []
    },
    {
      "cell_type": "code",
      "source": [
        "# Reset the index\n",
        "\n"
      ],
      "metadata": {
        "id": "MMOIiwTkIK3o"
      },
      "execution_count": 123,
      "outputs": []
    },
    {
      "cell_type": "markdown",
      "source": [
        "# Part 6: Dates\n",
        "\n",
        "\n",
        "---"
      ],
      "metadata": {
        "id": "yo0KqVWPJmQj"
      }
    },
    {
      "cell_type": "markdown",
      "source": [
        "### 6.1 Date as a string"
      ],
      "metadata": {
        "id": "JR36mtLQRAC2"
      }
    },
    {
      "cell_type": "code",
      "source": [
        "\n",
        "#1. Changing type to date\n",
        "\n",
        "# imports\n",
        "\n",
        "\n",
        "\n",
        "# Read the Excel file into a DataFrame\n",
        "\n"
      ],
      "metadata": {
        "id": "d_lK6YwkNxVY"
      },
      "execution_count": 124,
      "outputs": []
    },
    {
      "cell_type": "markdown",
      "source": [
        "check the type"
      ],
      "metadata": {
        "id": "1l7zJxYuP3KO"
      }
    },
    {
      "cell_type": "code",
      "source": [
        "# Let us check the type of Match Date\n",
        "\n",
        "\n"
      ],
      "metadata": {
        "id": "Q3-7EXhEOVWS"
      },
      "execution_count": 125,
      "outputs": []
    },
    {
      "cell_type": "markdown",
      "source": [
        "Change to datetime"
      ],
      "metadata": {
        "id": "PV3BQ2nJQALf"
      }
    },
    {
      "cell_type": "code",
      "source": [
        "# Change the string date to type datetime\n",
        "\n"
      ],
      "metadata": {
        "id": "PXNAEi9EP999"
      },
      "execution_count": 126,
      "outputs": []
    },
    {
      "cell_type": "code",
      "source": [
        "# Let us check the type again\n"
      ],
      "metadata": {
        "id": "hlgZp1zaPzC3"
      },
      "execution_count": 127,
      "outputs": []
    },
    {
      "cell_type": "markdown",
      "source": [
        "### 6.2 Date, Month and Day in Different Columns"
      ],
      "metadata": {
        "id": "xRDcVCiIQ3Vm"
      }
    },
    {
      "cell_type": "code",
      "source": [
        "\n",
        "# imports\n",
        "\n",
        "\n",
        "\n",
        "# Read the Excel file into a DataFrame\n",
        "\n"
      ],
      "metadata": {
        "id": "UYxdnyVlRE2Q"
      },
      "execution_count": 128,
      "outputs": []
    },
    {
      "cell_type": "markdown",
      "source": [
        "Let us combine all the seperate columns of date into a single Match Date column"
      ],
      "metadata": {
        "id": "x_w7Z27HRT6g"
      }
    },
    {
      "cell_type": "code",
      "source": [
        "# Let us combine all the seperate columns of date into a single Match Date\n",
        "\n"
      ],
      "metadata": {
        "id": "CkotBYwnRbj3"
      },
      "execution_count": 129,
      "outputs": []
    }
  ]
}