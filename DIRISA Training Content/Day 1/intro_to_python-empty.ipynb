{
  "nbformat": 4,
  "nbformat_minor": 0,
  "metadata": {
    "colab": {
      "provenance": []
    },
    "kernelspec": {
      "name": "python3",
      "display_name": "Python 3"
    },
    "language_info": {
      "name": "python"
    }
  },
  "cells": [
    {
      "cell_type": "markdown",
      "source": [
        "# Hello World;"
      ],
      "metadata": {
        "id": "nVJiDihdClTj"
      }
    },
    {
      "cell_type": "markdown",
      "source": [
        "### 1. Variables"
      ],
      "metadata": {
        "id": "rEBBET7nCrtB"
      }
    },
    {
      "cell_type": "code",
      "execution_count": 2,
      "metadata": {
        "colab": {
          "base_uri": "https://localhost:8080/"
        },
        "id": "s6lUmjDpA4JW",
        "outputId": "ba617e1c-feb1-497c-ae42-641e7c95b7db"
      },
      "outputs": [
        {
          "output_type": "stream",
          "name": "stdout",
          "text": [
            "Elias\n"
          ]
        }
      ],
      "source": [
        "# introduction to variables"
      ]
    },
    {
      "cell_type": "markdown",
      "source": [
        "### 2. Arithmetics"
      ],
      "metadata": {
        "id": "ZvOJqCoDC7YX"
      }
    },
    {
      "cell_type": "code",
      "source": [
        "# Addition +"
      ],
      "metadata": {
        "id": "Cm0Y_NwSC_lX"
      },
      "execution_count": null,
      "outputs": []
    },
    {
      "cell_type": "code",
      "source": [
        "# Subtraction -"
      ],
      "metadata": {
        "id": "mwpGIB_WDPM5"
      },
      "execution_count": null,
      "outputs": []
    },
    {
      "cell_type": "code",
      "source": [
        "# Multiplication X"
      ],
      "metadata": {
        "id": "sMTKrbd9DUPy"
      },
      "execution_count": null,
      "outputs": []
    },
    {
      "cell_type": "code",
      "source": [
        "# Division ÷"
      ],
      "metadata": {
        "id": "XKJQvsirDWN6"
      },
      "execution_count": null,
      "outputs": []
    },
    {
      "cell_type": "code",
      "source": [
        "# Exponent ^"
      ],
      "metadata": {
        "id": "6HgpF8RuDac9"
      },
      "execution_count": null,
      "outputs": []
    },
    {
      "cell_type": "code",
      "source": [
        "# Parentheses"
      ],
      "metadata": {
        "id": "BYah79_IDbJu"
      },
      "execution_count": null,
      "outputs": []
    },
    {
      "cell_type": "markdown",
      "source": [
        "### 3. Other Operations"
      ],
      "metadata": {
        "id": "myW_ZFjvDlO6"
      }
    },
    {
      "cell_type": "code",
      "source": [
        "# Assigment"
      ],
      "metadata": {
        "id": "jcJoW-pmDtPl"
      },
      "execution_count": null,
      "outputs": []
    },
    {
      "cell_type": "code",
      "source": [
        "# Assigment"
      ],
      "metadata": {
        "id": "i2pjQyRPDvWe"
      },
      "execution_count": null,
      "outputs": []
    },
    {
      "cell_type": "code",
      "source": [
        "# Greater/Less than"
      ],
      "metadata": {
        "id": "LYoNOV0NDyUL"
      },
      "execution_count": null,
      "outputs": []
    },
    {
      "cell_type": "code",
      "source": [
        "# And/Or statements"
      ],
      "metadata": {
        "id": "Ae2zvb6zD1Zt"
      },
      "execution_count": null,
      "outputs": []
    },
    {
      "cell_type": "code",
      "source": [
        "# Not Operator !/~"
      ],
      "metadata": {
        "id": "yD0Hx0P2D3uY"
      },
      "execution_count": null,
      "outputs": []
    },
    {
      "cell_type": "markdown",
      "source": [
        "### 4. If Statements"
      ],
      "metadata": {
        "id": "4FQgfeMPEB-u"
      }
    },
    {
      "cell_type": "code",
      "source": [
        "# Basic example"
      ],
      "metadata": {
        "id": "tV-_IeMLEOGA"
      },
      "execution_count": null,
      "outputs": []
    },
    {
      "cell_type": "code",
      "source": [
        "# using else"
      ],
      "metadata": {
        "id": "8NoCtAdAEQWJ"
      },
      "execution_count": null,
      "outputs": []
    },
    {
      "cell_type": "code",
      "source": [
        "# string example"
      ],
      "metadata": {
        "id": "uTnhxSZtESPK"
      },
      "execution_count": null,
      "outputs": []
    },
    {
      "cell_type": "code",
      "source": [
        "# advanced example"
      ],
      "metadata": {
        "id": "IVfX4Vv6EUsU"
      },
      "execution_count": null,
      "outputs": []
    },
    {
      "cell_type": "markdown",
      "source": [
        "### 5. Loops"
      ],
      "metadata": {
        "id": "cfMu9UhpEYNt"
      }
    },
    {
      "cell_type": "code",
      "source": [
        "# Print a counntdown from 10 till 0"
      ],
      "metadata": {
        "id": "B3uDTV9EEdg2"
      },
      "execution_count": null,
      "outputs": []
    },
    {
      "cell_type": "code",
      "source": [
        "# while loops\n",
        "# Print a counntdown from 10 till 0"
      ],
      "metadata": {
        "id": "dq9pIaguEhkY"
      },
      "execution_count": null,
      "outputs": []
    },
    {
      "cell_type": "code",
      "source": [
        "# corrected while loops\n",
        "# Print a counntdown from 10 till 0"
      ],
      "metadata": {
        "id": "B3ZRuGUjEk-m"
      },
      "execution_count": null,
      "outputs": []
    },
    {
      "cell_type": "code",
      "source": [
        "# for loops\n",
        "# count from 0 till 10"
      ],
      "metadata": {
        "id": "9ZNUhicrEogm"
      },
      "execution_count": null,
      "outputs": []
    },
    {
      "cell_type": "code",
      "source": [
        "# corrected for loops\n",
        "# corrected count from 0 till 10"
      ],
      "metadata": {
        "id": "2iqJw-GyEtSd"
      },
      "execution_count": null,
      "outputs": []
    },
    {
      "cell_type": "code",
      "source": [
        "# for loops\n",
        "# count from 0 till 10 in steps of 2"
      ],
      "metadata": {
        "id": "eIBLQwUOEwmL"
      },
      "execution_count": null,
      "outputs": []
    },
    {
      "cell_type": "markdown",
      "source": [
        "### 6. Arrays/List"
      ],
      "metadata": {
        "id": "hwpAiryUE0Ze"
      }
    },
    {
      "cell_type": "code",
      "source": [
        "# Creating an array"
      ],
      "metadata": {
        "id": "w7DFJFItEzbH"
      },
      "execution_count": null,
      "outputs": []
    },
    {
      "cell_type": "code",
      "source": [
        "# Accessing elements by index"
      ],
      "metadata": {
        "id": "TTEwVhISE9TC"
      },
      "execution_count": null,
      "outputs": []
    },
    {
      "cell_type": "code",
      "source": [
        "# Checking all elememts"
      ],
      "metadata": {
        "id": "2a4li-j1E_yQ"
      },
      "execution_count": 1,
      "outputs": []
    },
    {
      "cell_type": "code",
      "source": [
        "# Modifying an array"
      ],
      "metadata": {
        "id": "PsRFsxFAFCsR"
      },
      "execution_count": null,
      "outputs": []
    },
    {
      "cell_type": "markdown",
      "source": [
        "### 6. Dictionary\n"
      ],
      "metadata": {
        "id": "_M6Ehlx7FIHa"
      }
    },
    {
      "cell_type": "code",
      "source": [
        "# simple dictionary\n",
        "# get a specif value\n",
        "# add a new element"
      ],
      "metadata": {
        "id": "YMJJJpeGF0jY"
      },
      "execution_count": null,
      "outputs": []
    },
    {
      "cell_type": "markdown",
      "source": [
        "### 7. Functions"
      ],
      "metadata": {
        "id": "RrteypBEGN6V"
      }
    },
    {
      "cell_type": "code",
      "source": [
        "# Define a function that multiplies two numbers\n",
        "\n",
        "# Call the function and print the result"
      ],
      "metadata": {
        "id": "hnJ2fbtjGfPw"
      },
      "execution_count": null,
      "outputs": []
    }
  ]
}