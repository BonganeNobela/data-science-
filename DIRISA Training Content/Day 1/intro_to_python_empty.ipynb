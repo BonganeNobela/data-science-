{
  "nbformat": 4,
  "nbformat_minor": 0,
  "metadata": {
    "colab": {
      "provenance": []
    },
    "kernelspec": {
      "name": "python3",
      "display_name": "Python 3"
    },
    "language_info": {
      "name": "python"
    }
  },
  "cells": [
    {
      "cell_type": "markdown",
      "source": [
        "# Hello World;"
      ],
      "metadata": {
        "id": "nVJiDihdClTj"
      }
    },
    {
      "cell_type": "markdown",
      "source": [
        "### 1. Variables"
      ],
      "metadata": {
        "id": "rEBBET7nCrtB"
      }
    },
    {
      "cell_type": "code",
      "execution_count": 2,
      "metadata": {
        "colab": {
          "base_uri": "https://localhost:8080/"
        },
        "id": "s6lUmjDpA4JW",
        "outputId": "6f2ab68e-1548-40e6-b68f-cbd1bf977bde"
      },
      "outputs": [
        {
          "output_type": "execute_result",
          "data": {
            "text/plain": [
              "1"
            ]
          },
          "metadata": {},
          "execution_count": 2
        }
      ],
      "source": [
        "# introduction to variables\n",
        "x = 1\n",
        "x"
      ]
    },
    {
      "cell_type": "markdown",
      "source": [
        "### 2. Arithmetics"
      ],
      "metadata": {
        "id": "ZvOJqCoDC7YX"
      }
    },
    {
      "cell_type": "code",
      "source": [
        "# Addition +\n",
        "x, y = 1, 2\n",
        "z = x + y\n",
        "z"
      ],
      "metadata": {
        "id": "Cm0Y_NwSC_lX",
        "colab": {
          "base_uri": "https://localhost:8080/"
        },
        "outputId": "8152e91e-525c-4cf9-93f4-c255ffe66a38"
      },
      "execution_count": 3,
      "outputs": [
        {
          "output_type": "execute_result",
          "data": {
            "text/plain": [
              "3"
            ]
          },
          "metadata": {},
          "execution_count": 3
        }
      ]
    },
    {
      "cell_type": "code",
      "source": [
        "# Subtraction -\n",
        "x, y = 1, 2\n",
        "z = x - y\n",
        "z"
      ],
      "metadata": {
        "id": "mwpGIB_WDPM5",
        "colab": {
          "base_uri": "https://localhost:8080/"
        },
        "outputId": "8a908158-8915-4847-9938-294df86e796f"
      },
      "execution_count": 4,
      "outputs": [
        {
          "output_type": "execute_result",
          "data": {
            "text/plain": [
              "-1"
            ]
          },
          "metadata": {},
          "execution_count": 4
        }
      ]
    },
    {
      "cell_type": "code",
      "source": [
        "# Multiplication X\n",
        "x, y = 1, 2\n",
        "z = x * y\n",
        "z"
      ],
      "metadata": {
        "id": "sMTKrbd9DUPy",
        "colab": {
          "base_uri": "https://localhost:8080/"
        },
        "outputId": "d8d75ca9-2ed2-4b7a-d202-be44b1588ace"
      },
      "execution_count": 7,
      "outputs": [
        {
          "output_type": "execute_result",
          "data": {
            "text/plain": [
              "2"
            ]
          },
          "metadata": {},
          "execution_count": 7
        }
      ]
    },
    {
      "cell_type": "code",
      "source": [
        "# Division ÷\n",
        "x, y = 1, 2\n",
        "z = x / y\n",
        "z"
      ],
      "metadata": {
        "id": "XKJQvsirDWN6",
        "colab": {
          "base_uri": "https://localhost:8080/"
        },
        "outputId": "4b86983a-c488-4e45-e312-87f203503fc5"
      },
      "execution_count": 9,
      "outputs": [
        {
          "output_type": "execute_result",
          "data": {
            "text/plain": [
              "0.5"
            ]
          },
          "metadata": {},
          "execution_count": 9
        }
      ]
    },
    {
      "cell_type": "code",
      "source": [
        "# Exponent ^\n",
        "x, y = 1, 2\n",
        "z = x ** y\n",
        "z"
      ],
      "metadata": {
        "id": "6HgpF8RuDac9",
        "colab": {
          "base_uri": "https://localhost:8080/"
        },
        "outputId": "5275efe6-d89a-43c8-d3b1-34310a720cfd"
      },
      "execution_count": 11,
      "outputs": [
        {
          "output_type": "execute_result",
          "data": {
            "text/plain": [
              "1"
            ]
          },
          "metadata": {},
          "execution_count": 11
        }
      ]
    },
    {
      "cell_type": "code",
      "source": [
        "# Parentheses\n",
        "x, y = 1, 2\n",
        "z = (x + y)*2\n",
        "z"
      ],
      "metadata": {
        "id": "BYah79_IDbJu",
        "colab": {
          "base_uri": "https://localhost:8080/"
        },
        "outputId": "fcd489dc-46f6-4cc5-90fb-8c2c260d05fb"
      },
      "execution_count": 12,
      "outputs": [
        {
          "output_type": "execute_result",
          "data": {
            "text/plain": [
              "6"
            ]
          },
          "metadata": {},
          "execution_count": 12
        }
      ]
    },
    {
      "cell_type": "markdown",
      "source": [
        "### 3. Other Operations"
      ],
      "metadata": {
        "id": "myW_ZFjvDlO6"
      }
    },
    {
      "cell_type": "code",
      "source": [
        "# Assigment\n",
        "x = 4\n",
        "name = \"Bongani\"\n",
        "print(\"Name is \", name, \" and x is \", x)"
      ],
      "metadata": {
        "id": "jcJoW-pmDtPl",
        "colab": {
          "base_uri": "https://localhost:8080/"
        },
        "outputId": "33c229d7-5fb0-4853-a1b4-7db1cc533b4d"
      },
      "execution_count": 13,
      "outputs": [
        {
          "output_type": "stream",
          "name": "stdout",
          "text": [
            "Name is  Bongani  and x is  4\n"
          ]
        }
      ]
    },
    {
      "cell_type": "code",
      "source": [
        "# Assigment\n",
        "import random\n",
        "numbers = [1,2,3,4,5]\n",
        "x = random.choice(numbers)\n",
        "print(x)\n",
        "print(x == 4)\n"
      ],
      "metadata": {
        "id": "i2pjQyRPDvWe",
        "colab": {
          "base_uri": "https://localhost:8080/"
        },
        "outputId": "557f84ec-7d5f-40df-c64c-b119da53af3e"
      },
      "execution_count": 21,
      "outputs": [
        {
          "output_type": "stream",
          "name": "stdout",
          "text": [
            "2\n",
            "False\n"
          ]
        }
      ]
    },
    {
      "cell_type": "code",
      "source": [
        "# Greater/Less than\n",
        "# Assigment\n",
        "import random\n",
        "numbers = [1,2,3,4,5]\n",
        "x = random.choice(numbers)\n",
        "print(x)\n",
        "print(\"Is x > 4: \" , x > 4,\"\\n\", \"or is it x < 3: \", x < 3)"
      ],
      "metadata": {
        "id": "LYoNOV0NDyUL",
        "colab": {
          "base_uri": "https://localhost:8080/"
        },
        "outputId": "e20347c4-e866-4c2d-e838-a299a00a3eec"
      },
      "execution_count": 23,
      "outputs": [
        {
          "output_type": "stream",
          "name": "stdout",
          "text": [
            "3\n",
            "Is x > 4:  False \n",
            " or is it x < 3:  False\n"
          ]
        }
      ]
    },
    {
      "cell_type": "code",
      "source": [
        "# And/Or statements\n",
        "# Greater/Less than\n",
        "# Assigment\n",
        "import random\n",
        "numbers = [1,2,3,4,5]\n",
        "x = random.choice(numbers)\n",
        "print(x)\n",
        "print(\" x > 4 or x < 3: \" , x > 4 or  x < 3)\n",
        "print(\" x > 4 and x < 5: \" , x > 4 and  x < 5)"
      ],
      "metadata": {
        "id": "Ae2zvb6zD1Zt",
        "colab": {
          "base_uri": "https://localhost:8080/"
        },
        "outputId": "71d58b27-427a-4604-ca5b-408001249dc6"
      },
      "execution_count": 28,
      "outputs": [
        {
          "output_type": "stream",
          "name": "stdout",
          "text": [
            "4\n",
            " x > 4 or x < 3:  False\n",
            " x > 4 and x < 5:  False\n"
          ]
        }
      ]
    },
    {
      "cell_type": "code",
      "source": [
        "# Not Operator !/~\n",
        "import random\n",
        "numbers = [1,2,3,4,5]\n",
        "x = random.choice(numbers)\n",
        "print(x)\n",
        "print(\" x > 4 or x < 3: \" , not (x > 4) or  x < 3)\n",
        "print(\" x > 4 and x < 5: \" , x > 4 and not x < 5)"
      ],
      "metadata": {
        "id": "yD0Hx0P2D3uY",
        "colab": {
          "base_uri": "https://localhost:8080/"
        },
        "outputId": "5f814ebb-4026-40e6-ffbb-8fe4900a4534"
      },
      "execution_count": 38,
      "outputs": [
        {
          "output_type": "stream",
          "name": "stdout",
          "text": [
            "5\n",
            " x > 4 or x < 3:  False\n",
            " x > 4 and x < 5:  True\n"
          ]
        }
      ]
    },
    {
      "cell_type": "markdown",
      "source": [
        "### 4. If Statements"
      ],
      "metadata": {
        "id": "4FQgfeMPEB-u"
      }
    },
    {
      "cell_type": "code",
      "source": [
        "# Basic example\n",
        "name = \"not Bongani\"\n",
        "if name == \"Bongani\":\n",
        "  print(\"You're the boss\")\n",
        "else:\n",
        "  print(\"You're aint shit\")"
      ],
      "metadata": {
        "id": "tV-_IeMLEOGA",
        "colab": {
          "base_uri": "https://localhost:8080/"
        },
        "outputId": "5417e89a-a712-4e9a-ef9c-3b71522da9bb"
      },
      "execution_count": 40,
      "outputs": [
        {
          "output_type": "stream",
          "name": "stdout",
          "text": [
            "You're aint shit\n"
          ]
        }
      ]
    },
    {
      "cell_type": "code",
      "source": [
        "# using else"
      ],
      "metadata": {
        "id": "8NoCtAdAEQWJ"
      },
      "execution_count": null,
      "outputs": []
    },
    {
      "cell_type": "code",
      "source": [
        "# string example"
      ],
      "metadata": {
        "id": "uTnhxSZtESPK"
      },
      "execution_count": null,
      "outputs": []
    },
    {
      "cell_type": "code",
      "source": [
        "# advanced example"
      ],
      "metadata": {
        "id": "IVfX4Vv6EUsU"
      },
      "execution_count": null,
      "outputs": []
    },
    {
      "cell_type": "markdown",
      "source": [
        "### 5. Loops"
      ],
      "metadata": {
        "id": "cfMu9UhpEYNt"
      }
    },
    {
      "cell_type": "code",
      "source": [
        "# Print a counntdown from 10 till 0\n",
        "x = 11\n",
        "for i in range(0, 10):\n",
        "  x-= 1\n",
        "  print(x)"
      ],
      "metadata": {
        "id": "B3uDTV9EEdg2",
        "colab": {
          "base_uri": "https://localhost:8080/"
        },
        "outputId": "2b106f49-c846-46af-ce80-d02f79b39db4"
      },
      "execution_count": 50,
      "outputs": [
        {
          "output_type": "stream",
          "name": "stdout",
          "text": [
            "10\n",
            "9\n",
            "8\n",
            "7\n",
            "6\n",
            "5\n",
            "4\n",
            "3\n",
            "2\n",
            "1\n"
          ]
        }
      ]
    },
    {
      "cell_type": "code",
      "source": [
        "# while loops\n",
        "# Print a counntdown from 10 till 0\n",
        "x = 10\n",
        "while x >= 0:\n",
        "  print(x)\n",
        "  x -= 1"
      ],
      "metadata": {
        "id": "dq9pIaguEhkY",
        "colab": {
          "base_uri": "https://localhost:8080/"
        },
        "outputId": "0ff5f24f-9a70-479a-a28f-2421e2c16305"
      },
      "execution_count": 52,
      "outputs": [
        {
          "output_type": "stream",
          "name": "stdout",
          "text": [
            "10\n",
            "9\n",
            "8\n",
            "7\n",
            "6\n",
            "5\n",
            "4\n",
            "3\n",
            "2\n",
            "1\n",
            "0\n"
          ]
        }
      ]
    },
    {
      "cell_type": "code",
      "source": [
        "# corrected while loops\n",
        "# Print a counntdown from 10 till 0"
      ],
      "metadata": {
        "id": "B3ZRuGUjEk-m"
      },
      "execution_count": null,
      "outputs": []
    },
    {
      "cell_type": "code",
      "source": [
        "# for loops\n",
        "# count from 0 till 10\n",
        "for i in range(0,11):\n",
        "  print(i)"
      ],
      "metadata": {
        "id": "9ZNUhicrEogm",
        "colab": {
          "base_uri": "https://localhost:8080/"
        },
        "outputId": "6eb77b15-9835-417e-fb09-b83207295429"
      },
      "execution_count": 54,
      "outputs": [
        {
          "output_type": "stream",
          "name": "stdout",
          "text": [
            "0\n",
            "1\n",
            "2\n",
            "3\n",
            "4\n",
            "5\n",
            "6\n",
            "7\n",
            "8\n",
            "9\n",
            "10\n"
          ]
        }
      ]
    },
    {
      "cell_type": "code",
      "source": [
        "# corrected for loops\n",
        "# corrected count from 0 till 10"
      ],
      "metadata": {
        "id": "2iqJw-GyEtSd"
      },
      "execution_count": null,
      "outputs": []
    },
    {
      "cell_type": "code",
      "source": [
        "# for loops\n",
        "# count from 0 till 10 in steps of 2\n",
        "\n",
        "for i in range(0,11,2):\n",
        "\n",
        "  print(i)"
      ],
      "metadata": {
        "id": "eIBLQwUOEwmL",
        "colab": {
          "base_uri": "https://localhost:8080/"
        },
        "outputId": "c9bac64a-0bfa-46f5-e84b-1df85fecdaca"
      },
      "execution_count": 55,
      "outputs": [
        {
          "output_type": "stream",
          "name": "stdout",
          "text": [
            "0\n",
            "2\n",
            "4\n",
            "6\n",
            "8\n",
            "10\n"
          ]
        }
      ]
    },
    {
      "cell_type": "markdown",
      "source": [
        "### 6. Arrays/List"
      ],
      "metadata": {
        "id": "hwpAiryUE0Ze"
      }
    },
    {
      "cell_type": "code",
      "source": [
        "# Creating an array\n",
        "array = [1,2,3,4]"
      ],
      "metadata": {
        "id": "w7DFJFItEzbH"
      },
      "execution_count": null,
      "outputs": []
    },
    {
      "cell_type": "code",
      "source": [
        "# Accessing elements by index\\\n",
        "array = [1,2,3,4]\n",
        "print(array[0])"
      ],
      "metadata": {
        "id": "TTEwVhISE9TC",
        "colab": {
          "base_uri": "https://localhost:8080/"
        },
        "outputId": "ed42f8fa-3e74-4dbf-f964-824221bc721a"
      },
      "execution_count": 57,
      "outputs": [
        {
          "output_type": "stream",
          "name": "stdout",
          "text": [
            "1\n"
          ]
        }
      ]
    },
    {
      "cell_type": "code",
      "source": [
        "# Checking all elememts\n",
        "for x in array:\n",
        "  print(x)"
      ],
      "metadata": {
        "id": "2a4li-j1E_yQ",
        "colab": {
          "base_uri": "https://localhost:8080/"
        },
        "outputId": "40a27cc2-f627-4a9f-97a7-0d81e92a5f07"
      },
      "execution_count": 58,
      "outputs": [
        {
          "output_type": "stream",
          "name": "stdout",
          "text": [
            "1\n",
            "2\n",
            "3\n",
            "4\n"
          ]
        }
      ]
    },
    {
      "cell_type": "code",
      "source": [
        "# Modifying an array\n",
        "array = [1,2,3,4]\n",
        "array[0] = 100\n",
        "print(array[0])"
      ],
      "metadata": {
        "id": "PsRFsxFAFCsR",
        "colab": {
          "base_uri": "https://localhost:8080/"
        },
        "outputId": "776d6d6a-eac7-4170-87ee-13d101436fb9"
      },
      "execution_count": 59,
      "outputs": [
        {
          "output_type": "stream",
          "name": "stdout",
          "text": [
            "100\n"
          ]
        }
      ]
    },
    {
      "cell_type": "markdown",
      "source": [
        "### 6. Dictionary\n"
      ],
      "metadata": {
        "id": "_M6Ehlx7FIHa"
      }
    },
    {
      "cell_type": "code",
      "source": [
        "# simple dictionary\n",
        "# get a specif value\n",
        "# add a new element\n",
        "\n",
        "salaries = {\n",
        "    \"Bongani\" : 100,\n",
        "    \"Nobody\" : 0\n",
        "}\n",
        "\n",
        "print(salaries[\"Nobody\"])\n",
        "salaries[\"Nobody\"] = 10000\n",
        "print(salaries[\"Nobody\"])\n",
        "\n"
      ],
      "metadata": {
        "id": "YMJJJpeGF0jY",
        "colab": {
          "base_uri": "https://localhost:8080/"
        },
        "outputId": "385cf3d3-e6a3-4877-831e-e726f1de56a1"
      },
      "execution_count": 68,
      "outputs": [
        {
          "output_type": "stream",
          "name": "stdout",
          "text": [
            "0\n",
            "10000\n"
          ]
        }
      ]
    },
    {
      "cell_type": "markdown",
      "source": [
        "### 7. Functions"
      ],
      "metadata": {
        "id": "RrteypBEGN6V"
      }
    },
    {
      "cell_type": "code",
      "source": [
        "# Define a function that multiplies two numbers\n",
        "\n",
        "# Call the function and print the result"
      ],
      "metadata": {
        "id": "hnJ2fbtjGfPw"
      },
      "execution_count": null,
      "outputs": []
    }
  ]
}