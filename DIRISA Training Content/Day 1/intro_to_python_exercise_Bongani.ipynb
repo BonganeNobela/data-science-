{
  "nbformat": 4,
  "nbformat_minor": 0,
  "metadata": {
    "colab": {
      "provenance": []
    },
    "kernelspec": {
      "name": "python3",
      "display_name": "Python 3"
    },
    "language_info": {
      "name": "python"
    }
  },
  "cells": [
    {
      "cell_type": "markdown",
      "source": [
        " # Exercise: *Build a Mini Store Analytics Tool*\n",
        "You are assisting a local South African fashion brand Drip Store, to analyse their sales data and plan for an upcoming weekend sale.\n",
        "\n",
        "The store sells multiple items and needs help:\n",
        "\n",
        "    Calculating revenue\n",
        "\n",
        "    Tracking daily operations\n",
        "\n",
        "    Managing top-selling products\n",
        "\n",
        "Complete the tasks below using your knowledge of Python"
      ],
      "metadata": {
        "id": "grXxNbF8oaA-"
      }
    },
    {
      "cell_type": "markdown",
      "source": [
        " ## Part 1:  Create and calculate using variables (10 min)\n",
        "\n",
        "Create variables for:\n",
        "\n",
        "    Store name = \"Drip Store\"\n",
        "\n",
        "    Shoes sold = 50\n",
        "\n",
        "    Price per shoe = R1200\n",
        "\n",
        "Calculate and print total revenue. Show in ZAR\n"
      ],
      "metadata": {
        "id": "wgjQlEWHoX5b"
      }
    },
    {
      "cell_type": "code",
      "source": [
        "# your solution here\n",
        "shoes_sold, price = 50, 1200\n",
        "\n",
        "tot_revenue = shoes_sold * price\n",
        "tot_revenue"
      ],
      "metadata": {
        "id": "mkFIFHQGrKsr",
        "colab": {
          "base_uri": "https://localhost:8080/"
        },
        "outputId": "7fa59e98-25e8-4b3b-bd3a-b6113df38d18"
      },
      "execution_count": 1,
      "outputs": [
        {
          "output_type": "execute_result",
          "data": {
            "text/plain": [
              "60000"
            ]
          },
          "metadata": {},
          "execution_count": 1
        }
      ]
    },
    {
      "cell_type": "markdown",
      "source": [
        " ## Part 2:  Use loops and logical statements\n",
        "\n",
        "* 2.1 Print a countdown (from 5 to 1) before the store opens.\n",
        "\n",
        "* 2.2 Given that the store is closed on Sundays. Loop through the weekdays (Monday to Sunday) and print:  \"Drip Store is open on '\\<day\\>' \" If it not open on the day print:  \"Drip Store is closed on '\\<day\\>' \"\n"
      ],
      "metadata": {
        "id": "1jiYuZhLpeid"
      }
    },
    {
      "cell_type": "code",
      "source": [
        "# 2.1 solution here\n",
        "count_down = 5\n",
        "for i in range(0,5):\n",
        "  print(count_down)\n",
        "  count_down -= 1\n",
        "print(\"We're open!\")"
      ],
      "metadata": {
        "id": "0vIXeOhRq-fY",
        "colab": {
          "base_uri": "https://localhost:8080/"
        },
        "outputId": "f7a0e954-2919-4628-fd20-2fdd98b0509e"
      },
      "execution_count": 6,
      "outputs": [
        {
          "output_type": "stream",
          "name": "stdout",
          "text": [
            "5\n",
            "4\n",
            "3\n",
            "2\n",
            "1\n",
            "We're open!\n"
          ]
        }
      ]
    },
    {
      "cell_type": "code",
      "source": [
        "# 2.2 solution here\n",
        "days = [\"Mon\", \"Tues\", \"Wed\", \"Thurs\", \"Fri\", \"Sat\", \"Sun\"]\n",
        "for day in days:\n",
        "\n",
        "  if not day == \"Sun\" :\n",
        "    print(\"Drip Store is open on \", day)\n",
        "\n",
        "  else:\n",
        "    print(\"Drip Store is closed on \", day)\n",
        "\n",
        "\n"
      ],
      "metadata": {
        "id": "HLVbyFugrTys",
        "colab": {
          "base_uri": "https://localhost:8080/"
        },
        "outputId": "c874b955-0183-47f6-fe41-a1a8981693a4"
      },
      "execution_count": 7,
      "outputs": [
        {
          "output_type": "stream",
          "name": "stdout",
          "text": [
            "Drip Store is open on  Mon\n",
            "Drip Store is open on  Tues\n",
            "Drip Store is open on  Weds\n",
            "Drip Store is open on  Thurs\n",
            "Drip Store is open on  Fri\n",
            "Drip Store is open on  Sat\n",
            "Drip Store is closed on  Sun\n"
          ]
        }
      ]
    },
    {
      "cell_type": "markdown",
      "source": [
        "# Part 3: Use lists (arrays)\n",
        "\n",
        "* Create a list of best-selling items: `[\"Drip sneakers\", \"K-Way jacket\", \"Maxhosa socks\"]`\n",
        "\n",
        "* Loop through the list and print each item.\n",
        "\n",
        "* Add \"Bathu boots\" to the list and print\n",
        "\n",
        "* Remove \"Maxhosa socks\" from the list and print."
      ],
      "metadata": {
        "id": "n4or1R0mrB-m"
      }
    },
    {
      "cell_type": "code",
      "source": [
        "# Your solution here\n",
        "best_selling = [\"Drip sneakers\", \"K-Way jacket\", \"Maxhosa socks\"]\n",
        "for item in best_selling:\n",
        "  print(item)\n",
        "\n",
        "best_selling.append(\"Bathu boots\")\n",
        "print(best_selling)\n",
        "best_selling.remove(\"Maxhosa socks\")\n",
        "print(best_selling)"
      ],
      "metadata": {
        "id": "t9_30Er1sBBC",
        "colab": {
          "base_uri": "https://localhost:8080/"
        },
        "outputId": "760329bc-9f2e-441b-c29c-4ba1a909ca52"
      },
      "execution_count": 8,
      "outputs": [
        {
          "output_type": "stream",
          "name": "stdout",
          "text": [
            "Drip sneakers\n",
            "K-Way jacket\n",
            "Maxhosa socks\n",
            "['Drip sneakers', 'K-Way jacket', 'Maxhosa socks', 'Bathu boots']\n",
            "['Drip sneakers', 'K-Way jacket', 'Bathu boots']\n"
          ]
        }
      ]
    },
    {
      "cell_type": "markdown",
      "source": [
        "# Part 4:  Calculate Revenue with Conditions\n",
        "You are now tasked with helping the Drip Store team analyze performance of each product using logic and calculations.\n",
        "\n",
        "Follow the steps below carefully:\n",
        "\n",
        "Create three lists:\n",
        "\n",
        "    A list of bestselling products, e.g.:\n",
        "    [\"Drip sneakers\", \"K-Way jacket\", \"Bathu boots\"]\n",
        "\n",
        "    A matching list of prices per item, e.g.:\n",
        "    [1200, 950, 1000]\n",
        "\n",
        "    A matching list of quantities sold, e.g.:\n",
        "    [30, 10, 25]\n",
        "\n",
        "Use a for loop to go through each product in the list.\n",
        "\n",
        "1. For each product:\n",
        "    ```\n",
        "    Calculate the revenue by multiplying the price by the quantity.\n",
        "\n",
        "    Print the product name and the revenue. `This <product> made R<revenue>\n",
        "    ```\n",
        "\n",
        "\n",
        "2.  Now let’s categorize each item’s performance:\n",
        "     ```\n",
        "    If revenue is above R30,000, print: \"🔥 Top Performer\"\n",
        "\n",
        "    If revenue is below R20,000, print: \"⚠️ Needs Marketing\"\n",
        "\n",
        "    Otherwise, print: \"👍 Doing okay\"\n",
        "     ```\n",
        "**NB It should still print the revenue wit the categorisation**"
      ],
      "metadata": {
        "id": "v9vUu6unq2ix"
      }
    },
    {
      "cell_type": "code",
      "source": [
        "# Your solution here\n",
        "products= [\"Drip sneakers\", \"K-Way jacket\", \"Bathu boots\"]\n",
        "prices = [1200, 950, 1000]\n",
        "sold = [30, 10, 25]\n",
        "revenues = []\n",
        "for i in range (0, 3):\n",
        "  revenue = prices[i] * sold[i]\n",
        "  print()\n",
        "\n",
        "  if(revenue > 30000): print(\"This \", products[i], \" made \", revenue, \"🔥 Top Performer\")\n",
        "  elif revenue < 20000: print(\"This \", products[i], \" made \", revenue,\"⚠️ Needs Marketing\")\n",
        "  else: print(\"This \", products[i], \" made \", revenue,\"👍 Doing okay\")\n",
        "\n",
        "\n",
        "\n"
      ],
      "metadata": {
        "id": "W4gw8HnEuqgQ",
        "colab": {
          "base_uri": "https://localhost:8080/"
        },
        "outputId": "aefc0b41-e1aa-486b-8897-b5fc289d375a"
      },
      "execution_count": 20,
      "outputs": [
        {
          "output_type": "stream",
          "name": "stdout",
          "text": [
            "\n",
            "This  Drip sneakers  made  36000 🔥 Top Performer\n",
            "\n",
            "This  K-Way jacket  made  9500 ⚠️ Needs Marketing\n",
            "\n",
            "This  Bathu boots  made  25000 👍 Doing okay\n"
          ]
        }
      ]
    },
    {
      "cell_type": "code",
      "source": [],
      "metadata": {
        "id": "2UxhIqqAhKi3"
      },
      "execution_count": null,
      "outputs": []
    }
  ]
}