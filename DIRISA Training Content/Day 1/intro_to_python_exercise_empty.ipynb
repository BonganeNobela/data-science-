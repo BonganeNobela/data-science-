{
  "nbformat": 4,
  "nbformat_minor": 0,
  "metadata": {
    "colab": {
      "provenance": []
    },
    "kernelspec": {
      "name": "python3",
      "display_name": "Python 3"
    },
    "language_info": {
      "name": "python"
    }
  },
  "cells": [
    {
      "cell_type": "markdown",
      "source": [
        " # Exercise: *Build a Mini Store Analytics Tool*\n",
        "You are assisting a local South African fashion brand Drip Store, to analyse their sales data and plan for an upcoming weekend sale.\n",
        "\n",
        "The store sells multiple items and needs help:\n",
        "\n",
        "    Calculating revenue\n",
        "\n",
        "    Tracking daily operations\n",
        "\n",
        "    Managing top-selling products\n",
        "\n",
        "Complete the tasks below using your knowledge of Python"
      ],
      "metadata": {
        "id": "grXxNbF8oaA-"
      }
    },
    {
      "cell_type": "markdown",
      "source": [
        " ## Part 1:  Create and calculate using variables (10 min)\n",
        "\n",
        "Create variables for:\n",
        "\n",
        "    Store name = \"Drip Store\"\n",
        "\n",
        "    Shoes sold = 50\n",
        "\n",
        "    Price per shoe = R1200\n",
        "\n",
        "Calculate and print total revenue. Show in ZAR\n"
      ],
      "metadata": {
        "id": "wgjQlEWHoX5b"
      }
    },
    {
      "cell_type": "code",
      "source": [
        "# your solution here"
      ],
      "metadata": {
        "id": "mkFIFHQGrKsr"
      },
      "execution_count": 3,
      "outputs": []
    },
    {
      "cell_type": "markdown",
      "source": [
        " ## Part 2:  Use loops and logical statements\n",
        "\n",
        "* 2.1 Print a countdown (from 5 to 1) before the store opens.\n",
        "\n",
        "* 2.2 Given that the store is closed on Sundays. Loop through the weekdays (Monday to Sunday) and print:  \"Drip Store is open on '\\<day\\>' \" If it not open on the day print:  \"Drip Store is closed on '\\<day\\>' \"\n"
      ],
      "metadata": {
        "id": "1jiYuZhLpeid"
      }
    },
    {
      "cell_type": "code",
      "source": [
        "# 2.1 solution here"
      ],
      "metadata": {
        "id": "0vIXeOhRq-fY"
      },
      "execution_count": 1,
      "outputs": []
    },
    {
      "cell_type": "code",
      "source": [
        "# 2.2 solution here"
      ],
      "metadata": {
        "id": "HLVbyFugrTys"
      },
      "execution_count": 2,
      "outputs": []
    },
    {
      "cell_type": "markdown",
      "source": [
        "# Part 3: Use lists (arrays)\n",
        "\n",
        "* Create a list of best-selling items: `[\"Drip sneakers\", \"K-Way jacket\", \"Maxhosa socks\"]`\n",
        "\n",
        "* Loop through the list and print each item.\n",
        "\n",
        "* Add \"Bathu boots\" to the list and print\n",
        "\n",
        "* Remove \"Maxhosa socks\" from the list and print."
      ],
      "metadata": {
        "id": "n4or1R0mrB-m"
      }
    },
    {
      "cell_type": "code",
      "source": [
        "# Your solution here"
      ],
      "metadata": {
        "id": "t9_30Er1sBBC"
      },
      "execution_count": null,
      "outputs": []
    },
    {
      "cell_type": "markdown",
      "source": [
        "# Part 4:  Calculate Revenue with Conditions\n",
        "You are now tasked with helping the Drip Store team analyze performance of each product using logic and calculations.\n",
        "\n",
        "Follow the steps below carefully:\n",
        "\n",
        "Create three lists:\n",
        "\n",
        "    A list of bestselling products, e.g.:\n",
        "    [\"Drip sneakers\", \"K-Way jacket\", \"Bathu boots\"]\n",
        "\n",
        "    A matching list of prices per item, e.g.:\n",
        "    [1200, 950, 1000]\n",
        "\n",
        "    A matching list of quantities sold, e.g.:\n",
        "    [30, 10, 25]\n",
        "\n",
        "Use a for loop to go through each product in the list.\n",
        "\n",
        "1. For each product:\n",
        "    ```\n",
        "    Calculate the revenue by multiplying the price by the quantity.\n",
        "\n",
        "    Print the product name and the revenue. `This <product> made R<revenue>\n",
        "    ```\n",
        "\n",
        "\n",
        "2.  Now let’s categorize each item’s performance:\n",
        "     ```\n",
        "    If revenue is above R30,000, print: \"🔥 Top Performer\"\n",
        "\n",
        "    If revenue is below R20,000, print: \"⚠️ Needs Marketing\"\n",
        "\n",
        "    Otherwise, print: \"👍 Doing okay\"\n",
        "     ```\n",
        "**NB It should still print the revenue wit the categorisation**"
      ],
      "metadata": {
        "id": "v9vUu6unq2ix"
      }
    },
    {
      "cell_type": "code",
      "source": [
        "# Your solution here"
      ],
      "metadata": {
        "id": "W4gw8HnEuqgQ"
      },
      "execution_count": null,
      "outputs": []
    }
  ]
}