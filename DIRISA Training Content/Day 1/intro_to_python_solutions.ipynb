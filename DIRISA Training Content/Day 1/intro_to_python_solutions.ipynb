{
  "nbformat": 4,
  "nbformat_minor": 0,
  "metadata": {
    "colab": {
      "provenance": []
    },
    "kernelspec": {
      "name": "python3",
      "display_name": "Python 3"
    },
    "language_info": {
      "name": "python"
    }
  },
  "cells": [
    {
      "cell_type": "markdown",
      "source": [
        " # Exercise: *Build a Mini Store Analytics Tool*\n",
        "You are assisting a local South African fashion brand Drip Store, to analyse their sales data and plan for an upcoming weekend sale.\n",
        "\n",
        "The store sells multiple items and needs help:\n",
        "\n",
        "    Calculating revenue\n",
        "\n",
        "    Tracking daily operations\n",
        "\n",
        "    Managing top-selling products\n",
        "\n",
        "Complete the tasks below using your knowledge of Python"
      ],
      "metadata": {
        "id": "grXxNbF8oaA-"
      }
    },
    {
      "cell_type": "markdown",
      "source": [
        " ## Part 1:  Create and calculate using variables (10 min)\n",
        "\n",
        "Create variables for:\n",
        "\n",
        "    Store name = \"Drip Store\"\n",
        "\n",
        "    Shoes sold = 50\n",
        "\n",
        "    Price per shoe = R1200\n",
        "\n",
        "Calculate and print total revenue. Show in ZAR\n"
      ],
      "metadata": {
        "id": "wgjQlEWHoX5b"
      }
    },
    {
      "cell_type": "code",
      "source": [
        "store_name = \"Drip Store\"\n",
        "shoes_sold = 50\n",
        "price_per_shoe = 1200\n",
        "\n",
        "total_revenue = shoes_sold * price_per_shoe\n",
        "\n",
        "print(f'Total Revenue R{total_revenue} is at {store_name}')"
      ],
      "metadata": {
        "id": "mkFIFHQGrKsr",
        "colab": {
          "base_uri": "https://localhost:8080/"
        },
        "outputId": "ac392c52-d892-48ce-a38b-8b8934fc5212"
      },
      "execution_count": 3,
      "outputs": [
        {
          "output_type": "stream",
          "name": "stdout",
          "text": [
            "Total Revenue R60000 at Drip Store\n"
          ]
        }
      ]
    },
    {
      "cell_type": "markdown",
      "source": [
        " ## Part 2:  Use loops and logical statements\n",
        "\n",
        "* 2.1 Print a countdown (from 5 to 1) before the store opens.\n",
        "\n",
        "* 2.2 Given that the store is closed on Sundays. Loop through the weekdays (Monday to Sunday) and print:  \"Drip Store is open on '\\<day\\>' \" If it not open on the day print:  \"Drip Store is closed on '\\<day\\>' \"\n"
      ],
      "metadata": {
        "id": "1jiYuZhLpeid"
      }
    },
    {
      "cell_type": "code",
      "source": [
        "# 2.1 solution here\n",
        "\n",
        "for i in range(5, 0, -1):\n",
        "    print(f\"Opening in {i}...\")\n",
        "print(\"Store is now open!\")"
      ],
      "metadata": {
        "id": "0vIXeOhRq-fY",
        "colab": {
          "base_uri": "https://localhost:8080/"
        },
        "outputId": "97677d8c-1067-4f57-bb66-e5dc08c58a5a"
      },
      "execution_count": 4,
      "outputs": [
        {
          "output_type": "stream",
          "name": "stdout",
          "text": [
            "Opening in 5...\n",
            "Opening in 4...\n",
            "Opening in 3...\n",
            "Opening in 2...\n",
            "Opening in 1...\n",
            "Store is now open!\n"
          ]
        }
      ]
    },
    {
      "cell_type": "code",
      "source": [
        "# 2.2 solution here\n",
        "\n",
        "# List of days from Monday to Sunday\n",
        "weekdays = [\"Monday\", \"Tuesday\", \"Wednesday\", \"Thursday\", \"Friday\", \"Saturday\", \"Sunday\"]\n",
        "\n",
        "# Loop through each day\n",
        "for day in weekdays:\n",
        "    if day == \"Sunday\":\n",
        "        print(f\"Drip Store is closed on {day}\")\n",
        "    else:\n",
        "        print(f\"Drip Store is open on {day}\")"
      ],
      "metadata": {
        "id": "HLVbyFugrTys",
        "colab": {
          "base_uri": "https://localhost:8080/"
        },
        "outputId": "70e2effe-1904-4f7c-fd35-ce4f55641e21"
      },
      "execution_count": 5,
      "outputs": [
        {
          "output_type": "stream",
          "name": "stdout",
          "text": [
            "Drip Store is open on Monday\n",
            "Drip Store is open on Tuesday\n",
            "Drip Store is open on Wednesday\n",
            "Drip Store is open on Thursday\n",
            "Drip Store is open on Friday\n",
            "Drip Store is open on Saturday\n",
            "Drip Store is closed on Sunday\n"
          ]
        }
      ]
    },
    {
      "cell_type": "markdown",
      "source": [
        "# Part 3: Use lists (arrays)\n",
        "\n",
        "* Create a list of best-selling items: `[\"Drip sneakers\", \"K-Way jacket\", \"Maxhosa socks\"]`\n",
        "\n",
        "* Loop through the list and print each item.\n",
        "\n",
        "* Add \"Bathu boots\" to the list and print\n",
        "\n",
        "* Remove \"Maxhosa socks\" from the list and print."
      ],
      "metadata": {
        "id": "n4or1R0mrB-m"
      }
    },
    {
      "cell_type": "code",
      "source": [
        "# Your solution here\n",
        "\n",
        "bestsellers = [\"Drip sneakers\", \"K-Way jacket\", \"Maxhosa socks\"]\n",
        "\n",
        "# Loop through\n",
        "for item in bestsellers:\n",
        "    print(\"Top seller:\", item)\n",
        "\n",
        "# Add and remove\n",
        "bestsellers.append(\"Bathu boots\")\n",
        "print(\"Top seller with Bathu:\", bestsellers)\n",
        "\n",
        "bestsellers.remove(\"Maxhosa socks\")\n",
        "print(\"Top seller without Maxhosa:\", bestsellers)\n"
      ],
      "metadata": {
        "id": "t9_30Er1sBBC",
        "colab": {
          "base_uri": "https://localhost:8080/"
        },
        "outputId": "588fc91f-a711-4694-9072-ff5648e0d72c"
      },
      "execution_count": 7,
      "outputs": [
        {
          "output_type": "stream",
          "name": "stdout",
          "text": [
            "Top seller: Drip sneakers\n",
            "Top seller: K-Way jacket\n",
            "Top seller: Maxhosa socks\n",
            "Top seller with Bathu: ['Drip sneakers', 'K-Way jacket', 'Maxhosa socks', 'Bathu boots']\n",
            "Top seller without Maxhosa: ['Drip sneakers', 'K-Way jacket', 'Bathu boots']\n"
          ]
        }
      ]
    },
    {
      "cell_type": "markdown",
      "source": [
        "# Part 4:  Calculate Revenue with Conditions\n",
        "You are now tasked with helping the Drip Store team analyze performance of each product using logic and calculations.\n",
        "\n",
        "Follow the steps below carefully:\n",
        "\n",
        "Create three lists:\n",
        "\n",
        "    A list of bestselling products, e.g.:\n",
        "    [\"Drip sneakers\", \"K-Way jacket\", \"Bathu boots\"]\n",
        "\n",
        "    A matching list of prices per item, e.g.:\n",
        "    [1200, 950, 1000]\n",
        "\n",
        "    A matching list of quantities sold, e.g.:\n",
        "    [30, 10, 25]\n",
        "\n",
        "Use a for loop to go through each product in the list.\n",
        "\n",
        "1. For each product:\n",
        "    ```\n",
        "    Calculate the revenue by multiplying the price by the quantity.\n",
        "\n",
        "    Print the product name and the revenue. `This <product> made R<revenue>\n",
        "    ```\n",
        "\n",
        "\n",
        "2.  Now let’s categorize each item’s performance:\n",
        "     ```\n",
        "    If revenue is above R30,000, print: \"🔥 Top Performer\"\n",
        "\n",
        "    If revenue is below R20,000, print: \"⚠️ Needs Marketing\"\n",
        "\n",
        "    Otherwise, print: \"👍 Doing okay\"\n",
        "     ```\n",
        "**NB It should still print the revenue wit the categorisation**"
      ],
      "metadata": {
        "id": "v9vUu6unq2ix"
      }
    },
    {
      "cell_type": "code",
      "source": [
        "# Your solution here\n",
        "\n",
        "bestsellers = [\"Drip sneakers\", \"K-Way jacket\", \"Bathu boots\"]\n",
        "prices = [1200, 950, 1000]\n",
        "quantities = [30, 20, 25]\n",
        "\n",
        "for i in range(len(bestsellers)):\n",
        "    revenue = prices[i] * quantities[i]\n",
        "    print(f\"{bestsellers[i]} made R{revenue}\")\n",
        "\n",
        "    # Add decision-making\n",
        "    if revenue > 30000:\n",
        "        print(\"🔥 Top Performer\")\n",
        "    elif revenue < 20000:\n",
        "        print(\"⚠️ Needs Marketing\")\n",
        "    else:\n",
        "        print(\"👍 Doing okay\")\n",
        "\n",
        "    print(\"-\" * 30)"
      ],
      "metadata": {
        "id": "W4gw8HnEuqgQ",
        "colab": {
          "base_uri": "https://localhost:8080/"
        },
        "outputId": "4cfac8b6-9fc3-430e-9b3f-7796befa8fb2"
      },
      "execution_count": 8,
      "outputs": [
        {
          "output_type": "stream",
          "name": "stdout",
          "text": [
            "Drip sneakers made R36000\n",
            "🔥 Top Performer\n",
            "------------------------------\n",
            "K-Way jacket made R19000\n",
            "⚠️ Needs Marketing\n",
            "------------------------------\n",
            "Bathu boots made R25000\n",
            "👍 Doing okay\n",
            "------------------------------\n"
          ]
        }
      ]
    }
  ]
}