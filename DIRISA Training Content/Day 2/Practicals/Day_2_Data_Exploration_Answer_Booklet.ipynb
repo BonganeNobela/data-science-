{
  "nbformat": 4,
  "nbformat_minor": 0,
  "metadata": {
    "colab": {
      "provenance": []
    },
    "kernelspec": {
      "name": "python3",
      "display_name": "Python 3"
    },
    "language_info": {
      "name": "python"
    }
  },
  "cells": [
    {
      "cell_type": "markdown",
      "source": [
        "# Data Exploration Practical"
      ],
      "metadata": {
        "id": "2LUCtNwgqX6e"
      }
    },
    {
      "cell_type": "markdown",
      "source": [
        "![DIRISA](https://sdc.dirisa.ac.za/wp-content/uploads/2023/05/Orange_Minimalist_Food_Festival_Logo_2_-removebg-preview.png)"
      ],
      "metadata": {
        "id": "IlWM0zk8V00I"
      }
    },
    {
      "cell_type": "markdown",
      "source": [
        "##### IMPORTANT! Run the 3 cells below to access the data."
      ],
      "metadata": {
        "id": "3_Wsor8Yqeny"
      }
    },
    {
      "cell_type": "markdown",
      "source": [
        "\n",
        "\n",
        "*   These folders will be made in your current working directory/current folder\n",
        "\n",
        "### **Instructions**\n",
        "\n",
        "```\n",
        "\n",
        "#### **Local Installation**\n",
        "1. Make sure you have setup a suitable in a suitable directory and download and move this notebook to this your folder.\n",
        "\n",
        "**Windows**\n",
        "```\n",
        "C:\\Users\\kevin\\Documents\\DIRISA2025-Training\\\n",
        "```\n",
        "\n",
        "**Mac/Linux**\n",
        "```\n",
        "/home/kevin/Documents/DIRISA2025-Training/\n",
        "```\n",
        "2. Simply click this link to [download](https://www.kaggle.com/api/v1/datasets/download/paramvir705/airbnb-data)\n",
        "3. Create a folder named \"data\"\n",
        "3. Extract the zip and move it into the data folder\n",
        "4. Create a data folder\n",
        "\n",
        "\n",
        "\n",
        "\n"
      ],
      "metadata": {
        "id": "sGbKMN01wZj2"
      }
    },
    {
      "cell_type": "code",
      "source": [
        "!pwd"
      ],
      "metadata": {
        "colab": {
          "base_uri": "https://localhost:8080/"
        },
        "id": "28g_wmyC0cgA",
        "outputId": "ad5e1c89-3cf5-4538-cc66-3af1a652c17b"
      },
      "execution_count": null,
      "outputs": [
        {
          "output_type": "stream",
          "name": "stdout",
          "text": [
            "/content\n"
          ]
        }
      ]
    },
    {
      "cell_type": "code",
      "source": [
        "!mkdir data"
      ],
      "metadata": {
        "id": "aco6n-7jOQQ9",
        "colab": {
          "base_uri": "https://localhost:8080/"
        },
        "outputId": "28e62a0f-058a-4dfd-e676-2aa432d6366b"
      },
      "execution_count": null,
      "outputs": [
        {
          "output_type": "stream",
          "name": "stdout",
          "text": [
            "mkdir: cannot create directory ‘data’: File exists\n"
          ]
        }
      ]
    },
    {
      "cell_type": "code",
      "execution_count": null,
      "metadata": {
        "colab": {
          "base_uri": "https://localhost:8080/"
        },
        "id": "DaWUlKy3N91w",
        "outputId": "b015d565-2977-43d6-84f7-d16c9ef26156"
      },
      "outputs": [
        {
          "output_type": "stream",
          "name": "stdout",
          "text": [
            "  % Total    % Received % Xferd  Average Speed   Time    Time     Time  Current\n",
            "                                 Dload  Upload   Total   Spent    Left  Speed\n",
            "  0     0    0     0    0     0      0      0 --:--:-- --:--:-- --:--:--     0\n",
            "100 31.2M  100 31.2M    0     0  15.5M      0  0:00:02  0:00:02 --:--:-- 33.6M\n"
          ]
        }
      ],
      "source": [
        "!curl -L -o ../content/data/airbnb-data.zip\\\n",
        "  https://www.kaggle.com/api/v1/datasets/download/paramvir705/airbnb-data"
      ]
    },
    {
      "cell_type": "code",
      "metadata": {
        "id": "478e5a78"
      },
      "source": [
        "#!unzip /content/data/airbnb-data.zip -d /content/data/ && rm /content/data/airbnb-data.zip"
      ],
      "execution_count": null,
      "outputs": []
    },
    {
      "cell_type": "code",
      "source": [
        "import os\n",
        "from sklearn.preprocessing import OneHotEncoder, MinMaxScaler, StandardScaler\n",
        "from sklearn.neighbors import KNeighborsClassifier\n",
        "from sklearn.impute import SimpleImputer"
      ],
      "metadata": {
        "id": "udO0qfqgoGTt"
      },
      "execution_count": null,
      "outputs": []
    },
    {
      "cell_type": "markdown",
      "source": [
        "### Section 1: Inspection"
      ],
      "metadata": {
        "id": "WlUwm0CAq1pT"
      }
    },
    {
      "cell_type": "markdown",
      "source": [
        "##### 1.1 Imports pandas"
      ],
      "metadata": {
        "id": "UdZevyVtqT1k"
      }
    },
    {
      "cell_type": "code",
      "source": [
        "import pandas as pd"
      ],
      "metadata": {
        "id": "gv07GJ9urCW9"
      },
      "execution_count": null,
      "outputs": []
    },
    {
      "cell_type": "markdown",
      "source": [
        "##### 1.2 Reading in the data"
      ],
      "metadata": {
        "id": "U4Hk_Vz2rJxQ"
      }
    },
    {
      "cell_type": "code",
      "source": [
        "path = \"Airbnb_Data.csv\"\n",
        "df = pd.read_csv(path)\n"
      ],
      "metadata": {
        "id": "396X0P22rPHG"
      },
      "execution_count": null,
      "outputs": []
    },
    {
      "cell_type": "markdown",
      "source": [
        "##### 1.3 Inspect the first 5 and last 5 rows of the dataset"
      ],
      "metadata": {
        "id": "vqzxKLQ4sKLo"
      }
    },
    {
      "cell_type": "code",
      "source": [
        "df.head()"
      ],
      "metadata": {
        "colab": {
          "base_uri": "https://localhost:8080/",
          "height": 481
        },
        "id": "SHYWyRpRsU8P",
        "outputId": "920ce6c6-6f0b-42b2-d273-b0e09a8182e2"
      },
      "execution_count": null,
      "outputs": [
        {
          "output_type": "execute_result",
          "data": {
            "text/plain": [
              "         id  log_price property_type        room_type  \\\n",
              "0   6901257   5.010635     Apartment  Entire home/apt   \n",
              "1   6304928   5.129899     Apartment  Entire home/apt   \n",
              "2   7919400   4.976734     Apartment  Entire home/apt   \n",
              "3  13418779   6.620073         House  Entire home/apt   \n",
              "4   3808709   4.744932     Apartment  Entire home/apt   \n",
              "\n",
              "                                           amenities  accommodates  bathrooms  \\\n",
              "0  {\"Wireless Internet\",\"Air conditioning\",Kitche...             3        1.0   \n",
              "1  {\"Wireless Internet\",\"Air conditioning\",Kitche...             7        1.0   \n",
              "2  {TV,\"Cable TV\",\"Wireless Internet\",\"Air condit...             5        1.0   \n",
              "3  {TV,\"Cable TV\",Internet,\"Wireless Internet\",Ki...             4        1.0   \n",
              "4  {TV,Internet,\"Wireless Internet\",\"Air conditio...             2        1.0   \n",
              "\n",
              "   bed_type cancellation_policy  cleaning_fee  ...   latitude   longitude  \\\n",
              "0  Real Bed              strict          True  ...  40.696524  -73.991617   \n",
              "1  Real Bed              strict          True  ...  40.766115  -73.989040   \n",
              "2  Real Bed            moderate          True  ...  40.808110  -73.943756   \n",
              "3  Real Bed            flexible          True  ...  37.772004 -122.431619   \n",
              "4  Real Bed            moderate          True  ...  38.925627  -77.034596   \n",
              "\n",
              "                                       name     neighbourhood  \\\n",
              "0            Beautiful brownstone 1-bedroom  Brooklyn Heights   \n",
              "1  Superb 3BR Apt Located Near Times Square    Hell's Kitchen   \n",
              "2                          The Garden Oasis            Harlem   \n",
              "3        Beautiful Flat in the Heart of SF!      Lower Haight   \n",
              "4                Great studio in midtown DC  Columbia Heights   \n",
              "\n",
              "  number_of_reviews review_scores_rating  \\\n",
              "0                 2                100.0   \n",
              "1                 6                 93.0   \n",
              "2                10                 92.0   \n",
              "3                 0                  NaN   \n",
              "4                 4                 40.0   \n",
              "\n",
              "                                       thumbnail_url  zipcode bedrooms  beds  \n",
              "0  https://a0.muscache.com/im/pictures/6d7cbbf7-c...    11201      1.0   1.0  \n",
              "1  https://a0.muscache.com/im/pictures/348a55fe-4...    10019      3.0   3.0  \n",
              "2  https://a0.muscache.com/im/pictures/6fae5362-9...    10027      1.0   3.0  \n",
              "3  https://a0.muscache.com/im/pictures/72208dad-9...  94117.0      2.0   2.0  \n",
              "4                                                NaN    20009      0.0   1.0  \n",
              "\n",
              "[5 rows x 29 columns]"
            ],
            "text/html": [
              "\n",
              "  <div id=\"df-1682f5d5-ec22-4eb6-899e-7b5c7c2e36c3\" class=\"colab-df-container\">\n",
              "    <div>\n",
              "<style scoped>\n",
              "    .dataframe tbody tr th:only-of-type {\n",
              "        vertical-align: middle;\n",
              "    }\n",
              "\n",
              "    .dataframe tbody tr th {\n",
              "        vertical-align: top;\n",
              "    }\n",
              "\n",
              "    .dataframe thead th {\n",
              "        text-align: right;\n",
              "    }\n",
              "</style>\n",
              "<table border=\"1\" class=\"dataframe\">\n",
              "  <thead>\n",
              "    <tr style=\"text-align: right;\">\n",
              "      <th></th>\n",
              "      <th>id</th>\n",
              "      <th>log_price</th>\n",
              "      <th>property_type</th>\n",
              "      <th>room_type</th>\n",
              "      <th>amenities</th>\n",
              "      <th>accommodates</th>\n",
              "      <th>bathrooms</th>\n",
              "      <th>bed_type</th>\n",
              "      <th>cancellation_policy</th>\n",
              "      <th>cleaning_fee</th>\n",
              "      <th>...</th>\n",
              "      <th>latitude</th>\n",
              "      <th>longitude</th>\n",
              "      <th>name</th>\n",
              "      <th>neighbourhood</th>\n",
              "      <th>number_of_reviews</th>\n",
              "      <th>review_scores_rating</th>\n",
              "      <th>thumbnail_url</th>\n",
              "      <th>zipcode</th>\n",
              "      <th>bedrooms</th>\n",
              "      <th>beds</th>\n",
              "    </tr>\n",
              "  </thead>\n",
              "  <tbody>\n",
              "    <tr>\n",
              "      <th>0</th>\n",
              "      <td>6901257</td>\n",
              "      <td>5.010635</td>\n",
              "      <td>Apartment</td>\n",
              "      <td>Entire home/apt</td>\n",
              "      <td>{\"Wireless Internet\",\"Air conditioning\",Kitche...</td>\n",
              "      <td>3</td>\n",
              "      <td>1.0</td>\n",
              "      <td>Real Bed</td>\n",
              "      <td>strict</td>\n",
              "      <td>True</td>\n",
              "      <td>...</td>\n",
              "      <td>40.696524</td>\n",
              "      <td>-73.991617</td>\n",
              "      <td>Beautiful brownstone 1-bedroom</td>\n",
              "      <td>Brooklyn Heights</td>\n",
              "      <td>2</td>\n",
              "      <td>100.0</td>\n",
              "      <td>https://a0.muscache.com/im/pictures/6d7cbbf7-c...</td>\n",
              "      <td>11201</td>\n",
              "      <td>1.0</td>\n",
              "      <td>1.0</td>\n",
              "    </tr>\n",
              "    <tr>\n",
              "      <th>1</th>\n",
              "      <td>6304928</td>\n",
              "      <td>5.129899</td>\n",
              "      <td>Apartment</td>\n",
              "      <td>Entire home/apt</td>\n",
              "      <td>{\"Wireless Internet\",\"Air conditioning\",Kitche...</td>\n",
              "      <td>7</td>\n",
              "      <td>1.0</td>\n",
              "      <td>Real Bed</td>\n",
              "      <td>strict</td>\n",
              "      <td>True</td>\n",
              "      <td>...</td>\n",
              "      <td>40.766115</td>\n",
              "      <td>-73.989040</td>\n",
              "      <td>Superb 3BR Apt Located Near Times Square</td>\n",
              "      <td>Hell's Kitchen</td>\n",
              "      <td>6</td>\n",
              "      <td>93.0</td>\n",
              "      <td>https://a0.muscache.com/im/pictures/348a55fe-4...</td>\n",
              "      <td>10019</td>\n",
              "      <td>3.0</td>\n",
              "      <td>3.0</td>\n",
              "    </tr>\n",
              "    <tr>\n",
              "      <th>2</th>\n",
              "      <td>7919400</td>\n",
              "      <td>4.976734</td>\n",
              "      <td>Apartment</td>\n",
              "      <td>Entire home/apt</td>\n",
              "      <td>{TV,\"Cable TV\",\"Wireless Internet\",\"Air condit...</td>\n",
              "      <td>5</td>\n",
              "      <td>1.0</td>\n",
              "      <td>Real Bed</td>\n",
              "      <td>moderate</td>\n",
              "      <td>True</td>\n",
              "      <td>...</td>\n",
              "      <td>40.808110</td>\n",
              "      <td>-73.943756</td>\n",
              "      <td>The Garden Oasis</td>\n",
              "      <td>Harlem</td>\n",
              "      <td>10</td>\n",
              "      <td>92.0</td>\n",
              "      <td>https://a0.muscache.com/im/pictures/6fae5362-9...</td>\n",
              "      <td>10027</td>\n",
              "      <td>1.0</td>\n",
              "      <td>3.0</td>\n",
              "    </tr>\n",
              "    <tr>\n",
              "      <th>3</th>\n",
              "      <td>13418779</td>\n",
              "      <td>6.620073</td>\n",
              "      <td>House</td>\n",
              "      <td>Entire home/apt</td>\n",
              "      <td>{TV,\"Cable TV\",Internet,\"Wireless Internet\",Ki...</td>\n",
              "      <td>4</td>\n",
              "      <td>1.0</td>\n",
              "      <td>Real Bed</td>\n",
              "      <td>flexible</td>\n",
              "      <td>True</td>\n",
              "      <td>...</td>\n",
              "      <td>37.772004</td>\n",
              "      <td>-122.431619</td>\n",
              "      <td>Beautiful Flat in the Heart of SF!</td>\n",
              "      <td>Lower Haight</td>\n",
              "      <td>0</td>\n",
              "      <td>NaN</td>\n",
              "      <td>https://a0.muscache.com/im/pictures/72208dad-9...</td>\n",
              "      <td>94117.0</td>\n",
              "      <td>2.0</td>\n",
              "      <td>2.0</td>\n",
              "    </tr>\n",
              "    <tr>\n",
              "      <th>4</th>\n",
              "      <td>3808709</td>\n",
              "      <td>4.744932</td>\n",
              "      <td>Apartment</td>\n",
              "      <td>Entire home/apt</td>\n",
              "      <td>{TV,Internet,\"Wireless Internet\",\"Air conditio...</td>\n",
              "      <td>2</td>\n",
              "      <td>1.0</td>\n",
              "      <td>Real Bed</td>\n",
              "      <td>moderate</td>\n",
              "      <td>True</td>\n",
              "      <td>...</td>\n",
              "      <td>38.925627</td>\n",
              "      <td>-77.034596</td>\n",
              "      <td>Great studio in midtown DC</td>\n",
              "      <td>Columbia Heights</td>\n",
              "      <td>4</td>\n",
              "      <td>40.0</td>\n",
              "      <td>NaN</td>\n",
              "      <td>20009</td>\n",
              "      <td>0.0</td>\n",
              "      <td>1.0</td>\n",
              "    </tr>\n",
              "  </tbody>\n",
              "</table>\n",
              "<p>5 rows × 29 columns</p>\n",
              "</div>\n",
              "    <div class=\"colab-df-buttons\">\n",
              "\n",
              "  <div class=\"colab-df-container\">\n",
              "    <button class=\"colab-df-convert\" onclick=\"convertToInteractive('df-1682f5d5-ec22-4eb6-899e-7b5c7c2e36c3')\"\n",
              "            title=\"Convert this dataframe to an interactive table.\"\n",
              "            style=\"display:none;\">\n",
              "\n",
              "  <svg xmlns=\"http://www.w3.org/2000/svg\" height=\"24px\" viewBox=\"0 -960 960 960\">\n",
              "    <path d=\"M120-120v-720h720v720H120Zm60-500h600v-160H180v160Zm220 220h160v-160H400v160Zm0 220h160v-160H400v160ZM180-400h160v-160H180v160Zm440 0h160v-160H620v160ZM180-180h160v-160H180v160Zm440 0h160v-160H620v160Z\"/>\n",
              "  </svg>\n",
              "    </button>\n",
              "\n",
              "  <style>\n",
              "    .colab-df-container {\n",
              "      display:flex;\n",
              "      gap: 12px;\n",
              "    }\n",
              "\n",
              "    .colab-df-convert {\n",
              "      background-color: #E8F0FE;\n",
              "      border: none;\n",
              "      border-radius: 50%;\n",
              "      cursor: pointer;\n",
              "      display: none;\n",
              "      fill: #1967D2;\n",
              "      height: 32px;\n",
              "      padding: 0 0 0 0;\n",
              "      width: 32px;\n",
              "    }\n",
              "\n",
              "    .colab-df-convert:hover {\n",
              "      background-color: #E2EBFA;\n",
              "      box-shadow: 0px 1px 2px rgba(60, 64, 67, 0.3), 0px 1px 3px 1px rgba(60, 64, 67, 0.15);\n",
              "      fill: #174EA6;\n",
              "    }\n",
              "\n",
              "    .colab-df-buttons div {\n",
              "      margin-bottom: 4px;\n",
              "    }\n",
              "\n",
              "    [theme=dark] .colab-df-convert {\n",
              "      background-color: #3B4455;\n",
              "      fill: #D2E3FC;\n",
              "    }\n",
              "\n",
              "    [theme=dark] .colab-df-convert:hover {\n",
              "      background-color: #434B5C;\n",
              "      box-shadow: 0px 1px 3px 1px rgba(0, 0, 0, 0.15);\n",
              "      filter: drop-shadow(0px 1px 2px rgba(0, 0, 0, 0.3));\n",
              "      fill: #FFFFFF;\n",
              "    }\n",
              "  </style>\n",
              "\n",
              "    <script>\n",
              "      const buttonEl =\n",
              "        document.querySelector('#df-1682f5d5-ec22-4eb6-899e-7b5c7c2e36c3 button.colab-df-convert');\n",
              "      buttonEl.style.display =\n",
              "        google.colab.kernel.accessAllowed ? 'block' : 'none';\n",
              "\n",
              "      async function convertToInteractive(key) {\n",
              "        const element = document.querySelector('#df-1682f5d5-ec22-4eb6-899e-7b5c7c2e36c3');\n",
              "        const dataTable =\n",
              "          await google.colab.kernel.invokeFunction('convertToInteractive',\n",
              "                                                    [key], {});\n",
              "        if (!dataTable) return;\n",
              "\n",
              "        const docLinkHtml = 'Like what you see? Visit the ' +\n",
              "          '<a target=\"_blank\" href=https://colab.research.google.com/notebooks/data_table.ipynb>data table notebook</a>'\n",
              "          + ' to learn more about interactive tables.';\n",
              "        element.innerHTML = '';\n",
              "        dataTable['output_type'] = 'display_data';\n",
              "        await google.colab.output.renderOutput(dataTable, element);\n",
              "        const docLink = document.createElement('div');\n",
              "        docLink.innerHTML = docLinkHtml;\n",
              "        element.appendChild(docLink);\n",
              "      }\n",
              "    </script>\n",
              "  </div>\n",
              "\n",
              "\n",
              "    <div id=\"df-fe6e22e9-b271-4e25-a38a-8adf27993a96\">\n",
              "      <button class=\"colab-df-quickchart\" onclick=\"quickchart('df-fe6e22e9-b271-4e25-a38a-8adf27993a96')\"\n",
              "                title=\"Suggest charts\"\n",
              "                style=\"display:none;\">\n",
              "\n",
              "<svg xmlns=\"http://www.w3.org/2000/svg\" height=\"24px\"viewBox=\"0 0 24 24\"\n",
              "     width=\"24px\">\n",
              "    <g>\n",
              "        <path d=\"M19 3H5c-1.1 0-2 .9-2 2v14c0 1.1.9 2 2 2h14c1.1 0 2-.9 2-2V5c0-1.1-.9-2-2-2zM9 17H7v-7h2v7zm4 0h-2V7h2v10zm4 0h-2v-4h2v4z\"/>\n",
              "    </g>\n",
              "</svg>\n",
              "      </button>\n",
              "\n",
              "<style>\n",
              "  .colab-df-quickchart {\n",
              "      --bg-color: #E8F0FE;\n",
              "      --fill-color: #1967D2;\n",
              "      --hover-bg-color: #E2EBFA;\n",
              "      --hover-fill-color: #174EA6;\n",
              "      --disabled-fill-color: #AAA;\n",
              "      --disabled-bg-color: #DDD;\n",
              "  }\n",
              "\n",
              "  [theme=dark] .colab-df-quickchart {\n",
              "      --bg-color: #3B4455;\n",
              "      --fill-color: #D2E3FC;\n",
              "      --hover-bg-color: #434B5C;\n",
              "      --hover-fill-color: #FFFFFF;\n",
              "      --disabled-bg-color: #3B4455;\n",
              "      --disabled-fill-color: #666;\n",
              "  }\n",
              "\n",
              "  .colab-df-quickchart {\n",
              "    background-color: var(--bg-color);\n",
              "    border: none;\n",
              "    border-radius: 50%;\n",
              "    cursor: pointer;\n",
              "    display: none;\n",
              "    fill: var(--fill-color);\n",
              "    height: 32px;\n",
              "    padding: 0;\n",
              "    width: 32px;\n",
              "  }\n",
              "\n",
              "  .colab-df-quickchart:hover {\n",
              "    background-color: var(--hover-bg-color);\n",
              "    box-shadow: 0 1px 2px rgba(60, 64, 67, 0.3), 0 1px 3px 1px rgba(60, 64, 67, 0.15);\n",
              "    fill: var(--button-hover-fill-color);\n",
              "  }\n",
              "\n",
              "  .colab-df-quickchart-complete:disabled,\n",
              "  .colab-df-quickchart-complete:disabled:hover {\n",
              "    background-color: var(--disabled-bg-color);\n",
              "    fill: var(--disabled-fill-color);\n",
              "    box-shadow: none;\n",
              "  }\n",
              "\n",
              "  .colab-df-spinner {\n",
              "    border: 2px solid var(--fill-color);\n",
              "    border-color: transparent;\n",
              "    border-bottom-color: var(--fill-color);\n",
              "    animation:\n",
              "      spin 1s steps(1) infinite;\n",
              "  }\n",
              "\n",
              "  @keyframes spin {\n",
              "    0% {\n",
              "      border-color: transparent;\n",
              "      border-bottom-color: var(--fill-color);\n",
              "      border-left-color: var(--fill-color);\n",
              "    }\n",
              "    20% {\n",
              "      border-color: transparent;\n",
              "      border-left-color: var(--fill-color);\n",
              "      border-top-color: var(--fill-color);\n",
              "    }\n",
              "    30% {\n",
              "      border-color: transparent;\n",
              "      border-left-color: var(--fill-color);\n",
              "      border-top-color: var(--fill-color);\n",
              "      border-right-color: var(--fill-color);\n",
              "    }\n",
              "    40% {\n",
              "      border-color: transparent;\n",
              "      border-right-color: var(--fill-color);\n",
              "      border-top-color: var(--fill-color);\n",
              "    }\n",
              "    60% {\n",
              "      border-color: transparent;\n",
              "      border-right-color: var(--fill-color);\n",
              "    }\n",
              "    80% {\n",
              "      border-color: transparent;\n",
              "      border-right-color: var(--fill-color);\n",
              "      border-bottom-color: var(--fill-color);\n",
              "    }\n",
              "    90% {\n",
              "      border-color: transparent;\n",
              "      border-bottom-color: var(--fill-color);\n",
              "    }\n",
              "  }\n",
              "</style>\n",
              "\n",
              "      <script>\n",
              "        async function quickchart(key) {\n",
              "          const quickchartButtonEl =\n",
              "            document.querySelector('#' + key + ' button');\n",
              "          quickchartButtonEl.disabled = true;  // To prevent multiple clicks.\n",
              "          quickchartButtonEl.classList.add('colab-df-spinner');\n",
              "          try {\n",
              "            const charts = await google.colab.kernel.invokeFunction(\n",
              "                'suggestCharts', [key], {});\n",
              "          } catch (error) {\n",
              "            console.error('Error during call to suggestCharts:', error);\n",
              "          }\n",
              "          quickchartButtonEl.classList.remove('colab-df-spinner');\n",
              "          quickchartButtonEl.classList.add('colab-df-quickchart-complete');\n",
              "        }\n",
              "        (() => {\n",
              "          let quickchartButtonEl =\n",
              "            document.querySelector('#df-fe6e22e9-b271-4e25-a38a-8adf27993a96 button');\n",
              "          quickchartButtonEl.style.display =\n",
              "            google.colab.kernel.accessAllowed ? 'block' : 'none';\n",
              "        })();\n",
              "      </script>\n",
              "    </div>\n",
              "\n",
              "    </div>\n",
              "  </div>\n"
            ],
            "application/vnd.google.colaboratory.intrinsic+json": {
              "type": "dataframe",
              "variable_name": "df"
            }
          },
          "metadata": {},
          "execution_count": 94
        }
      ]
    },
    {
      "cell_type": "code",
      "source": [
        "df.tail()"
      ],
      "metadata": {
        "colab": {
          "base_uri": "https://localhost:8080/",
          "height": 446
        },
        "id": "s4vQJHh7sbZK",
        "outputId": "bbfdf080-1478-4c8c-fca4-ff89e84d2ee3"
      },
      "execution_count": null,
      "outputs": [
        {
          "output_type": "execute_result",
          "data": {
            "text/plain": [
              "             id  log_price property_type        room_type  \\\n",
              "74106  14549287   4.605170     Apartment     Private room   \n",
              "74107  13281809   5.043425     Apartment  Entire home/apt   \n",
              "74108  18688039   5.220356     Apartment  Entire home/apt   \n",
              "74109  17045948   5.273000     Apartment  Entire home/apt   \n",
              "74110   3534845   4.852030          Boat  Entire home/apt   \n",
              "\n",
              "                                               amenities  accommodates  \\\n",
              "74106                                                 {}             1   \n",
              "74107  {TV,\"Cable TV\",Internet,\"Wireless Internet\",Ki...             4   \n",
              "74108  {TV,Internet,\"Wireless Internet\",\"Air conditio...             5   \n",
              "74109  {TV,\"Wireless Internet\",\"Air conditioning\",Kit...             2   \n",
              "74110  {TV,Internet,\"Wireless Internet\",Kitchen,\"Free...             4   \n",
              "\n",
              "       bathrooms  bed_type cancellation_policy  cleaning_fee  ...   latitude  \\\n",
              "74106        1.0  Real Bed            flexible         False  ...  40.709025   \n",
              "74107        2.0  Real Bed            moderate          True  ...  33.871549   \n",
              "74108        1.0  Real Bed            moderate          True  ...  40.706749   \n",
              "74109        1.0  Real Bed              strict          True  ...  40.738535   \n",
              "74110        1.0  Real Bed            moderate         False  ...  33.761096   \n",
              "\n",
              "        longitude                                        name  neighbourhood  \\\n",
              "74106  -73.939405                           one room bushwick   Williamsburg   \n",
              "74107 -118.396053                Spacious Hermosa 2 BR on PCH  Hermosa Beach   \n",
              "74108  -73.942377  Modern 2 Bedroom Apartment in Williamsburg   Williamsburg   \n",
              "74109  -74.000157        Designer's Apartment in HEART of NYC   West Village   \n",
              "74110 -118.192409              Cozy Boat at Shoreline Village     Long Beach   \n",
              "\n",
              "      number_of_reviews review_scores_rating  \\\n",
              "74106                 0                  NaN   \n",
              "74107                16                 93.0   \n",
              "74108                43                 94.0   \n",
              "74109                 0                  NaN   \n",
              "74110               205                 96.0   \n",
              "\n",
              "                                           thumbnail_url  zipcode bedrooms  \\\n",
              "74106  https://a0.muscache.com/im/pictures/55162426/6...  11206.0      1.0   \n",
              "74107  https://a0.muscache.com/im/pictures/2b86560b-a...    90254      2.0   \n",
              "74108  https://a0.muscache.com/im/pictures/7fbe448c-5...  11206.0      2.0   \n",
              "74109  https://a0.muscache.com/im/pictures/b3971b63-0...    10011      0.0   \n",
              "74110  https://a0.muscache.com/im/pictures/22968537/d...    90802      1.0   \n",
              "\n",
              "       beds  \n",
              "74106   1.0  \n",
              "74107   4.0  \n",
              "74108   2.0  \n",
              "74109   2.0  \n",
              "74110   2.0  \n",
              "\n",
              "[5 rows x 29 columns]"
            ],
            "text/html": [
              "\n",
              "  <div id=\"df-1e88afb5-6402-4187-acb4-e3295b1638d3\" class=\"colab-df-container\">\n",
              "    <div>\n",
              "<style scoped>\n",
              "    .dataframe tbody tr th:only-of-type {\n",
              "        vertical-align: middle;\n",
              "    }\n",
              "\n",
              "    .dataframe tbody tr th {\n",
              "        vertical-align: top;\n",
              "    }\n",
              "\n",
              "    .dataframe thead th {\n",
              "        text-align: right;\n",
              "    }\n",
              "</style>\n",
              "<table border=\"1\" class=\"dataframe\">\n",
              "  <thead>\n",
              "    <tr style=\"text-align: right;\">\n",
              "      <th></th>\n",
              "      <th>id</th>\n",
              "      <th>log_price</th>\n",
              "      <th>property_type</th>\n",
              "      <th>room_type</th>\n",
              "      <th>amenities</th>\n",
              "      <th>accommodates</th>\n",
              "      <th>bathrooms</th>\n",
              "      <th>bed_type</th>\n",
              "      <th>cancellation_policy</th>\n",
              "      <th>cleaning_fee</th>\n",
              "      <th>...</th>\n",
              "      <th>latitude</th>\n",
              "      <th>longitude</th>\n",
              "      <th>name</th>\n",
              "      <th>neighbourhood</th>\n",
              "      <th>number_of_reviews</th>\n",
              "      <th>review_scores_rating</th>\n",
              "      <th>thumbnail_url</th>\n",
              "      <th>zipcode</th>\n",
              "      <th>bedrooms</th>\n",
              "      <th>beds</th>\n",
              "    </tr>\n",
              "  </thead>\n",
              "  <tbody>\n",
              "    <tr>\n",
              "      <th>74106</th>\n",
              "      <td>14549287</td>\n",
              "      <td>4.605170</td>\n",
              "      <td>Apartment</td>\n",
              "      <td>Private room</td>\n",
              "      <td>{}</td>\n",
              "      <td>1</td>\n",
              "      <td>1.0</td>\n",
              "      <td>Real Bed</td>\n",
              "      <td>flexible</td>\n",
              "      <td>False</td>\n",
              "      <td>...</td>\n",
              "      <td>40.709025</td>\n",
              "      <td>-73.939405</td>\n",
              "      <td>one room bushwick</td>\n",
              "      <td>Williamsburg</td>\n",
              "      <td>0</td>\n",
              "      <td>NaN</td>\n",
              "      <td>https://a0.muscache.com/im/pictures/55162426/6...</td>\n",
              "      <td>11206.0</td>\n",
              "      <td>1.0</td>\n",
              "      <td>1.0</td>\n",
              "    </tr>\n",
              "    <tr>\n",
              "      <th>74107</th>\n",
              "      <td>13281809</td>\n",
              "      <td>5.043425</td>\n",
              "      <td>Apartment</td>\n",
              "      <td>Entire home/apt</td>\n",
              "      <td>{TV,\"Cable TV\",Internet,\"Wireless Internet\",Ki...</td>\n",
              "      <td>4</td>\n",
              "      <td>2.0</td>\n",
              "      <td>Real Bed</td>\n",
              "      <td>moderate</td>\n",
              "      <td>True</td>\n",
              "      <td>...</td>\n",
              "      <td>33.871549</td>\n",
              "      <td>-118.396053</td>\n",
              "      <td>Spacious Hermosa 2 BR on PCH</td>\n",
              "      <td>Hermosa Beach</td>\n",
              "      <td>16</td>\n",
              "      <td>93.0</td>\n",
              "      <td>https://a0.muscache.com/im/pictures/2b86560b-a...</td>\n",
              "      <td>90254</td>\n",
              "      <td>2.0</td>\n",
              "      <td>4.0</td>\n",
              "    </tr>\n",
              "    <tr>\n",
              "      <th>74108</th>\n",
              "      <td>18688039</td>\n",
              "      <td>5.220356</td>\n",
              "      <td>Apartment</td>\n",
              "      <td>Entire home/apt</td>\n",
              "      <td>{TV,Internet,\"Wireless Internet\",\"Air conditio...</td>\n",
              "      <td>5</td>\n",
              "      <td>1.0</td>\n",
              "      <td>Real Bed</td>\n",
              "      <td>moderate</td>\n",
              "      <td>True</td>\n",
              "      <td>...</td>\n",
              "      <td>40.706749</td>\n",
              "      <td>-73.942377</td>\n",
              "      <td>Modern 2 Bedroom Apartment in Williamsburg</td>\n",
              "      <td>Williamsburg</td>\n",
              "      <td>43</td>\n",
              "      <td>94.0</td>\n",
              "      <td>https://a0.muscache.com/im/pictures/7fbe448c-5...</td>\n",
              "      <td>11206.0</td>\n",
              "      <td>2.0</td>\n",
              "      <td>2.0</td>\n",
              "    </tr>\n",
              "    <tr>\n",
              "      <th>74109</th>\n",
              "      <td>17045948</td>\n",
              "      <td>5.273000</td>\n",
              "      <td>Apartment</td>\n",
              "      <td>Entire home/apt</td>\n",
              "      <td>{TV,\"Wireless Internet\",\"Air conditioning\",Kit...</td>\n",
              "      <td>2</td>\n",
              "      <td>1.0</td>\n",
              "      <td>Real Bed</td>\n",
              "      <td>strict</td>\n",
              "      <td>True</td>\n",
              "      <td>...</td>\n",
              "      <td>40.738535</td>\n",
              "      <td>-74.000157</td>\n",
              "      <td>Designer's Apartment in HEART of NYC</td>\n",
              "      <td>West Village</td>\n",
              "      <td>0</td>\n",
              "      <td>NaN</td>\n",
              "      <td>https://a0.muscache.com/im/pictures/b3971b63-0...</td>\n",
              "      <td>10011</td>\n",
              "      <td>0.0</td>\n",
              "      <td>2.0</td>\n",
              "    </tr>\n",
              "    <tr>\n",
              "      <th>74110</th>\n",
              "      <td>3534845</td>\n",
              "      <td>4.852030</td>\n",
              "      <td>Boat</td>\n",
              "      <td>Entire home/apt</td>\n",
              "      <td>{TV,Internet,\"Wireless Internet\",Kitchen,\"Free...</td>\n",
              "      <td>4</td>\n",
              "      <td>1.0</td>\n",
              "      <td>Real Bed</td>\n",
              "      <td>moderate</td>\n",
              "      <td>False</td>\n",
              "      <td>...</td>\n",
              "      <td>33.761096</td>\n",
              "      <td>-118.192409</td>\n",
              "      <td>Cozy Boat at Shoreline Village</td>\n",
              "      <td>Long Beach</td>\n",
              "      <td>205</td>\n",
              "      <td>96.0</td>\n",
              "      <td>https://a0.muscache.com/im/pictures/22968537/d...</td>\n",
              "      <td>90802</td>\n",
              "      <td>1.0</td>\n",
              "      <td>2.0</td>\n",
              "    </tr>\n",
              "  </tbody>\n",
              "</table>\n",
              "<p>5 rows × 29 columns</p>\n",
              "</div>\n",
              "    <div class=\"colab-df-buttons\">\n",
              "\n",
              "  <div class=\"colab-df-container\">\n",
              "    <button class=\"colab-df-convert\" onclick=\"convertToInteractive('df-1e88afb5-6402-4187-acb4-e3295b1638d3')\"\n",
              "            title=\"Convert this dataframe to an interactive table.\"\n",
              "            style=\"display:none;\">\n",
              "\n",
              "  <svg xmlns=\"http://www.w3.org/2000/svg\" height=\"24px\" viewBox=\"0 -960 960 960\">\n",
              "    <path d=\"M120-120v-720h720v720H120Zm60-500h600v-160H180v160Zm220 220h160v-160H400v160Zm0 220h160v-160H400v160ZM180-400h160v-160H180v160Zm440 0h160v-160H620v160ZM180-180h160v-160H180v160Zm440 0h160v-160H620v160Z\"/>\n",
              "  </svg>\n",
              "    </button>\n",
              "\n",
              "  <style>\n",
              "    .colab-df-container {\n",
              "      display:flex;\n",
              "      gap: 12px;\n",
              "    }\n",
              "\n",
              "    .colab-df-convert {\n",
              "      background-color: #E8F0FE;\n",
              "      border: none;\n",
              "      border-radius: 50%;\n",
              "      cursor: pointer;\n",
              "      display: none;\n",
              "      fill: #1967D2;\n",
              "      height: 32px;\n",
              "      padding: 0 0 0 0;\n",
              "      width: 32px;\n",
              "    }\n",
              "\n",
              "    .colab-df-convert:hover {\n",
              "      background-color: #E2EBFA;\n",
              "      box-shadow: 0px 1px 2px rgba(60, 64, 67, 0.3), 0px 1px 3px 1px rgba(60, 64, 67, 0.15);\n",
              "      fill: #174EA6;\n",
              "    }\n",
              "\n",
              "    .colab-df-buttons div {\n",
              "      margin-bottom: 4px;\n",
              "    }\n",
              "\n",
              "    [theme=dark] .colab-df-convert {\n",
              "      background-color: #3B4455;\n",
              "      fill: #D2E3FC;\n",
              "    }\n",
              "\n",
              "    [theme=dark] .colab-df-convert:hover {\n",
              "      background-color: #434B5C;\n",
              "      box-shadow: 0px 1px 3px 1px rgba(0, 0, 0, 0.15);\n",
              "      filter: drop-shadow(0px 1px 2px rgba(0, 0, 0, 0.3));\n",
              "      fill: #FFFFFF;\n",
              "    }\n",
              "  </style>\n",
              "\n",
              "    <script>\n",
              "      const buttonEl =\n",
              "        document.querySelector('#df-1e88afb5-6402-4187-acb4-e3295b1638d3 button.colab-df-convert');\n",
              "      buttonEl.style.display =\n",
              "        google.colab.kernel.accessAllowed ? 'block' : 'none';\n",
              "\n",
              "      async function convertToInteractive(key) {\n",
              "        const element = document.querySelector('#df-1e88afb5-6402-4187-acb4-e3295b1638d3');\n",
              "        const dataTable =\n",
              "          await google.colab.kernel.invokeFunction('convertToInteractive',\n",
              "                                                    [key], {});\n",
              "        if (!dataTable) return;\n",
              "\n",
              "        const docLinkHtml = 'Like what you see? Visit the ' +\n",
              "          '<a target=\"_blank\" href=https://colab.research.google.com/notebooks/data_table.ipynb>data table notebook</a>'\n",
              "          + ' to learn more about interactive tables.';\n",
              "        element.innerHTML = '';\n",
              "        dataTable['output_type'] = 'display_data';\n",
              "        await google.colab.output.renderOutput(dataTable, element);\n",
              "        const docLink = document.createElement('div');\n",
              "        docLink.innerHTML = docLinkHtml;\n",
              "        element.appendChild(docLink);\n",
              "      }\n",
              "    </script>\n",
              "  </div>\n",
              "\n",
              "\n",
              "    <div id=\"df-ed8cbfb3-9ab0-461d-aef3-368b6fa6855e\">\n",
              "      <button class=\"colab-df-quickchart\" onclick=\"quickchart('df-ed8cbfb3-9ab0-461d-aef3-368b6fa6855e')\"\n",
              "                title=\"Suggest charts\"\n",
              "                style=\"display:none;\">\n",
              "\n",
              "<svg xmlns=\"http://www.w3.org/2000/svg\" height=\"24px\"viewBox=\"0 0 24 24\"\n",
              "     width=\"24px\">\n",
              "    <g>\n",
              "        <path d=\"M19 3H5c-1.1 0-2 .9-2 2v14c0 1.1.9 2 2 2h14c1.1 0 2-.9 2-2V5c0-1.1-.9-2-2-2zM9 17H7v-7h2v7zm4 0h-2V7h2v10zm4 0h-2v-4h2v4z\"/>\n",
              "    </g>\n",
              "</svg>\n",
              "      </button>\n",
              "\n",
              "<style>\n",
              "  .colab-df-quickchart {\n",
              "      --bg-color: #E8F0FE;\n",
              "      --fill-color: #1967D2;\n",
              "      --hover-bg-color: #E2EBFA;\n",
              "      --hover-fill-color: #174EA6;\n",
              "      --disabled-fill-color: #AAA;\n",
              "      --disabled-bg-color: #DDD;\n",
              "  }\n",
              "\n",
              "  [theme=dark] .colab-df-quickchart {\n",
              "      --bg-color: #3B4455;\n",
              "      --fill-color: #D2E3FC;\n",
              "      --hover-bg-color: #434B5C;\n",
              "      --hover-fill-color: #FFFFFF;\n",
              "      --disabled-bg-color: #3B4455;\n",
              "      --disabled-fill-color: #666;\n",
              "  }\n",
              "\n",
              "  .colab-df-quickchart {\n",
              "    background-color: var(--bg-color);\n",
              "    border: none;\n",
              "    border-radius: 50%;\n",
              "    cursor: pointer;\n",
              "    display: none;\n",
              "    fill: var(--fill-color);\n",
              "    height: 32px;\n",
              "    padding: 0;\n",
              "    width: 32px;\n",
              "  }\n",
              "\n",
              "  .colab-df-quickchart:hover {\n",
              "    background-color: var(--hover-bg-color);\n",
              "    box-shadow: 0 1px 2px rgba(60, 64, 67, 0.3), 0 1px 3px 1px rgba(60, 64, 67, 0.15);\n",
              "    fill: var(--button-hover-fill-color);\n",
              "  }\n",
              "\n",
              "  .colab-df-quickchart-complete:disabled,\n",
              "  .colab-df-quickchart-complete:disabled:hover {\n",
              "    background-color: var(--disabled-bg-color);\n",
              "    fill: var(--disabled-fill-color);\n",
              "    box-shadow: none;\n",
              "  }\n",
              "\n",
              "  .colab-df-spinner {\n",
              "    border: 2px solid var(--fill-color);\n",
              "    border-color: transparent;\n",
              "    border-bottom-color: var(--fill-color);\n",
              "    animation:\n",
              "      spin 1s steps(1) infinite;\n",
              "  }\n",
              "\n",
              "  @keyframes spin {\n",
              "    0% {\n",
              "      border-color: transparent;\n",
              "      border-bottom-color: var(--fill-color);\n",
              "      border-left-color: var(--fill-color);\n",
              "    }\n",
              "    20% {\n",
              "      border-color: transparent;\n",
              "      border-left-color: var(--fill-color);\n",
              "      border-top-color: var(--fill-color);\n",
              "    }\n",
              "    30% {\n",
              "      border-color: transparent;\n",
              "      border-left-color: var(--fill-color);\n",
              "      border-top-color: var(--fill-color);\n",
              "      border-right-color: var(--fill-color);\n",
              "    }\n",
              "    40% {\n",
              "      border-color: transparent;\n",
              "      border-right-color: var(--fill-color);\n",
              "      border-top-color: var(--fill-color);\n",
              "    }\n",
              "    60% {\n",
              "      border-color: transparent;\n",
              "      border-right-color: var(--fill-color);\n",
              "    }\n",
              "    80% {\n",
              "      border-color: transparent;\n",
              "      border-right-color: var(--fill-color);\n",
              "      border-bottom-color: var(--fill-color);\n",
              "    }\n",
              "    90% {\n",
              "      border-color: transparent;\n",
              "      border-bottom-color: var(--fill-color);\n",
              "    }\n",
              "  }\n",
              "</style>\n",
              "\n",
              "      <script>\n",
              "        async function quickchart(key) {\n",
              "          const quickchartButtonEl =\n",
              "            document.querySelector('#' + key + ' button');\n",
              "          quickchartButtonEl.disabled = true;  // To prevent multiple clicks.\n",
              "          quickchartButtonEl.classList.add('colab-df-spinner');\n",
              "          try {\n",
              "            const charts = await google.colab.kernel.invokeFunction(\n",
              "                'suggestCharts', [key], {});\n",
              "          } catch (error) {\n",
              "            console.error('Error during call to suggestCharts:', error);\n",
              "          }\n",
              "          quickchartButtonEl.classList.remove('colab-df-spinner');\n",
              "          quickchartButtonEl.classList.add('colab-df-quickchart-complete');\n",
              "        }\n",
              "        (() => {\n",
              "          let quickchartButtonEl =\n",
              "            document.querySelector('#df-ed8cbfb3-9ab0-461d-aef3-368b6fa6855e button');\n",
              "          quickchartButtonEl.style.display =\n",
              "            google.colab.kernel.accessAllowed ? 'block' : 'none';\n",
              "        })();\n",
              "      </script>\n",
              "    </div>\n",
              "\n",
              "    </div>\n",
              "  </div>\n"
            ],
            "application/vnd.google.colaboratory.intrinsic+json": {
              "type": "dataframe"
            }
          },
          "metadata": {},
          "execution_count": 95
        }
      ]
    },
    {
      "cell_type": "markdown",
      "source": [
        "##### 1.4 Get the shape of the dataset"
      ],
      "metadata": {
        "id": "QfVdAmZWtrWq"
      }
    },
    {
      "cell_type": "code",
      "source": [
        "df.shape"
      ],
      "metadata": {
        "colab": {
          "base_uri": "https://localhost:8080/"
        },
        "id": "TUIBSFbxttuO",
        "outputId": "65cbd9a1-ff17-42fa-b878-c7303416708f"
      },
      "execution_count": null,
      "outputs": [
        {
          "output_type": "execute_result",
          "data": {
            "text/plain": [
              "(74111, 29)"
            ]
          },
          "metadata": {},
          "execution_count": 96
        }
      ]
    },
    {
      "cell_type": "markdown",
      "source": [
        "##### 1.5 Get the length of the dataset"
      ],
      "metadata": {
        "id": "i4VyNo09svtw"
      }
    },
    {
      "cell_type": "code",
      "source": [
        "len(df)"
      ],
      "metadata": {
        "colab": {
          "base_uri": "https://localhost:8080/"
        },
        "id": "9m3Ld8LMs4ET",
        "outputId": "e619a4d2-8164-4caf-ad3c-b3b19c5d3fbc"
      },
      "execution_count": null,
      "outputs": [
        {
          "output_type": "execute_result",
          "data": {
            "text/plain": [
              "74111"
            ]
          },
          "metadata": {},
          "execution_count": 97
        }
      ]
    },
    {
      "cell_type": "code",
      "source": [
        "df.__len__()"
      ],
      "metadata": {
        "colab": {
          "base_uri": "https://localhost:8080/"
        },
        "id": "OABFhWLms7pT",
        "outputId": "ca6591d3-e983-4893-b188-f3213e38fc9a"
      },
      "execution_count": null,
      "outputs": [
        {
          "output_type": "execute_result",
          "data": {
            "text/plain": [
              "74111"
            ]
          },
          "metadata": {},
          "execution_count": 98
        }
      ]
    },
    {
      "cell_type": "code",
      "source": [
        "df.shape[0]"
      ],
      "metadata": {
        "colab": {
          "base_uri": "https://localhost:8080/"
        },
        "id": "3jnmT6TnU6Yb",
        "outputId": "a8ed1f3e-20f8-4fd8-8c6a-e863f227b228"
      },
      "execution_count": null,
      "outputs": [
        {
          "output_type": "execute_result",
          "data": {
            "text/plain": [
              "74111"
            ]
          },
          "metadata": {},
          "execution_count": 99
        }
      ]
    },
    {
      "cell_type": "markdown",
      "source": [
        "##### 1.6 Get the number of columns in dataset\n"
      ],
      "metadata": {
        "id": "_IFp2Xu2t9LT"
      }
    },
    {
      "cell_type": "code",
      "source": [
        "len(df.columns)"
      ],
      "metadata": {
        "colab": {
          "base_uri": "https://localhost:8080/"
        },
        "id": "9XG4SYDvuFlM",
        "outputId": "f8f85eb8-63aa-4b6d-9e42-6587a9440631"
      },
      "execution_count": null,
      "outputs": [
        {
          "output_type": "execute_result",
          "data": {
            "text/plain": [
              "29"
            ]
          },
          "metadata": {},
          "execution_count": 100
        }
      ]
    },
    {
      "cell_type": "code",
      "source": [
        "df.columns.__len__()"
      ],
      "metadata": {
        "colab": {
          "base_uri": "https://localhost:8080/"
        },
        "id": "H2UA_JVIuJ0G",
        "outputId": "1b7bba7e-0380-44c7-d5e6-acb7b83b9eb2"
      },
      "execution_count": null,
      "outputs": [
        {
          "output_type": "execute_result",
          "data": {
            "text/plain": [
              "29"
            ]
          },
          "metadata": {},
          "execution_count": 101
        }
      ]
    },
    {
      "cell_type": "code",
      "source": [
        "df.shape[1]"
      ],
      "metadata": {
        "colab": {
          "base_uri": "https://localhost:8080/"
        },
        "id": "WltY00JRuMhY",
        "outputId": "bc6a16eb-cef1-493a-cab0-9d2fa09eb337"
      },
      "execution_count": null,
      "outputs": [
        {
          "output_type": "execute_result",
          "data": {
            "text/plain": [
              "29"
            ]
          },
          "metadata": {},
          "execution_count": 102
        }
      ]
    },
    {
      "cell_type": "markdown",
      "source": [
        "##### 1.7 Print a summary of the data (Hint: call a method/function)"
      ],
      "metadata": {
        "id": "Z3zEKY1ZudDU"
      }
    },
    {
      "cell_type": "code",
      "source": [
        "df.info()"
      ],
      "metadata": {
        "colab": {
          "base_uri": "https://localhost:8080/"
        },
        "id": "vC4j0VIQulWN",
        "outputId": "1932576a-7f05-4b74-98d6-689f4fa92178"
      },
      "execution_count": null,
      "outputs": [
        {
          "output_type": "stream",
          "name": "stdout",
          "text": [
            "<class 'pandas.core.frame.DataFrame'>\n",
            "RangeIndex: 74111 entries, 0 to 74110\n",
            "Data columns (total 29 columns):\n",
            " #   Column                  Non-Null Count  Dtype  \n",
            "---  ------                  --------------  -----  \n",
            " 0   id                      74111 non-null  int64  \n",
            " 1   log_price               74111 non-null  float64\n",
            " 2   property_type           74111 non-null  object \n",
            " 3   room_type               74111 non-null  object \n",
            " 4   amenities               74111 non-null  object \n",
            " 5   accommodates            74111 non-null  int64  \n",
            " 6   bathrooms               73911 non-null  float64\n",
            " 7   bed_type                74111 non-null  object \n",
            " 8   cancellation_policy     74111 non-null  object \n",
            " 9   cleaning_fee            74111 non-null  bool   \n",
            " 10  city                    74111 non-null  object \n",
            " 11  description             74111 non-null  object \n",
            " 12  first_review            58247 non-null  object \n",
            " 13  host_has_profile_pic    73923 non-null  object \n",
            " 14  host_identity_verified  73923 non-null  object \n",
            " 15  host_response_rate      55812 non-null  object \n",
            " 16  host_since              73923 non-null  object \n",
            " 17  instant_bookable        74111 non-null  object \n",
            " 18  last_review             58284 non-null  object \n",
            " 19  latitude                74111 non-null  float64\n",
            " 20  longitude               74111 non-null  float64\n",
            " 21  name                    74111 non-null  object \n",
            " 22  neighbourhood           67239 non-null  object \n",
            " 23  number_of_reviews       74111 non-null  int64  \n",
            " 24  review_scores_rating    57389 non-null  float64\n",
            " 25  thumbnail_url           65895 non-null  object \n",
            " 26  zipcode                 73145 non-null  object \n",
            " 27  bedrooms                74020 non-null  float64\n",
            " 28  beds                    73980 non-null  float64\n",
            "dtypes: bool(1), float64(7), int64(3), object(18)\n",
            "memory usage: 15.9+ MB\n"
          ]
        }
      ]
    },
    {
      "cell_type": "markdown",
      "source": [
        "##### 1.8 Show descriptive statistics of our data (Hint: mean, mode, max, min etc.)"
      ],
      "metadata": {
        "id": "UKoS_Qe-vMHD"
      }
    },
    {
      "cell_type": "code",
      "source": [
        "df.describe()"
      ],
      "metadata": {
        "colab": {
          "base_uri": "https://localhost:8080/",
          "height": 320
        },
        "id": "PQesSLHavFhm",
        "outputId": "26f66c95-deae-4861-d9b7-09f0d37c7e6e"
      },
      "execution_count": null,
      "outputs": [
        {
          "output_type": "execute_result",
          "data": {
            "text/plain": [
              "                 id     log_price  accommodates     bathrooms      latitude  \\\n",
              "count  7.411100e+04  74111.000000  74111.000000  73911.000000  74111.000000   \n",
              "mean   1.126662e+07      4.782069      3.155146      1.235263     38.445958   \n",
              "std    6.081735e+06      0.717394      2.153589      0.582044      3.080167   \n",
              "min    3.440000e+02      0.000000      1.000000      0.000000     33.338905   \n",
              "25%    6.261964e+06      4.317488      2.000000      1.000000     34.127908   \n",
              "50%    1.225415e+07      4.709530      2.000000      1.000000     40.662138   \n",
              "75%    1.640226e+07      5.220356      4.000000      1.000000     40.746096   \n",
              "max    2.123090e+07      7.600402     16.000000      8.000000     42.390437   \n",
              "\n",
              "          longitude  number_of_reviews  review_scores_rating      bedrooms  \\\n",
              "count  74111.000000       74111.000000          57389.000000  74020.000000   \n",
              "mean     -92.397525          20.900568             94.067365      1.265793   \n",
              "std       21.705322          37.828641              7.836556      0.852143   \n",
              "min     -122.511500           0.000000             20.000000      0.000000   \n",
              "25%     -118.342374           1.000000             92.000000      1.000000   \n",
              "50%      -76.996965           6.000000             96.000000      1.000000   \n",
              "75%      -73.954660          23.000000            100.000000      1.000000   \n",
              "max      -70.985047         605.000000            100.000000     10.000000   \n",
              "\n",
              "               beds  \n",
              "count  73980.000000  \n",
              "mean       1.710868  \n",
              "std        1.254142  \n",
              "min        0.000000  \n",
              "25%        1.000000  \n",
              "50%        1.000000  \n",
              "75%        2.000000  \n",
              "max       18.000000  "
            ],
            "text/html": [
              "\n",
              "  <div id=\"df-ac3da64f-912e-4c89-83f3-09ca5ca23896\" class=\"colab-df-container\">\n",
              "    <div>\n",
              "<style scoped>\n",
              "    .dataframe tbody tr th:only-of-type {\n",
              "        vertical-align: middle;\n",
              "    }\n",
              "\n",
              "    .dataframe tbody tr th {\n",
              "        vertical-align: top;\n",
              "    }\n",
              "\n",
              "    .dataframe thead th {\n",
              "        text-align: right;\n",
              "    }\n",
              "</style>\n",
              "<table border=\"1\" class=\"dataframe\">\n",
              "  <thead>\n",
              "    <tr style=\"text-align: right;\">\n",
              "      <th></th>\n",
              "      <th>id</th>\n",
              "      <th>log_price</th>\n",
              "      <th>accommodates</th>\n",
              "      <th>bathrooms</th>\n",
              "      <th>latitude</th>\n",
              "      <th>longitude</th>\n",
              "      <th>number_of_reviews</th>\n",
              "      <th>review_scores_rating</th>\n",
              "      <th>bedrooms</th>\n",
              "      <th>beds</th>\n",
              "    </tr>\n",
              "  </thead>\n",
              "  <tbody>\n",
              "    <tr>\n",
              "      <th>count</th>\n",
              "      <td>7.411100e+04</td>\n",
              "      <td>74111.000000</td>\n",
              "      <td>74111.000000</td>\n",
              "      <td>73911.000000</td>\n",
              "      <td>74111.000000</td>\n",
              "      <td>74111.000000</td>\n",
              "      <td>74111.000000</td>\n",
              "      <td>57389.000000</td>\n",
              "      <td>74020.000000</td>\n",
              "      <td>73980.000000</td>\n",
              "    </tr>\n",
              "    <tr>\n",
              "      <th>mean</th>\n",
              "      <td>1.126662e+07</td>\n",
              "      <td>4.782069</td>\n",
              "      <td>3.155146</td>\n",
              "      <td>1.235263</td>\n",
              "      <td>38.445958</td>\n",
              "      <td>-92.397525</td>\n",
              "      <td>20.900568</td>\n",
              "      <td>94.067365</td>\n",
              "      <td>1.265793</td>\n",
              "      <td>1.710868</td>\n",
              "    </tr>\n",
              "    <tr>\n",
              "      <th>std</th>\n",
              "      <td>6.081735e+06</td>\n",
              "      <td>0.717394</td>\n",
              "      <td>2.153589</td>\n",
              "      <td>0.582044</td>\n",
              "      <td>3.080167</td>\n",
              "      <td>21.705322</td>\n",
              "      <td>37.828641</td>\n",
              "      <td>7.836556</td>\n",
              "      <td>0.852143</td>\n",
              "      <td>1.254142</td>\n",
              "    </tr>\n",
              "    <tr>\n",
              "      <th>min</th>\n",
              "      <td>3.440000e+02</td>\n",
              "      <td>0.000000</td>\n",
              "      <td>1.000000</td>\n",
              "      <td>0.000000</td>\n",
              "      <td>33.338905</td>\n",
              "      <td>-122.511500</td>\n",
              "      <td>0.000000</td>\n",
              "      <td>20.000000</td>\n",
              "      <td>0.000000</td>\n",
              "      <td>0.000000</td>\n",
              "    </tr>\n",
              "    <tr>\n",
              "      <th>25%</th>\n",
              "      <td>6.261964e+06</td>\n",
              "      <td>4.317488</td>\n",
              "      <td>2.000000</td>\n",
              "      <td>1.000000</td>\n",
              "      <td>34.127908</td>\n",
              "      <td>-118.342374</td>\n",
              "      <td>1.000000</td>\n",
              "      <td>92.000000</td>\n",
              "      <td>1.000000</td>\n",
              "      <td>1.000000</td>\n",
              "    </tr>\n",
              "    <tr>\n",
              "      <th>50%</th>\n",
              "      <td>1.225415e+07</td>\n",
              "      <td>4.709530</td>\n",
              "      <td>2.000000</td>\n",
              "      <td>1.000000</td>\n",
              "      <td>40.662138</td>\n",
              "      <td>-76.996965</td>\n",
              "      <td>6.000000</td>\n",
              "      <td>96.000000</td>\n",
              "      <td>1.000000</td>\n",
              "      <td>1.000000</td>\n",
              "    </tr>\n",
              "    <tr>\n",
              "      <th>75%</th>\n",
              "      <td>1.640226e+07</td>\n",
              "      <td>5.220356</td>\n",
              "      <td>4.000000</td>\n",
              "      <td>1.000000</td>\n",
              "      <td>40.746096</td>\n",
              "      <td>-73.954660</td>\n",
              "      <td>23.000000</td>\n",
              "      <td>100.000000</td>\n",
              "      <td>1.000000</td>\n",
              "      <td>2.000000</td>\n",
              "    </tr>\n",
              "    <tr>\n",
              "      <th>max</th>\n",
              "      <td>2.123090e+07</td>\n",
              "      <td>7.600402</td>\n",
              "      <td>16.000000</td>\n",
              "      <td>8.000000</td>\n",
              "      <td>42.390437</td>\n",
              "      <td>-70.985047</td>\n",
              "      <td>605.000000</td>\n",
              "      <td>100.000000</td>\n",
              "      <td>10.000000</td>\n",
              "      <td>18.000000</td>\n",
              "    </tr>\n",
              "  </tbody>\n",
              "</table>\n",
              "</div>\n",
              "    <div class=\"colab-df-buttons\">\n",
              "\n",
              "  <div class=\"colab-df-container\">\n",
              "    <button class=\"colab-df-convert\" onclick=\"convertToInteractive('df-ac3da64f-912e-4c89-83f3-09ca5ca23896')\"\n",
              "            title=\"Convert this dataframe to an interactive table.\"\n",
              "            style=\"display:none;\">\n",
              "\n",
              "  <svg xmlns=\"http://www.w3.org/2000/svg\" height=\"24px\" viewBox=\"0 -960 960 960\">\n",
              "    <path d=\"M120-120v-720h720v720H120Zm60-500h600v-160H180v160Zm220 220h160v-160H400v160Zm0 220h160v-160H400v160ZM180-400h160v-160H180v160Zm440 0h160v-160H620v160ZM180-180h160v-160H180v160Zm440 0h160v-160H620v160Z\"/>\n",
              "  </svg>\n",
              "    </button>\n",
              "\n",
              "  <style>\n",
              "    .colab-df-container {\n",
              "      display:flex;\n",
              "      gap: 12px;\n",
              "    }\n",
              "\n",
              "    .colab-df-convert {\n",
              "      background-color: #E8F0FE;\n",
              "      border: none;\n",
              "      border-radius: 50%;\n",
              "      cursor: pointer;\n",
              "      display: none;\n",
              "      fill: #1967D2;\n",
              "      height: 32px;\n",
              "      padding: 0 0 0 0;\n",
              "      width: 32px;\n",
              "    }\n",
              "\n",
              "    .colab-df-convert:hover {\n",
              "      background-color: #E2EBFA;\n",
              "      box-shadow: 0px 1px 2px rgba(60, 64, 67, 0.3), 0px 1px 3px 1px rgba(60, 64, 67, 0.15);\n",
              "      fill: #174EA6;\n",
              "    }\n",
              "\n",
              "    .colab-df-buttons div {\n",
              "      margin-bottom: 4px;\n",
              "    }\n",
              "\n",
              "    [theme=dark] .colab-df-convert {\n",
              "      background-color: #3B4455;\n",
              "      fill: #D2E3FC;\n",
              "    }\n",
              "\n",
              "    [theme=dark] .colab-df-convert:hover {\n",
              "      background-color: #434B5C;\n",
              "      box-shadow: 0px 1px 3px 1px rgba(0, 0, 0, 0.15);\n",
              "      filter: drop-shadow(0px 1px 2px rgba(0, 0, 0, 0.3));\n",
              "      fill: #FFFFFF;\n",
              "    }\n",
              "  </style>\n",
              "\n",
              "    <script>\n",
              "      const buttonEl =\n",
              "        document.querySelector('#df-ac3da64f-912e-4c89-83f3-09ca5ca23896 button.colab-df-convert');\n",
              "      buttonEl.style.display =\n",
              "        google.colab.kernel.accessAllowed ? 'block' : 'none';\n",
              "\n",
              "      async function convertToInteractive(key) {\n",
              "        const element = document.querySelector('#df-ac3da64f-912e-4c89-83f3-09ca5ca23896');\n",
              "        const dataTable =\n",
              "          await google.colab.kernel.invokeFunction('convertToInteractive',\n",
              "                                                    [key], {});\n",
              "        if (!dataTable) return;\n",
              "\n",
              "        const docLinkHtml = 'Like what you see? Visit the ' +\n",
              "          '<a target=\"_blank\" href=https://colab.research.google.com/notebooks/data_table.ipynb>data table notebook</a>'\n",
              "          + ' to learn more about interactive tables.';\n",
              "        element.innerHTML = '';\n",
              "        dataTable['output_type'] = 'display_data';\n",
              "        await google.colab.output.renderOutput(dataTable, element);\n",
              "        const docLink = document.createElement('div');\n",
              "        docLink.innerHTML = docLinkHtml;\n",
              "        element.appendChild(docLink);\n",
              "      }\n",
              "    </script>\n",
              "  </div>\n",
              "\n",
              "\n",
              "    <div id=\"df-41d4fb66-2052-413b-b506-cf0a7a117f18\">\n",
              "      <button class=\"colab-df-quickchart\" onclick=\"quickchart('df-41d4fb66-2052-413b-b506-cf0a7a117f18')\"\n",
              "                title=\"Suggest charts\"\n",
              "                style=\"display:none;\">\n",
              "\n",
              "<svg xmlns=\"http://www.w3.org/2000/svg\" height=\"24px\"viewBox=\"0 0 24 24\"\n",
              "     width=\"24px\">\n",
              "    <g>\n",
              "        <path d=\"M19 3H5c-1.1 0-2 .9-2 2v14c0 1.1.9 2 2 2h14c1.1 0 2-.9 2-2V5c0-1.1-.9-2-2-2zM9 17H7v-7h2v7zm4 0h-2V7h2v10zm4 0h-2v-4h2v4z\"/>\n",
              "    </g>\n",
              "</svg>\n",
              "      </button>\n",
              "\n",
              "<style>\n",
              "  .colab-df-quickchart {\n",
              "      --bg-color: #E8F0FE;\n",
              "      --fill-color: #1967D2;\n",
              "      --hover-bg-color: #E2EBFA;\n",
              "      --hover-fill-color: #174EA6;\n",
              "      --disabled-fill-color: #AAA;\n",
              "      --disabled-bg-color: #DDD;\n",
              "  }\n",
              "\n",
              "  [theme=dark] .colab-df-quickchart {\n",
              "      --bg-color: #3B4455;\n",
              "      --fill-color: #D2E3FC;\n",
              "      --hover-bg-color: #434B5C;\n",
              "      --hover-fill-color: #FFFFFF;\n",
              "      --disabled-bg-color: #3B4455;\n",
              "      --disabled-fill-color: #666;\n",
              "  }\n",
              "\n",
              "  .colab-df-quickchart {\n",
              "    background-color: var(--bg-color);\n",
              "    border: none;\n",
              "    border-radius: 50%;\n",
              "    cursor: pointer;\n",
              "    display: none;\n",
              "    fill: var(--fill-color);\n",
              "    height: 32px;\n",
              "    padding: 0;\n",
              "    width: 32px;\n",
              "  }\n",
              "\n",
              "  .colab-df-quickchart:hover {\n",
              "    background-color: var(--hover-bg-color);\n",
              "    box-shadow: 0 1px 2px rgba(60, 64, 67, 0.3), 0 1px 3px 1px rgba(60, 64, 67, 0.15);\n",
              "    fill: var(--button-hover-fill-color);\n",
              "  }\n",
              "\n",
              "  .colab-df-quickchart-complete:disabled,\n",
              "  .colab-df-quickchart-complete:disabled:hover {\n",
              "    background-color: var(--disabled-bg-color);\n",
              "    fill: var(--disabled-fill-color);\n",
              "    box-shadow: none;\n",
              "  }\n",
              "\n",
              "  .colab-df-spinner {\n",
              "    border: 2px solid var(--fill-color);\n",
              "    border-color: transparent;\n",
              "    border-bottom-color: var(--fill-color);\n",
              "    animation:\n",
              "      spin 1s steps(1) infinite;\n",
              "  }\n",
              "\n",
              "  @keyframes spin {\n",
              "    0% {\n",
              "      border-color: transparent;\n",
              "      border-bottom-color: var(--fill-color);\n",
              "      border-left-color: var(--fill-color);\n",
              "    }\n",
              "    20% {\n",
              "      border-color: transparent;\n",
              "      border-left-color: var(--fill-color);\n",
              "      border-top-color: var(--fill-color);\n",
              "    }\n",
              "    30% {\n",
              "      border-color: transparent;\n",
              "      border-left-color: var(--fill-color);\n",
              "      border-top-color: var(--fill-color);\n",
              "      border-right-color: var(--fill-color);\n",
              "    }\n",
              "    40% {\n",
              "      border-color: transparent;\n",
              "      border-right-color: var(--fill-color);\n",
              "      border-top-color: var(--fill-color);\n",
              "    }\n",
              "    60% {\n",
              "      border-color: transparent;\n",
              "      border-right-color: var(--fill-color);\n",
              "    }\n",
              "    80% {\n",
              "      border-color: transparent;\n",
              "      border-right-color: var(--fill-color);\n",
              "      border-bottom-color: var(--fill-color);\n",
              "    }\n",
              "    90% {\n",
              "      border-color: transparent;\n",
              "      border-bottom-color: var(--fill-color);\n",
              "    }\n",
              "  }\n",
              "</style>\n",
              "\n",
              "      <script>\n",
              "        async function quickchart(key) {\n",
              "          const quickchartButtonEl =\n",
              "            document.querySelector('#' + key + ' button');\n",
              "          quickchartButtonEl.disabled = true;  // To prevent multiple clicks.\n",
              "          quickchartButtonEl.classList.add('colab-df-spinner');\n",
              "          try {\n",
              "            const charts = await google.colab.kernel.invokeFunction(\n",
              "                'suggestCharts', [key], {});\n",
              "          } catch (error) {\n",
              "            console.error('Error during call to suggestCharts:', error);\n",
              "          }\n",
              "          quickchartButtonEl.classList.remove('colab-df-spinner');\n",
              "          quickchartButtonEl.classList.add('colab-df-quickchart-complete');\n",
              "        }\n",
              "        (() => {\n",
              "          let quickchartButtonEl =\n",
              "            document.querySelector('#df-41d4fb66-2052-413b-b506-cf0a7a117f18 button');\n",
              "          quickchartButtonEl.style.display =\n",
              "            google.colab.kernel.accessAllowed ? 'block' : 'none';\n",
              "        })();\n",
              "      </script>\n",
              "    </div>\n",
              "\n",
              "    </div>\n",
              "  </div>\n"
            ],
            "application/vnd.google.colaboratory.intrinsic+json": {
              "type": "dataframe",
              "summary": "{\n  \"name\": \"df\",\n  \"rows\": 8,\n  \"fields\": [\n    {\n      \"column\": \"id\",\n      \"properties\": {\n        \"dtype\": \"number\",\n        \"std\": 7526002.130686711,\n        \"min\": 344.0,\n        \"max\": 21230903.0,\n        \"num_unique_values\": 8,\n        \"samples\": [\n          11266617.10246792,\n          12254147.0,\n          74111.0\n        ],\n        \"semantic_type\": \"\",\n        \"description\": \"\"\n      }\n    },\n    {\n      \"column\": \"log_price\",\n      \"properties\": {\n        \"dtype\": \"number\",\n        \"std\": 26200.814201629917,\n        \"min\": 0.0,\n        \"max\": 74111.0,\n        \"num_unique_values\": 8,\n        \"samples\": [\n          4.782069108305636,\n          4.709530201312334,\n          74111.0\n        ],\n        \"semantic_type\": \"\",\n        \"description\": \"\"\n      }\n    },\n    {\n      \"column\": \"accommodates\",\n      \"properties\": {\n        \"dtype\": \"number\",\n        \"std\": 26200.664956072495,\n        \"min\": 1.0,\n        \"max\": 74111.0,\n        \"num_unique_values\": 7,\n        \"samples\": [\n          74111.0,\n          3.1551456598885457,\n          4.0\n        ],\n        \"semantic_type\": \"\",\n        \"description\": \"\"\n      }\n    },\n    {\n      \"column\": \"bathrooms\",\n      \"properties\": {\n        \"dtype\": \"number\",\n        \"std\": 26130.837404475307,\n        \"min\": 0.0,\n        \"max\": 73911.0,\n        \"num_unique_values\": 6,\n        \"samples\": [\n          73911.0,\n          1.235262680791763,\n          8.0\n        ],\n        \"semantic_type\": \"\",\n        \"description\": \"\"\n      }\n    },\n    {\n      \"column\": \"latitude\",\n      \"properties\": {\n        \"dtype\": \"number\",\n        \"std\": 26190.44066758338,\n        \"min\": 3.080166576099636,\n        \"max\": 74111.0,\n        \"num_unique_values\": 8,\n        \"samples\": [\n          38.44595840998836,\n          40.662138092173535,\n          74111.0\n        ],\n        \"semantic_type\": \"\",\n        \"description\": \"\"\n      }\n    },\n    {\n      \"column\": \"longitude\",\n      \"properties\": {\n        \"dtype\": \"number\",\n        \"std\": 26229.177862777902,\n        \"min\": -122.51149998987214,\n        \"max\": 74111.0,\n        \"num_unique_values\": 8,\n        \"samples\": [\n          -92.39752533051391,\n          -76.99696492578188,\n          74111.0\n        ],\n        \"semantic_type\": \"\",\n        \"description\": \"\"\n      }\n    },\n    {\n      \"column\": \"number_of_reviews\",\n      \"properties\": {\n        \"dtype\": \"number\",\n        \"std\": 26167.974813361187,\n        \"min\": 0.0,\n        \"max\": 74111.0,\n        \"num_unique_values\": 8,\n        \"samples\": [\n          20.900568066818693,\n          6.0,\n          74111.0\n        ],\n        \"semantic_type\": \"\",\n        \"description\": \"\"\n      }\n    },\n    {\n      \"column\": \"review_scores_rating\",\n      \"properties\": {\n        \"dtype\": \"number\",\n        \"std\": 20264.356204482567,\n        \"min\": 7.836556107045955,\n        \"max\": 57389.0,\n        \"num_unique_values\": 7,\n        \"samples\": [\n          57389.0,\n          94.06736482601195,\n          96.0\n        ],\n        \"semantic_type\": \"\",\n        \"description\": \"\"\n      }\n    },\n    {\n      \"column\": \"bedrooms\",\n      \"properties\": {\n        \"dtype\": \"number\",\n        \"std\": 26169.25859898563,\n        \"min\": 0.0,\n        \"max\": 74020.0,\n        \"num_unique_values\": 6,\n        \"samples\": [\n          74020.0,\n          1.265793028911105,\n          10.0\n        ],\n        \"semantic_type\": \"\",\n        \"description\": \"\"\n      }\n    },\n    {\n      \"column\": \"beds\",\n      \"properties\": {\n        \"dtype\": \"number\",\n        \"std\": 26154.619583059368,\n        \"min\": 0.0,\n        \"max\": 73980.0,\n        \"num_unique_values\": 7,\n        \"samples\": [\n          73980.0,\n          1.710867802108678,\n          2.0\n        ],\n        \"semantic_type\": \"\",\n        \"description\": \"\"\n      }\n    }\n  ]\n}"
            }
          },
          "metadata": {},
          "execution_count": 104
        }
      ]
    },
    {
      "cell_type": "markdown",
      "metadata": {
        "id": "b0d31fbd"
      },
      "source": [
        "### Section 2: Data Cleaning\n",
        "\n",
        "##### 2.1 Check for any missing data (NaNs/nulls) and quantify the amount of missing data"
      ]
    },
    {
      "cell_type": "code",
      "metadata": {
        "colab": {
          "base_uri": "https://localhost:8080/",
          "height": 993
        },
        "id": "bc806cbb",
        "outputId": "4c3357ed-25d3-42af-f263-56a74a5c1f2f"
      },
      "source": [
        "df.isna().sum().sort_values(ascending=False)"
      ],
      "execution_count": null,
      "outputs": [
        {
          "output_type": "execute_result",
          "data": {
            "text/plain": [
              "host_response_rate        18299\n",
              "review_scores_rating      16722\n",
              "first_review              15864\n",
              "last_review               15827\n",
              "thumbnail_url              8216\n",
              "neighbourhood              6872\n",
              "zipcode                     966\n",
              "bathrooms                   200\n",
              "host_identity_verified      188\n",
              "host_has_profile_pic        188\n",
              "host_since                  188\n",
              "beds                        131\n",
              "bedrooms                     91\n",
              "description                   0\n",
              "city                          0\n",
              "cleaning_fee                  0\n",
              "cancellation_policy           0\n",
              "accommodates                  0\n",
              "bed_type                      0\n",
              "room_type                     0\n",
              "amenities                     0\n",
              "id                            0\n",
              "log_price                     0\n",
              "property_type                 0\n",
              "instant_bookable              0\n",
              "longitude                     0\n",
              "latitude                      0\n",
              "number_of_reviews             0\n",
              "name                          0\n",
              "dtype: int64"
            ],
            "text/html": [
              "<div>\n",
              "<style scoped>\n",
              "    .dataframe tbody tr th:only-of-type {\n",
              "        vertical-align: middle;\n",
              "    }\n",
              "\n",
              "    .dataframe tbody tr th {\n",
              "        vertical-align: top;\n",
              "    }\n",
              "\n",
              "    .dataframe thead th {\n",
              "        text-align: right;\n",
              "    }\n",
              "</style>\n",
              "<table border=\"1\" class=\"dataframe\">\n",
              "  <thead>\n",
              "    <tr style=\"text-align: right;\">\n",
              "      <th></th>\n",
              "      <th>0</th>\n",
              "    </tr>\n",
              "  </thead>\n",
              "  <tbody>\n",
              "    <tr>\n",
              "      <th>host_response_rate</th>\n",
              "      <td>18299</td>\n",
              "    </tr>\n",
              "    <tr>\n",
              "      <th>review_scores_rating</th>\n",
              "      <td>16722</td>\n",
              "    </tr>\n",
              "    <tr>\n",
              "      <th>first_review</th>\n",
              "      <td>15864</td>\n",
              "    </tr>\n",
              "    <tr>\n",
              "      <th>last_review</th>\n",
              "      <td>15827</td>\n",
              "    </tr>\n",
              "    <tr>\n",
              "      <th>thumbnail_url</th>\n",
              "      <td>8216</td>\n",
              "    </tr>\n",
              "    <tr>\n",
              "      <th>neighbourhood</th>\n",
              "      <td>6872</td>\n",
              "    </tr>\n",
              "    <tr>\n",
              "      <th>zipcode</th>\n",
              "      <td>966</td>\n",
              "    </tr>\n",
              "    <tr>\n",
              "      <th>bathrooms</th>\n",
              "      <td>200</td>\n",
              "    </tr>\n",
              "    <tr>\n",
              "      <th>host_identity_verified</th>\n",
              "      <td>188</td>\n",
              "    </tr>\n",
              "    <tr>\n",
              "      <th>host_has_profile_pic</th>\n",
              "      <td>188</td>\n",
              "    </tr>\n",
              "    <tr>\n",
              "      <th>host_since</th>\n",
              "      <td>188</td>\n",
              "    </tr>\n",
              "    <tr>\n",
              "      <th>beds</th>\n",
              "      <td>131</td>\n",
              "    </tr>\n",
              "    <tr>\n",
              "      <th>bedrooms</th>\n",
              "      <td>91</td>\n",
              "    </tr>\n",
              "    <tr>\n",
              "      <th>description</th>\n",
              "      <td>0</td>\n",
              "    </tr>\n",
              "    <tr>\n",
              "      <th>city</th>\n",
              "      <td>0</td>\n",
              "    </tr>\n",
              "    <tr>\n",
              "      <th>cleaning_fee</th>\n",
              "      <td>0</td>\n",
              "    </tr>\n",
              "    <tr>\n",
              "      <th>cancellation_policy</th>\n",
              "      <td>0</td>\n",
              "    </tr>\n",
              "    <tr>\n",
              "      <th>accommodates</th>\n",
              "      <td>0</td>\n",
              "    </tr>\n",
              "    <tr>\n",
              "      <th>bed_type</th>\n",
              "      <td>0</td>\n",
              "    </tr>\n",
              "    <tr>\n",
              "      <th>room_type</th>\n",
              "      <td>0</td>\n",
              "    </tr>\n",
              "    <tr>\n",
              "      <th>amenities</th>\n",
              "      <td>0</td>\n",
              "    </tr>\n",
              "    <tr>\n",
              "      <th>id</th>\n",
              "      <td>0</td>\n",
              "    </tr>\n",
              "    <tr>\n",
              "      <th>log_price</th>\n",
              "      <td>0</td>\n",
              "    </tr>\n",
              "    <tr>\n",
              "      <th>property_type</th>\n",
              "      <td>0</td>\n",
              "    </tr>\n",
              "    <tr>\n",
              "      <th>instant_bookable</th>\n",
              "      <td>0</td>\n",
              "    </tr>\n",
              "    <tr>\n",
              "      <th>longitude</th>\n",
              "      <td>0</td>\n",
              "    </tr>\n",
              "    <tr>\n",
              "      <th>latitude</th>\n",
              "      <td>0</td>\n",
              "    </tr>\n",
              "    <tr>\n",
              "      <th>number_of_reviews</th>\n",
              "      <td>0</td>\n",
              "    </tr>\n",
              "    <tr>\n",
              "      <th>name</th>\n",
              "      <td>0</td>\n",
              "    </tr>\n",
              "  </tbody>\n",
              "</table>\n",
              "</div><br><label><b>dtype:</b> int64</label>"
            ]
          },
          "metadata": {},
          "execution_count": 105
        }
      ]
    },
    {
      "cell_type": "markdown",
      "metadata": {
        "id": "8a890e18"
      },
      "source": [
        "##### 2.2 Handling Missing Values\n",
        "\n",
        "Let's handle the missing values using different methods."
      ]
    },
    {
      "cell_type": "markdown",
      "metadata": {
        "id": "95737cdb"
      },
      "source": [
        "##### 2.2.1 Filling missing numerical values with the mean"
      ]
    },
    {
      "cell_type": "code",
      "metadata": {
        "colab": {
          "base_uri": "https://localhost:8080/",
          "height": 1000
        },
        "id": "723f9ec2",
        "outputId": "815cb7ba-729a-49b8-c55a-95cabec4bc4e"
      },
      "source": [
        "\n",
        "numeric_cols = df.select_dtypes(include=['float64', 'int64']).columns\n",
        "\n",
        "df[numeric_cols ] = df[numeric_cols].fillna(df[numeric_cols].mean())\n",
        "display(df.isna().sum().sort_values(ascending = False))\n"
      ],
      "execution_count": null,
      "outputs": [
        {
          "output_type": "display_data",
          "data": {
            "text/plain": [
              "host_response_rate         18299\n",
              "first_review               15864\n",
              "last_review                15827\n",
              "thumbnail_url               8216\n",
              "neighbourhood               6872\n",
              "zipcode                      966\n",
              "host_has_profile_pic         188\n",
              "host_identity_verified       188\n",
              "host_since                   188\n",
              "bed_type                       0\n",
              "accommodates                   0\n",
              "bathrooms                      0\n",
              "id                             0\n",
              "log_price                      0\n",
              "property_type                  0\n",
              "room_type                      0\n",
              "cancellation_policy            0\n",
              "cleaning_fee                   0\n",
              "city                           0\n",
              "description                    0\n",
              "amenities                      0\n",
              "longitude                      0\n",
              "latitude                       0\n",
              "instant_bookable               0\n",
              "number_of_reviews              0\n",
              "name                           0\n",
              "review_scores_rating           0\n",
              "bedrooms                       0\n",
              "beds                           0\n",
              "days_since_first_review        0\n",
              "days_since_last_review         0\n",
              "review_duration                0\n",
              "dtype: int64"
            ],
            "text/html": [
              "<div>\n",
              "<style scoped>\n",
              "    .dataframe tbody tr th:only-of-type {\n",
              "        vertical-align: middle;\n",
              "    }\n",
              "\n",
              "    .dataframe tbody tr th {\n",
              "        vertical-align: top;\n",
              "    }\n",
              "\n",
              "    .dataframe thead th {\n",
              "        text-align: right;\n",
              "    }\n",
              "</style>\n",
              "<table border=\"1\" class=\"dataframe\">\n",
              "  <thead>\n",
              "    <tr style=\"text-align: right;\">\n",
              "      <th></th>\n",
              "      <th>0</th>\n",
              "    </tr>\n",
              "  </thead>\n",
              "  <tbody>\n",
              "    <tr>\n",
              "      <th>host_response_rate</th>\n",
              "      <td>18299</td>\n",
              "    </tr>\n",
              "    <tr>\n",
              "      <th>first_review</th>\n",
              "      <td>15864</td>\n",
              "    </tr>\n",
              "    <tr>\n",
              "      <th>last_review</th>\n",
              "      <td>15827</td>\n",
              "    </tr>\n",
              "    <tr>\n",
              "      <th>thumbnail_url</th>\n",
              "      <td>8216</td>\n",
              "    </tr>\n",
              "    <tr>\n",
              "      <th>neighbourhood</th>\n",
              "      <td>6872</td>\n",
              "    </tr>\n",
              "    <tr>\n",
              "      <th>zipcode</th>\n",
              "      <td>966</td>\n",
              "    </tr>\n",
              "    <tr>\n",
              "      <th>host_has_profile_pic</th>\n",
              "      <td>188</td>\n",
              "    </tr>\n",
              "    <tr>\n",
              "      <th>host_identity_verified</th>\n",
              "      <td>188</td>\n",
              "    </tr>\n",
              "    <tr>\n",
              "      <th>host_since</th>\n",
              "      <td>188</td>\n",
              "    </tr>\n",
              "    <tr>\n",
              "      <th>bed_type</th>\n",
              "      <td>0</td>\n",
              "    </tr>\n",
              "    <tr>\n",
              "      <th>accommodates</th>\n",
              "      <td>0</td>\n",
              "    </tr>\n",
              "    <tr>\n",
              "      <th>bathrooms</th>\n",
              "      <td>0</td>\n",
              "    </tr>\n",
              "    <tr>\n",
              "      <th>id</th>\n",
              "      <td>0</td>\n",
              "    </tr>\n",
              "    <tr>\n",
              "      <th>log_price</th>\n",
              "      <td>0</td>\n",
              "    </tr>\n",
              "    <tr>\n",
              "      <th>property_type</th>\n",
              "      <td>0</td>\n",
              "    </tr>\n",
              "    <tr>\n",
              "      <th>room_type</th>\n",
              "      <td>0</td>\n",
              "    </tr>\n",
              "    <tr>\n",
              "      <th>cancellation_policy</th>\n",
              "      <td>0</td>\n",
              "    </tr>\n",
              "    <tr>\n",
              "      <th>cleaning_fee</th>\n",
              "      <td>0</td>\n",
              "    </tr>\n",
              "    <tr>\n",
              "      <th>city</th>\n",
              "      <td>0</td>\n",
              "    </tr>\n",
              "    <tr>\n",
              "      <th>description</th>\n",
              "      <td>0</td>\n",
              "    </tr>\n",
              "    <tr>\n",
              "      <th>amenities</th>\n",
              "      <td>0</td>\n",
              "    </tr>\n",
              "    <tr>\n",
              "      <th>longitude</th>\n",
              "      <td>0</td>\n",
              "    </tr>\n",
              "    <tr>\n",
              "      <th>latitude</th>\n",
              "      <td>0</td>\n",
              "    </tr>\n",
              "    <tr>\n",
              "      <th>instant_bookable</th>\n",
              "      <td>0</td>\n",
              "    </tr>\n",
              "    <tr>\n",
              "      <th>number_of_reviews</th>\n",
              "      <td>0</td>\n",
              "    </tr>\n",
              "    <tr>\n",
              "      <th>name</th>\n",
              "      <td>0</td>\n",
              "    </tr>\n",
              "    <tr>\n",
              "      <th>review_scores_rating</th>\n",
              "      <td>0</td>\n",
              "    </tr>\n",
              "    <tr>\n",
              "      <th>bedrooms</th>\n",
              "      <td>0</td>\n",
              "    </tr>\n",
              "    <tr>\n",
              "      <th>beds</th>\n",
              "      <td>0</td>\n",
              "    </tr>\n",
              "    <tr>\n",
              "      <th>days_since_first_review</th>\n",
              "      <td>0</td>\n",
              "    </tr>\n",
              "    <tr>\n",
              "      <th>days_since_last_review</th>\n",
              "      <td>0</td>\n",
              "    </tr>\n",
              "    <tr>\n",
              "      <th>review_duration</th>\n",
              "      <td>0</td>\n",
              "    </tr>\n",
              "  </tbody>\n",
              "</table>\n",
              "</div><br><label><b>dtype:</b> int64</label>"
            ]
          },
          "metadata": {}
        }
      ]
    },
    {
      "cell_type": "markdown",
      "metadata": {
        "id": "a6135b6d"
      },
      "source": [
        "##### 2.2.2 Filling missing numerical values with the median"
      ]
    },
    {
      "cell_type": "code",
      "metadata": {
        "colab": {
          "base_uri": "https://localhost:8080/",
          "height": 1000
        },
        "id": "5428b2c3",
        "outputId": "6c6eef5d-cc76-4bce-a06f-5bcda68eb2e1"
      },
      "source": [
        "numeric = df.select_dtypes(include = ['float64', 'int64']).columns\n",
        "df[numeric] = df[numeric].fillna(df[numeric].median())\n",
        "display(df.isna().sum().sort_values(ascending=False))"
      ],
      "execution_count": null,
      "outputs": [
        {
          "output_type": "display_data",
          "data": {
            "text/plain": [
              "host_response_rate         18299\n",
              "first_review               15864\n",
              "last_review                15827\n",
              "thumbnail_url               8216\n",
              "neighbourhood               6872\n",
              "zipcode                      966\n",
              "host_has_profile_pic         188\n",
              "host_identity_verified       188\n",
              "host_since                   188\n",
              "bed_type                       0\n",
              "accommodates                   0\n",
              "bathrooms                      0\n",
              "id                             0\n",
              "log_price                      0\n",
              "property_type                  0\n",
              "room_type                      0\n",
              "cancellation_policy            0\n",
              "cleaning_fee                   0\n",
              "city                           0\n",
              "description                    0\n",
              "amenities                      0\n",
              "longitude                      0\n",
              "latitude                       0\n",
              "instant_bookable               0\n",
              "number_of_reviews              0\n",
              "name                           0\n",
              "review_scores_rating           0\n",
              "bedrooms                       0\n",
              "beds                           0\n",
              "days_since_first_review        0\n",
              "days_since_last_review         0\n",
              "review_duration                0\n",
              "dtype: int64"
            ],
            "text/html": [
              "<div>\n",
              "<style scoped>\n",
              "    .dataframe tbody tr th:only-of-type {\n",
              "        vertical-align: middle;\n",
              "    }\n",
              "\n",
              "    .dataframe tbody tr th {\n",
              "        vertical-align: top;\n",
              "    }\n",
              "\n",
              "    .dataframe thead th {\n",
              "        text-align: right;\n",
              "    }\n",
              "</style>\n",
              "<table border=\"1\" class=\"dataframe\">\n",
              "  <thead>\n",
              "    <tr style=\"text-align: right;\">\n",
              "      <th></th>\n",
              "      <th>0</th>\n",
              "    </tr>\n",
              "  </thead>\n",
              "  <tbody>\n",
              "    <tr>\n",
              "      <th>host_response_rate</th>\n",
              "      <td>18299</td>\n",
              "    </tr>\n",
              "    <tr>\n",
              "      <th>first_review</th>\n",
              "      <td>15864</td>\n",
              "    </tr>\n",
              "    <tr>\n",
              "      <th>last_review</th>\n",
              "      <td>15827</td>\n",
              "    </tr>\n",
              "    <tr>\n",
              "      <th>thumbnail_url</th>\n",
              "      <td>8216</td>\n",
              "    </tr>\n",
              "    <tr>\n",
              "      <th>neighbourhood</th>\n",
              "      <td>6872</td>\n",
              "    </tr>\n",
              "    <tr>\n",
              "      <th>zipcode</th>\n",
              "      <td>966</td>\n",
              "    </tr>\n",
              "    <tr>\n",
              "      <th>host_has_profile_pic</th>\n",
              "      <td>188</td>\n",
              "    </tr>\n",
              "    <tr>\n",
              "      <th>host_identity_verified</th>\n",
              "      <td>188</td>\n",
              "    </tr>\n",
              "    <tr>\n",
              "      <th>host_since</th>\n",
              "      <td>188</td>\n",
              "    </tr>\n",
              "    <tr>\n",
              "      <th>bed_type</th>\n",
              "      <td>0</td>\n",
              "    </tr>\n",
              "    <tr>\n",
              "      <th>accommodates</th>\n",
              "      <td>0</td>\n",
              "    </tr>\n",
              "    <tr>\n",
              "      <th>bathrooms</th>\n",
              "      <td>0</td>\n",
              "    </tr>\n",
              "    <tr>\n",
              "      <th>id</th>\n",
              "      <td>0</td>\n",
              "    </tr>\n",
              "    <tr>\n",
              "      <th>log_price</th>\n",
              "      <td>0</td>\n",
              "    </tr>\n",
              "    <tr>\n",
              "      <th>property_type</th>\n",
              "      <td>0</td>\n",
              "    </tr>\n",
              "    <tr>\n",
              "      <th>room_type</th>\n",
              "      <td>0</td>\n",
              "    </tr>\n",
              "    <tr>\n",
              "      <th>cancellation_policy</th>\n",
              "      <td>0</td>\n",
              "    </tr>\n",
              "    <tr>\n",
              "      <th>cleaning_fee</th>\n",
              "      <td>0</td>\n",
              "    </tr>\n",
              "    <tr>\n",
              "      <th>city</th>\n",
              "      <td>0</td>\n",
              "    </tr>\n",
              "    <tr>\n",
              "      <th>description</th>\n",
              "      <td>0</td>\n",
              "    </tr>\n",
              "    <tr>\n",
              "      <th>amenities</th>\n",
              "      <td>0</td>\n",
              "    </tr>\n",
              "    <tr>\n",
              "      <th>longitude</th>\n",
              "      <td>0</td>\n",
              "    </tr>\n",
              "    <tr>\n",
              "      <th>latitude</th>\n",
              "      <td>0</td>\n",
              "    </tr>\n",
              "    <tr>\n",
              "      <th>instant_bookable</th>\n",
              "      <td>0</td>\n",
              "    </tr>\n",
              "    <tr>\n",
              "      <th>number_of_reviews</th>\n",
              "      <td>0</td>\n",
              "    </tr>\n",
              "    <tr>\n",
              "      <th>name</th>\n",
              "      <td>0</td>\n",
              "    </tr>\n",
              "    <tr>\n",
              "      <th>review_scores_rating</th>\n",
              "      <td>0</td>\n",
              "    </tr>\n",
              "    <tr>\n",
              "      <th>bedrooms</th>\n",
              "      <td>0</td>\n",
              "    </tr>\n",
              "    <tr>\n",
              "      <th>beds</th>\n",
              "      <td>0</td>\n",
              "    </tr>\n",
              "    <tr>\n",
              "      <th>days_since_first_review</th>\n",
              "      <td>0</td>\n",
              "    </tr>\n",
              "    <tr>\n",
              "      <th>days_since_last_review</th>\n",
              "      <td>0</td>\n",
              "    </tr>\n",
              "    <tr>\n",
              "      <th>review_duration</th>\n",
              "      <td>0</td>\n",
              "    </tr>\n",
              "  </tbody>\n",
              "</table>\n",
              "</div><br><label><b>dtype:</b> int64</label>"
            ]
          },
          "metadata": {}
        }
      ]
    },
    {
      "cell_type": "markdown",
      "metadata": {
        "id": "dd5a3a39"
      },
      "source": [
        "##### 2.2.3 Filling missing categorical values with the mode"
      ]
    },
    {
      "cell_type": "code",
      "metadata": {
        "colab": {
          "base_uri": "https://localhost:8080/",
          "height": 993
        },
        "id": "09191147",
        "outputId": "4f7db983-f89a-4135-c49f-02a16dcbbe2e"
      },
      "source": [
        "df_cat = pd.read_csv(path)\n",
        "cat_col_with_na = df_cat.select_dtypes(include=['object']).columns[df_cat.select_dtypes(include=['object']).isna().any()]\n",
        "for col in cat_col_with_na:\n",
        "  df_cat[col] = df[col].fillna(df[col].mode()[0])\n",
        "\n",
        "display(df_cat.isna().sum().sort_values(ascending = False))\n"
      ],
      "execution_count": null,
      "outputs": [
        {
          "output_type": "display_data",
          "data": {
            "text/plain": [
              "host_response_rate        18298\n",
              "review_scores_rating      16722\n",
              "first_review              15864\n",
              "last_review               15827\n",
              "thumbnail_url              8216\n",
              "neighbourhood              6872\n",
              "zipcode                     966\n",
              "bathrooms                   200\n",
              "host_identity_verified      188\n",
              "host_has_profile_pic        188\n",
              "host_since                  188\n",
              "beds                        131\n",
              "bedrooms                     91\n",
              "description                   0\n",
              "city                          0\n",
              "cleaning_fee                  0\n",
              "cancellation_policy           0\n",
              "accommodates                  0\n",
              "bed_type                      0\n",
              "room_type                     0\n",
              "amenities                     0\n",
              "id                            0\n",
              "log_price                     0\n",
              "property_type                 0\n",
              "instant_bookable              0\n",
              "longitude                     0\n",
              "latitude                      0\n",
              "number_of_reviews             0\n",
              "name                          0\n",
              "dtype: int64"
            ],
            "text/html": [
              "<div>\n",
              "<style scoped>\n",
              "    .dataframe tbody tr th:only-of-type {\n",
              "        vertical-align: middle;\n",
              "    }\n",
              "\n",
              "    .dataframe tbody tr th {\n",
              "        vertical-align: top;\n",
              "    }\n",
              "\n",
              "    .dataframe thead th {\n",
              "        text-align: right;\n",
              "    }\n",
              "</style>\n",
              "<table border=\"1\" class=\"dataframe\">\n",
              "  <thead>\n",
              "    <tr style=\"text-align: right;\">\n",
              "      <th></th>\n",
              "      <th>0</th>\n",
              "    </tr>\n",
              "  </thead>\n",
              "  <tbody>\n",
              "    <tr>\n",
              "      <th>host_response_rate</th>\n",
              "      <td>18298</td>\n",
              "    </tr>\n",
              "    <tr>\n",
              "      <th>review_scores_rating</th>\n",
              "      <td>16722</td>\n",
              "    </tr>\n",
              "    <tr>\n",
              "      <th>first_review</th>\n",
              "      <td>15864</td>\n",
              "    </tr>\n",
              "    <tr>\n",
              "      <th>last_review</th>\n",
              "      <td>15827</td>\n",
              "    </tr>\n",
              "    <tr>\n",
              "      <th>thumbnail_url</th>\n",
              "      <td>8216</td>\n",
              "    </tr>\n",
              "    <tr>\n",
              "      <th>neighbourhood</th>\n",
              "      <td>6872</td>\n",
              "    </tr>\n",
              "    <tr>\n",
              "      <th>zipcode</th>\n",
              "      <td>966</td>\n",
              "    </tr>\n",
              "    <tr>\n",
              "      <th>bathrooms</th>\n",
              "      <td>200</td>\n",
              "    </tr>\n",
              "    <tr>\n",
              "      <th>host_identity_verified</th>\n",
              "      <td>188</td>\n",
              "    </tr>\n",
              "    <tr>\n",
              "      <th>host_has_profile_pic</th>\n",
              "      <td>188</td>\n",
              "    </tr>\n",
              "    <tr>\n",
              "      <th>host_since</th>\n",
              "      <td>188</td>\n",
              "    </tr>\n",
              "    <tr>\n",
              "      <th>beds</th>\n",
              "      <td>131</td>\n",
              "    </tr>\n",
              "    <tr>\n",
              "      <th>bedrooms</th>\n",
              "      <td>91</td>\n",
              "    </tr>\n",
              "    <tr>\n",
              "      <th>description</th>\n",
              "      <td>0</td>\n",
              "    </tr>\n",
              "    <tr>\n",
              "      <th>city</th>\n",
              "      <td>0</td>\n",
              "    </tr>\n",
              "    <tr>\n",
              "      <th>cleaning_fee</th>\n",
              "      <td>0</td>\n",
              "    </tr>\n",
              "    <tr>\n",
              "      <th>cancellation_policy</th>\n",
              "      <td>0</td>\n",
              "    </tr>\n",
              "    <tr>\n",
              "      <th>accommodates</th>\n",
              "      <td>0</td>\n",
              "    </tr>\n",
              "    <tr>\n",
              "      <th>bed_type</th>\n",
              "      <td>0</td>\n",
              "    </tr>\n",
              "    <tr>\n",
              "      <th>room_type</th>\n",
              "      <td>0</td>\n",
              "    </tr>\n",
              "    <tr>\n",
              "      <th>amenities</th>\n",
              "      <td>0</td>\n",
              "    </tr>\n",
              "    <tr>\n",
              "      <th>id</th>\n",
              "      <td>0</td>\n",
              "    </tr>\n",
              "    <tr>\n",
              "      <th>log_price</th>\n",
              "      <td>0</td>\n",
              "    </tr>\n",
              "    <tr>\n",
              "      <th>property_type</th>\n",
              "      <td>0</td>\n",
              "    </tr>\n",
              "    <tr>\n",
              "      <th>instant_bookable</th>\n",
              "      <td>0</td>\n",
              "    </tr>\n",
              "    <tr>\n",
              "      <th>longitude</th>\n",
              "      <td>0</td>\n",
              "    </tr>\n",
              "    <tr>\n",
              "      <th>latitude</th>\n",
              "      <td>0</td>\n",
              "    </tr>\n",
              "    <tr>\n",
              "      <th>number_of_reviews</th>\n",
              "      <td>0</td>\n",
              "    </tr>\n",
              "    <tr>\n",
              "      <th>name</th>\n",
              "      <td>0</td>\n",
              "    </tr>\n",
              "  </tbody>\n",
              "</table>\n",
              "</div><br><label><b>dtype:</b> int64</label>"
            ]
          },
          "metadata": {}
        }
      ]
    },
    {
      "cell_type": "markdown",
      "metadata": {
        "id": "3fd03dcf"
      },
      "source": [
        "##### 2.2.4 Filling missing values with a constant value"
      ]
    },
    {
      "cell_type": "code",
      "metadata": {
        "id": "7b7a261f"
      },
      "source": [
        "df_c = pd.read_csv(path)\n",
        "\n"
      ],
      "execution_count": null,
      "outputs": []
    },
    {
      "cell_type": "code",
      "source": [],
      "metadata": {
        "id": "92sWtTAsowHF"
      },
      "execution_count": null,
      "outputs": []
    },
    {
      "cell_type": "code",
      "source": [],
      "metadata": {
        "id": "L4eqz4e1p5_t"
      },
      "execution_count": null,
      "outputs": []
    },
    {
      "cell_type": "code",
      "source": [],
      "metadata": {
        "id": "W7PMkGOfoz49"
      },
      "execution_count": null,
      "outputs": []
    },
    {
      "cell_type": "markdown",
      "source": [
        "##### 2.2.5 (**BONUS**) Impute missing values for the neighbourhood column using KNN"
      ],
      "metadata": {
        "id": "YxPlDY8crmrp"
      }
    },
    {
      "cell_type": "code",
      "source": [],
      "metadata": {
        "id": "_22Iyrjtndvr"
      },
      "execution_count": null,
      "outputs": []
    },
    {
      "cell_type": "code",
      "source": [],
      "metadata": {
        "id": "rSMWAOAhshdE"
      },
      "execution_count": null,
      "outputs": []
    },
    {
      "cell_type": "markdown",
      "metadata": {
        "id": "360aa469"
      },
      "source": [
        "### Section 3: Categorical Encoding"
      ]
    },
    {
      "cell_type": "markdown",
      "metadata": {
        "id": "78d751a6"
      },
      "source": [
        "##### 3.1 Identifying categorical columns"
      ]
    },
    {
      "cell_type": "code",
      "metadata": {
        "id": "5fb5f91b"
      },
      "source": [],
      "execution_count": null,
      "outputs": []
    },
    {
      "cell_type": "markdown",
      "metadata": {
        "id": "1197b4d6"
      },
      "source": [
        "##### 3.2 Applying One-Hot Encoding"
      ]
    },
    {
      "cell_type": "code",
      "metadata": {
        "id": "f2b8ba76"
      },
      "source": [],
      "execution_count": null,
      "outputs": []
    },
    {
      "cell_type": "code",
      "source": [],
      "metadata": {
        "id": "r0IQg8zHXbny"
      },
      "execution_count": null,
      "outputs": []
    },
    {
      "cell_type": "markdown",
      "metadata": {
        "id": "1f6db296"
      },
      "source": [
        "### Section 4: Datetime Handling"
      ]
    },
    {
      "cell_type": "markdown",
      "metadata": {
        "id": "07153470"
      },
      "source": [
        "##### 4.1 Convert `last_review` and `first_review` columns to datetime objects"
      ]
    },
    {
      "cell_type": "code",
      "metadata": {
        "id": "f22e27cc"
      },
      "source": [],
      "execution_count": null,
      "outputs": []
    },
    {
      "cell_type": "markdown",
      "metadata": {
        "id": "5d249778"
      },
      "source": [
        "##### 4.2 Capture the year and month from the `first_review` and `last_review` columns, use those columns to make other columns that include just the year and month from those two columns"
      ]
    },
    {
      "cell_type": "code",
      "metadata": {
        "id": "f43e9183"
      },
      "source": [],
      "execution_count": null,
      "outputs": []
    },
    {
      "cell_type": "markdown",
      "source": [
        "##### 4.3 Filter for listings first reviewed after 2017"
      ],
      "metadata": {
        "id": "rohSZBnjaTiF"
      }
    },
    {
      "cell_type": "code",
      "source": [],
      "metadata": {
        "id": "a2sankWPZ9WF"
      },
      "execution_count": null,
      "outputs": []
    },
    {
      "cell_type": "markdown",
      "source": [
        "##### 4.4 Filter for listings last reviewed within the year June 2017 and March 2019"
      ],
      "metadata": {
        "id": "elMB9OVlaT6N"
      }
    },
    {
      "cell_type": "code",
      "source": [],
      "metadata": {
        "id": "9fg4V4anZ9TM"
      },
      "execution_count": null,
      "outputs": []
    },
    {
      "cell_type": "markdown",
      "source": [
        "##### 4.5 Filter for listings first reviewed in the year 2016"
      ],
      "metadata": {
        "id": "tYuQJubbaUWE"
      }
    },
    {
      "cell_type": "code",
      "source": [],
      "metadata": {
        "id": "KJ8WIVGKZ9P8"
      },
      "execution_count": null,
      "outputs": []
    },
    {
      "cell_type": "markdown",
      "source": [
        "### Section 5: Normalization"
      ],
      "metadata": {
        "id": "AM6UXjbeeEkG"
      }
    },
    {
      "cell_type": "markdown",
      "metadata": {
        "id": "b6405859"
      },
      "source": [
        "##### 5.1 Identify numerical columns for normalization (Select all numerical columns)\n",
        "\n",
        "\n"
      ]
    },
    {
      "cell_type": "markdown",
      "source": [
        "Recap: Normalization is a technique used to scale numerical features to a similar range, which can prevent features with larger values from dominating those with smaller values in certain algorithms."
      ],
      "metadata": {
        "id": "3M7ghUKKd-Yx"
      }
    },
    {
      "cell_type": "code",
      "metadata": {
        "id": "6483fa13"
      },
      "source": [],
      "execution_count": null,
      "outputs": []
    },
    {
      "cell_type": "markdown",
      "metadata": {
        "id": "2fd6274c"
      },
      "source": [
        "##### 5.2 Applying Min-Max Normalization\n",
        "\n",
        "Use Min-Max Normalization to scale feautures between -1 and 1."
      ]
    },
    {
      "cell_type": "markdown",
      "source": [
        "WHen using Python libraries especially for the first time you will encounter many modules and functions that you obviously dont know how to use it is important to learn how do read docstring and methods. Knowing this skill can allow you to learn any library/framework"
      ],
      "metadata": {
        "id": "d2uWnVC_fkNZ"
      }
    },
    {
      "cell_type": "markdown",
      "source": [
        "##### **IMPORTANT**"
      ],
      "metadata": {
        "id": "MQwTCb7chmbx"
      }
    },
    {
      "cell_type": "markdown",
      "source": [
        "##### 5.2.1 Reading Doc String"
      ],
      "metadata": {
        "id": "GxR9Bi9ZgjGt"
      }
    },
    {
      "cell_type": "code",
      "source": [
        "MinMaxScaler?"
      ],
      "metadata": {
        "id": "WBAkRYK5f9gu"
      },
      "execution_count": null,
      "outputs": []
    },
    {
      "cell_type": "markdown",
      "source": [
        "From reading the docstring we know can know one:\n",
        "\n",
        "1. Names of all paramters we can use for the class\n",
        "2. Data type of the each parameter that we are allow to pass in\n",
        "3. Default arguements\n",
        "\n",
        "```feature_range : tuple (min, max), default=(0, 1)\n",
        "    Desired range of transformed data.```"
      ],
      "metadata": {
        "id": "GsACudTDg5r3"
      }
    },
    {
      "cell_type": "markdown",
      "source": [
        "##### 5.2.2 Reading Source Code of Method/Module"
      ],
      "metadata": {
        "id": "ud9FdZcpgnxe"
      }
    },
    {
      "cell_type": "code",
      "source": [
        "MinMaxScaler??"
      ],
      "metadata": {
        "id": "9Yy0uTm3gEHv"
      },
      "execution_count": null,
      "outputs": []
    },
    {
      "cell_type": "markdown",
      "source": [
        "##### Now apply Min-Max Normalization"
      ],
      "metadata": {
        "id": "x-R-jJ0-T6tX"
      }
    },
    {
      "cell_type": "code",
      "metadata": {
        "id": "ead7471f"
      },
      "source": [],
      "execution_count": null,
      "outputs": []
    },
    {
      "cell_type": "markdown",
      "metadata": {
        "id": "7bccc35a"
      },
      "source": [
        "##### 5.3 Applying StandardScaler\n",
        "\n",
        "Use StandardScaler is another common normalization technique that standardizes features by removing the mean and scaling to unit variance. Use this to scale the numerical features"
      ]
    },
    {
      "cell_type": "code",
      "metadata": {
        "id": "2b9e36b7"
      },
      "source": [],
      "execution_count": null,
      "outputs": []
    },
    {
      "cell_type": "markdown",
      "metadata": {
        "id": "c1761476"
      },
      "source": [
        "### Section 6: Feature Engineering"
      ]
    },
    {
      "cell_type": "markdown",
      "metadata": {
        "id": "e5440b9e"
      },
      "source": [
        "##### 6.1 Creating features from 'amenities'\n",
        "\n",
        "Let's extract the number of amenities from the 'amenities' column."
      ]
    },
    {
      "cell_type": "code",
      "metadata": {
        "id": "c8021323"
      },
      "source": [],
      "execution_count": null,
      "outputs": []
    },
    {
      "cell_type": "markdown",
      "metadata": {
        "id": "b215ee9f"
      },
      "source": [
        "##### 6.2 Create a feature for the length of the description. Name the column `description_length`"
      ]
    },
    {
      "cell_type": "code",
      "metadata": {
        "id": "04dba1b2"
      },
      "source": [],
      "execution_count": null,
      "outputs": []
    },
    {
      "cell_type": "markdown",
      "metadata": {
        "id": "d11ada4f"
      },
      "source": [
        "##### 6.3 Calculate the duration between the first and last review. Save them as `days_since_first_review`, `days_since_last_review` and `review_duration`"
      ]
    },
    {
      "cell_type": "code",
      "metadata": {
        "id": "ba0f12e1",
        "colab": {
          "base_uri": "https://localhost:8080/",
          "height": 206
        },
        "outputId": "1135f63e-46e8-4c9a-e0e9-cd439851f05e"
      },
      "source": [
        "# Ensure date columns are in datetime format (already done in Section 4, but good to be sure)\n",
        "df['first_review'] = pd.to_datetime(df['first_review'], errors='coerce')\n",
        "df['last_review'] = pd.to_datetime(df['last_review'], errors='coerce')\n",
        "\n",
        "# Calculate the difference in days\n",
        "df['days_since_first_review'] = (pd.to_datetime('today') - df['first_review']).dt.days\n",
        "df['days_since_last_review'] = (pd.to_datetime('today') - df['last_review']).dt.days\n",
        "df['review_duration'] = (df['last_review'] - df['first_review']).dt.days\n",
        "\n",
        "display(df[['first_review', 'last_review', 'days_since_first_review', 'days_since_last_review', 'review_duration']].head())"
      ],
      "execution_count": null,
      "outputs": [
        {
          "output_type": "display_data",
          "data": {
            "text/plain": [
              "  first_review last_review  days_since_first_review  days_since_last_review  \\\n",
              "0   2016-06-18  2016-07-18                   3303.0                  3273.0   \n",
              "1   2017-08-05  2017-09-23                   2890.0                  2841.0   \n",
              "2   2017-04-30  2017-09-14                   2987.0                  2850.0   \n",
              "3          NaT         NaT                      NaN                     NaN   \n",
              "4   2015-05-12  2017-01-22                   3706.0                  3085.0   \n",
              "\n",
              "   review_duration  \n",
              "0             30.0  \n",
              "1             49.0  \n",
              "2            137.0  \n",
              "3              NaN  \n",
              "4            621.0  "
            ],
            "text/html": [
              "\n",
              "  <div id=\"df-7ebc81ec-fdea-409a-b383-60610e90098b\" class=\"colab-df-container\">\n",
              "    <div>\n",
              "<style scoped>\n",
              "    .dataframe tbody tr th:only-of-type {\n",
              "        vertical-align: middle;\n",
              "    }\n",
              "\n",
              "    .dataframe tbody tr th {\n",
              "        vertical-align: top;\n",
              "    }\n",
              "\n",
              "    .dataframe thead th {\n",
              "        text-align: right;\n",
              "    }\n",
              "</style>\n",
              "<table border=\"1\" class=\"dataframe\">\n",
              "  <thead>\n",
              "    <tr style=\"text-align: right;\">\n",
              "      <th></th>\n",
              "      <th>first_review</th>\n",
              "      <th>last_review</th>\n",
              "      <th>days_since_first_review</th>\n",
              "      <th>days_since_last_review</th>\n",
              "      <th>review_duration</th>\n",
              "    </tr>\n",
              "  </thead>\n",
              "  <tbody>\n",
              "    <tr>\n",
              "      <th>0</th>\n",
              "      <td>2016-06-18</td>\n",
              "      <td>2016-07-18</td>\n",
              "      <td>3303.0</td>\n",
              "      <td>3273.0</td>\n",
              "      <td>30.0</td>\n",
              "    </tr>\n",
              "    <tr>\n",
              "      <th>1</th>\n",
              "      <td>2017-08-05</td>\n",
              "      <td>2017-09-23</td>\n",
              "      <td>2890.0</td>\n",
              "      <td>2841.0</td>\n",
              "      <td>49.0</td>\n",
              "    </tr>\n",
              "    <tr>\n",
              "      <th>2</th>\n",
              "      <td>2017-04-30</td>\n",
              "      <td>2017-09-14</td>\n",
              "      <td>2987.0</td>\n",
              "      <td>2850.0</td>\n",
              "      <td>137.0</td>\n",
              "    </tr>\n",
              "    <tr>\n",
              "      <th>3</th>\n",
              "      <td>NaT</td>\n",
              "      <td>NaT</td>\n",
              "      <td>NaN</td>\n",
              "      <td>NaN</td>\n",
              "      <td>NaN</td>\n",
              "    </tr>\n",
              "    <tr>\n",
              "      <th>4</th>\n",
              "      <td>2015-05-12</td>\n",
              "      <td>2017-01-22</td>\n",
              "      <td>3706.0</td>\n",
              "      <td>3085.0</td>\n",
              "      <td>621.0</td>\n",
              "    </tr>\n",
              "  </tbody>\n",
              "</table>\n",
              "</div>\n",
              "    <div class=\"colab-df-buttons\">\n",
              "\n",
              "  <div class=\"colab-df-container\">\n",
              "    <button class=\"colab-df-convert\" onclick=\"convertToInteractive('df-7ebc81ec-fdea-409a-b383-60610e90098b')\"\n",
              "            title=\"Convert this dataframe to an interactive table.\"\n",
              "            style=\"display:none;\">\n",
              "\n",
              "  <svg xmlns=\"http://www.w3.org/2000/svg\" height=\"24px\" viewBox=\"0 -960 960 960\">\n",
              "    <path d=\"M120-120v-720h720v720H120Zm60-500h600v-160H180v160Zm220 220h160v-160H400v160Zm0 220h160v-160H400v160ZM180-400h160v-160H180v160Zm440 0h160v-160H620v160ZM180-180h160v-160H180v160Zm440 0h160v-160H620v160Z\"/>\n",
              "  </svg>\n",
              "    </button>\n",
              "\n",
              "  <style>\n",
              "    .colab-df-container {\n",
              "      display:flex;\n",
              "      gap: 12px;\n",
              "    }\n",
              "\n",
              "    .colab-df-convert {\n",
              "      background-color: #E8F0FE;\n",
              "      border: none;\n",
              "      border-radius: 50%;\n",
              "      cursor: pointer;\n",
              "      display: none;\n",
              "      fill: #1967D2;\n",
              "      height: 32px;\n",
              "      padding: 0 0 0 0;\n",
              "      width: 32px;\n",
              "    }\n",
              "\n",
              "    .colab-df-convert:hover {\n",
              "      background-color: #E2EBFA;\n",
              "      box-shadow: 0px 1px 2px rgba(60, 64, 67, 0.3), 0px 1px 3px 1px rgba(60, 64, 67, 0.15);\n",
              "      fill: #174EA6;\n",
              "    }\n",
              "\n",
              "    .colab-df-buttons div {\n",
              "      margin-bottom: 4px;\n",
              "    }\n",
              "\n",
              "    [theme=dark] .colab-df-convert {\n",
              "      background-color: #3B4455;\n",
              "      fill: #D2E3FC;\n",
              "    }\n",
              "\n",
              "    [theme=dark] .colab-df-convert:hover {\n",
              "      background-color: #434B5C;\n",
              "      box-shadow: 0px 1px 3px 1px rgba(0, 0, 0, 0.15);\n",
              "      filter: drop-shadow(0px 1px 2px rgba(0, 0, 0, 0.3));\n",
              "      fill: #FFFFFF;\n",
              "    }\n",
              "  </style>\n",
              "\n",
              "    <script>\n",
              "      const buttonEl =\n",
              "        document.querySelector('#df-7ebc81ec-fdea-409a-b383-60610e90098b button.colab-df-convert');\n",
              "      buttonEl.style.display =\n",
              "        google.colab.kernel.accessAllowed ? 'block' : 'none';\n",
              "\n",
              "      async function convertToInteractive(key) {\n",
              "        const element = document.querySelector('#df-7ebc81ec-fdea-409a-b383-60610e90098b');\n",
              "        const dataTable =\n",
              "          await google.colab.kernel.invokeFunction('convertToInteractive',\n",
              "                                                    [key], {});\n",
              "        if (!dataTable) return;\n",
              "\n",
              "        const docLinkHtml = 'Like what you see? Visit the ' +\n",
              "          '<a target=\"_blank\" href=https://colab.research.google.com/notebooks/data_table.ipynb>data table notebook</a>'\n",
              "          + ' to learn more about interactive tables.';\n",
              "        element.innerHTML = '';\n",
              "        dataTable['output_type'] = 'display_data';\n",
              "        await google.colab.output.renderOutput(dataTable, element);\n",
              "        const docLink = document.createElement('div');\n",
              "        docLink.innerHTML = docLinkHtml;\n",
              "        element.appendChild(docLink);\n",
              "      }\n",
              "    </script>\n",
              "  </div>\n",
              "\n",
              "\n",
              "    <div id=\"df-34c96ced-d1c2-4cf7-a4ac-157ee44bdffe\">\n",
              "      <button class=\"colab-df-quickchart\" onclick=\"quickchart('df-34c96ced-d1c2-4cf7-a4ac-157ee44bdffe')\"\n",
              "                title=\"Suggest charts\"\n",
              "                style=\"display:none;\">\n",
              "\n",
              "<svg xmlns=\"http://www.w3.org/2000/svg\" height=\"24px\"viewBox=\"0 0 24 24\"\n",
              "     width=\"24px\">\n",
              "    <g>\n",
              "        <path d=\"M19 3H5c-1.1 0-2 .9-2 2v14c0 1.1.9 2 2 2h14c1.1 0 2-.9 2-2V5c0-1.1-.9-2-2-2zM9 17H7v-7h2v7zm4 0h-2V7h2v10zm4 0h-2v-4h2v4z\"/>\n",
              "    </g>\n",
              "</svg>\n",
              "      </button>\n",
              "\n",
              "<style>\n",
              "  .colab-df-quickchart {\n",
              "      --bg-color: #E8F0FE;\n",
              "      --fill-color: #1967D2;\n",
              "      --hover-bg-color: #E2EBFA;\n",
              "      --hover-fill-color: #174EA6;\n",
              "      --disabled-fill-color: #AAA;\n",
              "      --disabled-bg-color: #DDD;\n",
              "  }\n",
              "\n",
              "  [theme=dark] .colab-df-quickchart {\n",
              "      --bg-color: #3B4455;\n",
              "      --fill-color: #D2E3FC;\n",
              "      --hover-bg-color: #434B5C;\n",
              "      --hover-fill-color: #FFFFFF;\n",
              "      --disabled-bg-color: #3B4455;\n",
              "      --disabled-fill-color: #666;\n",
              "  }\n",
              "\n",
              "  .colab-df-quickchart {\n",
              "    background-color: var(--bg-color);\n",
              "    border: none;\n",
              "    border-radius: 50%;\n",
              "    cursor: pointer;\n",
              "    display: none;\n",
              "    fill: var(--fill-color);\n",
              "    height: 32px;\n",
              "    padding: 0;\n",
              "    width: 32px;\n",
              "  }\n",
              "\n",
              "  .colab-df-quickchart:hover {\n",
              "    background-color: var(--hover-bg-color);\n",
              "    box-shadow: 0 1px 2px rgba(60, 64, 67, 0.3), 0 1px 3px 1px rgba(60, 64, 67, 0.15);\n",
              "    fill: var(--button-hover-fill-color);\n",
              "  }\n",
              "\n",
              "  .colab-df-quickchart-complete:disabled,\n",
              "  .colab-df-quickchart-complete:disabled:hover {\n",
              "    background-color: var(--disabled-bg-color);\n",
              "    fill: var(--disabled-fill-color);\n",
              "    box-shadow: none;\n",
              "  }\n",
              "\n",
              "  .colab-df-spinner {\n",
              "    border: 2px solid var(--fill-color);\n",
              "    border-color: transparent;\n",
              "    border-bottom-color: var(--fill-color);\n",
              "    animation:\n",
              "      spin 1s steps(1) infinite;\n",
              "  }\n",
              "\n",
              "  @keyframes spin {\n",
              "    0% {\n",
              "      border-color: transparent;\n",
              "      border-bottom-color: var(--fill-color);\n",
              "      border-left-color: var(--fill-color);\n",
              "    }\n",
              "    20% {\n",
              "      border-color: transparent;\n",
              "      border-left-color: var(--fill-color);\n",
              "      border-top-color: var(--fill-color);\n",
              "    }\n",
              "    30% {\n",
              "      border-color: transparent;\n",
              "      border-left-color: var(--fill-color);\n",
              "      border-top-color: var(--fill-color);\n",
              "      border-right-color: var(--fill-color);\n",
              "    }\n",
              "    40% {\n",
              "      border-color: transparent;\n",
              "      border-right-color: var(--fill-color);\n",
              "      border-top-color: var(--fill-color);\n",
              "    }\n",
              "    60% {\n",
              "      border-color: transparent;\n",
              "      border-right-color: var(--fill-color);\n",
              "    }\n",
              "    80% {\n",
              "      border-color: transparent;\n",
              "      border-right-color: var(--fill-color);\n",
              "      border-bottom-color: var(--fill-color);\n",
              "    }\n",
              "    90% {\n",
              "      border-color: transparent;\n",
              "      border-bottom-color: var(--fill-color);\n",
              "    }\n",
              "  }\n",
              "</style>\n",
              "\n",
              "      <script>\n",
              "        async function quickchart(key) {\n",
              "          const quickchartButtonEl =\n",
              "            document.querySelector('#' + key + ' button');\n",
              "          quickchartButtonEl.disabled = true;  // To prevent multiple clicks.\n",
              "          quickchartButtonEl.classList.add('colab-df-spinner');\n",
              "          try {\n",
              "            const charts = await google.colab.kernel.invokeFunction(\n",
              "                'suggestCharts', [key], {});\n",
              "          } catch (error) {\n",
              "            console.error('Error during call to suggestCharts:', error);\n",
              "          }\n",
              "          quickchartButtonEl.classList.remove('colab-df-spinner');\n",
              "          quickchartButtonEl.classList.add('colab-df-quickchart-complete');\n",
              "        }\n",
              "        (() => {\n",
              "          let quickchartButtonEl =\n",
              "            document.querySelector('#df-34c96ced-d1c2-4cf7-a4ac-157ee44bdffe button');\n",
              "          quickchartButtonEl.style.display =\n",
              "            google.colab.kernel.accessAllowed ? 'block' : 'none';\n",
              "        })();\n",
              "      </script>\n",
              "    </div>\n",
              "\n",
              "    </div>\n",
              "  </div>\n"
            ],
            "application/vnd.google.colaboratory.intrinsic+json": {
              "type": "dataframe",
              "summary": "{\n  \"name\": \"display(df[['first_review', 'last_review', 'days_since_first_review', 'days_since_last_review', 'review_duration']]\",\n  \"rows\": 5,\n  \"fields\": [\n    {\n      \"column\": \"first_review\",\n      \"properties\": {\n        \"dtype\": \"date\",\n        \"min\": \"2015-05-12 00:00:00\",\n        \"max\": \"2017-08-05 00:00:00\",\n        \"num_unique_values\": 4,\n        \"samples\": [\n          \"2017-08-05 00:00:00\",\n          \"2015-05-12 00:00:00\",\n          \"2016-06-18 00:00:00\"\n        ],\n        \"semantic_type\": \"\",\n        \"description\": \"\"\n      }\n    },\n    {\n      \"column\": \"last_review\",\n      \"properties\": {\n        \"dtype\": \"date\",\n        \"min\": \"2016-07-18 00:00:00\",\n        \"max\": \"2017-09-23 00:00:00\",\n        \"num_unique_values\": 4,\n        \"samples\": [\n          \"2017-09-23 00:00:00\",\n          \"2017-01-22 00:00:00\",\n          \"2016-07-18 00:00:00\"\n        ],\n        \"semantic_type\": \"\",\n        \"description\": \"\"\n      }\n    },\n    {\n      \"column\": \"days_since_first_review\",\n      \"properties\": {\n        \"dtype\": \"number\",\n        \"std\": 367.99682969648893,\n        \"min\": 2890.0,\n        \"max\": 3706.0,\n        \"num_unique_values\": 4,\n        \"samples\": [\n          2890.0,\n          3706.0,\n          3303.0\n        ],\n        \"semantic_type\": \"\",\n        \"description\": \"\"\n      }\n    },\n    {\n      \"column\": \"days_since_last_review\",\n      \"properties\": {\n        \"dtype\": \"number\",\n        \"std\": 207.31196299297346,\n        \"min\": 2841.0,\n        \"max\": 3273.0,\n        \"num_unique_values\": 4,\n        \"samples\": [\n          2841.0,\n          3085.0,\n          3273.0\n        ],\n        \"semantic_type\": \"\",\n        \"description\": \"\"\n      }\n    },\n    {\n      \"column\": \"review_duration\",\n      \"properties\": {\n        \"dtype\": \"number\",\n        \"std\": 278.4293746476235,\n        \"min\": 30.0,\n        \"max\": 621.0,\n        \"num_unique_values\": 4,\n        \"samples\": [\n          49.0,\n          621.0,\n          30.0\n        ],\n        \"semantic_type\": \"\",\n        \"description\": \"\"\n      }\n    }\n  ]\n}"
            }
          },
          "metadata": {}
        }
      ]
    },
    {
      "cell_type": "markdown",
      "source": [
        "[Full EDA and prediction example](https://www.kaggle.com/code/kevinnkansah/airbnb-eda-catboost-r2-score-0-72#Data-Visualization)"
      ],
      "metadata": {
        "id": "6FUoTvFvtc_1"
      }
    }
  ]
}