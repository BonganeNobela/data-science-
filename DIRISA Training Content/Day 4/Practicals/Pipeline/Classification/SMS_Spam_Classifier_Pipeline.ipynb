{
 "cells": [
  {
   "cell_type": "markdown",
   "id": "d6490a1b",
   "metadata": {},
   "source": [
    "# 🤖 SMS Spam Classification - Final Pipeline Version"
   ]
  },
  {
   "cell_type": "code",
   "execution_count": 1,
   "id": "ef21bb1a",
   "metadata": {},
   "outputs": [],
   "source": [
    "import pandas as pd\n",
    "from sklearn.model_selection import train_test_split, GridSearchCV\n",
    "from sklearn.feature_extraction.text import TfidfVectorizer\n",
    "from sklearn.pipeline import Pipeline\n",
    "from sklearn.linear_model import LogisticRegression\n",
    "from sklearn.naive_bayes import MultinomialNB\n",
    "from sklearn.ensemble import RandomForestClassifier\n",
    "from sklearn.svm import LinearSVC\n",
    "from sklearn.metrics import accuracy_score, f1_score, classification_report\n",
    "import joblib\n",
    "import warnings\n",
    "warnings.filterwarnings(\"ignore\")"
   ]
  },
  {
   "cell_type": "markdown",
   "id": "d855c8d4",
   "metadata": {},
   "source": [
    "## 📥 Load and Prepare Data"
   ]
  },
  {
   "cell_type": "code",
   "execution_count": 2,
   "id": "1fd52760",
   "metadata": {},
   "outputs": [],
   "source": [
    "url = \"https://raw.githubusercontent.com/justmarkham/pycon-2016-tutorial/master/data/sms.tsv\"\n",
    "df = pd.read_table(url, header=0, names=[\"label\", \"message\"])\n",
    "df['label'] = df['label'].map({'ham': 0, 'spam': 1})\n",
    "X = df['message']\n",
    "y = df['label']"
   ]
  },
  {
   "cell_type": "markdown",
   "id": "05a965f8",
   "metadata": {},
   "source": [
    "## ✂️ Train-Test Split"
   ]
  },
  {
   "cell_type": "code",
   "execution_count": 3,
   "id": "01da68bd",
   "metadata": {},
   "outputs": [],
   "source": [
    "X_train, X_test, y_train, y_test = train_test_split(X, y, test_size=0.2, random_state=42)"
   ]
  },
  {
   "cell_type": "markdown",
   "id": "c1975b4b",
   "metadata": {},
   "source": [
    "## 🔍 Compare Multiple Models with Pipeline"
   ]
  },
  {
   "cell_type": "code",
   "execution_count": 4,
   "id": "852dfc5d",
   "metadata": {},
   "outputs": [
    {
     "data": {
      "application/vnd.microsoft.datawrangler.viewer.v0+json": {
       "columns": [
        {
         "name": "index",
         "rawType": "int64",
         "type": "integer"
        },
        {
         "name": "Model",
         "rawType": "object",
         "type": "string"
        },
        {
         "name": "Accuracy",
         "rawType": "float64",
         "type": "float"
        },
        {
         "name": "F1 Score",
         "rawType": "float64",
         "type": "float"
        }
       ],
       "ref": "fa9d4a36-9252-409c-8636-9645be51fe97",
       "rows": [
        [
         "3",
         "SVM",
         "0.9856502242152466",
         "0.948051948051948"
        ],
        [
         "2",
         "Random Forest",
         "0.9829596412556054",
         "0.9372937293729373"
        ],
        [
         "1",
         "Naive Bayes",
         "0.9766816143497757",
         "0.9115646258503401"
        ],
        [
         "0",
         "Logistic Regression",
         "0.9704035874439462",
         "0.8858131487889274"
        ]
       ],
       "shape": {
        "columns": 3,
        "rows": 4
       }
      },
      "text/html": [
       "<div>\n",
       "<style scoped>\n",
       "    .dataframe tbody tr th:only-of-type {\n",
       "        vertical-align: middle;\n",
       "    }\n",
       "\n",
       "    .dataframe tbody tr th {\n",
       "        vertical-align: top;\n",
       "    }\n",
       "\n",
       "    .dataframe thead th {\n",
       "        text-align: right;\n",
       "    }\n",
       "</style>\n",
       "<table border=\"1\" class=\"dataframe\">\n",
       "  <thead>\n",
       "    <tr style=\"text-align: right;\">\n",
       "      <th></th>\n",
       "      <th>Model</th>\n",
       "      <th>Accuracy</th>\n",
       "      <th>F1 Score</th>\n",
       "    </tr>\n",
       "  </thead>\n",
       "  <tbody>\n",
       "    <tr>\n",
       "      <th>3</th>\n",
       "      <td>SVM</td>\n",
       "      <td>0.985650</td>\n",
       "      <td>0.948052</td>\n",
       "    </tr>\n",
       "    <tr>\n",
       "      <th>2</th>\n",
       "      <td>Random Forest</td>\n",
       "      <td>0.982960</td>\n",
       "      <td>0.937294</td>\n",
       "    </tr>\n",
       "    <tr>\n",
       "      <th>1</th>\n",
       "      <td>Naive Bayes</td>\n",
       "      <td>0.976682</td>\n",
       "      <td>0.911565</td>\n",
       "    </tr>\n",
       "    <tr>\n",
       "      <th>0</th>\n",
       "      <td>Logistic Regression</td>\n",
       "      <td>0.970404</td>\n",
       "      <td>0.885813</td>\n",
       "    </tr>\n",
       "  </tbody>\n",
       "</table>\n",
       "</div>"
      ],
      "text/plain": [
       "                 Model  Accuracy  F1 Score\n",
       "3                  SVM  0.985650  0.948052\n",
       "2        Random Forest  0.982960  0.937294\n",
       "1          Naive Bayes  0.976682  0.911565\n",
       "0  Logistic Regression  0.970404  0.885813"
      ]
     },
     "execution_count": 4,
     "metadata": {},
     "output_type": "execute_result"
    }
   ],
   "source": [
    "models = {\n",
    "    \"Logistic Regression\": LogisticRegression(max_iter=1000),\n",
    "    \"Naive Bayes\": MultinomialNB(),\n",
    "    \"Random Forest\": RandomForestClassifier(n_estimators=100, random_state=42),\n",
    "    \"SVM\": LinearSVC()\n",
    "}\n",
    "\n",
    "results = []\n",
    "\n",
    "for name, model in models.items():\n",
    "    pipe = Pipeline([\n",
    "        (\"tfidf\", TfidfVectorizer(max_features=3000)),\n",
    "        (\"clf\", model)\n",
    "    ])\n",
    "    pipe.fit(X_train, y_train)\n",
    "    y_pred = pipe.predict(X_test)\n",
    "    acc = accuracy_score(y_test, y_pred)\n",
    "    f1 = f1_score(y_test, y_pred)\n",
    "    results.append({\"Model\": name, \"Accuracy\": acc, \"F1 Score\": f1})\n",
    "\n",
    "results_df = pd.DataFrame(results).sort_values(by=\"F1 Score\", ascending=False)\n",
    "results_df"
   ]
  },
  {
   "cell_type": "code",
   "execution_count": 5,
   "id": "7ead262b",
   "metadata": {},
   "outputs": [
    {
     "name": "stdout",
     "output_type": "stream",
     "text": [
      "✅ Best Model: SVM\n"
     ]
    }
   ],
   "source": [
    "best_model_name = results_df.iloc[0][\"Model\"]\n",
    "print(\"✅ Best Model:\", best_model_name)"
   ]
  },
  {
   "cell_type": "markdown",
   "id": "79222676",
   "metadata": {},
   "source": [
    "## 🛠️ Hyperparameter Tuning on Best Model"
   ]
  },
  {
   "cell_type": "code",
   "execution_count": 6,
   "id": "bfaca54c",
   "metadata": {},
   "outputs": [
    {
     "name": "stdout",
     "output_type": "stream",
     "text": [
      "✅ Best parameters found and model trained.\n"
     ]
    }
   ],
   "source": [
    "# Re-select best model\n",
    "best_model = models[best_model_name]\n",
    "\n",
    "pipeline = Pipeline([\n",
    "    (\"tfidf\", TfidfVectorizer(max_features=3000)),\n",
    "    (\"clf\", best_model)\n",
    "])\n",
    "\n",
    "param_grid = {\n",
    "    \"clf__C\": [0.1, 1.0, 10.0] if \"Logistic\" in best_model_name or \"SVM\" in best_model_name else [],\n",
    "    \"clf__alpha\": [0.5, 1.0] if \"Naive\" in best_model_name else [],\n",
    "    \"clf__n_estimators\": [100, 200] if \"Random\" in best_model_name else []\n",
    "}\n",
    "\n",
    "# Filter out empty params\n",
    "param_grid = {k: v for k, v in param_grid.items() if v}\n",
    "\n",
    "if param_grid:\n",
    "    grid_search = GridSearchCV(pipeline, param_grid, scoring=\"f1\", cv=5)\n",
    "    grid_search.fit(X_train, y_train)\n",
    "    final_model = grid_search.best_estimator_\n",
    "    print(\"✅ Best parameters found and model trained.\")\n",
    "else:\n",
    "    pipeline.fit(X_train, y_train)\n",
    "    final_model = pipeline\n",
    "    print(\"ℹ️ No hyperparameters to tune. Model trained with default settings.\")"
   ]
  },
  {
   "cell_type": "markdown",
   "id": "fdc92795",
   "metadata": {},
   "source": [
    "## 💾 Save Final Pipeline"
   ]
  },
  {
   "cell_type": "code",
   "execution_count": 7,
   "id": "55edf92f",
   "metadata": {},
   "outputs": [
    {
     "name": "stdout",
     "output_type": "stream",
     "text": [
      "📁 Model pipeline saved as spam_classifier_pipeline.pkl\n"
     ]
    }
   ],
   "source": [
    "joblib.dump(final_model, \"spam_classifier_pipeline.pkl\")\n",
    "print(\"📁 Model pipeline saved as spam_classifier_pipeline.pkl\")"
   ]
  },
  {
   "cell_type": "markdown",
   "id": "bdde16eb",
   "metadata": {},
   "source": [
    "## ✅ Predict a New Sample Message"
   ]
  },
  {
   "cell_type": "code",
   "execution_count": 8,
   "id": "01910d47",
   "metadata": {},
   "outputs": [
    {
     "name": "stdout",
     "output_type": "stream",
     "text": [
      "🔮 Prediction: Spam\n"
     ]
    }
   ],
   "source": [
    "sample = [\"Congratulations! You've won a free ticket. Click here to claim now!\"]\n",
    "prediction = final_model.predict(sample)\n",
    "label = \"Spam\" if prediction[0] == 1 else \"Ham\"\n",
    "print(f\"🔮 Prediction: {label}\")"
   ]
  }
 ],
 "metadata": {
  "kernelspec": {
   "display_name": "Python 3",
   "language": "python",
   "name": "python3"
  },
  "language_info": {
   "codemirror_mode": {
    "name": "ipython",
    "version": 3
   },
   "file_extension": ".py",
   "mimetype": "text/x-python",
   "name": "python",
   "nbconvert_exporter": "python",
   "pygments_lexer": "ipython3",
   "version": "3.13.2"
  }
 },
 "nbformat": 4,
 "nbformat_minor": 5
}
