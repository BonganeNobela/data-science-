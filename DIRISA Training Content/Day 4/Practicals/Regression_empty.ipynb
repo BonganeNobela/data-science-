{
 "cells": [
  {
   "cell_type": "markdown",
   "id": "c0f20707",
   "metadata": {},
   "source": [
    "## Import Libraries"
   ]
  },
  {
   "cell_type": "markdown",
   "id": "747903e1",
   "metadata": {},
   "source": [
    "##  Load Dataset"
   ]
  },
  {
   "cell_type": "markdown",
   "id": "ee50c3b2",
   "metadata": {},
   "source": [
    "## Check Info and Missing Values"
   ]
  },
  {
   "cell_type": "markdown",
   "id": "71ea8478",
   "metadata": {},
   "source": [
    "## Correlation Heatmap"
   ]
  },
  {
   "cell_type": "markdown",
   "id": "166e48ed",
   "metadata": {},
   "source": [
    "## Feature and Target Split"
   ]
  },
  {
   "cell_type": "markdown",
   "id": "91add267",
   "metadata": {},
   "source": [
    "## Standardize Features"
   ]
  },
  {
   "cell_type": "markdown",
   "id": "cd5da6e4",
   "metadata": {},
   "source": [
    "## Split Dataset"
   ]
  },
  {
   "cell_type": "markdown",
   "id": "8d8ec1ac",
   "metadata": {},
   "source": [
    "## Split Dataset"
   ]
  },
  {
   "cell_type": "markdown",
   "id": "8099d5a9",
   "metadata": {},
   "source": [
    "## Evaluate Models using Cross-Validation"
   ]
  },
  {
   "cell_type": "markdown",
   "id": "aeccc255",
   "metadata": {},
   "source": [
    "## Select Best Model"
   ]
  },
  {
   "cell_type": "markdown",
   "id": "7fde3080",
   "metadata": {},
   "source": [
    "## Train Best Model on Full Training Data"
   ]
  },
  {
   "cell_type": "markdown",
   "id": "d54dc6fa",
   "metadata": {},
   "source": [
    "## Evaluate Final Model"
   ]
  },
  {
   "cell_type": "markdown",
   "id": "c10d975f",
   "metadata": {},
   "source": [
    "## Actual vs Predicted Plot"
   ]
  }
 ],
 "metadata": {
  "language_info": {
   "name": "python"
  }
 },
 "nbformat": 4,
 "nbformat_minor": 5
}
