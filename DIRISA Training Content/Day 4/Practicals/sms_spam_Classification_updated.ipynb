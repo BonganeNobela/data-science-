{
 "cells": [
  {
   "cell_type": "markdown",
   "id": "4756c93c",
   "metadata": {},
   "source": [
    "📘 SMS Spam Classification Notebook"
   ]
  },
  {
   "cell_type": "markdown",
   "id": "d4207f1c",
   "metadata": {},
   "source": [
    "## Import libraries"
   ]
  },
  {
   "cell_type": "code",
   "execution_count": null,
   "id": "fcb56e09",
   "metadata": {},
   "outputs": [],
   "source": [
    "\n",
    "import pandas as pd\n",
    "from sklearn.model_selection import train_test_split\n",
    "from sklearn.feature_extraction.text import TfidfVectorizer\n",
    "from sklearn.pipeline import Pipeline\n",
    "from sklearn.linear_model import LogisticRegression\n",
    "from sklearn.naive_bayes import MultinomialNB\n",
    "from sklearn.ensemble import RandomForestClassifier\n",
    "from sklearn.svm import LinearSVC\n",
    "from sklearn.metrics import accuracy_score, f1_score, classification_report\n",
    "import joblib\n",
    "import warnings\n",
    "warnings.filterwarnings(\"ignore\")"
   ]
  },
  {
   "cell_type": "markdown",
   "id": "d9026c83",
   "metadata": {},
   "source": [
    "## Load the dataset"
   ]
  },
  {
   "cell_type": "code",
   "execution_count": null,
   "id": "a9034632",
   "metadata": {},
   "outputs": [],
   "source": [
    "\n",
    "url = \"https://raw.githubusercontent.com/justmarkham/pycon-2016-tutorial/master/data/sms.tsv\"\n",
    "df = pd.read_table(url, header=0, names=[\"label\", \"message\"])"
   ]
  },
  {
   "cell_type": "markdown",
   "id": "9979e76c",
   "metadata": {},
   "source": [
    "##  Convert labels to binary"
   ]
  },
  {
   "cell_type": "code",
   "execution_count": null,
   "id": "83c587e6",
   "metadata": {},
   "outputs": [],
   "source": [
    "\n",
    "df['label'] = df['label'].map({'ham': 0, 'spam': 1})"
   ]
  },
  {
   "cell_type": "markdown",
   "id": "ed20b63c",
   "metadata": {},
   "source": [
    "## Features and labels"
   ]
  },
  {
   "cell_type": "code",
   "execution_count": null,
   "id": "c5c75cc5",
   "metadata": {},
   "outputs": [],
   "source": [
    "\n",
    "X = df['message']\n",
    "y = df['label']"
   ]
  },
  {
   "cell_type": "markdown",
   "id": "d904d0f2",
   "metadata": {},
   "source": [
    "## Split into train/test"
   ]
  },
  {
   "cell_type": "code",
   "execution_count": null,
   "id": "d87f2544",
   "metadata": {},
   "outputs": [],
   "source": [
    "X_train, X_test, y_train, y_test = train_test_split(X, y, test_size=0.2, random_state=42)"
   ]
  },
  {
   "cell_type": "markdown",
   "id": "f2d69212",
   "metadata": {},
   "source": [
    "## Vectorize the text data using TF-IDF"
   ]
  },
  {
   "cell_type": "code",
   "execution_count": null,
   "id": "7eb6b462",
   "metadata": {},
   "outputs": [],
   "source": [
    "tfidf = TfidfVectorizer(max_features=3000)\n",
    "X_train_vec = tfidf.fit_transform(X_train)\n",
    "X_test_vec = tfidf.transform(X_test)\n"
   ]
  },
  {
   "cell_type": "markdown",
   "id": "826aa2f8",
   "metadata": {},
   "source": [
    "##  Define models"
   ]
  },
  {
   "cell_type": "code",
   "execution_count": null,
   "id": "967b109f",
   "metadata": {},
   "outputs": [],
   "source": [
    "\n",
    "models = {\n",
    "    'Logistic Regression': LogisticRegression(max_iter=1000),\n",
    "    'Naive Bayes': MultinomialNB(),\n",
    "    'Random Forest': RandomForestClassifier(n_estimators=100, random_state=42),\n",
    "    'SVM': LinearSVC()\n",
    "}"
   ]
  },
  {
   "cell_type": "markdown",
   "id": "00a40693",
   "metadata": {},
   "source": [
    "### Train the model"
   ]
  },
  {
   "cell_type": "code",
   "execution_count": 13,
   "id": "5972385c",
   "metadata": {},
   "outputs": [
    {
     "name": "stdout",
     "output_type": "stream",
     "text": [
      "                 Model  Accuracy  F1 Score\n",
      "0  Logistic Regression  0.970404  0.885813\n",
      "1          Naive Bayes  0.976682  0.911565\n",
      "2        Random Forest  0.982960  0.937294\n",
      "3                  SVM  0.985650  0.948052\n"
     ]
    }
   ],
   "source": [
    "results = []\n",
    "for name, model in models.items():\n",
    "    # Train the model\n",
    "    model.fit(X_train_vec, y_train)\n",
    "\n",
    "    # Make predictions\n",
    "    y_pred = model.predict(X_test_vec)\n",
    "\n",
    "    # Evaluate\n",
    "    acc = accuracy_score(y_test, y_pred)\n",
    "    f1 = f1_score(y_test, y_pred, pos_label=1)  # Use 1 if 'spam' is encoded as 1\n",
    "\n",
    "    # Store results\n",
    "    results.append({\n",
    "        'Model': name,\n",
    "        'Accuracy': acc,\n",
    "        'F1 Score': f1\n",
    "    })\n",
    "\n",
    "# 5. Display results\n",
    "results_df = pd.DataFrame(results)\n",
    "print(results_df)"
   ]
  },
  {
   "cell_type": "markdown",
   "id": "8a185ebd",
   "metadata": {},
   "source": [
    "## View best model "
   ]
  },
  {
   "cell_type": "code",
   "execution_count": null,
   "id": "ea68fd1d",
   "metadata": {},
   "outputs": [
    {
     "name": "stdout",
     "output_type": "stream",
     "text": [
      "\n",
      "✅ Best model: SVM\n"
     ]
    }
   ],
   "source": [
    "\n",
    "best_model_name = results_df.iloc[0]['Model']\n",
    "print(f\"\\n✅ Best model: {best_model_name}\")"
   ]
  },
  {
   "cell_type": "markdown",
   "id": "0859c228",
   "metadata": {},
   "source": [
    "## Prediction"
   ]
  },
  {
   "cell_type": "code",
   "execution_count": null,
   "id": "c3068fd9",
   "metadata": {},
   "outputs": [
    {
     "name": "stdout",
     "output_type": "stream",
     "text": [
      "Prediction: 1\n"
     ]
    }
   ],
   "source": [
    "# Make a prediction on a new message\n",
    "new_message = [\"Congratulations! You've won a free iPhone! Click here to claim now.\"]\n",
    "\n",
    "# Convert the new message into numbers using the same vectorizer\n",
    "new_message_vec = tfidf.transform(new_message)\n",
    "\n",
    "\n",
    "# Predict using the trained model\n",
    "best_model = models[best_model_name] # create a reference to the best model\n",
    "prediction = best_model.predict(new_message_vec) # make the prediction\n",
    "\n",
    "# Print the result\n",
    "print(\"Prediction:\", prediction[0]) # 0 for 'ham', 1 for 'spam'"
   ]
  }
 ],
 "metadata": {
  "jupytext": {
   "cell_metadata_filter": "-all",
   "main_language": "python",
   "notebook_metadata_filter": "-all"
  },
  "kernelspec": {
   "display_name": "Python 3",
   "language": "python",
   "name": "python3"
  },
  "language_info": {
   "codemirror_mode": {
    "name": "ipython",
    "version": 3
   },
   "file_extension": ".py",
   "mimetype": "text/x-python",
   "name": "python",
   "nbconvert_exporter": "python",
   "pygments_lexer": "ipython3",
   "version": "3.13.2"
  }
 },
 "nbformat": 4,
 "nbformat_minor": 5
}
