{
 "cells": [
  {
   "cell_type": "markdown",
   "id": "03ebc79b",
   "metadata": {},
   "source": [
    "## How to Calculate Mean, Median, and Mode\n",
    "Assume you have a dataset:\n",
    "\n",
    "data = [4, 7, 6, 3, 9, 6, 6, 8, 5]"
   ]
  },
  {
   "cell_type": "code",
   "execution_count": 1,
   "id": "b5176b71",
   "metadata": {},
   "outputs": [],
   "source": [
    "data = [4, 7, 6, 3, 9, 6, 6, 8, 5]"
   ]
  },
  {
   "cell_type": "markdown",
   "id": "633abea3",
   "metadata": {},
   "source": [
    "## Mean (Average):\n",
    "\n",
    "Sum of all values divided by the count of values.\n"
   ]
  },
  {
   "cell_type": "code",
   "execution_count": 2,
   "id": "dc6bf8bd",
   "metadata": {},
   "outputs": [
    {
     "name": "stdout",
     "output_type": "stream",
     "text": [
      "6.0\n"
     ]
    }
   ],
   "source": [
    "mean = sum(data) / len(data)\n",
    "print(mean)"
   ]
  },
  {
   "cell_type": "markdown",
   "id": "a7124fa5",
   "metadata": {},
   "source": [
    "## Median (Middle Value):\n",
    "\n",
    "The middle number when data is sorted. If even count, average of the two middle numbers."
   ]
  },
  {
   "cell_type": "code",
   "execution_count": 3,
   "id": "678a4e97",
   "metadata": {},
   "outputs": [
    {
     "name": "stdout",
     "output_type": "stream",
     "text": [
      "The median is: 6\n"
     ]
    }
   ],
   "source": [
    "sorted_data = sorted(data)\n",
    "n = len(sorted_data)\n",
    "if n % 2 == 1:\n",
    "    median = sorted_data[n // 2]\n",
    "else:\n",
    "    median = (sorted_data[n // 2 - 1] + sorted_data[n // 2]) / 2\n",
    "print(f\"The median is: {median}\")"
   ]
  },
  {
   "cell_type": "markdown",
   "id": "1bf4f25a",
   "metadata": {},
   "source": [
    "## Mode (Most Frequent Value):\n",
    "\n",
    "The value that appears most often."
   ]
  },
  {
   "cell_type": "code",
   "execution_count": 4,
   "id": "c338d4b9",
   "metadata": {},
   "outputs": [
    {
     "name": "stdout",
     "output_type": "stream",
     "text": [
      "The mode is: 6\n"
     ]
    }
   ],
   "source": [
    "from collections import Counter\n",
    "\n",
    "counts = Counter(data)\n",
    "mode = counts.most_common(1)[0][0]\n",
    "print(f\"The mode is: {mode}\")"
   ]
  },
  {
   "cell_type": "markdown",
   "id": "9be543dd",
   "metadata": {},
   "source": [
    "### Alternatively, use Python's built-in libraries:\n",
    "For Pythonist ones "
   ]
  },
  {
   "cell_type": "code",
   "execution_count": 5,
   "id": "18e3334b",
   "metadata": {},
   "outputs": [
    {
     "name": "stdout",
     "output_type": "stream",
     "text": [
      "Mean: 6, Median: 6, Mode: 6\n"
     ]
    }
   ],
   "source": [
    "import statistics\n",
    "\n",
    "mean = statistics.mean(data)\n",
    "median = statistics.median(data)\n",
    "mode = statistics.mode(data)\n",
    "print(f\"Mean: {mean}, Median: {median}, Mode: {mode}\")"
   ]
  },
  {
   "cell_type": "markdown",
   "id": "30cf1e4c",
   "metadata": {},
   "source": [
    "## Plot the graph:\n",
    "\n",
    "Since the mean, mode and media are equal, should give us normal distribution graph (bell curve)"
   ]
  },
  {
   "cell_type": "code",
   "execution_count": 6,
   "id": "12cdfa54",
   "metadata": {},
   "outputs": [
    {
     "name": "stdout",
     "output_type": "stream",
     "text": [
      "Mean: 6.0\n",
      "Median: 6\n",
      "Mode: 6\n"
     ]
    },
    {
     "data": {
      "image/png": "[encoded data removed]",
      "text/plain": [
       "<Figure size 640x480 with 1 Axes>"
      ]
     },
     "metadata": {},
     "output_type": "display_data"
    }
   ],
   "source": [
    "import matplotlib.pyplot as plt\n",
    "from collections import Counter\n",
    "\n",
    "# Sample data\n",
    "data = [4, 7, 6, 3, 9, 6, 6, 8, 5]\n",
    "\n",
    "# Sort and compute median\n",
    "sorted_data = sorted(data)\n",
    "n = len(sorted_data)\n",
    "\n",
    "if n % 2 == 1:\n",
    "    median = sorted_data[n // 2]\n",
    "else:\n",
    "    median = (sorted_data[n // 2 - 1] + sorted_data[n // 2]) / 2\n",
    "\n",
    "# Compute mean\n",
    "mean = sum(data) / len(data)\n",
    "\n",
    "# Compute mode\n",
    "counts = Counter(data)\n",
    "mode = counts.most_common(1)[0][0]\n",
    "\n",
    "# Print values\n",
    "print(\"Mean:\", mean)\n",
    "print(\"Median:\", median)\n",
    "print(\"Mode:\", mode)\n",
    "\n",
    "# Plot histogram\n",
    "plt.hist(data, bins=range(min(data), max(data)+2), edgecolor='black', alpha=0.6, color='skyblue')\n",
    "\n",
    "# Add vertical lines for mean, median, and mode\n",
    "plt.axvline(mean, color='red', linestyle='--', label=f'Mean: {mean:.2f}')\n",
    "plt.axvline(median, color='green', linestyle='--', label=f'Median: {median}')\n",
    "plt.axvline(mode, color='purple', linestyle='--', label=f'Mode: {mode}')\n",
    "\n",
    "# Labeling\n",
    "plt.title(\"Data Distribution with Mean, Median, Mode\")\n",
    "plt.xlabel(\"Value\")\n",
    "plt.ylabel(\"Frequency\")\n",
    "plt.legend()\n",
    "plt.grid(True)\n",
    "plt.show()\n"
   ]
  },
  {
   "cell_type": "markdown",
   "id": "2e8b7e24",
   "metadata": {},
   "source": [
    "# Quick Guide:\n",
    "- Use **mean** if your data is symmetrical and doesn’t have outliers.\n",
    "\n",
    "- Use **median** if your data is skewed or contains outliers.\n",
    "\n",
    "- Use **mode** if you're analyzing categorical data or want the most frequent value."
   ]
  }
 ],
 "metadata": {
  "kernelspec": {
   "display_name": "Python 3",
   "language": "python",
   "name": "python3"
  },
  "language_info": {
   "codemirror_mode": {
    "name": "ipython",
    "version": 3
   },
   "file_extension": ".py",
   "mimetype": "text/x-python",
   "name": "python",
   "nbconvert_exporter": "python",
   "pygments_lexer": "ipython3",
   "version": "3.11.5"
  }
 },
 "nbformat": 4,
 "nbformat_minor": 5
}
