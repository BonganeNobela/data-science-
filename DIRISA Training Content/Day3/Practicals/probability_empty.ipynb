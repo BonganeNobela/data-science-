{
  "cells": [
    {
      "cell_type": "markdown",
      "metadata": {},
      "source": [
        "# Naive Bayes Message Classification\n",
        "\n",
        "This notebook demonstrates a simple **Naive Bayes classifier** using word probabilities to classify short messages as either **spam** or **ham (not spam)**.\n"
      ]
    },
    {
      "cell_type": "code",
      "execution_count": 1,
      "metadata": {},
      "outputs": [],
      "source": [
        "import pandas as pd\n",
        "from collections import Counter"
      ]
    },
    {
      "cell_type": "markdown",
      "metadata": {},
      "source": [
        "## Step 1: Define the dataset\n",
        "\n",
        "We start with a small sample dataset of labeled messages.\n"
      ]
    },
    {
      "cell_type": "code",
      "execution_count": null,
      "metadata": {},
      "outputs": [
        {
          "data": {
            "application/vnd.microsoft.datawrangler.viewer.v0+json": {
              "columns": [
                {
                  "name": "index",
                  "rawType": "int64",
                  "type": "integer"
                },
                {
                  "name": "message",
                  "rawType": "object",
                  "type": "string"
                },
                {
                  "name": "label",
                  "rawType": "object",
                  "type": "string"
                }
              ],
              "ref": "c338aab5-38e0-4a49-abc1-73eabd01404b",
              "rows": [
                [
                  "0",
                  "free money now",
                  "spam"
                ],
                [
                  "1",
                  "call now for free prize",
                  "spam"
                ],
                [
                  "2",
                  "hello how are you",
                  "ham"
                ],
                [
                  "3",
                  "meet me at noon",
                  "ham"
                ],
                [
                  "4",
                  "win free ticket now",
                  "spam"
                ]
              ],
              "shape": {
                "columns": 2,
                "rows": 5
              }
            },
            "text/html": [
              "<div>\n",
              "<style scoped>\n",
              "    .dataframe tbody tr th:only-of-type {\n",
              "        vertical-align: middle;\n",
              "    }\n",
              "\n",
              "    .dataframe tbody tr th {\n",
              "        vertical-align: top;\n",
              "    }\n",
              "\n",
              "    .dataframe thead th {\n",
              "        text-align: right;\n",
              "    }\n",
              "</style>\n",
              "<table border=\"1\" class=\"dataframe\">\n",
              "  <thead>\n",
              "    <tr style=\"text-align: right;\">\n",
              "      <th></th>\n",
              "      <th>message</th>\n",
              "      <th>label</th>\n",
              "    </tr>\n",
              "  </thead>\n",
              "  <tbody>\n",
              "    <tr>\n",
              "      <th>0</th>\n",
              "      <td>free money now</td>\n",
              "      <td>spam</td>\n",
              "    </tr>\n",
              "    <tr>\n",
              "      <th>1</th>\n",
              "      <td>call now for free prize</td>\n",
              "      <td>spam</td>\n",
              "    </tr>\n",
              "    <tr>\n",
              "      <th>2</th>\n",
              "      <td>hello how are you</td>\n",
              "      <td>ham</td>\n",
              "    </tr>\n",
              "    <tr>\n",
              "      <th>3</th>\n",
              "      <td>meet me at noon</td>\n",
              "      <td>ham</td>\n",
              "    </tr>\n",
              "    <tr>\n",
              "      <th>4</th>\n",
              "      <td>win free ticket now</td>\n",
              "      <td>spam</td>\n",
              "    </tr>\n",
              "  </tbody>\n",
              "</table>\n",
              "</div>"
            ],
            "text/plain": [
              "                   message label\n",
              "0           free money now  spam\n",
              "1  call now for free prize  spam\n",
              "2        hello how are you   ham\n",
              "3          meet me at noon   ham\n",
              "4      win free ticket now  spam"
            ]
          },
          "execution_count": 2,
          "metadata": {},
          "output_type": "execute_result"
        }
      ],
      "source": []
    },
    {
      "cell_type": "markdown",
      "metadata": {},
      "source": [
        "## Step 2: Tokenize Messages\n",
        "\n",
        "We split each message into lowercase words (tokens) for word frequency analysis.\n"
      ]
    },
    {
      "cell_type": "code",
      "execution_count": null,
      "metadata": {},
      "outputs": [
        {
          "data": {
            "application/vnd.microsoft.datawrangler.viewer.v0+json": {
              "columns": [
                {
                  "name": "index",
                  "rawType": "int64",
                  "type": "integer"
                },
                {
                  "name": "message",
                  "rawType": "object",
                  "type": "string"
                },
                {
                  "name": "label",
                  "rawType": "object",
                  "type": "string"
                },
                {
                  "name": "tokens",
                  "rawType": "object",
                  "type": "string"
                }
              ],
              "ref": "b09af474-3578-4417-bb3b-c96cbecedde2",
              "rows": [
                [
                  "0",
                  "free money now",
                  "spam",
                  "['free', 'money', 'now']"
                ],
                [
                  "1",
                  "call now for free prize",
                  "spam",
                  "['call', 'now', 'for', 'free', 'prize']"
                ],
                [
                  "2",
                  "hello how are you",
                  "ham",
                  "['hello', 'how', 'are', 'you']"
                ],
                [
                  "3",
                  "meet me at noon",
                  "ham",
                  "['meet', 'me', 'at', 'noon']"
                ],
                [
                  "4",
                  "win free ticket now",
                  "spam",
                  "['win', 'free', 'ticket', 'now']"
                ]
              ],
              "shape": {
                "columns": 3,
                "rows": 5
              }
            },
            "text/html": [
              "<div>\n",
              "<style scoped>\n",
              "    .dataframe tbody tr th:only-of-type {\n",
              "        vertical-align: middle;\n",
              "    }\n",
              "\n",
              "    .dataframe tbody tr th {\n",
              "        vertical-align: top;\n",
              "    }\n",
              "\n",
              "    .dataframe thead th {\n",
              "        text-align: right;\n",
              "    }\n",
              "</style>\n",
              "<table border=\"1\" class=\"dataframe\">\n",
              "  <thead>\n",
              "    <tr style=\"text-align: right;\">\n",
              "      <th></th>\n",
              "      <th>message</th>\n",
              "      <th>label</th>\n",
              "      <th>tokens</th>\n",
              "    </tr>\n",
              "  </thead>\n",
              "  <tbody>\n",
              "    <tr>\n",
              "      <th>0</th>\n",
              "      <td>free money now</td>\n",
              "      <td>spam</td>\n",
              "      <td>[free, money, now]</td>\n",
              "    </tr>\n",
              "    <tr>\n",
              "      <th>1</th>\n",
              "      <td>call now for free prize</td>\n",
              "      <td>spam</td>\n",
              "      <td>[call, now, for, free, prize]</td>\n",
              "    </tr>\n",
              "    <tr>\n",
              "      <th>2</th>\n",
              "      <td>hello how are you</td>\n",
              "      <td>ham</td>\n",
              "      <td>[hello, how, are, you]</td>\n",
              "    </tr>\n",
              "    <tr>\n",
              "      <th>3</th>\n",
              "      <td>meet me at noon</td>\n",
              "      <td>ham</td>\n",
              "      <td>[meet, me, at, noon]</td>\n",
              "    </tr>\n",
              "    <tr>\n",
              "      <th>4</th>\n",
              "      <td>win free ticket now</td>\n",
              "      <td>spam</td>\n",
              "      <td>[win, free, ticket, now]</td>\n",
              "    </tr>\n",
              "  </tbody>\n",
              "</table>\n",
              "</div>"
            ],
            "text/plain": [
              "                   message label                         tokens\n",
              "0           free money now  spam             [free, money, now]\n",
              "1  call now for free prize  spam  [call, now, for, free, prize]\n",
              "2        hello how are you   ham         [hello, how, are, you]\n",
              "3          meet me at noon   ham           [meet, me, at, noon]\n",
              "4      win free ticket now  spam       [win, free, ticket, now]"
            ]
          },
          "execution_count": 3,
          "metadata": {},
          "output_type": "execute_result"
        }
      ],
      "source": []
    },
    {
      "cell_type": "markdown",
      "metadata": {},
      "source": [
        "## Step 3: Count Word Frequencies\n",
        "\n",
        "We count the frequency of each word in spam and ham messages separately.\n"
      ]
    },
    {
      "cell_type": "code",
      "execution_count": null,
      "metadata": {},
      "outputs": [
        {
          "data": {
            "text/plain": [
              "(Counter({'free': 3,\n",
              "          'now': 3,\n",
              "          'money': 1,\n",
              "          'call': 1,\n",
              "          'for': 1,\n",
              "          'prize': 1,\n",
              "          'win': 1,\n",
              "          'ticket': 1}),\n",
              " Counter({'hello': 1,\n",
              "          'how': 1,\n",
              "          'are': 1,\n",
              "          'you': 1,\n",
              "          'meet': 1,\n",
              "          'me': 1,\n",
              "          'at': 1,\n",
              "          'noon': 1}))"
            ]
          },
          "execution_count": 4,
          "metadata": {},
          "output_type": "execute_result"
        }
      ],
      "source": []
    },
    {
      "cell_type": "markdown",
      "metadata": {},
      "source": [
        "## Step 4: Compute Prior Probabilities\n",
        "\n",
        "We calculate the prior probabilities of spam and ham.\n"
      ]
    },
    {
      "cell_type": "code",
      "execution_count": null,
      "metadata": {},
      "outputs": [
        {
          "data": {
            "text/plain": [
              "(0.6, 0.4)"
            ]
          },
          "execution_count": 5,
          "metadata": {},
          "output_type": "execute_result"
        }
      ],
      "source": []
    },
    {
      "cell_type": "markdown",
      "metadata": {},
      "source": [
        "## Step 5: Define Vocabulary and Word Probability Function\n",
        "\n",
        "We use Laplace smoothing to handle unseen words in the test data.\n"
      ]
    },
    {
      "cell_type": "code",
      "execution_count": null,
      "metadata": {},
      "outputs": [],
      "source": []
    },
    {
      "cell_type": "markdown",
      "metadata": {},
      "source": [
        "## Step 6: Classify New Message\n",
        "\n",
        "Now we classify a new message using the Naive Bayes formula.\n"
      ]
    },
    {
      "cell_type": "code",
      "execution_count": null,
      "metadata": {},
      "outputs": [],
      "source": []
    },
    {
      "cell_type": "markdown",
      "metadata": {},
      "source": [
        "## Step 7: Normalize and Compare Probabilities\n",
        "\n",
        "We normalize the probabilities to make a decision based on the highest likelihood.\n"
      ]
    },
    {
      "cell_type": "code",
      "execution_count": null,
      "metadata": {},
      "outputs": [
        {
          "name": "stdout",
          "output_type": "stream",
          "text": [
            "High probability of spam: 0.97\n",
            "Lower likelihood of ham: 0.03\n"
          ]
        }
      ],
      "source": []
    }
  ],
  "metadata": {
    "kernelspec": {
      "display_name": "Python 3",
      "language": "python",
      "name": "python3"
    },
    "language_info": {
      "codemirror_mode": {
        "name": "ipython",
        "version": 3
      },
      "file_extension": ".py",
      "mimetype": "text/x-python",
      "name": "python",
      "nbconvert_exporter": "python",
      "pygments_lexer": "ipython3",
      "version": "3.11.5"
    }
  },
  "nbformat": 4,
  "nbformat_minor": 4
}
